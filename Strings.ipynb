{
  "nbformat": 4,
  "nbformat_minor": 0,
  "metadata": {
    "kernelspec": {
      "display_name": "Python 3",
      "language": "python",
      "name": "python3"
    },
    "language_info": {
      "codemirror_mode": {
        "name": "ipython",
        "version": 3
      },
      "file_extension": ".py",
      "mimetype": "text/x-python",
      "name": "python",
      "nbconvert_exporter": "python",
      "pygments_lexer": "ipython3",
      "version": "3.7.10"
    },
    "colab": {
      "name": "Strings.ipynb",
      "provenance": [],
      "include_colab_link": true
    }
  },
  "cells": [
    {
      "cell_type": "markdown",
      "metadata": {
        "id": "view-in-github",
        "colab_type": "text"
      },
      "source": [
        "<a href=\"https://colab.research.google.com/github/Simrita100/Simrita100/blob/main/Strings.ipynb\" target=\"_parent\"><img src=\"https://colab.research.google.com/assets/colab-badge.svg\" alt=\"Open In Colab\"/></a>"
      ]
    },
    {
      "cell_type": "markdown",
      "metadata": {
        "id": "33USZdJzPKnv"
      },
      "source": [
        "## Creating a String\n",
        "To create a string in Python you need to use either single quotes or double quotes. For example:"
      ]
    },
    {
      "cell_type": "code",
      "metadata": {
        "id": "QSrOJ3bcPKn5",
        "outputId": "55c4d754-93ee-4fc0-f680-bef107f99dbe"
      },
      "source": [
        "# Single word\n",
        "'hello'"
      ],
      "execution_count": null,
      "outputs": [
        {
          "output_type": "execute_result",
          "data": {
            "text/plain": [
              "'hello'"
            ]
          },
          "metadata": {
            "tags": []
          },
          "execution_count": 1
        }
      ]
    },
    {
      "cell_type": "code",
      "metadata": {
        "id": "YDZCMGpmPKoA",
        "outputId": "d13e3887-091f-4dab-a475-f7bbebbda971"
      },
      "source": [
        "# Entire phrase \n",
        "'This is also a string'"
      ],
      "execution_count": null,
      "outputs": [
        {
          "output_type": "execute_result",
          "data": {
            "text/plain": [
              "'This is also a string'"
            ]
          },
          "metadata": {
            "tags": []
          },
          "execution_count": 2
        }
      ]
    },
    {
      "cell_type": "code",
      "metadata": {
        "id": "cmM7sLKYPKoE",
        "outputId": "1cc66ca6-125e-4996-884d-252d723dfecb"
      },
      "source": [
        "# We can also use double quote\n",
        "\"String built with double quotes\""
      ],
      "execution_count": null,
      "outputs": [
        {
          "output_type": "execute_result",
          "data": {
            "text/plain": [
              "'String built with double quotes'"
            ]
          },
          "metadata": {
            "tags": []
          },
          "execution_count": 3
        }
      ]
    },
    {
      "cell_type": "code",
      "metadata": {
        "id": "iegI_vBfPKoI",
        "outputId": "33f5f95a-d228-4b97-a4b4-195e45efecaa"
      },
      "source": [
        "# Be careful with quotes!\n",
        "' I'm using single quotes, but this will create an error'"
      ],
      "execution_count": null,
      "outputs": [
        {
          "output_type": "error",
          "ename": "SyntaxError",
          "evalue": "invalid syntax (<ipython-input-4-da9a34b3dc31>, line 2)",
          "traceback": [
            "\u001b[1;36m  File \u001b[1;32m\"<ipython-input-4-da9a34b3dc31>\"\u001b[1;36m, line \u001b[1;32m2\u001b[0m\n\u001b[1;33m    ' I'm using single quotes, but this will create an error'\u001b[0m\n\u001b[1;37m        ^\u001b[0m\n\u001b[1;31mSyntaxError\u001b[0m\u001b[1;31m:\u001b[0m invalid syntax\n"
          ]
        }
      ]
    },
    {
      "cell_type": "code",
      "metadata": {
        "id": "z6z2gs3EPKoJ",
        "outputId": "2037301b-016d-4f53-9456-fd47929f1eea"
      },
      "source": [
        "\"Now I'm ready to use the single quotes inside a string!\""
      ],
      "execution_count": null,
      "outputs": [
        {
          "output_type": "execute_result",
          "data": {
            "text/plain": [
              "\"Now I'm ready to use the single quotes inside a string!\""
            ]
          },
          "metadata": {
            "tags": []
          },
          "execution_count": 6
        }
      ]
    },
    {
      "cell_type": "markdown",
      "metadata": {
        "id": "NL3jIyRSPKoM"
      },
      "source": [
        "## Printing a String"
      ]
    },
    {
      "cell_type": "code",
      "metadata": {
        "id": "LEggQjh2PKoO",
        "outputId": "a85fa933-d03d-46db-ae8d-e0c594abe584"
      },
      "source": [
        "# We can simply declare a string\n",
        "'Hello World'"
      ],
      "execution_count": null,
      "outputs": [
        {
          "output_type": "execute_result",
          "data": {
            "text/plain": [
              "'Hello World'"
            ]
          },
          "metadata": {
            "tags": []
          },
          "execution_count": 7
        }
      ]
    },
    {
      "cell_type": "code",
      "metadata": {
        "id": "HaPcpZh3PKoR",
        "outputId": "a4b3d184-e85e-469e-b912-985b9a7f535f"
      },
      "source": [
        "# Note that we can't output multiple strings this way\n",
        "'Hello World 1'\n",
        "'Hello World 2'"
      ],
      "execution_count": null,
      "outputs": [
        {
          "output_type": "execute_result",
          "data": {
            "text/plain": [
              "'Hello World 2'"
            ]
          },
          "metadata": {
            "tags": []
          },
          "execution_count": 8
        }
      ]
    },
    {
      "cell_type": "markdown",
      "metadata": {
        "id": "bmO8Rzw7PKoU"
      },
      "source": [
        "We can use a print statement to print a string."
      ]
    },
    {
      "cell_type": "code",
      "metadata": {
        "id": "7TIWuj01PKoV",
        "outputId": "5fbb8733-990f-4e20-f644-be9d9554fc54"
      },
      "source": [
        "print('Hello World 1')\n",
        "print('Hello World 2')\n",
        "print('Use \\n to print a new line')\n",
        "print('\\n')\n",
        "print('See what I mean?')"
      ],
      "execution_count": null,
      "outputs": [
        {
          "output_type": "stream",
          "text": [
            "Hello World 1\n",
            "Hello World 2\n",
            "Use \n",
            " to print a new line\n",
            "\n",
            "\n",
            "See what I mean?\n"
          ],
          "name": "stdout"
        }
      ]
    },
    {
      "cell_type": "markdown",
      "metadata": {
        "id": "5z6dXpmaPKoW"
      },
      "source": [
        "## String Basics"
      ]
    },
    {
      "cell_type": "code",
      "metadata": {
        "id": "ku_6cab4PKoX",
        "outputId": "c1660a75-9e81-4260-b891-350525a12c4b"
      },
      "source": [
        "len('Hello World')"
      ],
      "execution_count": null,
      "outputs": [
        {
          "output_type": "execute_result",
          "data": {
            "text/plain": [
              "11"
            ]
          },
          "metadata": {
            "tags": []
          },
          "execution_count": 10
        }
      ]
    },
    {
      "cell_type": "markdown",
      "metadata": {
        "id": "oybMnU3EPKoZ"
      },
      "source": [
        "## String Indexing"
      ]
    },
    {
      "cell_type": "code",
      "metadata": {
        "id": "tNexlibTPKoa"
      },
      "source": [
        "# Assign s as a string\n",
        "s = 'Hello World'"
      ],
      "execution_count": null,
      "outputs": []
    },
    {
      "cell_type": "code",
      "metadata": {
        "id": "kwuk9k3vPKoa",
        "outputId": "b641c4df-8369-4f36-c6ce-535a3bf9035b"
      },
      "source": [
        "#Check\n",
        "s"
      ],
      "execution_count": null,
      "outputs": [
        {
          "output_type": "execute_result",
          "data": {
            "text/plain": [
              "'Hello World'"
            ]
          },
          "metadata": {
            "tags": []
          },
          "execution_count": 12
        }
      ]
    },
    {
      "cell_type": "code",
      "metadata": {
        "id": "KxD8RpIVPKob",
        "outputId": "2d531b1f-b47e-4468-e645-4587cefe74cd"
      },
      "source": [
        "# Print the object\n",
        "print(s) "
      ],
      "execution_count": null,
      "outputs": [
        {
          "output_type": "stream",
          "text": [
            "Hello World\n"
          ],
          "name": "stdout"
        }
      ]
    },
    {
      "cell_type": "markdown",
      "metadata": {
        "id": "l3BvUJ4_PKoc"
      },
      "source": [
        "Let's start indexing!"
      ]
    },
    {
      "cell_type": "code",
      "metadata": {
        "id": "LFr5R7YZPKoc",
        "outputId": "bc84f5ba-abd5-43a6-f4f4-45c997104087"
      },
      "source": [
        "# Show first element (in this case a letter)\n",
        "s[0]"
      ],
      "execution_count": null,
      "outputs": [
        {
          "output_type": "execute_result",
          "data": {
            "text/plain": [
              "'H'"
            ]
          },
          "metadata": {
            "tags": []
          },
          "execution_count": 14
        }
      ]
    },
    {
      "cell_type": "code",
      "metadata": {
        "id": "czSLtoGTPKod",
        "outputId": "a712b501-e95c-4828-9c65-5807f7d56524"
      },
      "source": [
        "s[1]"
      ],
      "execution_count": null,
      "outputs": [
        {
          "output_type": "execute_result",
          "data": {
            "text/plain": [
              "'e'"
            ]
          },
          "metadata": {
            "tags": []
          },
          "execution_count": 15
        }
      ]
    },
    {
      "cell_type": "code",
      "metadata": {
        "id": "lAylBZ20PKod",
        "outputId": "25950212-1217-4f2d-f316-3285910de019"
      },
      "source": [
        "s[2]"
      ],
      "execution_count": null,
      "outputs": [
        {
          "output_type": "execute_result",
          "data": {
            "text/plain": [
              "'l'"
            ]
          },
          "metadata": {
            "tags": []
          },
          "execution_count": 16
        }
      ]
    },
    {
      "cell_type": "code",
      "metadata": {
        "id": "kMCvMXywPKoe",
        "outputId": "157b83b4-15a4-4192-f962-349a9b16e79a"
      },
      "source": [
        "# Grab everything past the first term all the way to the length of s which is len(s)\n",
        "s[1:]"
      ],
      "execution_count": null,
      "outputs": [
        {
          "output_type": "execute_result",
          "data": {
            "text/plain": [
              "'ello World'"
            ]
          },
          "metadata": {
            "tags": []
          },
          "execution_count": 17
        }
      ]
    },
    {
      "cell_type": "code",
      "metadata": {
        "id": "80zs63bxPKof",
        "outputId": "1d9e4d43-18c3-4cf7-d9f4-1b6234a99085"
      },
      "source": [
        "# Note that there is no change to the original s\n",
        "s"
      ],
      "execution_count": null,
      "outputs": [
        {
          "output_type": "execute_result",
          "data": {
            "text/plain": [
              "'Hello World'"
            ]
          },
          "metadata": {
            "tags": []
          },
          "execution_count": 18
        }
      ]
    },
    {
      "cell_type": "code",
      "metadata": {
        "id": "dR-OKsu4PKog",
        "outputId": "c2b82408-c551-4619-9b72-c1986dda3a81"
      },
      "source": [
        "# Grab everything UP TO the 3rd index\n",
        "s[:3]"
      ],
      "execution_count": null,
      "outputs": [
        {
          "output_type": "execute_result",
          "data": {
            "text/plain": [
              "'Hel'"
            ]
          },
          "metadata": {
            "tags": []
          },
          "execution_count": 19
        }
      ]
    },
    {
      "cell_type": "code",
      "metadata": {
        "id": "tPHQt_BuPKog",
        "outputId": "91176950-f5cc-4f09-f5e3-cb3121697b2f"
      },
      "source": [
        "#Everything\n",
        "s[:]"
      ],
      "execution_count": null,
      "outputs": [
        {
          "output_type": "execute_result",
          "data": {
            "text/plain": [
              "'Hello World'"
            ]
          },
          "metadata": {
            "tags": []
          },
          "execution_count": 20
        }
      ]
    },
    {
      "cell_type": "code",
      "metadata": {
        "id": "LHZ6pO2UPKoh",
        "outputId": "a7024e61-b11d-42cf-d14d-af2ca3984b83"
      },
      "source": [
        "# Last letter (one index behind 0 so it loops back around)\n",
        "s[-1]"
      ],
      "execution_count": null,
      "outputs": [
        {
          "output_type": "execute_result",
          "data": {
            "text/plain": [
              "'d'"
            ]
          },
          "metadata": {
            "tags": []
          },
          "execution_count": 21
        }
      ]
    },
    {
      "cell_type": "code",
      "metadata": {
        "id": "e5zjH6nBPKoh",
        "outputId": "6aefdd8a-1d49-4294-b451-3edb102688d1"
      },
      "source": [
        "# Grab everything but the last letter\n",
        "s[:-1]"
      ],
      "execution_count": null,
      "outputs": [
        {
          "output_type": "execute_result",
          "data": {
            "text/plain": [
              "'Hello Worl'"
            ]
          },
          "metadata": {
            "tags": []
          },
          "execution_count": 22
        }
      ]
    },
    {
      "cell_type": "code",
      "metadata": {
        "id": "w0zF_Tj_PKoi",
        "outputId": "10d3a2d9-8c6c-4074-e23b-d73133811de2"
      },
      "source": [
        "# Grab everything, but go in steps size of 1\n",
        "s[::1]"
      ],
      "execution_count": null,
      "outputs": [
        {
          "output_type": "execute_result",
          "data": {
            "text/plain": [
              "'Hello World'"
            ]
          },
          "metadata": {
            "tags": []
          },
          "execution_count": 23
        }
      ]
    },
    {
      "cell_type": "code",
      "metadata": {
        "id": "WDEA_GXYPKoj",
        "outputId": "02bcea25-c829-4b62-aee4-998904f823a9"
      },
      "source": [
        "# Grab everything, but go in step sizes of 2\n",
        "s[::2]"
      ],
      "execution_count": null,
      "outputs": [
        {
          "output_type": "execute_result",
          "data": {
            "text/plain": [
              "'HloWrd'"
            ]
          },
          "metadata": {
            "tags": []
          },
          "execution_count": 24
        }
      ]
    },
    {
      "cell_type": "code",
      "metadata": {
        "id": "-zTqo0q5PKoj",
        "outputId": "b87bed55-0eac-4b66-a967-48fa434639fb"
      },
      "source": [
        "# We can use this to print a string backwards\n",
        "s[::-1]"
      ],
      "execution_count": null,
      "outputs": [
        {
          "output_type": "execute_result",
          "data": {
            "text/plain": [
              "'dlroW olleH'"
            ]
          },
          "metadata": {
            "tags": []
          },
          "execution_count": 25
        }
      ]
    },
    {
      "cell_type": "code",
      "metadata": {
        "id": "vXHWE9CqPKok",
        "outputId": "76ea6da0-2514-4dc5-c9ec-375391dc0fde"
      },
      "source": [
        "s"
      ],
      "execution_count": null,
      "outputs": [
        {
          "output_type": "execute_result",
          "data": {
            "text/plain": [
              "'Hello World'"
            ]
          },
          "metadata": {
            "tags": []
          },
          "execution_count": 26
        }
      ]
    },
    {
      "cell_type": "code",
      "metadata": {
        "id": "5Y-p27pIPKol",
        "outputId": "edd653d5-889d-482c-9aaf-3b39e5c244fa"
      },
      "source": [
        "# Let's try to change the first letter to 'x'\n",
        "s[0] = 'x'"
      ],
      "execution_count": null,
      "outputs": [
        {
          "output_type": "error",
          "ename": "TypeError",
          "evalue": "'str' object does not support item assignment",
          "traceback": [
            "\u001b[1;31m---------------------------------------------------------------------------\u001b[0m",
            "\u001b[1;31mTypeError\u001b[0m                                 Traceback (most recent call last)",
            "\u001b[1;32m<ipython-input-27-976942677f11>\u001b[0m in \u001b[0;36m<module>\u001b[1;34m\u001b[0m\n\u001b[0;32m      1\u001b[0m \u001b[1;31m# Let's try to change the first letter to 'x'\u001b[0m\u001b[1;33m\u001b[0m\u001b[1;33m\u001b[0m\u001b[1;33m\u001b[0m\u001b[0m\n\u001b[1;32m----> 2\u001b[1;33m \u001b[0ms\u001b[0m\u001b[1;33m[\u001b[0m\u001b[1;36m0\u001b[0m\u001b[1;33m]\u001b[0m \u001b[1;33m=\u001b[0m \u001b[1;34m'x'\u001b[0m\u001b[1;33m\u001b[0m\u001b[1;33m\u001b[0m\u001b[0m\n\u001b[0m",
            "\u001b[1;31mTypeError\u001b[0m: 'str' object does not support item assignment"
          ]
        }
      ]
    },
    {
      "cell_type": "markdown",
      "metadata": {
        "id": "gVTUFO0HPKol"
      },
      "source": [
        "Notice how the error tells us directly what we can't do, change the item assignment!\n",
        "\n",
        "Something we *can* do is concatenate strings!"
      ]
    },
    {
      "cell_type": "code",
      "metadata": {
        "id": "_k67pxABPKom"
      },
      "source": [
        "s"
      ],
      "execution_count": null,
      "outputs": []
    },
    {
      "cell_type": "code",
      "metadata": {
        "id": "Ab1_YzEZPKom"
      },
      "source": [
        "# Concatenate strings!\n",
        "s + ' concatenate me!'"
      ],
      "execution_count": null,
      "outputs": []
    },
    {
      "cell_type": "code",
      "metadata": {
        "id": "UYB7FojtPKom"
      },
      "source": [
        "# We can reassign s completely though!\n",
        "s = s + ' concatenate me!'"
      ],
      "execution_count": null,
      "outputs": []
    },
    {
      "cell_type": "code",
      "metadata": {
        "id": "kzytWxnMPKon"
      },
      "source": [
        "print(s)"
      ],
      "execution_count": null,
      "outputs": []
    },
    {
      "cell_type": "code",
      "metadata": {
        "id": "cBqQQ2QNPKon"
      },
      "source": [
        "s"
      ],
      "execution_count": null,
      "outputs": []
    },
    {
      "cell_type": "markdown",
      "metadata": {
        "id": "NJINKNYpPKoo"
      },
      "source": [
        "We can use the multiplication symbol to create repetition!"
      ]
    },
    {
      "cell_type": "code",
      "metadata": {
        "id": "UhWq44BIPKoo"
      },
      "source": [
        "letter = 'z'"
      ],
      "execution_count": null,
      "outputs": []
    },
    {
      "cell_type": "code",
      "metadata": {
        "id": "0hXDfbmZPKoo"
      },
      "source": [
        "letter*10"
      ],
      "execution_count": null,
      "outputs": []
    },
    {
      "cell_type": "code",
      "metadata": {
        "id": "VHzfQjPxPKop"
      },
      "source": [
        "s"
      ],
      "execution_count": null,
      "outputs": []
    },
    {
      "cell_type": "code",
      "metadata": {
        "id": "ZOgXvNPCPKop"
      },
      "source": [
        "# Upper Case a string\n",
        "s.upper()"
      ],
      "execution_count": null,
      "outputs": []
    },
    {
      "cell_type": "code",
      "metadata": {
        "id": "naKUuKL9PKop"
      },
      "source": [
        "# Lower case\n",
        "s.lower()"
      ],
      "execution_count": null,
      "outputs": []
    },
    {
      "cell_type": "code",
      "metadata": {
        "id": "jmGOR7csPKop"
      },
      "source": [
        "# Split a string by blank space (this is the default)\n",
        "s.split()"
      ],
      "execution_count": null,
      "outputs": []
    },
    {
      "cell_type": "code",
      "metadata": {
        "id": "KZ161V6rPKoq"
      },
      "source": [
        "# Split by a specific element (doesn't include the element that was split on)\n",
        "s.split('W')"
      ],
      "execution_count": null,
      "outputs": []
    },
    {
      "cell_type": "code",
      "metadata": {
        "id": "VJO4ngJPPKoq"
      },
      "source": [
        "'Insert another string with curly brackets: {}'.format('The inserted string')"
      ],
      "execution_count": null,
      "outputs": []
    }
  ]
}