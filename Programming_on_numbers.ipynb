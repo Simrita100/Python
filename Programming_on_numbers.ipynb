{
  "nbformat": 4,
  "nbformat_minor": 5,
  "metadata": {
    "kernelspec": {
      "display_name": "Python 3",
      "language": "python",
      "name": "python3"
    },
    "language_info": {
      "codemirror_mode": {
        "name": "ipython",
        "version": 3
      },
      "file_extension": ".py",
      "mimetype": "text/x-python",
      "name": "python",
      "nbconvert_exporter": "python",
      "pygments_lexer": "ipython3",
      "version": "3.8.10"
    },
    "colab": {
      "name": "Programming on numbers.ipynb",
      "provenance": [],
      "include_colab_link": true
    }
  },
  "cells": [
    {
      "cell_type": "markdown",
      "metadata": {
        "id": "view-in-github",
        "colab_type": "text"
      },
      "source": [
        "<a href=\"https://colab.research.google.com/github/Simrita100/Python/blob/main/Programming_on_numbers.ipynb\" target=\"_parent\"><img src=\"https://colab.research.google.com/assets/colab-badge.svg\" alt=\"Open In Colab\"/></a>"
      ]
    },
    {
      "cell_type": "markdown",
      "metadata": {
        "id": "20d40113"
      },
      "source": [
        "## Python Program to Check if a Number is Positive, Negative or 0"
      ],
      "id": "20d40113"
    },
    {
      "cell_type": "code",
      "metadata": {
        "id": "984d6ba9",
        "outputId": "6d939ac3-76d5-490c-ac64-336f7de68a86"
      },
      "source": [
        "a = int(input(\"Enter a number: \"))\n",
        "if (a > 0):\n",
        "    print(\"The entered number is positive\")\n",
        "elif (a < 0):\n",
        "    print(\"The entered number is negative\")\n",
        "else:\n",
        "    print(\"zero\")\n",
        "    "
      ],
      "id": "984d6ba9",
      "execution_count": null,
      "outputs": [
        {
          "output_type": "stream",
          "text": [
            "Enter a number: -2\n",
            "The entered number is negative\n"
          ],
          "name": "stdout"
        }
      ]
    },
    {
      "cell_type": "markdown",
      "metadata": {
        "id": "72f174a0"
      },
      "source": [
        "## Python Program to Check if a Number is Odd or Even"
      ],
      "id": "72f174a0"
    },
    {
      "cell_type": "code",
      "metadata": {
        "id": "f964f5df",
        "outputId": "43d3bd6b-08d1-4e11-f38b-52dbe17bea3b"
      },
      "source": [
        "x = int(input(\"Enter a number: \"))\n",
        "if (x%2 == 0):\n",
        "    print(\"The entered number is even\")\n",
        "else:\n",
        "    print(\"The entered number is odd\")"
      ],
      "id": "f964f5df",
      "execution_count": null,
      "outputs": [
        {
          "output_type": "stream",
          "text": [
            "Enter a number: 100\n",
            "The entered number is even\n"
          ],
          "name": "stdout"
        }
      ]
    },
    {
      "cell_type": "markdown",
      "metadata": {
        "id": "37c4030d"
      },
      "source": [
        "## Python Program to Check Leap Year"
      ],
      "id": "37c4030d"
    },
    {
      "cell_type": "code",
      "metadata": {
        "id": "0cd59a13",
        "outputId": "3b502896-5a36-4f3e-9253-0e4c44637836"
      },
      "source": [
        "yr = int(input(\"Enter the year: \"))\n",
        "if((yr%400 == 0) or ((yr%4 == 0) and (yr%100 != 0))):\n",
        "    print(\"Entered year is a leap year\")\n",
        "else:\n",
        "    print(\"The entered year is not a leap year\")"
      ],
      "id": "0cd59a13",
      "execution_count": null,
      "outputs": [
        {
          "output_type": "stream",
          "text": [
            "Enter the year: 1972\n",
            "Entered year is a leap year\n"
          ],
          "name": "stdout"
        }
      ]
    },
    {
      "cell_type": "markdown",
      "metadata": {
        "id": "81190f12"
      },
      "source": [
        "## Python Program to Find the Largest Among Three Numbers"
      ],
      "id": "81190f12"
    },
    {
      "cell_type": "code",
      "metadata": {
        "id": "a4c6b64e",
        "outputId": "c6cf348e-5133-454f-8f08-a77fd6c3283c"
      },
      "source": [
        "a = int(input(\"Enter the fisrt number: \"))\n",
        "b = int(input(\"Enter the second number: \"))\n",
        "c = int(input(\"Enter the third number: \"))\n",
        "\n",
        "if (a > b) and (a > c):\n",
        "    print(\"The largest number is\", a)\n",
        "elif (b > a) and (b > c):\n",
        "    print(\"The largest number is\", b)\n",
        "else:\n",
        "    print(\"The largest number is\", c)"
      ],
      "id": "a4c6b64e",
      "execution_count": null,
      "outputs": [
        {
          "output_type": "stream",
          "text": [
            "Enter the fisrt number: 10\n",
            "Enter the second number: 5\n",
            "Enter the third number: 12\n",
            "The largest number is 12\n"
          ],
          "name": "stdout"
        }
      ]
    },
    {
      "cell_type": "markdown",
      "metadata": {
        "id": "8d1cc960"
      },
      "source": [
        "## Write a Python Program to check if a number is prime or not"
      ],
      "id": "8d1cc960"
    },
    {
      "cell_type": "code",
      "metadata": {
        "id": "95405ad4",
        "outputId": "de755357-6c42-4091-b5c8-70410b840475"
      },
      "source": [
        "s = int(input(\"Enter a number: \"))\n",
        "if s > 1:\n",
        "    for i in range(2, s//2):\n",
        "        if (s%i) == 0:\n",
        "            print(\"The entered number is not a prime number\")\n",
        "        else:\n",
        "            print(\"The entered number is a prime number\")\n",
        "else:\n",
        "    print(\"The entered number is not a prime number\")\n"
      ],
      "id": "95405ad4",
      "execution_count": null,
      "outputs": [
        {
          "output_type": "stream",
          "text": [
            "Enter a number: 7\n",
            "The entered number is a prime number\n"
          ],
          "name": "stdout"
        }
      ]
    },
    {
      "cell_type": "markdown",
      "metadata": {
        "id": "8e049b52"
      },
      "source": [
        "## Python program to display all the prime numbers within an interval"
      ],
      "id": "8e049b52"
    },
    {
      "cell_type": "code",
      "metadata": {
        "id": "e496aef2",
        "outputId": "e2880681-06cf-4a81-804a-3abd509d3d3c"
      },
      "source": [
        "x = 10\n",
        "y = 60\n",
        "print(\"Prime numbers between\", x, \"and\", y, \"are: \")\n",
        "\n",
        "for n in range(x, y+1):\n",
        "    if n > 1:\n",
        "        for i in range(2, n):\n",
        "            if (n%2) == 0:\n",
        "                break\n",
        "        else:\n",
        "            print(n)\n",
        "\n"
      ],
      "id": "e496aef2",
      "execution_count": null,
      "outputs": [
        {
          "output_type": "stream",
          "text": [
            "Prime numbers between 10 and 60 are: \n",
            "11\n",
            "13\n",
            "15\n",
            "17\n",
            "19\n",
            "21\n",
            "23\n",
            "25\n",
            "27\n",
            "29\n",
            "31\n",
            "33\n",
            "35\n",
            "37\n",
            "39\n",
            "41\n",
            "43\n",
            "45\n",
            "47\n",
            "49\n",
            "51\n",
            "53\n",
            "55\n",
            "57\n",
            "59\n"
          ],
          "name": "stdout"
        }
      ]
    },
    {
      "cell_type": "markdown",
      "metadata": {
        "id": "c261860e"
      },
      "source": [
        "## Python program to find the factorial of a number"
      ],
      "id": "c261860e"
    },
    {
      "cell_type": "code",
      "metadata": {
        "id": "92046f83",
        "outputId": "ecc0a6cb-c9f9-4615-ecf9-652afd9be33c"
      },
      "source": [
        "n = int(input(\"Enter a number\"))\n",
        "f = 1\n",
        "for i in range(1, n+1):\n",
        "    f = f*i\n",
        "print(\"The factorial of the entered number is:\", f)"
      ],
      "id": "92046f83",
      "execution_count": null,
      "outputs": [
        {
          "output_type": "stream",
          "text": [
            "Enter a number5\n",
            "The factorial of the entered number is: 120\n"
          ],
          "name": "stdout"
        }
      ]
    },
    {
      "cell_type": "markdown",
      "metadata": {
        "id": "4a510186"
      },
      "source": [
        "## Python Program to Display the multiplication Table"
      ],
      "id": "4a510186"
    },
    {
      "cell_type": "code",
      "metadata": {
        "id": "1fa96484",
        "outputId": "f3738348-4ab8-4ee9-e87d-38e0cb0f0880"
      },
      "source": [
        "num = int(input(\"Enter a number\"))\n",
        "for i in range(1,11):\n",
        "    print(num, 'x', i, '=', num*i)"
      ],
      "id": "1fa96484",
      "execution_count": null,
      "outputs": [
        {
          "output_type": "stream",
          "text": [
            "Enter a number14\n",
            "14 x 1 = 14\n",
            "14 x 2 = 28\n",
            "14 x 3 = 42\n",
            "14 x 4 = 56\n",
            "14 x 5 = 70\n",
            "14 x 6 = 84\n",
            "14 x 7 = 98\n",
            "14 x 8 = 112\n",
            "14 x 9 = 126\n",
            "14 x 10 = 140\n"
          ],
          "name": "stdout"
        }
      ]
    },
    {
      "cell_type": "markdown",
      "metadata": {
        "id": "405adc3c"
      },
      "source": [
        "## Python Program to Print the Fibonacci sequence"
      ],
      "id": "405adc3c"
    },
    {
      "cell_type": "code",
      "metadata": {
        "id": "b0e9cc6b",
        "outputId": "d4ef24d1-ce11-4a6c-d9a7-84497025a80d"
      },
      "source": [
        "n = int(input(\"Enter the value of n: \"))\n",
        "x, y = 0, 1\n",
        "sum, count = 0, 1\n",
        "print(\"Fibonacci Sequence: \", end = \" \")\n",
        "while(count <= n):\n",
        "    print(sum, end = \" \")\n",
        "    count = count + 1\n",
        "    x = y\n",
        "    y = sum\n",
        "    sum = x + y\n"
      ],
      "id": "b0e9cc6b",
      "execution_count": null,
      "outputs": [
        {
          "output_type": "stream",
          "text": [
            "Enter the value of n: 10\n",
            "Fibonacci Sequence:  0 1 1 2 3 5 8 13 21 34 "
          ],
          "name": "stdout"
        }
      ]
    },
    {
      "cell_type": "markdown",
      "metadata": {
        "id": "879e70d6"
      },
      "source": [
        "## Python Program to Check Armstrong Number (for 3 digits)"
      ],
      "id": "879e70d6"
    },
    {
      "cell_type": "code",
      "metadata": {
        "id": "1bb990a5",
        "outputId": "a9132053-596b-4b13-f87d-f0fd741ea943"
      },
      "source": [
        "num = int(input(\"Enter a number\"))\n",
        "sum = 0\n",
        "temp = num\n",
        "while temp > 0:\n",
        "    digit = temp % 10\n",
        "    sum = sum + digit ** 3\n",
        "    temp //= 10\n",
        "if num == sum:\n",
        "    print(num, \"is an Armstrong number\")\n",
        "else:\n",
        "    print(num, \"is not an Armstrong number\")"
      ],
      "id": "1bb990a5",
      "execution_count": null,
      "outputs": [
        {
          "output_type": "stream",
          "text": [
            "Enter a number142\n",
            "142 is not an Armstrong number\n"
          ],
          "name": "stdout"
        }
      ]
    },
    {
      "cell_type": "markdown",
      "metadata": {
        "id": "1f8d2866"
      },
      "source": [
        "## Python program to find Armstrong number in an interval"
      ],
      "id": "1f8d2866"
    },
    {
      "cell_type": "code",
      "metadata": {
        "id": "efbcdfc5",
        "outputId": "efc12a28-96a2-4d5c-bb5c-eb615b75ae90"
      },
      "source": [
        "x = 100\n",
        "y = 400\n",
        "for n in range(x, y+1):\n",
        "    order = len(str(n))\n",
        "    sum = 0\n",
        "        \n",
        "    temp = n\n",
        "    while temp > 0:\n",
        "        digit = temp % 10\n",
        "        sum += digit ** order\n",
        "        temp //= 10\n",
        "        \n",
        "    if n == sum:\n",
        "        print(n)"
      ],
      "id": "efbcdfc5",
      "execution_count": null,
      "outputs": [
        {
          "output_type": "stream",
          "text": [
            "153\n",
            "370\n",
            "371\n"
          ],
          "name": "stdout"
        }
      ]
    },
    {
      "cell_type": "markdown",
      "metadata": {
        "id": "44e6df81"
      },
      "source": [
        "## Python program to find the sum of natural numbers"
      ],
      "id": "44e6df81"
    },
    {
      "cell_type": "code",
      "metadata": {
        "id": "20813bf8",
        "outputId": "b0e38948-94d5-40ab-c133-8c41a2003e4b"
      },
      "source": [
        "n = int(input(\"Enter a number: \"))\n",
        "if n > 0:\n",
        "    print(int(n*(n+1)/2))\n",
        "else:\n",
        "    print(\"Enter a positive number\")"
      ],
      "id": "20813bf8",
      "execution_count": null,
      "outputs": [
        {
          "output_type": "stream",
          "text": [
            "Enter a number: 20\n",
            "210\n"
          ],
          "name": "stdout"
        }
      ]
    },
    {
      "cell_type": "markdown",
      "metadata": {
        "id": "e01eb70a"
      },
      "source": [
        "## Python Program to Find Numbers Divisible by Another Number\n"
      ],
      "id": "e01eb70a"
    },
    {
      "cell_type": "code",
      "metadata": {
        "id": "841c58de",
        "outputId": "e008f934-187d-4a0a-853a-a55a618149d1"
      },
      "source": [
        "x = int(input(\"Enter a number\"))\n",
        "y = int(input(\"Enter a number\"))\n",
        "div = int(input(\"Enter a number\"))\n",
        "if (x%div and y%div) == 0:\n",
        "    print(x,y, \"are divisible by\", div)"
      ],
      "id": "841c58de",
      "execution_count": null,
      "outputs": [
        {
          "output_type": "stream",
          "text": [
            "Enter a number6\n",
            "Enter a number30\n",
            "Enter a number3\n",
            "6 30 are divisible by 3\n"
          ],
          "name": "stdout"
        }
      ]
    },
    {
      "cell_type": "code",
      "metadata": {
        "id": "7d8214d2"
      },
      "source": [
        ""
      ],
      "id": "7d8214d2",
      "execution_count": null,
      "outputs": []
    }
  ]
}