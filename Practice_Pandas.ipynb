{
  "nbformat": 4,
  "nbformat_minor": 5,
  "metadata": {
    "kernelspec": {
      "display_name": "Python 3",
      "language": "python",
      "name": "python3"
    },
    "language_info": {
      "codemirror_mode": {
        "name": "ipython",
        "version": 3
      },
      "file_extension": ".py",
      "mimetype": "text/x-python",
      "name": "python",
      "nbconvert_exporter": "python",
      "pygments_lexer": "ipython3",
      "version": "3.8.10"
    },
    "colab": {
      "name": "Practice_Pandas.ipynb",
      "provenance": [],
      "include_colab_link": true
    }
  },
  "cells": [
    {
      "cell_type": "markdown",
      "metadata": {
        "id": "view-in-github",
        "colab_type": "text"
      },
      "source": [
        "<a href=\"https://colab.research.google.com/github/Simrita100/Python/blob/main/Practice_Pandas.ipynb\" target=\"_parent\"><img src=\"https://colab.research.google.com/assets/colab-badge.svg\" alt=\"Open In Colab\"/></a>"
      ]
    },
    {
      "cell_type": "code",
      "metadata": {
        "id": "13b60763"
      },
      "source": [
        "import numpy as np\n",
        "import pandas as pd"
      ],
      "id": "13b60763",
      "execution_count": null,
      "outputs": []
    },
    {
      "cell_type": "code",
      "metadata": {
        "id": "2e3a39dd"
      },
      "source": [
        "dict1 = {\n",
        "    \"name\":['Simrita','Krypto','Sharon','Kailyn'],\n",
        "    \"marks\":[100, 60, 40, 90],\n",
        "    \"city\":['Puri','Brooklyn','Kyoto','Florence']\n",
        "}"
      ],
      "id": "2e3a39dd",
      "execution_count": null,
      "outputs": []
    },
    {
      "cell_type": "code",
      "metadata": {
        "id": "72eab3cb"
      },
      "source": [
        "df = pd.DataFrame(dict1)"
      ],
      "id": "72eab3cb",
      "execution_count": null,
      "outputs": []
    },
    {
      "cell_type": "code",
      "metadata": {
        "id": "1a628a96",
        "outputId": "35f5d130-87a4-4a22-e25f-6fbd0ce1e639"
      },
      "source": [
        "df"
      ],
      "id": "1a628a96",
      "execution_count": null,
      "outputs": [
        {
          "data": {
            "text/html": [
              "<div>\n",
              "<style scoped>\n",
              "    .dataframe tbody tr th:only-of-type {\n",
              "        vertical-align: middle;\n",
              "    }\n",
              "\n",
              "    .dataframe tbody tr th {\n",
              "        vertical-align: top;\n",
              "    }\n",
              "\n",
              "    .dataframe thead th {\n",
              "        text-align: right;\n",
              "    }\n",
              "</style>\n",
              "<table border=\"1\" class=\"dataframe\">\n",
              "  <thead>\n",
              "    <tr style=\"text-align: right;\">\n",
              "      <th></th>\n",
              "      <th>name</th>\n",
              "      <th>marks</th>\n",
              "      <th>city</th>\n",
              "    </tr>\n",
              "  </thead>\n",
              "  <tbody>\n",
              "    <tr>\n",
              "      <th>0</th>\n",
              "      <td>Simrita</td>\n",
              "      <td>100</td>\n",
              "      <td>Puri</td>\n",
              "    </tr>\n",
              "    <tr>\n",
              "      <th>1</th>\n",
              "      <td>Krypto</td>\n",
              "      <td>60</td>\n",
              "      <td>Brooklyn</td>\n",
              "    </tr>\n",
              "    <tr>\n",
              "      <th>2</th>\n",
              "      <td>Sharon</td>\n",
              "      <td>40</td>\n",
              "      <td>Kyoto</td>\n",
              "    </tr>\n",
              "    <tr>\n",
              "      <th>3</th>\n",
              "      <td>Kailyn</td>\n",
              "      <td>90</td>\n",
              "      <td>Florence</td>\n",
              "    </tr>\n",
              "  </tbody>\n",
              "</table>\n",
              "</div>"
            ],
            "text/plain": [
              "      name  marks      city\n",
              "0  Simrita    100      Puri\n",
              "1   Krypto     60  Brooklyn\n",
              "2   Sharon     40     Kyoto\n",
              "3   Kailyn     90  Florence"
            ]
          },
          "execution_count": 4,
          "metadata": {},
          "output_type": "execute_result"
        }
      ]
    },
    {
      "cell_type": "code",
      "metadata": {
        "id": "28a468a5"
      },
      "source": [
        "df.to_csv('Friends.csv')"
      ],
      "id": "28a468a5",
      "execution_count": null,
      "outputs": []
    },
    {
      "cell_type": "code",
      "metadata": {
        "id": "150f1aa0"
      },
      "source": [
        "df.to_csv('Friends_index_false.csv', index=False)"
      ],
      "id": "150f1aa0",
      "execution_count": null,
      "outputs": []
    },
    {
      "cell_type": "code",
      "metadata": {
        "id": "d7b7ab24",
        "outputId": "7a74196c-bd63-4b2c-f7bc-42da20ada379"
      },
      "source": [
        "df.head(2)"
      ],
      "id": "d7b7ab24",
      "execution_count": null,
      "outputs": [
        {
          "data": {
            "text/html": [
              "<div>\n",
              "<style scoped>\n",
              "    .dataframe tbody tr th:only-of-type {\n",
              "        vertical-align: middle;\n",
              "    }\n",
              "\n",
              "    .dataframe tbody tr th {\n",
              "        vertical-align: top;\n",
              "    }\n",
              "\n",
              "    .dataframe thead th {\n",
              "        text-align: right;\n",
              "    }\n",
              "</style>\n",
              "<table border=\"1\" class=\"dataframe\">\n",
              "  <thead>\n",
              "    <tr style=\"text-align: right;\">\n",
              "      <th></th>\n",
              "      <th>name</th>\n",
              "      <th>marks</th>\n",
              "      <th>city</th>\n",
              "    </tr>\n",
              "  </thead>\n",
              "  <tbody>\n",
              "    <tr>\n",
              "      <th>0</th>\n",
              "      <td>Simrita</td>\n",
              "      <td>100</td>\n",
              "      <td>Puri</td>\n",
              "    </tr>\n",
              "    <tr>\n",
              "      <th>1</th>\n",
              "      <td>Krypto</td>\n",
              "      <td>60</td>\n",
              "      <td>Brooklyn</td>\n",
              "    </tr>\n",
              "  </tbody>\n",
              "</table>\n",
              "</div>"
            ],
            "text/plain": [
              "      name  marks      city\n",
              "0  Simrita    100      Puri\n",
              "1   Krypto     60  Brooklyn"
            ]
          },
          "execution_count": 7,
          "metadata": {},
          "output_type": "execute_result"
        }
      ]
    },
    {
      "cell_type": "code",
      "metadata": {
        "id": "8be846c2",
        "outputId": "19688148-2469-48ea-e3ac-2fc55803db82"
      },
      "source": [
        "df.tail(2)"
      ],
      "id": "8be846c2",
      "execution_count": null,
      "outputs": [
        {
          "data": {
            "text/html": [
              "<div>\n",
              "<style scoped>\n",
              "    .dataframe tbody tr th:only-of-type {\n",
              "        vertical-align: middle;\n",
              "    }\n",
              "\n",
              "    .dataframe tbody tr th {\n",
              "        vertical-align: top;\n",
              "    }\n",
              "\n",
              "    .dataframe thead th {\n",
              "        text-align: right;\n",
              "    }\n",
              "</style>\n",
              "<table border=\"1\" class=\"dataframe\">\n",
              "  <thead>\n",
              "    <tr style=\"text-align: right;\">\n",
              "      <th></th>\n",
              "      <th>name</th>\n",
              "      <th>marks</th>\n",
              "      <th>city</th>\n",
              "    </tr>\n",
              "  </thead>\n",
              "  <tbody>\n",
              "    <tr>\n",
              "      <th>2</th>\n",
              "      <td>Sharon</td>\n",
              "      <td>40</td>\n",
              "      <td>Kyoto</td>\n",
              "    </tr>\n",
              "    <tr>\n",
              "      <th>3</th>\n",
              "      <td>Kailyn</td>\n",
              "      <td>90</td>\n",
              "      <td>Florence</td>\n",
              "    </tr>\n",
              "  </tbody>\n",
              "</table>\n",
              "</div>"
            ],
            "text/plain": [
              "     name  marks      city\n",
              "2  Sharon     40     Kyoto\n",
              "3  Kailyn     90  Florence"
            ]
          },
          "execution_count": 8,
          "metadata": {},
          "output_type": "execute_result"
        }
      ]
    },
    {
      "cell_type": "code",
      "metadata": {
        "id": "f11539ef",
        "outputId": "85629447-ec20-4e10-cf32-dc706626ca9b"
      },
      "source": [
        "df.head()"
      ],
      "id": "f11539ef",
      "execution_count": null,
      "outputs": [
        {
          "data": {
            "text/html": [
              "<div>\n",
              "<style scoped>\n",
              "    .dataframe tbody tr th:only-of-type {\n",
              "        vertical-align: middle;\n",
              "    }\n",
              "\n",
              "    .dataframe tbody tr th {\n",
              "        vertical-align: top;\n",
              "    }\n",
              "\n",
              "    .dataframe thead th {\n",
              "        text-align: right;\n",
              "    }\n",
              "</style>\n",
              "<table border=\"1\" class=\"dataframe\">\n",
              "  <thead>\n",
              "    <tr style=\"text-align: right;\">\n",
              "      <th></th>\n",
              "      <th>name</th>\n",
              "      <th>marks</th>\n",
              "      <th>city</th>\n",
              "    </tr>\n",
              "  </thead>\n",
              "  <tbody>\n",
              "    <tr>\n",
              "      <th>0</th>\n",
              "      <td>Simrita</td>\n",
              "      <td>100</td>\n",
              "      <td>Puri</td>\n",
              "    </tr>\n",
              "    <tr>\n",
              "      <th>1</th>\n",
              "      <td>Krypto</td>\n",
              "      <td>60</td>\n",
              "      <td>Brooklyn</td>\n",
              "    </tr>\n",
              "    <tr>\n",
              "      <th>2</th>\n",
              "      <td>Sharon</td>\n",
              "      <td>40</td>\n",
              "      <td>Kyoto</td>\n",
              "    </tr>\n",
              "    <tr>\n",
              "      <th>3</th>\n",
              "      <td>Kailyn</td>\n",
              "      <td>90</td>\n",
              "      <td>Florence</td>\n",
              "    </tr>\n",
              "  </tbody>\n",
              "</table>\n",
              "</div>"
            ],
            "text/plain": [
              "      name  marks      city\n",
              "0  Simrita    100      Puri\n",
              "1   Krypto     60  Brooklyn\n",
              "2   Sharon     40     Kyoto\n",
              "3   Kailyn     90  Florence"
            ]
          },
          "execution_count": 9,
          "metadata": {},
          "output_type": "execute_result"
        }
      ]
    },
    {
      "cell_type": "code",
      "metadata": {
        "id": "29b8a9af",
        "outputId": "8d4007cc-33ef-4cfe-b66a-120f2ef7b7b0"
      },
      "source": [
        "df.tail()"
      ],
      "id": "29b8a9af",
      "execution_count": null,
      "outputs": [
        {
          "data": {
            "text/html": [
              "<div>\n",
              "<style scoped>\n",
              "    .dataframe tbody tr th:only-of-type {\n",
              "        vertical-align: middle;\n",
              "    }\n",
              "\n",
              "    .dataframe tbody tr th {\n",
              "        vertical-align: top;\n",
              "    }\n",
              "\n",
              "    .dataframe thead th {\n",
              "        text-align: right;\n",
              "    }\n",
              "</style>\n",
              "<table border=\"1\" class=\"dataframe\">\n",
              "  <thead>\n",
              "    <tr style=\"text-align: right;\">\n",
              "      <th></th>\n",
              "      <th>name</th>\n",
              "      <th>marks</th>\n",
              "      <th>city</th>\n",
              "    </tr>\n",
              "  </thead>\n",
              "  <tbody>\n",
              "    <tr>\n",
              "      <th>0</th>\n",
              "      <td>Simrita</td>\n",
              "      <td>100</td>\n",
              "      <td>Puri</td>\n",
              "    </tr>\n",
              "    <tr>\n",
              "      <th>1</th>\n",
              "      <td>Krypto</td>\n",
              "      <td>60</td>\n",
              "      <td>Brooklyn</td>\n",
              "    </tr>\n",
              "    <tr>\n",
              "      <th>2</th>\n",
              "      <td>Sharon</td>\n",
              "      <td>40</td>\n",
              "      <td>Kyoto</td>\n",
              "    </tr>\n",
              "    <tr>\n",
              "      <th>3</th>\n",
              "      <td>Kailyn</td>\n",
              "      <td>90</td>\n",
              "      <td>Florence</td>\n",
              "    </tr>\n",
              "  </tbody>\n",
              "</table>\n",
              "</div>"
            ],
            "text/plain": [
              "      name  marks      city\n",
              "0  Simrita    100      Puri\n",
              "1   Krypto     60  Brooklyn\n",
              "2   Sharon     40     Kyoto\n",
              "3   Kailyn     90  Florence"
            ]
          },
          "execution_count": 10,
          "metadata": {},
          "output_type": "execute_result"
        }
      ]
    },
    {
      "cell_type": "code",
      "metadata": {
        "id": "91598008",
        "outputId": "36f8476f-1cfc-49ff-f049-e2250c7682c0"
      },
      "source": [
        "df.describe()"
      ],
      "id": "91598008",
      "execution_count": null,
      "outputs": [
        {
          "data": {
            "text/html": [
              "<div>\n",
              "<style scoped>\n",
              "    .dataframe tbody tr th:only-of-type {\n",
              "        vertical-align: middle;\n",
              "    }\n",
              "\n",
              "    .dataframe tbody tr th {\n",
              "        vertical-align: top;\n",
              "    }\n",
              "\n",
              "    .dataframe thead th {\n",
              "        text-align: right;\n",
              "    }\n",
              "</style>\n",
              "<table border=\"1\" class=\"dataframe\">\n",
              "  <thead>\n",
              "    <tr style=\"text-align: right;\">\n",
              "      <th></th>\n",
              "      <th>marks</th>\n",
              "    </tr>\n",
              "  </thead>\n",
              "  <tbody>\n",
              "    <tr>\n",
              "      <th>count</th>\n",
              "      <td>4.000000</td>\n",
              "    </tr>\n",
              "    <tr>\n",
              "      <th>mean</th>\n",
              "      <td>72.500000</td>\n",
              "    </tr>\n",
              "    <tr>\n",
              "      <th>std</th>\n",
              "      <td>27.537853</td>\n",
              "    </tr>\n",
              "    <tr>\n",
              "      <th>min</th>\n",
              "      <td>40.000000</td>\n",
              "    </tr>\n",
              "    <tr>\n",
              "      <th>25%</th>\n",
              "      <td>55.000000</td>\n",
              "    </tr>\n",
              "    <tr>\n",
              "      <th>50%</th>\n",
              "      <td>75.000000</td>\n",
              "    </tr>\n",
              "    <tr>\n",
              "      <th>75%</th>\n",
              "      <td>92.500000</td>\n",
              "    </tr>\n",
              "    <tr>\n",
              "      <th>max</th>\n",
              "      <td>100.000000</td>\n",
              "    </tr>\n",
              "  </tbody>\n",
              "</table>\n",
              "</div>"
            ],
            "text/plain": [
              "            marks\n",
              "count    4.000000\n",
              "mean    72.500000\n",
              "std     27.537853\n",
              "min     40.000000\n",
              "25%     55.000000\n",
              "50%     75.000000\n",
              "75%     92.500000\n",
              "max    100.000000"
            ]
          },
          "execution_count": 11,
          "metadata": {},
          "output_type": "execute_result"
        }
      ]
    },
    {
      "cell_type": "code",
      "metadata": {
        "id": "df595197"
      },
      "source": [
        "Train = pd.read_csv('Train.csv')"
      ],
      "id": "df595197",
      "execution_count": null,
      "outputs": []
    },
    {
      "cell_type": "code",
      "metadata": {
        "id": "c6ec54fa",
        "outputId": "1200392a-3f9a-4205-e3f2-f9eecbc00a35"
      },
      "source": [
        "Train"
      ],
      "id": "c6ec54fa",
      "execution_count": null,
      "outputs": [
        {
          "data": {
            "text/html": [
              "<div>\n",
              "<style scoped>\n",
              "    .dataframe tbody tr th:only-of-type {\n",
              "        vertical-align: middle;\n",
              "    }\n",
              "\n",
              "    .dataframe tbody tr th {\n",
              "        vertical-align: top;\n",
              "    }\n",
              "\n",
              "    .dataframe thead th {\n",
              "        text-align: right;\n",
              "    }\n",
              "</style>\n",
              "<table border=\"1\" class=\"dataframe\">\n",
              "  <thead>\n",
              "    <tr style=\"text-align: right;\">\n",
              "      <th></th>\n",
              "      <th>Unnamed: 0</th>\n",
              "      <th>Unnamed: 0.1</th>\n",
              "      <th>Unnamed: 0.1.1</th>\n",
              "      <th>Unnamed: 0.1.1.1</th>\n",
              "      <th>Unnamed: 0.1.1.1.1</th>\n",
              "      <th>Unnamed: 0.1.1.1.1.1</th>\n",
              "      <th>Unnamed: 0.1.1.1.1.1.1</th>\n",
              "      <th>Unnamed: 0.1.1.1.1.1.1.1</th>\n",
              "      <th>Train numbers</th>\n",
              "      <th>Speed</th>\n",
              "      <th>City</th>\n",
              "    </tr>\n",
              "  </thead>\n",
              "  <tbody>\n",
              "    <tr>\n",
              "      <th>0</th>\n",
              "      <td>0</td>\n",
              "      <td>0</td>\n",
              "      <td>0</td>\n",
              "      <td>0</td>\n",
              "      <td>0</td>\n",
              "      <td>0</td>\n",
              "      <td>0</td>\n",
              "      <td>0</td>\n",
              "      <td>A601</td>\n",
              "      <td>60</td>\n",
              "      <td>Puri</td>\n",
              "    </tr>\n",
              "    <tr>\n",
              "      <th>1</th>\n",
              "      <td>1</td>\n",
              "      <td>1</td>\n",
              "      <td>1</td>\n",
              "      <td>1</td>\n",
              "      <td>1</td>\n",
              "      <td>1</td>\n",
              "      <td>1</td>\n",
              "      <td>1</td>\n",
              "      <td>A601</td>\n",
              "      <td>76</td>\n",
              "      <td>Bhubaneswar</td>\n",
              "    </tr>\n",
              "    <tr>\n",
              "      <th>2</th>\n",
              "      <td>2</td>\n",
              "      <td>2</td>\n",
              "      <td>2</td>\n",
              "      <td>2</td>\n",
              "      <td>2</td>\n",
              "      <td>2</td>\n",
              "      <td>2</td>\n",
              "      <td>2</td>\n",
              "      <td>B701</td>\n",
              "      <td>80</td>\n",
              "      <td>Mumbai</td>\n",
              "    </tr>\n",
              "    <tr>\n",
              "      <th>3</th>\n",
              "      <td>3</td>\n",
              "      <td>3</td>\n",
              "      <td>3</td>\n",
              "      <td>3</td>\n",
              "      <td>3</td>\n",
              "      <td>3</td>\n",
              "      <td>3</td>\n",
              "      <td>3</td>\n",
              "      <td>B801</td>\n",
              "      <td>86</td>\n",
              "      <td>Pune</td>\n",
              "    </tr>\n",
              "  </tbody>\n",
              "</table>\n",
              "</div>"
            ],
            "text/plain": [
              "   Unnamed: 0  Unnamed: 0.1  Unnamed: 0.1.1  Unnamed: 0.1.1.1  \\\n",
              "0           0             0               0                 0   \n",
              "1           1             1               1                 1   \n",
              "2           2             2               2                 2   \n",
              "3           3             3               3                 3   \n",
              "\n",
              "   Unnamed: 0.1.1.1.1  Unnamed: 0.1.1.1.1.1  Unnamed: 0.1.1.1.1.1.1  \\\n",
              "0                   0                     0                       0   \n",
              "1                   1                     1                       1   \n",
              "2                   2                     2                       2   \n",
              "3                   3                     3                       3   \n",
              "\n",
              "   Unnamed: 0.1.1.1.1.1.1.1 Train numbers  Speed         City  \n",
              "0                         0          A601     60         Puri  \n",
              "1                         1          A601     76  Bhubaneswar  \n",
              "2                         2          B701     80       Mumbai  \n",
              "3                         3          B801     86         Pune  "
            ]
          },
          "execution_count": 13,
          "metadata": {},
          "output_type": "execute_result"
        }
      ]
    },
    {
      "cell_type": "code",
      "metadata": {
        "id": "421b8438",
        "outputId": "933f6799-645d-4d41-90a8-f6991c5b13e2"
      },
      "source": [
        "Train['Speed']"
      ],
      "id": "421b8438",
      "execution_count": null,
      "outputs": [
        {
          "data": {
            "text/plain": [
              "0    60\n",
              "1    76\n",
              "2    80\n",
              "3    86\n",
              "Name: Speed, dtype: int64"
            ]
          },
          "execution_count": 14,
          "metadata": {},
          "output_type": "execute_result"
        }
      ]
    },
    {
      "cell_type": "code",
      "metadata": {
        "id": "8042f474",
        "outputId": "5fdc119b-67e9-4b24-86ec-08e55913b5e5"
      },
      "source": [
        "Train['Speed'][0]"
      ],
      "id": "8042f474",
      "execution_count": null,
      "outputs": [
        {
          "data": {
            "text/plain": [
              "60"
            ]
          },
          "execution_count": 15,
          "metadata": {},
          "output_type": "execute_result"
        }
      ]
    },
    {
      "cell_type": "code",
      "metadata": {
        "id": "e1a9dc9f",
        "outputId": "e0640888-8620-4ee6-e5ea-018adede3037"
      },
      "source": [
        "Train['Speed'][0] = 60"
      ],
      "id": "e1a9dc9f",
      "execution_count": null,
      "outputs": [
        {
          "name": "stderr",
          "output_type": "stream",
          "text": [
            "<ipython-input-16-427a98f70e7c>:1: SettingWithCopyWarning: \n",
            "A value is trying to be set on a copy of a slice from a DataFrame\n",
            "\n",
            "See the caveats in the documentation: https://pandas.pydata.org/pandas-docs/stable/user_guide/indexing.html#returning-a-view-versus-a-copy\n",
            "  Train['Speed'][0] = 60\n"
          ]
        }
      ]
    },
    {
      "cell_type": "code",
      "metadata": {
        "id": "31625b47",
        "outputId": "8d5c7573-6b3b-4fcd-9b0a-482418bd825e"
      },
      "source": [
        "Train"
      ],
      "id": "31625b47",
      "execution_count": null,
      "outputs": [
        {
          "data": {
            "text/html": [
              "<div>\n",
              "<style scoped>\n",
              "    .dataframe tbody tr th:only-of-type {\n",
              "        vertical-align: middle;\n",
              "    }\n",
              "\n",
              "    .dataframe tbody tr th {\n",
              "        vertical-align: top;\n",
              "    }\n",
              "\n",
              "    .dataframe thead th {\n",
              "        text-align: right;\n",
              "    }\n",
              "</style>\n",
              "<table border=\"1\" class=\"dataframe\">\n",
              "  <thead>\n",
              "    <tr style=\"text-align: right;\">\n",
              "      <th></th>\n",
              "      <th>Unnamed: 0</th>\n",
              "      <th>Unnamed: 0.1</th>\n",
              "      <th>Unnamed: 0.1.1</th>\n",
              "      <th>Unnamed: 0.1.1.1</th>\n",
              "      <th>Unnamed: 0.1.1.1.1</th>\n",
              "      <th>Unnamed: 0.1.1.1.1.1</th>\n",
              "      <th>Unnamed: 0.1.1.1.1.1.1</th>\n",
              "      <th>Unnamed: 0.1.1.1.1.1.1.1</th>\n",
              "      <th>Train numbers</th>\n",
              "      <th>Speed</th>\n",
              "      <th>City</th>\n",
              "    </tr>\n",
              "  </thead>\n",
              "  <tbody>\n",
              "    <tr>\n",
              "      <th>0</th>\n",
              "      <td>0</td>\n",
              "      <td>0</td>\n",
              "      <td>0</td>\n",
              "      <td>0</td>\n",
              "      <td>0</td>\n",
              "      <td>0</td>\n",
              "      <td>0</td>\n",
              "      <td>0</td>\n",
              "      <td>A601</td>\n",
              "      <td>60</td>\n",
              "      <td>Puri</td>\n",
              "    </tr>\n",
              "    <tr>\n",
              "      <th>1</th>\n",
              "      <td>1</td>\n",
              "      <td>1</td>\n",
              "      <td>1</td>\n",
              "      <td>1</td>\n",
              "      <td>1</td>\n",
              "      <td>1</td>\n",
              "      <td>1</td>\n",
              "      <td>1</td>\n",
              "      <td>A601</td>\n",
              "      <td>76</td>\n",
              "      <td>Bhubaneswar</td>\n",
              "    </tr>\n",
              "    <tr>\n",
              "      <th>2</th>\n",
              "      <td>2</td>\n",
              "      <td>2</td>\n",
              "      <td>2</td>\n",
              "      <td>2</td>\n",
              "      <td>2</td>\n",
              "      <td>2</td>\n",
              "      <td>2</td>\n",
              "      <td>2</td>\n",
              "      <td>B701</td>\n",
              "      <td>80</td>\n",
              "      <td>Mumbai</td>\n",
              "    </tr>\n",
              "    <tr>\n",
              "      <th>3</th>\n",
              "      <td>3</td>\n",
              "      <td>3</td>\n",
              "      <td>3</td>\n",
              "      <td>3</td>\n",
              "      <td>3</td>\n",
              "      <td>3</td>\n",
              "      <td>3</td>\n",
              "      <td>3</td>\n",
              "      <td>B801</td>\n",
              "      <td>86</td>\n",
              "      <td>Pune</td>\n",
              "    </tr>\n",
              "  </tbody>\n",
              "</table>\n",
              "</div>"
            ],
            "text/plain": [
              "   Unnamed: 0  Unnamed: 0.1  Unnamed: 0.1.1  Unnamed: 0.1.1.1  \\\n",
              "0           0             0               0                 0   \n",
              "1           1             1               1                 1   \n",
              "2           2             2               2                 2   \n",
              "3           3             3               3                 3   \n",
              "\n",
              "   Unnamed: 0.1.1.1.1  Unnamed: 0.1.1.1.1.1  Unnamed: 0.1.1.1.1.1.1  \\\n",
              "0                   0                     0                       0   \n",
              "1                   1                     1                       1   \n",
              "2                   2                     2                       2   \n",
              "3                   3                     3                       3   \n",
              "\n",
              "   Unnamed: 0.1.1.1.1.1.1.1 Train numbers  Speed         City  \n",
              "0                         0          A601     60         Puri  \n",
              "1                         1          A601     76  Bhubaneswar  \n",
              "2                         2          B701     80       Mumbai  \n",
              "3                         3          B801     86         Pune  "
            ]
          },
          "execution_count": 17,
          "metadata": {},
          "output_type": "execute_result"
        }
      ]
    },
    {
      "cell_type": "code",
      "metadata": {
        "id": "cd743f9d"
      },
      "source": [
        "Train.to_csv('Train.csv')"
      ],
      "id": "cd743f9d",
      "execution_count": null,
      "outputs": []
    },
    {
      "cell_type": "code",
      "metadata": {
        "id": "4a42b045"
      },
      "source": [
        "Train.index = ['first', 'second', 'third', 'fourth']"
      ],
      "id": "4a42b045",
      "execution_count": null,
      "outputs": []
    },
    {
      "cell_type": "code",
      "metadata": {
        "id": "f7595918",
        "outputId": "2239c121-0870-4e58-8d5c-74db936433bb"
      },
      "source": [
        "Train"
      ],
      "id": "f7595918",
      "execution_count": null,
      "outputs": [
        {
          "data": {
            "text/html": [
              "<div>\n",
              "<style scoped>\n",
              "    .dataframe tbody tr th:only-of-type {\n",
              "        vertical-align: middle;\n",
              "    }\n",
              "\n",
              "    .dataframe tbody tr th {\n",
              "        vertical-align: top;\n",
              "    }\n",
              "\n",
              "    .dataframe thead th {\n",
              "        text-align: right;\n",
              "    }\n",
              "</style>\n",
              "<table border=\"1\" class=\"dataframe\">\n",
              "  <thead>\n",
              "    <tr style=\"text-align: right;\">\n",
              "      <th></th>\n",
              "      <th>Unnamed: 0</th>\n",
              "      <th>Unnamed: 0.1</th>\n",
              "      <th>Unnamed: 0.1.1</th>\n",
              "      <th>Unnamed: 0.1.1.1</th>\n",
              "      <th>Unnamed: 0.1.1.1.1</th>\n",
              "      <th>Unnamed: 0.1.1.1.1.1</th>\n",
              "      <th>Unnamed: 0.1.1.1.1.1.1</th>\n",
              "      <th>Unnamed: 0.1.1.1.1.1.1.1</th>\n",
              "      <th>Train numbers</th>\n",
              "      <th>Speed</th>\n",
              "      <th>City</th>\n",
              "    </tr>\n",
              "  </thead>\n",
              "  <tbody>\n",
              "    <tr>\n",
              "      <th>first</th>\n",
              "      <td>0</td>\n",
              "      <td>0</td>\n",
              "      <td>0</td>\n",
              "      <td>0</td>\n",
              "      <td>0</td>\n",
              "      <td>0</td>\n",
              "      <td>0</td>\n",
              "      <td>0</td>\n",
              "      <td>A601</td>\n",
              "      <td>60</td>\n",
              "      <td>Puri</td>\n",
              "    </tr>\n",
              "    <tr>\n",
              "      <th>second</th>\n",
              "      <td>1</td>\n",
              "      <td>1</td>\n",
              "      <td>1</td>\n",
              "      <td>1</td>\n",
              "      <td>1</td>\n",
              "      <td>1</td>\n",
              "      <td>1</td>\n",
              "      <td>1</td>\n",
              "      <td>A601</td>\n",
              "      <td>76</td>\n",
              "      <td>Bhubaneswar</td>\n",
              "    </tr>\n",
              "    <tr>\n",
              "      <th>third</th>\n",
              "      <td>2</td>\n",
              "      <td>2</td>\n",
              "      <td>2</td>\n",
              "      <td>2</td>\n",
              "      <td>2</td>\n",
              "      <td>2</td>\n",
              "      <td>2</td>\n",
              "      <td>2</td>\n",
              "      <td>B701</td>\n",
              "      <td>80</td>\n",
              "      <td>Mumbai</td>\n",
              "    </tr>\n",
              "    <tr>\n",
              "      <th>fourth</th>\n",
              "      <td>3</td>\n",
              "      <td>3</td>\n",
              "      <td>3</td>\n",
              "      <td>3</td>\n",
              "      <td>3</td>\n",
              "      <td>3</td>\n",
              "      <td>3</td>\n",
              "      <td>3</td>\n",
              "      <td>B801</td>\n",
              "      <td>86</td>\n",
              "      <td>Pune</td>\n",
              "    </tr>\n",
              "  </tbody>\n",
              "</table>\n",
              "</div>"
            ],
            "text/plain": [
              "        Unnamed: 0  Unnamed: 0.1  Unnamed: 0.1.1  Unnamed: 0.1.1.1  \\\n",
              "first            0             0               0                 0   \n",
              "second           1             1               1                 1   \n",
              "third            2             2               2                 2   \n",
              "fourth           3             3               3                 3   \n",
              "\n",
              "        Unnamed: 0.1.1.1.1  Unnamed: 0.1.1.1.1.1  Unnamed: 0.1.1.1.1.1.1  \\\n",
              "first                    0                     0                       0   \n",
              "second                   1                     1                       1   \n",
              "third                    2                     2                       2   \n",
              "fourth                   3                     3                       3   \n",
              "\n",
              "        Unnamed: 0.1.1.1.1.1.1.1 Train numbers  Speed         City  \n",
              "first                          0          A601     60         Puri  \n",
              "second                         1          A601     76  Bhubaneswar  \n",
              "third                          2          B701     80       Mumbai  \n",
              "fourth                         3          B801     86         Pune  "
            ]
          },
          "execution_count": 20,
          "metadata": {},
          "output_type": "execute_result"
        }
      ]
    },
    {
      "cell_type": "code",
      "metadata": {
        "id": "28f3e227"
      },
      "source": [
        "ser = pd.Series(np.random.rand(34))"
      ],
      "id": "28f3e227",
      "execution_count": null,
      "outputs": []
    },
    {
      "cell_type": "code",
      "metadata": {
        "id": "c5dcca91",
        "outputId": "5b6a4be8-d0a6-473f-ed72-98962e45aa25"
      },
      "source": [
        "ser"
      ],
      "id": "c5dcca91",
      "execution_count": null,
      "outputs": [
        {
          "data": {
            "text/plain": [
              "0     0.943810\n",
              "1     0.395214\n",
              "2     0.954456\n",
              "3     0.535347\n",
              "4     0.346918\n",
              "5     0.764780\n",
              "6     0.388298\n",
              "7     0.249935\n",
              "8     0.888423\n",
              "9     0.721039\n",
              "10    0.184236\n",
              "11    0.702529\n",
              "12    0.235807\n",
              "13    0.358432\n",
              "14    0.766559\n",
              "15    0.109076\n",
              "16    0.753924\n",
              "17    0.718576\n",
              "18    0.338945\n",
              "19    0.309720\n",
              "20    0.595112\n",
              "21    0.546982\n",
              "22    0.767211\n",
              "23    0.862131\n",
              "24    0.912477\n",
              "25    0.825519\n",
              "26    0.858434\n",
              "27    0.848869\n",
              "28    0.226438\n",
              "29    0.531228\n",
              "30    0.312246\n",
              "31    0.334578\n",
              "32    0.398855\n",
              "33    0.299324\n",
              "dtype: float64"
            ]
          },
          "execution_count": 22,
          "metadata": {},
          "output_type": "execute_result"
        }
      ]
    },
    {
      "cell_type": "code",
      "metadata": {
        "id": "ab994502",
        "outputId": "d004e447-1346-449c-84af-c8cf4e97a7dd"
      },
      "source": [
        "type(ser)\n"
      ],
      "id": "ab994502",
      "execution_count": null,
      "outputs": [
        {
          "data": {
            "text/plain": [
              "pandas.core.series.Series"
            ]
          },
          "execution_count": 23,
          "metadata": {},
          "output_type": "execute_result"
        }
      ]
    },
    {
      "cell_type": "code",
      "metadata": {
        "id": "d5ce640e"
      },
      "source": [
        "newdf = pd.DataFrame(np.random.rand(334,5), index=np.arange(334))"
      ],
      "id": "d5ce640e",
      "execution_count": null,
      "outputs": []
    },
    {
      "cell_type": "code",
      "metadata": {
        "id": "24d110b1",
        "outputId": "e28a9c65-579b-4c8f-844f-e78a98f58a7d"
      },
      "source": [
        "newdf"
      ],
      "id": "24d110b1",
      "execution_count": null,
      "outputs": [
        {
          "data": {
            "text/html": [
              "<div>\n",
              "<style scoped>\n",
              "    .dataframe tbody tr th:only-of-type {\n",
              "        vertical-align: middle;\n",
              "    }\n",
              "\n",
              "    .dataframe tbody tr th {\n",
              "        vertical-align: top;\n",
              "    }\n",
              "\n",
              "    .dataframe thead th {\n",
              "        text-align: right;\n",
              "    }\n",
              "</style>\n",
              "<table border=\"1\" class=\"dataframe\">\n",
              "  <thead>\n",
              "    <tr style=\"text-align: right;\">\n",
              "      <th></th>\n",
              "      <th>0</th>\n",
              "      <th>1</th>\n",
              "      <th>2</th>\n",
              "      <th>3</th>\n",
              "      <th>4</th>\n",
              "    </tr>\n",
              "  </thead>\n",
              "  <tbody>\n",
              "    <tr>\n",
              "      <th>0</th>\n",
              "      <td>0.098277</td>\n",
              "      <td>0.004619</td>\n",
              "      <td>0.993468</td>\n",
              "      <td>0.613271</td>\n",
              "      <td>0.856091</td>\n",
              "    </tr>\n",
              "    <tr>\n",
              "      <th>1</th>\n",
              "      <td>0.550326</td>\n",
              "      <td>0.541972</td>\n",
              "      <td>0.035519</td>\n",
              "      <td>0.919676</td>\n",
              "      <td>0.805929</td>\n",
              "    </tr>\n",
              "    <tr>\n",
              "      <th>2</th>\n",
              "      <td>0.113480</td>\n",
              "      <td>0.912265</td>\n",
              "      <td>0.834788</td>\n",
              "      <td>0.270516</td>\n",
              "      <td>0.088622</td>\n",
              "    </tr>\n",
              "    <tr>\n",
              "      <th>3</th>\n",
              "      <td>0.591618</td>\n",
              "      <td>0.720607</td>\n",
              "      <td>0.322464</td>\n",
              "      <td>0.407124</td>\n",
              "      <td>0.189336</td>\n",
              "    </tr>\n",
              "    <tr>\n",
              "      <th>4</th>\n",
              "      <td>0.566862</td>\n",
              "      <td>0.613896</td>\n",
              "      <td>0.957715</td>\n",
              "      <td>0.243204</td>\n",
              "      <td>0.690205</td>\n",
              "    </tr>\n",
              "    <tr>\n",
              "      <th>...</th>\n",
              "      <td>...</td>\n",
              "      <td>...</td>\n",
              "      <td>...</td>\n",
              "      <td>...</td>\n",
              "      <td>...</td>\n",
              "    </tr>\n",
              "    <tr>\n",
              "      <th>329</th>\n",
              "      <td>0.027275</td>\n",
              "      <td>0.061100</td>\n",
              "      <td>0.903432</td>\n",
              "      <td>0.004597</td>\n",
              "      <td>0.517680</td>\n",
              "    </tr>\n",
              "    <tr>\n",
              "      <th>330</th>\n",
              "      <td>0.549459</td>\n",
              "      <td>0.847409</td>\n",
              "      <td>0.732187</td>\n",
              "      <td>0.249492</td>\n",
              "      <td>0.234655</td>\n",
              "    </tr>\n",
              "    <tr>\n",
              "      <th>331</th>\n",
              "      <td>0.684914</td>\n",
              "      <td>0.179314</td>\n",
              "      <td>0.245639</td>\n",
              "      <td>0.320080</td>\n",
              "      <td>0.675011</td>\n",
              "    </tr>\n",
              "    <tr>\n",
              "      <th>332</th>\n",
              "      <td>0.561526</td>\n",
              "      <td>0.516795</td>\n",
              "      <td>0.808024</td>\n",
              "      <td>0.003432</td>\n",
              "      <td>0.222852</td>\n",
              "    </tr>\n",
              "    <tr>\n",
              "      <th>333</th>\n",
              "      <td>0.729506</td>\n",
              "      <td>0.371557</td>\n",
              "      <td>0.599759</td>\n",
              "      <td>0.703007</td>\n",
              "      <td>0.719317</td>\n",
              "    </tr>\n",
              "  </tbody>\n",
              "</table>\n",
              "<p>334 rows × 5 columns</p>\n",
              "</div>"
            ],
            "text/plain": [
              "            0         1         2         3         4\n",
              "0    0.098277  0.004619  0.993468  0.613271  0.856091\n",
              "1    0.550326  0.541972  0.035519  0.919676  0.805929\n",
              "2    0.113480  0.912265  0.834788  0.270516  0.088622\n",
              "3    0.591618  0.720607  0.322464  0.407124  0.189336\n",
              "4    0.566862  0.613896  0.957715  0.243204  0.690205\n",
              "..        ...       ...       ...       ...       ...\n",
              "329  0.027275  0.061100  0.903432  0.004597  0.517680\n",
              "330  0.549459  0.847409  0.732187  0.249492  0.234655\n",
              "331  0.684914  0.179314  0.245639  0.320080  0.675011\n",
              "332  0.561526  0.516795  0.808024  0.003432  0.222852\n",
              "333  0.729506  0.371557  0.599759  0.703007  0.719317\n",
              "\n",
              "[334 rows x 5 columns]"
            ]
          },
          "execution_count": 25,
          "metadata": {},
          "output_type": "execute_result"
        }
      ]
    },
    {
      "cell_type": "code",
      "metadata": {
        "id": "1eefbc05",
        "outputId": "91f62fcf-cd61-4d1a-ece4-7dd332dda319"
      },
      "source": [
        "newdf.head()"
      ],
      "id": "1eefbc05",
      "execution_count": null,
      "outputs": [
        {
          "data": {
            "text/html": [
              "<div>\n",
              "<style scoped>\n",
              "    .dataframe tbody tr th:only-of-type {\n",
              "        vertical-align: middle;\n",
              "    }\n",
              "\n",
              "    .dataframe tbody tr th {\n",
              "        vertical-align: top;\n",
              "    }\n",
              "\n",
              "    .dataframe thead th {\n",
              "        text-align: right;\n",
              "    }\n",
              "</style>\n",
              "<table border=\"1\" class=\"dataframe\">\n",
              "  <thead>\n",
              "    <tr style=\"text-align: right;\">\n",
              "      <th></th>\n",
              "      <th>0</th>\n",
              "      <th>1</th>\n",
              "      <th>2</th>\n",
              "      <th>3</th>\n",
              "      <th>4</th>\n",
              "    </tr>\n",
              "  </thead>\n",
              "  <tbody>\n",
              "    <tr>\n",
              "      <th>0</th>\n",
              "      <td>0.098277</td>\n",
              "      <td>0.004619</td>\n",
              "      <td>0.993468</td>\n",
              "      <td>0.613271</td>\n",
              "      <td>0.856091</td>\n",
              "    </tr>\n",
              "    <tr>\n",
              "      <th>1</th>\n",
              "      <td>0.550326</td>\n",
              "      <td>0.541972</td>\n",
              "      <td>0.035519</td>\n",
              "      <td>0.919676</td>\n",
              "      <td>0.805929</td>\n",
              "    </tr>\n",
              "    <tr>\n",
              "      <th>2</th>\n",
              "      <td>0.113480</td>\n",
              "      <td>0.912265</td>\n",
              "      <td>0.834788</td>\n",
              "      <td>0.270516</td>\n",
              "      <td>0.088622</td>\n",
              "    </tr>\n",
              "    <tr>\n",
              "      <th>3</th>\n",
              "      <td>0.591618</td>\n",
              "      <td>0.720607</td>\n",
              "      <td>0.322464</td>\n",
              "      <td>0.407124</td>\n",
              "      <td>0.189336</td>\n",
              "    </tr>\n",
              "    <tr>\n",
              "      <th>4</th>\n",
              "      <td>0.566862</td>\n",
              "      <td>0.613896</td>\n",
              "      <td>0.957715</td>\n",
              "      <td>0.243204</td>\n",
              "      <td>0.690205</td>\n",
              "    </tr>\n",
              "  </tbody>\n",
              "</table>\n",
              "</div>"
            ],
            "text/plain": [
              "          0         1         2         3         4\n",
              "0  0.098277  0.004619  0.993468  0.613271  0.856091\n",
              "1  0.550326  0.541972  0.035519  0.919676  0.805929\n",
              "2  0.113480  0.912265  0.834788  0.270516  0.088622\n",
              "3  0.591618  0.720607  0.322464  0.407124  0.189336\n",
              "4  0.566862  0.613896  0.957715  0.243204  0.690205"
            ]
          },
          "execution_count": 26,
          "metadata": {},
          "output_type": "execute_result"
        }
      ]
    },
    {
      "cell_type": "code",
      "metadata": {
        "id": "5e215045",
        "outputId": "87168d25-b3f9-42b5-d177-c06afc1f98cb"
      },
      "source": [
        "type(newdf)"
      ],
      "id": "5e215045",
      "execution_count": null,
      "outputs": [
        {
          "data": {
            "text/plain": [
              "pandas.core.frame.DataFrame"
            ]
          },
          "execution_count": 27,
          "metadata": {},
          "output_type": "execute_result"
        }
      ]
    },
    {
      "cell_type": "code",
      "metadata": {
        "id": "eec09f86",
        "outputId": "fc656825-c1f1-4b1c-9f55-b362c4752432"
      },
      "source": [
        "newdf.describe()"
      ],
      "id": "eec09f86",
      "execution_count": null,
      "outputs": [
        {
          "data": {
            "text/html": [
              "<div>\n",
              "<style scoped>\n",
              "    .dataframe tbody tr th:only-of-type {\n",
              "        vertical-align: middle;\n",
              "    }\n",
              "\n",
              "    .dataframe tbody tr th {\n",
              "        vertical-align: top;\n",
              "    }\n",
              "\n",
              "    .dataframe thead th {\n",
              "        text-align: right;\n",
              "    }\n",
              "</style>\n",
              "<table border=\"1\" class=\"dataframe\">\n",
              "  <thead>\n",
              "    <tr style=\"text-align: right;\">\n",
              "      <th></th>\n",
              "      <th>0</th>\n",
              "      <th>1</th>\n",
              "      <th>2</th>\n",
              "      <th>3</th>\n",
              "      <th>4</th>\n",
              "    </tr>\n",
              "  </thead>\n",
              "  <tbody>\n",
              "    <tr>\n",
              "      <th>count</th>\n",
              "      <td>334.000000</td>\n",
              "      <td>334.000000</td>\n",
              "      <td>334.000000</td>\n",
              "      <td>334.000000</td>\n",
              "      <td>334.000000</td>\n",
              "    </tr>\n",
              "    <tr>\n",
              "      <th>mean</th>\n",
              "      <td>0.510393</td>\n",
              "      <td>0.487793</td>\n",
              "      <td>0.506399</td>\n",
              "      <td>0.518142</td>\n",
              "      <td>0.477373</td>\n",
              "    </tr>\n",
              "    <tr>\n",
              "      <th>std</th>\n",
              "      <td>0.278342</td>\n",
              "      <td>0.282663</td>\n",
              "      <td>0.305184</td>\n",
              "      <td>0.311324</td>\n",
              "      <td>0.290988</td>\n",
              "    </tr>\n",
              "    <tr>\n",
              "      <th>min</th>\n",
              "      <td>0.003671</td>\n",
              "      <td>0.001379</td>\n",
              "      <td>0.004246</td>\n",
              "      <td>0.000713</td>\n",
              "      <td>0.008353</td>\n",
              "    </tr>\n",
              "    <tr>\n",
              "      <th>25%</th>\n",
              "      <td>0.257533</td>\n",
              "      <td>0.237965</td>\n",
              "      <td>0.250504</td>\n",
              "      <td>0.244203</td>\n",
              "      <td>0.233201</td>\n",
              "    </tr>\n",
              "    <tr>\n",
              "      <th>50%</th>\n",
              "      <td>0.534208</td>\n",
              "      <td>0.499313</td>\n",
              "      <td>0.498805</td>\n",
              "      <td>0.538385</td>\n",
              "      <td>0.457476</td>\n",
              "    </tr>\n",
              "    <tr>\n",
              "      <th>75%</th>\n",
              "      <td>0.740761</td>\n",
              "      <td>0.720463</td>\n",
              "      <td>0.795823</td>\n",
              "      <td>0.811259</td>\n",
              "      <td>0.717319</td>\n",
              "    </tr>\n",
              "    <tr>\n",
              "      <th>max</th>\n",
              "      <td>0.994972</td>\n",
              "      <td>0.998822</td>\n",
              "      <td>0.998906</td>\n",
              "      <td>0.993989</td>\n",
              "      <td>0.995831</td>\n",
              "    </tr>\n",
              "  </tbody>\n",
              "</table>\n",
              "</div>"
            ],
            "text/plain": [
              "                0           1           2           3           4\n",
              "count  334.000000  334.000000  334.000000  334.000000  334.000000\n",
              "mean     0.510393    0.487793    0.506399    0.518142    0.477373\n",
              "std      0.278342    0.282663    0.305184    0.311324    0.290988\n",
              "min      0.003671    0.001379    0.004246    0.000713    0.008353\n",
              "25%      0.257533    0.237965    0.250504    0.244203    0.233201\n",
              "50%      0.534208    0.499313    0.498805    0.538385    0.457476\n",
              "75%      0.740761    0.720463    0.795823    0.811259    0.717319\n",
              "max      0.994972    0.998822    0.998906    0.993989    0.995831"
            ]
          },
          "execution_count": 28,
          "metadata": {},
          "output_type": "execute_result"
        }
      ]
    },
    {
      "cell_type": "code",
      "metadata": {
        "id": "b9b24284",
        "outputId": "8d241957-848c-46b8-8221-9dfb93fdd3cf"
      },
      "source": [
        "newdf.dtypes"
      ],
      "id": "b9b24284",
      "execution_count": null,
      "outputs": [
        {
          "data": {
            "text/plain": [
              "0    float64\n",
              "1    float64\n",
              "2    float64\n",
              "3    float64\n",
              "4    float64\n",
              "dtype: object"
            ]
          },
          "execution_count": 29,
          "metadata": {},
          "output_type": "execute_result"
        }
      ]
    },
    {
      "cell_type": "code",
      "metadata": {
        "id": "3842ef74"
      },
      "source": [
        "newdf[0][0] = \"Simrita\""
      ],
      "id": "3842ef74",
      "execution_count": null,
      "outputs": []
    },
    {
      "cell_type": "code",
      "metadata": {
        "id": "8a0b87aa",
        "outputId": "ca5dd7be-3366-46ad-8b41-d090367dca1b"
      },
      "source": [
        "newdf.dtypes"
      ],
      "id": "8a0b87aa",
      "execution_count": null,
      "outputs": [
        {
          "data": {
            "text/plain": [
              "0     object\n",
              "1    float64\n",
              "2    float64\n",
              "3    float64\n",
              "4    float64\n",
              "dtype: object"
            ]
          },
          "execution_count": 31,
          "metadata": {},
          "output_type": "execute_result"
        }
      ]
    },
    {
      "cell_type": "code",
      "metadata": {
        "id": "1384a227",
        "outputId": "2e25c04f-f33b-4307-8174-da8b542d73a1"
      },
      "source": [
        "newdf.head()"
      ],
      "id": "1384a227",
      "execution_count": null,
      "outputs": [
        {
          "data": {
            "text/html": [
              "<div>\n",
              "<style scoped>\n",
              "    .dataframe tbody tr th:only-of-type {\n",
              "        vertical-align: middle;\n",
              "    }\n",
              "\n",
              "    .dataframe tbody tr th {\n",
              "        vertical-align: top;\n",
              "    }\n",
              "\n",
              "    .dataframe thead th {\n",
              "        text-align: right;\n",
              "    }\n",
              "</style>\n",
              "<table border=\"1\" class=\"dataframe\">\n",
              "  <thead>\n",
              "    <tr style=\"text-align: right;\">\n",
              "      <th></th>\n",
              "      <th>0</th>\n",
              "      <th>1</th>\n",
              "      <th>2</th>\n",
              "      <th>3</th>\n",
              "      <th>4</th>\n",
              "    </tr>\n",
              "  </thead>\n",
              "  <tbody>\n",
              "    <tr>\n",
              "      <th>0</th>\n",
              "      <td>Simrita</td>\n",
              "      <td>0.004619</td>\n",
              "      <td>0.993468</td>\n",
              "      <td>0.613271</td>\n",
              "      <td>0.856091</td>\n",
              "    </tr>\n",
              "    <tr>\n",
              "      <th>1</th>\n",
              "      <td>0.550326</td>\n",
              "      <td>0.541972</td>\n",
              "      <td>0.035519</td>\n",
              "      <td>0.919676</td>\n",
              "      <td>0.805929</td>\n",
              "    </tr>\n",
              "    <tr>\n",
              "      <th>2</th>\n",
              "      <td>0.11348</td>\n",
              "      <td>0.912265</td>\n",
              "      <td>0.834788</td>\n",
              "      <td>0.270516</td>\n",
              "      <td>0.088622</td>\n",
              "    </tr>\n",
              "    <tr>\n",
              "      <th>3</th>\n",
              "      <td>0.591618</td>\n",
              "      <td>0.720607</td>\n",
              "      <td>0.322464</td>\n",
              "      <td>0.407124</td>\n",
              "      <td>0.189336</td>\n",
              "    </tr>\n",
              "    <tr>\n",
              "      <th>4</th>\n",
              "      <td>0.566862</td>\n",
              "      <td>0.613896</td>\n",
              "      <td>0.957715</td>\n",
              "      <td>0.243204</td>\n",
              "      <td>0.690205</td>\n",
              "    </tr>\n",
              "  </tbody>\n",
              "</table>\n",
              "</div>"
            ],
            "text/plain": [
              "          0         1         2         3         4\n",
              "0   Simrita  0.004619  0.993468  0.613271  0.856091\n",
              "1  0.550326  0.541972  0.035519  0.919676  0.805929\n",
              "2   0.11348  0.912265  0.834788  0.270516  0.088622\n",
              "3  0.591618  0.720607  0.322464  0.407124  0.189336\n",
              "4  0.566862  0.613896  0.957715  0.243204  0.690205"
            ]
          },
          "execution_count": 32,
          "metadata": {},
          "output_type": "execute_result"
        }
      ]
    },
    {
      "cell_type": "code",
      "metadata": {
        "id": "3240bb5e",
        "outputId": "6eb14326-c78c-42c9-ce52-f2c63f78ba40"
      },
      "source": [
        "newdf.index"
      ],
      "id": "3240bb5e",
      "execution_count": null,
      "outputs": [
        {
          "data": {
            "text/plain": [
              "Int64Index([  0,   1,   2,   3,   4,   5,   6,   7,   8,   9,\n",
              "            ...\n",
              "            324, 325, 326, 327, 328, 329, 330, 331, 332, 333],\n",
              "           dtype='int64', length=334)"
            ]
          },
          "execution_count": 33,
          "metadata": {},
          "output_type": "execute_result"
        }
      ]
    },
    {
      "cell_type": "code",
      "metadata": {
        "id": "2994c862",
        "outputId": "e1fec695-a364-486c-ec8e-5e1a0a68eb13"
      },
      "source": [
        "newdf.columns"
      ],
      "id": "2994c862",
      "execution_count": null,
      "outputs": [
        {
          "data": {
            "text/plain": [
              "RangeIndex(start=0, stop=5, step=1)"
            ]
          },
          "execution_count": 34,
          "metadata": {},
          "output_type": "execute_result"
        }
      ]
    },
    {
      "cell_type": "code",
      "metadata": {
        "id": "6e66a2aa",
        "outputId": "d2ba9d63-5a0d-4632-e428-384fd9bfcef6"
      },
      "source": [
        "newdf.to_numpy()"
      ],
      "id": "6e66a2aa",
      "execution_count": null,
      "outputs": [
        {
          "data": {
            "text/plain": [
              "array([['Simrita', 0.0046189618189902415, 0.9934678112121699,\n",
              "        0.6132714018931374, 0.8560909831980013],\n",
              "       [0.5503258269471861, 0.5419722356833153, 0.03551927176785852,\n",
              "        0.9196760552716776, 0.8059286763843992],\n",
              "       [0.11347953643640307, 0.9122653787942433, 0.8347882480984261,\n",
              "        0.270515500614089, 0.08862217174399367],\n",
              "       ...,\n",
              "       [0.6849141777523676, 0.17931384357323543, 0.24563905498229321,\n",
              "        0.320080160103701, 0.6750106202092089],\n",
              "       [0.5615262006798862, 0.5167946170908118, 0.8080235293497614,\n",
              "        0.0034322463786276014, 0.22285245882521032],\n",
              "       [0.7295060678750023, 0.3715573537077653, 0.5997589988225441,\n",
              "        0.7030070390439368, 0.7193167611335385]], dtype=object)"
            ]
          },
          "execution_count": 35,
          "metadata": {},
          "output_type": "execute_result"
        }
      ]
    },
    {
      "cell_type": "code",
      "metadata": {
        "id": "481b7fd7"
      },
      "source": [
        "newdf[0][0] = 0.8"
      ],
      "id": "481b7fd7",
      "execution_count": null,
      "outputs": []
    },
    {
      "cell_type": "code",
      "metadata": {
        "id": "2236f794",
        "outputId": "e77918f7-5e49-44f5-b9b3-56e342717a2d"
      },
      "source": [
        "newdf.head()"
      ],
      "id": "2236f794",
      "execution_count": null,
      "outputs": [
        {
          "data": {
            "text/html": [
              "<div>\n",
              "<style scoped>\n",
              "    .dataframe tbody tr th:only-of-type {\n",
              "        vertical-align: middle;\n",
              "    }\n",
              "\n",
              "    .dataframe tbody tr th {\n",
              "        vertical-align: top;\n",
              "    }\n",
              "\n",
              "    .dataframe thead th {\n",
              "        text-align: right;\n",
              "    }\n",
              "</style>\n",
              "<table border=\"1\" class=\"dataframe\">\n",
              "  <thead>\n",
              "    <tr style=\"text-align: right;\">\n",
              "      <th></th>\n",
              "      <th>0</th>\n",
              "      <th>1</th>\n",
              "      <th>2</th>\n",
              "      <th>3</th>\n",
              "      <th>4</th>\n",
              "    </tr>\n",
              "  </thead>\n",
              "  <tbody>\n",
              "    <tr>\n",
              "      <th>0</th>\n",
              "      <td>0.8</td>\n",
              "      <td>0.004619</td>\n",
              "      <td>0.993468</td>\n",
              "      <td>0.613271</td>\n",
              "      <td>0.856091</td>\n",
              "    </tr>\n",
              "    <tr>\n",
              "      <th>1</th>\n",
              "      <td>0.550326</td>\n",
              "      <td>0.541972</td>\n",
              "      <td>0.035519</td>\n",
              "      <td>0.919676</td>\n",
              "      <td>0.805929</td>\n",
              "    </tr>\n",
              "    <tr>\n",
              "      <th>2</th>\n",
              "      <td>0.11348</td>\n",
              "      <td>0.912265</td>\n",
              "      <td>0.834788</td>\n",
              "      <td>0.270516</td>\n",
              "      <td>0.088622</td>\n",
              "    </tr>\n",
              "    <tr>\n",
              "      <th>3</th>\n",
              "      <td>0.591618</td>\n",
              "      <td>0.720607</td>\n",
              "      <td>0.322464</td>\n",
              "      <td>0.407124</td>\n",
              "      <td>0.189336</td>\n",
              "    </tr>\n",
              "    <tr>\n",
              "      <th>4</th>\n",
              "      <td>0.566862</td>\n",
              "      <td>0.613896</td>\n",
              "      <td>0.957715</td>\n",
              "      <td>0.243204</td>\n",
              "      <td>0.690205</td>\n",
              "    </tr>\n",
              "  </tbody>\n",
              "</table>\n",
              "</div>"
            ],
            "text/plain": [
              "          0         1         2         3         4\n",
              "0       0.8  0.004619  0.993468  0.613271  0.856091\n",
              "1  0.550326  0.541972  0.035519  0.919676  0.805929\n",
              "2   0.11348  0.912265  0.834788  0.270516  0.088622\n",
              "3  0.591618  0.720607  0.322464  0.407124  0.189336\n",
              "4  0.566862  0.613896  0.957715  0.243204  0.690205"
            ]
          },
          "execution_count": 37,
          "metadata": {},
          "output_type": "execute_result"
        }
      ]
    },
    {
      "cell_type": "code",
      "metadata": {
        "id": "4d15ec25",
        "outputId": "3a3f65b1-bcbd-473b-f41c-c2080914952a"
      },
      "source": [
        "newdf.T"
      ],
      "id": "4d15ec25",
      "execution_count": null,
      "outputs": [
        {
          "data": {
            "text/html": [
              "<div>\n",
              "<style scoped>\n",
              "    .dataframe tbody tr th:only-of-type {\n",
              "        vertical-align: middle;\n",
              "    }\n",
              "\n",
              "    .dataframe tbody tr th {\n",
              "        vertical-align: top;\n",
              "    }\n",
              "\n",
              "    .dataframe thead th {\n",
              "        text-align: right;\n",
              "    }\n",
              "</style>\n",
              "<table border=\"1\" class=\"dataframe\">\n",
              "  <thead>\n",
              "    <tr style=\"text-align: right;\">\n",
              "      <th></th>\n",
              "      <th>0</th>\n",
              "      <th>1</th>\n",
              "      <th>2</th>\n",
              "      <th>3</th>\n",
              "      <th>4</th>\n",
              "      <th>5</th>\n",
              "      <th>6</th>\n",
              "      <th>7</th>\n",
              "      <th>8</th>\n",
              "      <th>9</th>\n",
              "      <th>...</th>\n",
              "      <th>324</th>\n",
              "      <th>325</th>\n",
              "      <th>326</th>\n",
              "      <th>327</th>\n",
              "      <th>328</th>\n",
              "      <th>329</th>\n",
              "      <th>330</th>\n",
              "      <th>331</th>\n",
              "      <th>332</th>\n",
              "      <th>333</th>\n",
              "    </tr>\n",
              "  </thead>\n",
              "  <tbody>\n",
              "    <tr>\n",
              "      <th>0</th>\n",
              "      <td>0.8</td>\n",
              "      <td>0.550326</td>\n",
              "      <td>0.11348</td>\n",
              "      <td>0.591618</td>\n",
              "      <td>0.566862</td>\n",
              "      <td>0.475852</td>\n",
              "      <td>0.465199</td>\n",
              "      <td>0.855631</td>\n",
              "      <td>0.136241</td>\n",
              "      <td>0.662775</td>\n",
              "      <td>...</td>\n",
              "      <td>0.821723</td>\n",
              "      <td>0.436254</td>\n",
              "      <td>0.577394</td>\n",
              "      <td>0.362307</td>\n",
              "      <td>0.642485</td>\n",
              "      <td>0.027275</td>\n",
              "      <td>0.549459</td>\n",
              "      <td>0.684914</td>\n",
              "      <td>0.561526</td>\n",
              "      <td>0.729506</td>\n",
              "    </tr>\n",
              "    <tr>\n",
              "      <th>1</th>\n",
              "      <td>0.004619</td>\n",
              "      <td>0.541972</td>\n",
              "      <td>0.912265</td>\n",
              "      <td>0.720607</td>\n",
              "      <td>0.613896</td>\n",
              "      <td>0.748468</td>\n",
              "      <td>0.903205</td>\n",
              "      <td>0.196325</td>\n",
              "      <td>0.050894</td>\n",
              "      <td>0.519792</td>\n",
              "      <td>...</td>\n",
              "      <td>0.652225</td>\n",
              "      <td>0.703256</td>\n",
              "      <td>0.680568</td>\n",
              "      <td>0.184161</td>\n",
              "      <td>0.135085</td>\n",
              "      <td>0.0611</td>\n",
              "      <td>0.847409</td>\n",
              "      <td>0.179314</td>\n",
              "      <td>0.516795</td>\n",
              "      <td>0.371557</td>\n",
              "    </tr>\n",
              "    <tr>\n",
              "      <th>2</th>\n",
              "      <td>0.993468</td>\n",
              "      <td>0.035519</td>\n",
              "      <td>0.834788</td>\n",
              "      <td>0.322464</td>\n",
              "      <td>0.957715</td>\n",
              "      <td>0.009888</td>\n",
              "      <td>0.011969</td>\n",
              "      <td>0.790914</td>\n",
              "      <td>0.350655</td>\n",
              "      <td>0.865196</td>\n",
              "      <td>...</td>\n",
              "      <td>0.941889</td>\n",
              "      <td>0.912239</td>\n",
              "      <td>0.857617</td>\n",
              "      <td>0.577812</td>\n",
              "      <td>0.981247</td>\n",
              "      <td>0.903432</td>\n",
              "      <td>0.732187</td>\n",
              "      <td>0.245639</td>\n",
              "      <td>0.808024</td>\n",
              "      <td>0.599759</td>\n",
              "    </tr>\n",
              "    <tr>\n",
              "      <th>3</th>\n",
              "      <td>0.613271</td>\n",
              "      <td>0.919676</td>\n",
              "      <td>0.270516</td>\n",
              "      <td>0.407124</td>\n",
              "      <td>0.243204</td>\n",
              "      <td>0.449755</td>\n",
              "      <td>0.003223</td>\n",
              "      <td>0.710723</td>\n",
              "      <td>0.82329</td>\n",
              "      <td>0.810332</td>\n",
              "      <td>...</td>\n",
              "      <td>0.912947</td>\n",
              "      <td>0.775967</td>\n",
              "      <td>0.03508</td>\n",
              "      <td>0.807918</td>\n",
              "      <td>0.400174</td>\n",
              "      <td>0.004597</td>\n",
              "      <td>0.249492</td>\n",
              "      <td>0.32008</td>\n",
              "      <td>0.003432</td>\n",
              "      <td>0.703007</td>\n",
              "    </tr>\n",
              "    <tr>\n",
              "      <th>4</th>\n",
              "      <td>0.856091</td>\n",
              "      <td>0.805929</td>\n",
              "      <td>0.088622</td>\n",
              "      <td>0.189336</td>\n",
              "      <td>0.690205</td>\n",
              "      <td>0.315482</td>\n",
              "      <td>0.63356</td>\n",
              "      <td>0.024629</td>\n",
              "      <td>0.024362</td>\n",
              "      <td>0.8387</td>\n",
              "      <td>...</td>\n",
              "      <td>0.032216</td>\n",
              "      <td>0.635877</td>\n",
              "      <td>0.105222</td>\n",
              "      <td>0.650896</td>\n",
              "      <td>0.0656</td>\n",
              "      <td>0.51768</td>\n",
              "      <td>0.234655</td>\n",
              "      <td>0.675011</td>\n",
              "      <td>0.222852</td>\n",
              "      <td>0.719317</td>\n",
              "    </tr>\n",
              "  </tbody>\n",
              "</table>\n",
              "<p>5 rows × 334 columns</p>\n",
              "</div>"
            ],
            "text/plain": [
              "        0         1         2         3         4         5         6    \\\n",
              "0       0.8  0.550326   0.11348  0.591618  0.566862  0.475852  0.465199   \n",
              "1  0.004619  0.541972  0.912265  0.720607  0.613896  0.748468  0.903205   \n",
              "2  0.993468  0.035519  0.834788  0.322464  0.957715  0.009888  0.011969   \n",
              "3  0.613271  0.919676  0.270516  0.407124  0.243204  0.449755  0.003223   \n",
              "4  0.856091  0.805929  0.088622  0.189336  0.690205  0.315482   0.63356   \n",
              "\n",
              "        7         8         9    ...       324       325       326       327  \\\n",
              "0  0.855631  0.136241  0.662775  ...  0.821723  0.436254  0.577394  0.362307   \n",
              "1  0.196325  0.050894  0.519792  ...  0.652225  0.703256  0.680568  0.184161   \n",
              "2  0.790914  0.350655  0.865196  ...  0.941889  0.912239  0.857617  0.577812   \n",
              "3  0.710723   0.82329  0.810332  ...  0.912947  0.775967   0.03508  0.807918   \n",
              "4  0.024629  0.024362    0.8387  ...  0.032216  0.635877  0.105222  0.650896   \n",
              "\n",
              "        328       329       330       331       332       333  \n",
              "0  0.642485  0.027275  0.549459  0.684914  0.561526  0.729506  \n",
              "1  0.135085    0.0611  0.847409  0.179314  0.516795  0.371557  \n",
              "2  0.981247  0.903432  0.732187  0.245639  0.808024  0.599759  \n",
              "3  0.400174  0.004597  0.249492   0.32008  0.003432  0.703007  \n",
              "4    0.0656   0.51768  0.234655  0.675011  0.222852  0.719317  \n",
              "\n",
              "[5 rows x 334 columns]"
            ]
          },
          "execution_count": 38,
          "metadata": {},
          "output_type": "execute_result"
        }
      ]
    },
    {
      "cell_type": "code",
      "metadata": {
        "id": "d8b01556",
        "outputId": "f083e7bc-f7ad-46ce-a693-d6facbad46c7"
      },
      "source": [
        "newdf.head()"
      ],
      "id": "d8b01556",
      "execution_count": null,
      "outputs": [
        {
          "data": {
            "text/html": [
              "<div>\n",
              "<style scoped>\n",
              "    .dataframe tbody tr th:only-of-type {\n",
              "        vertical-align: middle;\n",
              "    }\n",
              "\n",
              "    .dataframe tbody tr th {\n",
              "        vertical-align: top;\n",
              "    }\n",
              "\n",
              "    .dataframe thead th {\n",
              "        text-align: right;\n",
              "    }\n",
              "</style>\n",
              "<table border=\"1\" class=\"dataframe\">\n",
              "  <thead>\n",
              "    <tr style=\"text-align: right;\">\n",
              "      <th></th>\n",
              "      <th>0</th>\n",
              "      <th>1</th>\n",
              "      <th>2</th>\n",
              "      <th>3</th>\n",
              "      <th>4</th>\n",
              "    </tr>\n",
              "  </thead>\n",
              "  <tbody>\n",
              "    <tr>\n",
              "      <th>0</th>\n",
              "      <td>0.8</td>\n",
              "      <td>0.004619</td>\n",
              "      <td>0.993468</td>\n",
              "      <td>0.613271</td>\n",
              "      <td>0.856091</td>\n",
              "    </tr>\n",
              "    <tr>\n",
              "      <th>1</th>\n",
              "      <td>0.550326</td>\n",
              "      <td>0.541972</td>\n",
              "      <td>0.035519</td>\n",
              "      <td>0.919676</td>\n",
              "      <td>0.805929</td>\n",
              "    </tr>\n",
              "    <tr>\n",
              "      <th>2</th>\n",
              "      <td>0.11348</td>\n",
              "      <td>0.912265</td>\n",
              "      <td>0.834788</td>\n",
              "      <td>0.270516</td>\n",
              "      <td>0.088622</td>\n",
              "    </tr>\n",
              "    <tr>\n",
              "      <th>3</th>\n",
              "      <td>0.591618</td>\n",
              "      <td>0.720607</td>\n",
              "      <td>0.322464</td>\n",
              "      <td>0.407124</td>\n",
              "      <td>0.189336</td>\n",
              "    </tr>\n",
              "    <tr>\n",
              "      <th>4</th>\n",
              "      <td>0.566862</td>\n",
              "      <td>0.613896</td>\n",
              "      <td>0.957715</td>\n",
              "      <td>0.243204</td>\n",
              "      <td>0.690205</td>\n",
              "    </tr>\n",
              "  </tbody>\n",
              "</table>\n",
              "</div>"
            ],
            "text/plain": [
              "          0         1         2         3         4\n",
              "0       0.8  0.004619  0.993468  0.613271  0.856091\n",
              "1  0.550326  0.541972  0.035519  0.919676  0.805929\n",
              "2   0.11348  0.912265  0.834788  0.270516  0.088622\n",
              "3  0.591618  0.720607  0.322464  0.407124  0.189336\n",
              "4  0.566862  0.613896  0.957715  0.243204  0.690205"
            ]
          },
          "execution_count": 39,
          "metadata": {},
          "output_type": "execute_result"
        }
      ]
    },
    {
      "cell_type": "code",
      "metadata": {
        "id": "9e5a80e2",
        "outputId": "6b4707c0-065e-4a83-f217-5a4c1f52351b"
      },
      "source": [
        "newdf.sort_index(axis=0, ascending=False)"
      ],
      "id": "9e5a80e2",
      "execution_count": null,
      "outputs": [
        {
          "data": {
            "text/html": [
              "<div>\n",
              "<style scoped>\n",
              "    .dataframe tbody tr th:only-of-type {\n",
              "        vertical-align: middle;\n",
              "    }\n",
              "\n",
              "    .dataframe tbody tr th {\n",
              "        vertical-align: top;\n",
              "    }\n",
              "\n",
              "    .dataframe thead th {\n",
              "        text-align: right;\n",
              "    }\n",
              "</style>\n",
              "<table border=\"1\" class=\"dataframe\">\n",
              "  <thead>\n",
              "    <tr style=\"text-align: right;\">\n",
              "      <th></th>\n",
              "      <th>0</th>\n",
              "      <th>1</th>\n",
              "      <th>2</th>\n",
              "      <th>3</th>\n",
              "      <th>4</th>\n",
              "    </tr>\n",
              "  </thead>\n",
              "  <tbody>\n",
              "    <tr>\n",
              "      <th>333</th>\n",
              "      <td>0.729506</td>\n",
              "      <td>0.371557</td>\n",
              "      <td>0.599759</td>\n",
              "      <td>0.703007</td>\n",
              "      <td>0.719317</td>\n",
              "    </tr>\n",
              "    <tr>\n",
              "      <th>332</th>\n",
              "      <td>0.561526</td>\n",
              "      <td>0.516795</td>\n",
              "      <td>0.808024</td>\n",
              "      <td>0.003432</td>\n",
              "      <td>0.222852</td>\n",
              "    </tr>\n",
              "    <tr>\n",
              "      <th>331</th>\n",
              "      <td>0.684914</td>\n",
              "      <td>0.179314</td>\n",
              "      <td>0.245639</td>\n",
              "      <td>0.320080</td>\n",
              "      <td>0.675011</td>\n",
              "    </tr>\n",
              "    <tr>\n",
              "      <th>330</th>\n",
              "      <td>0.549459</td>\n",
              "      <td>0.847409</td>\n",
              "      <td>0.732187</td>\n",
              "      <td>0.249492</td>\n",
              "      <td>0.234655</td>\n",
              "    </tr>\n",
              "    <tr>\n",
              "      <th>329</th>\n",
              "      <td>0.027275</td>\n",
              "      <td>0.061100</td>\n",
              "      <td>0.903432</td>\n",
              "      <td>0.004597</td>\n",
              "      <td>0.517680</td>\n",
              "    </tr>\n",
              "    <tr>\n",
              "      <th>...</th>\n",
              "      <td>...</td>\n",
              "      <td>...</td>\n",
              "      <td>...</td>\n",
              "      <td>...</td>\n",
              "      <td>...</td>\n",
              "    </tr>\n",
              "    <tr>\n",
              "      <th>4</th>\n",
              "      <td>0.566862</td>\n",
              "      <td>0.613896</td>\n",
              "      <td>0.957715</td>\n",
              "      <td>0.243204</td>\n",
              "      <td>0.690205</td>\n",
              "    </tr>\n",
              "    <tr>\n",
              "      <th>3</th>\n",
              "      <td>0.591618</td>\n",
              "      <td>0.720607</td>\n",
              "      <td>0.322464</td>\n",
              "      <td>0.407124</td>\n",
              "      <td>0.189336</td>\n",
              "    </tr>\n",
              "    <tr>\n",
              "      <th>2</th>\n",
              "      <td>0.11348</td>\n",
              "      <td>0.912265</td>\n",
              "      <td>0.834788</td>\n",
              "      <td>0.270516</td>\n",
              "      <td>0.088622</td>\n",
              "    </tr>\n",
              "    <tr>\n",
              "      <th>1</th>\n",
              "      <td>0.550326</td>\n",
              "      <td>0.541972</td>\n",
              "      <td>0.035519</td>\n",
              "      <td>0.919676</td>\n",
              "      <td>0.805929</td>\n",
              "    </tr>\n",
              "    <tr>\n",
              "      <th>0</th>\n",
              "      <td>0.8</td>\n",
              "      <td>0.004619</td>\n",
              "      <td>0.993468</td>\n",
              "      <td>0.613271</td>\n",
              "      <td>0.856091</td>\n",
              "    </tr>\n",
              "  </tbody>\n",
              "</table>\n",
              "<p>334 rows × 5 columns</p>\n",
              "</div>"
            ],
            "text/plain": [
              "            0         1         2         3         4\n",
              "333  0.729506  0.371557  0.599759  0.703007  0.719317\n",
              "332  0.561526  0.516795  0.808024  0.003432  0.222852\n",
              "331  0.684914  0.179314  0.245639  0.320080  0.675011\n",
              "330  0.549459  0.847409  0.732187  0.249492  0.234655\n",
              "329  0.027275  0.061100  0.903432  0.004597  0.517680\n",
              "..        ...       ...       ...       ...       ...\n",
              "4    0.566862  0.613896  0.957715  0.243204  0.690205\n",
              "3    0.591618  0.720607  0.322464  0.407124  0.189336\n",
              "2     0.11348  0.912265  0.834788  0.270516  0.088622\n",
              "1    0.550326  0.541972  0.035519  0.919676  0.805929\n",
              "0         0.8  0.004619  0.993468  0.613271  0.856091\n",
              "\n",
              "[334 rows x 5 columns]"
            ]
          },
          "execution_count": 40,
          "metadata": {},
          "output_type": "execute_result"
        }
      ]
    },
    {
      "cell_type": "code",
      "metadata": {
        "id": "2941a222",
        "outputId": "942595e2-800e-4a61-9d53-396b4be01ac0"
      },
      "source": [
        "newdf.sort_index(axis=0)"
      ],
      "id": "2941a222",
      "execution_count": null,
      "outputs": [
        {
          "data": {
            "text/html": [
              "<div>\n",
              "<style scoped>\n",
              "    .dataframe tbody tr th:only-of-type {\n",
              "        vertical-align: middle;\n",
              "    }\n",
              "\n",
              "    .dataframe tbody tr th {\n",
              "        vertical-align: top;\n",
              "    }\n",
              "\n",
              "    .dataframe thead th {\n",
              "        text-align: right;\n",
              "    }\n",
              "</style>\n",
              "<table border=\"1\" class=\"dataframe\">\n",
              "  <thead>\n",
              "    <tr style=\"text-align: right;\">\n",
              "      <th></th>\n",
              "      <th>0</th>\n",
              "      <th>1</th>\n",
              "      <th>2</th>\n",
              "      <th>3</th>\n",
              "      <th>4</th>\n",
              "    </tr>\n",
              "  </thead>\n",
              "  <tbody>\n",
              "    <tr>\n",
              "      <th>0</th>\n",
              "      <td>0.8</td>\n",
              "      <td>0.004619</td>\n",
              "      <td>0.993468</td>\n",
              "      <td>0.613271</td>\n",
              "      <td>0.856091</td>\n",
              "    </tr>\n",
              "    <tr>\n",
              "      <th>1</th>\n",
              "      <td>0.550326</td>\n",
              "      <td>0.541972</td>\n",
              "      <td>0.035519</td>\n",
              "      <td>0.919676</td>\n",
              "      <td>0.805929</td>\n",
              "    </tr>\n",
              "    <tr>\n",
              "      <th>2</th>\n",
              "      <td>0.11348</td>\n",
              "      <td>0.912265</td>\n",
              "      <td>0.834788</td>\n",
              "      <td>0.270516</td>\n",
              "      <td>0.088622</td>\n",
              "    </tr>\n",
              "    <tr>\n",
              "      <th>3</th>\n",
              "      <td>0.591618</td>\n",
              "      <td>0.720607</td>\n",
              "      <td>0.322464</td>\n",
              "      <td>0.407124</td>\n",
              "      <td>0.189336</td>\n",
              "    </tr>\n",
              "    <tr>\n",
              "      <th>4</th>\n",
              "      <td>0.566862</td>\n",
              "      <td>0.613896</td>\n",
              "      <td>0.957715</td>\n",
              "      <td>0.243204</td>\n",
              "      <td>0.690205</td>\n",
              "    </tr>\n",
              "    <tr>\n",
              "      <th>...</th>\n",
              "      <td>...</td>\n",
              "      <td>...</td>\n",
              "      <td>...</td>\n",
              "      <td>...</td>\n",
              "      <td>...</td>\n",
              "    </tr>\n",
              "    <tr>\n",
              "      <th>329</th>\n",
              "      <td>0.027275</td>\n",
              "      <td>0.061100</td>\n",
              "      <td>0.903432</td>\n",
              "      <td>0.004597</td>\n",
              "      <td>0.517680</td>\n",
              "    </tr>\n",
              "    <tr>\n",
              "      <th>330</th>\n",
              "      <td>0.549459</td>\n",
              "      <td>0.847409</td>\n",
              "      <td>0.732187</td>\n",
              "      <td>0.249492</td>\n",
              "      <td>0.234655</td>\n",
              "    </tr>\n",
              "    <tr>\n",
              "      <th>331</th>\n",
              "      <td>0.684914</td>\n",
              "      <td>0.179314</td>\n",
              "      <td>0.245639</td>\n",
              "      <td>0.320080</td>\n",
              "      <td>0.675011</td>\n",
              "    </tr>\n",
              "    <tr>\n",
              "      <th>332</th>\n",
              "      <td>0.561526</td>\n",
              "      <td>0.516795</td>\n",
              "      <td>0.808024</td>\n",
              "      <td>0.003432</td>\n",
              "      <td>0.222852</td>\n",
              "    </tr>\n",
              "    <tr>\n",
              "      <th>333</th>\n",
              "      <td>0.729506</td>\n",
              "      <td>0.371557</td>\n",
              "      <td>0.599759</td>\n",
              "      <td>0.703007</td>\n",
              "      <td>0.719317</td>\n",
              "    </tr>\n",
              "  </tbody>\n",
              "</table>\n",
              "<p>334 rows × 5 columns</p>\n",
              "</div>"
            ],
            "text/plain": [
              "            0         1         2         3         4\n",
              "0         0.8  0.004619  0.993468  0.613271  0.856091\n",
              "1    0.550326  0.541972  0.035519  0.919676  0.805929\n",
              "2     0.11348  0.912265  0.834788  0.270516  0.088622\n",
              "3    0.591618  0.720607  0.322464  0.407124  0.189336\n",
              "4    0.566862  0.613896  0.957715  0.243204  0.690205\n",
              "..        ...       ...       ...       ...       ...\n",
              "329  0.027275  0.061100  0.903432  0.004597  0.517680\n",
              "330  0.549459  0.847409  0.732187  0.249492  0.234655\n",
              "331  0.684914  0.179314  0.245639  0.320080  0.675011\n",
              "332  0.561526  0.516795  0.808024  0.003432  0.222852\n",
              "333  0.729506  0.371557  0.599759  0.703007  0.719317\n",
              "\n",
              "[334 rows x 5 columns]"
            ]
          },
          "execution_count": 41,
          "metadata": {},
          "output_type": "execute_result"
        }
      ]
    },
    {
      "cell_type": "code",
      "metadata": {
        "id": "6a4bb013",
        "outputId": "ba24fe8b-536c-4dbd-8a2d-2b7dffda932e"
      },
      "source": [
        "newdf.sort_index(axis=1, ascending=False)"
      ],
      "id": "6a4bb013",
      "execution_count": null,
      "outputs": [
        {
          "data": {
            "text/html": [
              "<div>\n",
              "<style scoped>\n",
              "    .dataframe tbody tr th:only-of-type {\n",
              "        vertical-align: middle;\n",
              "    }\n",
              "\n",
              "    .dataframe tbody tr th {\n",
              "        vertical-align: top;\n",
              "    }\n",
              "\n",
              "    .dataframe thead th {\n",
              "        text-align: right;\n",
              "    }\n",
              "</style>\n",
              "<table border=\"1\" class=\"dataframe\">\n",
              "  <thead>\n",
              "    <tr style=\"text-align: right;\">\n",
              "      <th></th>\n",
              "      <th>4</th>\n",
              "      <th>3</th>\n",
              "      <th>2</th>\n",
              "      <th>1</th>\n",
              "      <th>0</th>\n",
              "    </tr>\n",
              "  </thead>\n",
              "  <tbody>\n",
              "    <tr>\n",
              "      <th>0</th>\n",
              "      <td>0.856091</td>\n",
              "      <td>0.613271</td>\n",
              "      <td>0.993468</td>\n",
              "      <td>0.004619</td>\n",
              "      <td>0.8</td>\n",
              "    </tr>\n",
              "    <tr>\n",
              "      <th>1</th>\n",
              "      <td>0.805929</td>\n",
              "      <td>0.919676</td>\n",
              "      <td>0.035519</td>\n",
              "      <td>0.541972</td>\n",
              "      <td>0.550326</td>\n",
              "    </tr>\n",
              "    <tr>\n",
              "      <th>2</th>\n",
              "      <td>0.088622</td>\n",
              "      <td>0.270516</td>\n",
              "      <td>0.834788</td>\n",
              "      <td>0.912265</td>\n",
              "      <td>0.11348</td>\n",
              "    </tr>\n",
              "    <tr>\n",
              "      <th>3</th>\n",
              "      <td>0.189336</td>\n",
              "      <td>0.407124</td>\n",
              "      <td>0.322464</td>\n",
              "      <td>0.720607</td>\n",
              "      <td>0.591618</td>\n",
              "    </tr>\n",
              "    <tr>\n",
              "      <th>4</th>\n",
              "      <td>0.690205</td>\n",
              "      <td>0.243204</td>\n",
              "      <td>0.957715</td>\n",
              "      <td>0.613896</td>\n",
              "      <td>0.566862</td>\n",
              "    </tr>\n",
              "    <tr>\n",
              "      <th>...</th>\n",
              "      <td>...</td>\n",
              "      <td>...</td>\n",
              "      <td>...</td>\n",
              "      <td>...</td>\n",
              "      <td>...</td>\n",
              "    </tr>\n",
              "    <tr>\n",
              "      <th>329</th>\n",
              "      <td>0.517680</td>\n",
              "      <td>0.004597</td>\n",
              "      <td>0.903432</td>\n",
              "      <td>0.061100</td>\n",
              "      <td>0.027275</td>\n",
              "    </tr>\n",
              "    <tr>\n",
              "      <th>330</th>\n",
              "      <td>0.234655</td>\n",
              "      <td>0.249492</td>\n",
              "      <td>0.732187</td>\n",
              "      <td>0.847409</td>\n",
              "      <td>0.549459</td>\n",
              "    </tr>\n",
              "    <tr>\n",
              "      <th>331</th>\n",
              "      <td>0.675011</td>\n",
              "      <td>0.320080</td>\n",
              "      <td>0.245639</td>\n",
              "      <td>0.179314</td>\n",
              "      <td>0.684914</td>\n",
              "    </tr>\n",
              "    <tr>\n",
              "      <th>332</th>\n",
              "      <td>0.222852</td>\n",
              "      <td>0.003432</td>\n",
              "      <td>0.808024</td>\n",
              "      <td>0.516795</td>\n",
              "      <td>0.561526</td>\n",
              "    </tr>\n",
              "    <tr>\n",
              "      <th>333</th>\n",
              "      <td>0.719317</td>\n",
              "      <td>0.703007</td>\n",
              "      <td>0.599759</td>\n",
              "      <td>0.371557</td>\n",
              "      <td>0.729506</td>\n",
              "    </tr>\n",
              "  </tbody>\n",
              "</table>\n",
              "<p>334 rows × 5 columns</p>\n",
              "</div>"
            ],
            "text/plain": [
              "            4         3         2         1         0\n",
              "0    0.856091  0.613271  0.993468  0.004619       0.8\n",
              "1    0.805929  0.919676  0.035519  0.541972  0.550326\n",
              "2    0.088622  0.270516  0.834788  0.912265   0.11348\n",
              "3    0.189336  0.407124  0.322464  0.720607  0.591618\n",
              "4    0.690205  0.243204  0.957715  0.613896  0.566862\n",
              "..        ...       ...       ...       ...       ...\n",
              "329  0.517680  0.004597  0.903432  0.061100  0.027275\n",
              "330  0.234655  0.249492  0.732187  0.847409  0.549459\n",
              "331  0.675011  0.320080  0.245639  0.179314  0.684914\n",
              "332  0.222852  0.003432  0.808024  0.516795  0.561526\n",
              "333  0.719317  0.703007  0.599759  0.371557  0.729506\n",
              "\n",
              "[334 rows x 5 columns]"
            ]
          },
          "execution_count": 42,
          "metadata": {},
          "output_type": "execute_result"
        }
      ]
    },
    {
      "cell_type": "code",
      "metadata": {
        "id": "a17a2649",
        "outputId": "36991812-7369-45ef-8f4d-0ada3c2d1bac"
      },
      "source": [
        "newdf.head()\n"
      ],
      "id": "a17a2649",
      "execution_count": null,
      "outputs": [
        {
          "data": {
            "text/html": [
              "<div>\n",
              "<style scoped>\n",
              "    .dataframe tbody tr th:only-of-type {\n",
              "        vertical-align: middle;\n",
              "    }\n",
              "\n",
              "    .dataframe tbody tr th {\n",
              "        vertical-align: top;\n",
              "    }\n",
              "\n",
              "    .dataframe thead th {\n",
              "        text-align: right;\n",
              "    }\n",
              "</style>\n",
              "<table border=\"1\" class=\"dataframe\">\n",
              "  <thead>\n",
              "    <tr style=\"text-align: right;\">\n",
              "      <th></th>\n",
              "      <th>0</th>\n",
              "      <th>1</th>\n",
              "      <th>2</th>\n",
              "      <th>3</th>\n",
              "      <th>4</th>\n",
              "    </tr>\n",
              "  </thead>\n",
              "  <tbody>\n",
              "    <tr>\n",
              "      <th>0</th>\n",
              "      <td>0.8</td>\n",
              "      <td>0.004619</td>\n",
              "      <td>0.993468</td>\n",
              "      <td>0.613271</td>\n",
              "      <td>0.856091</td>\n",
              "    </tr>\n",
              "    <tr>\n",
              "      <th>1</th>\n",
              "      <td>0.550326</td>\n",
              "      <td>0.541972</td>\n",
              "      <td>0.035519</td>\n",
              "      <td>0.919676</td>\n",
              "      <td>0.805929</td>\n",
              "    </tr>\n",
              "    <tr>\n",
              "      <th>2</th>\n",
              "      <td>0.11348</td>\n",
              "      <td>0.912265</td>\n",
              "      <td>0.834788</td>\n",
              "      <td>0.270516</td>\n",
              "      <td>0.088622</td>\n",
              "    </tr>\n",
              "    <tr>\n",
              "      <th>3</th>\n",
              "      <td>0.591618</td>\n",
              "      <td>0.720607</td>\n",
              "      <td>0.322464</td>\n",
              "      <td>0.407124</td>\n",
              "      <td>0.189336</td>\n",
              "    </tr>\n",
              "    <tr>\n",
              "      <th>4</th>\n",
              "      <td>0.566862</td>\n",
              "      <td>0.613896</td>\n",
              "      <td>0.957715</td>\n",
              "      <td>0.243204</td>\n",
              "      <td>0.690205</td>\n",
              "    </tr>\n",
              "  </tbody>\n",
              "</table>\n",
              "</div>"
            ],
            "text/plain": [
              "          0         1         2         3         4\n",
              "0       0.8  0.004619  0.993468  0.613271  0.856091\n",
              "1  0.550326  0.541972  0.035519  0.919676  0.805929\n",
              "2   0.11348  0.912265  0.834788  0.270516  0.088622\n",
              "3  0.591618  0.720607  0.322464  0.407124  0.189336\n",
              "4  0.566862  0.613896  0.957715  0.243204  0.690205"
            ]
          },
          "execution_count": 43,
          "metadata": {},
          "output_type": "execute_result"
        }
      ]
    },
    {
      "cell_type": "code",
      "metadata": {
        "id": "9ea0d607",
        "outputId": "25319b0b-72b2-4de3-d674-9b6f43c41b16"
      },
      "source": [
        "newdf[0]"
      ],
      "id": "9ea0d607",
      "execution_count": null,
      "outputs": [
        {
          "data": {
            "text/plain": [
              "0           0.8\n",
              "1      0.550326\n",
              "2       0.11348\n",
              "3      0.591618\n",
              "4      0.566862\n",
              "         ...   \n",
              "329    0.027275\n",
              "330    0.549459\n",
              "331    0.684914\n",
              "332    0.561526\n",
              "333    0.729506\n",
              "Name: 0, Length: 334, dtype: object"
            ]
          },
          "execution_count": 44,
          "metadata": {},
          "output_type": "execute_result"
        }
      ]
    },
    {
      "cell_type": "code",
      "metadata": {
        "id": "eee1e335",
        "outputId": "01008021-c63a-4221-b38c-69f42f9b9d63"
      },
      "source": [
        "type(newdf[0])"
      ],
      "id": "eee1e335",
      "execution_count": null,
      "outputs": [
        {
          "data": {
            "text/plain": [
              "pandas.core.series.Series"
            ]
          },
          "execution_count": 45,
          "metadata": {},
          "output_type": "execute_result"
        }
      ]
    },
    {
      "cell_type": "code",
      "metadata": {
        "id": "270efa75"
      },
      "source": [
        "newdf2 = newdf.copy()"
      ],
      "id": "270efa75",
      "execution_count": null,
      "outputs": []
    },
    {
      "cell_type": "code",
      "metadata": {
        "id": "83c0105d",
        "outputId": "a72cf554-b378-46fa-d50d-9f010198b3f8"
      },
      "source": [
        "newdf2[0][0] = 97835"
      ],
      "id": "83c0105d",
      "execution_count": null,
      "outputs": [
        {
          "name": "stderr",
          "output_type": "stream",
          "text": [
            "<ipython-input-47-0d30d1adc0f7>:1: SettingWithCopyWarning: \n",
            "A value is trying to be set on a copy of a slice from a DataFrame\n",
            "\n",
            "See the caveats in the documentation: https://pandas.pydata.org/pandas-docs/stable/user_guide/indexing.html#returning-a-view-versus-a-copy\n",
            "  newdf2[0][0] = 97835\n"
          ]
        }
      ]
    },
    {
      "cell_type": "code",
      "metadata": {
        "id": "8601407e",
        "outputId": "dcd9a93b-a0d2-43d8-923e-7c71811ddee8"
      },
      "source": [
        "newdf"
      ],
      "id": "8601407e",
      "execution_count": null,
      "outputs": [
        {
          "data": {
            "text/html": [
              "<div>\n",
              "<style scoped>\n",
              "    .dataframe tbody tr th:only-of-type {\n",
              "        vertical-align: middle;\n",
              "    }\n",
              "\n",
              "    .dataframe tbody tr th {\n",
              "        vertical-align: top;\n",
              "    }\n",
              "\n",
              "    .dataframe thead th {\n",
              "        text-align: right;\n",
              "    }\n",
              "</style>\n",
              "<table border=\"1\" class=\"dataframe\">\n",
              "  <thead>\n",
              "    <tr style=\"text-align: right;\">\n",
              "      <th></th>\n",
              "      <th>0</th>\n",
              "      <th>1</th>\n",
              "      <th>2</th>\n",
              "      <th>3</th>\n",
              "      <th>4</th>\n",
              "    </tr>\n",
              "  </thead>\n",
              "  <tbody>\n",
              "    <tr>\n",
              "      <th>0</th>\n",
              "      <td>0.8</td>\n",
              "      <td>0.004619</td>\n",
              "      <td>0.993468</td>\n",
              "      <td>0.613271</td>\n",
              "      <td>0.856091</td>\n",
              "    </tr>\n",
              "    <tr>\n",
              "      <th>1</th>\n",
              "      <td>0.550326</td>\n",
              "      <td>0.541972</td>\n",
              "      <td>0.035519</td>\n",
              "      <td>0.919676</td>\n",
              "      <td>0.805929</td>\n",
              "    </tr>\n",
              "    <tr>\n",
              "      <th>2</th>\n",
              "      <td>0.11348</td>\n",
              "      <td>0.912265</td>\n",
              "      <td>0.834788</td>\n",
              "      <td>0.270516</td>\n",
              "      <td>0.088622</td>\n",
              "    </tr>\n",
              "    <tr>\n",
              "      <th>3</th>\n",
              "      <td>0.591618</td>\n",
              "      <td>0.720607</td>\n",
              "      <td>0.322464</td>\n",
              "      <td>0.407124</td>\n",
              "      <td>0.189336</td>\n",
              "    </tr>\n",
              "    <tr>\n",
              "      <th>4</th>\n",
              "      <td>0.566862</td>\n",
              "      <td>0.613896</td>\n",
              "      <td>0.957715</td>\n",
              "      <td>0.243204</td>\n",
              "      <td>0.690205</td>\n",
              "    </tr>\n",
              "    <tr>\n",
              "      <th>...</th>\n",
              "      <td>...</td>\n",
              "      <td>...</td>\n",
              "      <td>...</td>\n",
              "      <td>...</td>\n",
              "      <td>...</td>\n",
              "    </tr>\n",
              "    <tr>\n",
              "      <th>329</th>\n",
              "      <td>0.027275</td>\n",
              "      <td>0.061100</td>\n",
              "      <td>0.903432</td>\n",
              "      <td>0.004597</td>\n",
              "      <td>0.517680</td>\n",
              "    </tr>\n",
              "    <tr>\n",
              "      <th>330</th>\n",
              "      <td>0.549459</td>\n",
              "      <td>0.847409</td>\n",
              "      <td>0.732187</td>\n",
              "      <td>0.249492</td>\n",
              "      <td>0.234655</td>\n",
              "    </tr>\n",
              "    <tr>\n",
              "      <th>331</th>\n",
              "      <td>0.684914</td>\n",
              "      <td>0.179314</td>\n",
              "      <td>0.245639</td>\n",
              "      <td>0.320080</td>\n",
              "      <td>0.675011</td>\n",
              "    </tr>\n",
              "    <tr>\n",
              "      <th>332</th>\n",
              "      <td>0.561526</td>\n",
              "      <td>0.516795</td>\n",
              "      <td>0.808024</td>\n",
              "      <td>0.003432</td>\n",
              "      <td>0.222852</td>\n",
              "    </tr>\n",
              "    <tr>\n",
              "      <th>333</th>\n",
              "      <td>0.729506</td>\n",
              "      <td>0.371557</td>\n",
              "      <td>0.599759</td>\n",
              "      <td>0.703007</td>\n",
              "      <td>0.719317</td>\n",
              "    </tr>\n",
              "  </tbody>\n",
              "</table>\n",
              "<p>334 rows × 5 columns</p>\n",
              "</div>"
            ],
            "text/plain": [
              "            0         1         2         3         4\n",
              "0         0.8  0.004619  0.993468  0.613271  0.856091\n",
              "1    0.550326  0.541972  0.035519  0.919676  0.805929\n",
              "2     0.11348  0.912265  0.834788  0.270516  0.088622\n",
              "3    0.591618  0.720607  0.322464  0.407124  0.189336\n",
              "4    0.566862  0.613896  0.957715  0.243204  0.690205\n",
              "..        ...       ...       ...       ...       ...\n",
              "329  0.027275  0.061100  0.903432  0.004597  0.517680\n",
              "330  0.549459  0.847409  0.732187  0.249492  0.234655\n",
              "331  0.684914  0.179314  0.245639  0.320080  0.675011\n",
              "332  0.561526  0.516795  0.808024  0.003432  0.222852\n",
              "333  0.729506  0.371557  0.599759  0.703007  0.719317\n",
              "\n",
              "[334 rows x 5 columns]"
            ]
          },
          "execution_count": 48,
          "metadata": {},
          "output_type": "execute_result"
        }
      ]
    },
    {
      "cell_type": "code",
      "metadata": {
        "id": "d5a0a819"
      },
      "source": [
        "newdf.loc[0,0] = 654"
      ],
      "id": "d5a0a819",
      "execution_count": null,
      "outputs": []
    },
    {
      "cell_type": "code",
      "metadata": {
        "id": "2ab2390e",
        "outputId": "91c51570-0434-4c09-d4a3-df5031d1e93f"
      },
      "source": [
        "newdf.head(2)"
      ],
      "id": "2ab2390e",
      "execution_count": null,
      "outputs": [
        {
          "data": {
            "text/html": [
              "<div>\n",
              "<style scoped>\n",
              "    .dataframe tbody tr th:only-of-type {\n",
              "        vertical-align: middle;\n",
              "    }\n",
              "\n",
              "    .dataframe tbody tr th {\n",
              "        vertical-align: top;\n",
              "    }\n",
              "\n",
              "    .dataframe thead th {\n",
              "        text-align: right;\n",
              "    }\n",
              "</style>\n",
              "<table border=\"1\" class=\"dataframe\">\n",
              "  <thead>\n",
              "    <tr style=\"text-align: right;\">\n",
              "      <th></th>\n",
              "      <th>0</th>\n",
              "      <th>1</th>\n",
              "      <th>2</th>\n",
              "      <th>3</th>\n",
              "      <th>4</th>\n",
              "    </tr>\n",
              "  </thead>\n",
              "  <tbody>\n",
              "    <tr>\n",
              "      <th>0</th>\n",
              "      <td>654</td>\n",
              "      <td>0.004619</td>\n",
              "      <td>0.993468</td>\n",
              "      <td>0.613271</td>\n",
              "      <td>0.856091</td>\n",
              "    </tr>\n",
              "    <tr>\n",
              "      <th>1</th>\n",
              "      <td>0.550326</td>\n",
              "      <td>0.541972</td>\n",
              "      <td>0.035519</td>\n",
              "      <td>0.919676</td>\n",
              "      <td>0.805929</td>\n",
              "    </tr>\n",
              "  </tbody>\n",
              "</table>\n",
              "</div>"
            ],
            "text/plain": [
              "          0         1         2         3         4\n",
              "0       654  0.004619  0.993468  0.613271  0.856091\n",
              "1  0.550326  0.541972  0.035519  0.919676  0.805929"
            ]
          },
          "execution_count": 50,
          "metadata": {},
          "output_type": "execute_result"
        }
      ]
    },
    {
      "cell_type": "code",
      "metadata": {
        "id": "b8ce9c3f"
      },
      "source": [
        "newdf.columns = list(\"ABCDE\")"
      ],
      "id": "b8ce9c3f",
      "execution_count": null,
      "outputs": []
    },
    {
      "cell_type": "code",
      "metadata": {
        "id": "7927db58",
        "outputId": "206e3ad3-807e-4dfe-e7c5-72c2e0418579"
      },
      "source": [
        "newdf.head(2)"
      ],
      "id": "7927db58",
      "execution_count": null,
      "outputs": [
        {
          "data": {
            "text/html": [
              "<div>\n",
              "<style scoped>\n",
              "    .dataframe tbody tr th:only-of-type {\n",
              "        vertical-align: middle;\n",
              "    }\n",
              "\n",
              "    .dataframe tbody tr th {\n",
              "        vertical-align: top;\n",
              "    }\n",
              "\n",
              "    .dataframe thead th {\n",
              "        text-align: right;\n",
              "    }\n",
              "</style>\n",
              "<table border=\"1\" class=\"dataframe\">\n",
              "  <thead>\n",
              "    <tr style=\"text-align: right;\">\n",
              "      <th></th>\n",
              "      <th>A</th>\n",
              "      <th>B</th>\n",
              "      <th>C</th>\n",
              "      <th>D</th>\n",
              "      <th>E</th>\n",
              "    </tr>\n",
              "  </thead>\n",
              "  <tbody>\n",
              "    <tr>\n",
              "      <th>0</th>\n",
              "      <td>654</td>\n",
              "      <td>0.004619</td>\n",
              "      <td>0.993468</td>\n",
              "      <td>0.613271</td>\n",
              "      <td>0.856091</td>\n",
              "    </tr>\n",
              "    <tr>\n",
              "      <th>1</th>\n",
              "      <td>0.550326</td>\n",
              "      <td>0.541972</td>\n",
              "      <td>0.035519</td>\n",
              "      <td>0.919676</td>\n",
              "      <td>0.805929</td>\n",
              "    </tr>\n",
              "  </tbody>\n",
              "</table>\n",
              "</div>"
            ],
            "text/plain": [
              "          A         B         C         D         E\n",
              "0       654  0.004619  0.993468  0.613271  0.856091\n",
              "1  0.550326  0.541972  0.035519  0.919676  0.805929"
            ]
          },
          "execution_count": 52,
          "metadata": {},
          "output_type": "execute_result"
        }
      ]
    },
    {
      "cell_type": "code",
      "metadata": {
        "id": "452998d7"
      },
      "source": [
        "newdf.loc[0,'A'] = 65445"
      ],
      "id": "452998d7",
      "execution_count": null,
      "outputs": []
    },
    {
      "cell_type": "code",
      "metadata": {
        "id": "bae0c934",
        "outputId": "6eecc3ae-2975-4b01-9523-bd4ef8173587"
      },
      "source": [
        "newdf.head()"
      ],
      "id": "bae0c934",
      "execution_count": null,
      "outputs": [
        {
          "data": {
            "text/html": [
              "<div>\n",
              "<style scoped>\n",
              "    .dataframe tbody tr th:only-of-type {\n",
              "        vertical-align: middle;\n",
              "    }\n",
              "\n",
              "    .dataframe tbody tr th {\n",
              "        vertical-align: top;\n",
              "    }\n",
              "\n",
              "    .dataframe thead th {\n",
              "        text-align: right;\n",
              "    }\n",
              "</style>\n",
              "<table border=\"1\" class=\"dataframe\">\n",
              "  <thead>\n",
              "    <tr style=\"text-align: right;\">\n",
              "      <th></th>\n",
              "      <th>A</th>\n",
              "      <th>B</th>\n",
              "      <th>C</th>\n",
              "      <th>D</th>\n",
              "      <th>E</th>\n",
              "    </tr>\n",
              "  </thead>\n",
              "  <tbody>\n",
              "    <tr>\n",
              "      <th>0</th>\n",
              "      <td>65445</td>\n",
              "      <td>0.004619</td>\n",
              "      <td>0.993468</td>\n",
              "      <td>0.613271</td>\n",
              "      <td>0.856091</td>\n",
              "    </tr>\n",
              "    <tr>\n",
              "      <th>1</th>\n",
              "      <td>0.550326</td>\n",
              "      <td>0.541972</td>\n",
              "      <td>0.035519</td>\n",
              "      <td>0.919676</td>\n",
              "      <td>0.805929</td>\n",
              "    </tr>\n",
              "    <tr>\n",
              "      <th>2</th>\n",
              "      <td>0.11348</td>\n",
              "      <td>0.912265</td>\n",
              "      <td>0.834788</td>\n",
              "      <td>0.270516</td>\n",
              "      <td>0.088622</td>\n",
              "    </tr>\n",
              "    <tr>\n",
              "      <th>3</th>\n",
              "      <td>0.591618</td>\n",
              "      <td>0.720607</td>\n",
              "      <td>0.322464</td>\n",
              "      <td>0.407124</td>\n",
              "      <td>0.189336</td>\n",
              "    </tr>\n",
              "    <tr>\n",
              "      <th>4</th>\n",
              "      <td>0.566862</td>\n",
              "      <td>0.613896</td>\n",
              "      <td>0.957715</td>\n",
              "      <td>0.243204</td>\n",
              "      <td>0.690205</td>\n",
              "    </tr>\n",
              "  </tbody>\n",
              "</table>\n",
              "</div>"
            ],
            "text/plain": [
              "          A         B         C         D         E\n",
              "0     65445  0.004619  0.993468  0.613271  0.856091\n",
              "1  0.550326  0.541972  0.035519  0.919676  0.805929\n",
              "2   0.11348  0.912265  0.834788  0.270516  0.088622\n",
              "3  0.591618  0.720607  0.322464  0.407124  0.189336\n",
              "4  0.566862  0.613896  0.957715  0.243204  0.690205"
            ]
          },
          "execution_count": 54,
          "metadata": {},
          "output_type": "execute_result"
        }
      ]
    },
    {
      "cell_type": "code",
      "metadata": {
        "id": "d6bace46",
        "outputId": "fda5e7cb-08de-418d-d4ba-19876e5590a3"
      },
      "source": [
        "newdf = newdf.drop(0, axis=1)"
      ],
      "id": "d6bace46",
      "execution_count": null,
      "outputs": [
        {
          "ename": "KeyError",
          "evalue": "'[0] not found in axis'",
          "output_type": "error",
          "traceback": [
            "\u001b[1;31m---------------------------------------------------------------------------\u001b[0m",
            "\u001b[1;31mKeyError\u001b[0m                                  Traceback (most recent call last)",
            "\u001b[1;32m<ipython-input-55-dee063468ba1>\u001b[0m in \u001b[0;36m<module>\u001b[1;34m\u001b[0m\n\u001b[1;32m----> 1\u001b[1;33m \u001b[0mnewdf\u001b[0m \u001b[1;33m=\u001b[0m \u001b[0mnewdf\u001b[0m\u001b[1;33m.\u001b[0m\u001b[0mdrop\u001b[0m\u001b[1;33m(\u001b[0m\u001b[1;36m0\u001b[0m\u001b[1;33m,\u001b[0m \u001b[0maxis\u001b[0m\u001b[1;33m=\u001b[0m\u001b[1;36m1\u001b[0m\u001b[1;33m)\u001b[0m\u001b[1;33m\u001b[0m\u001b[1;33m\u001b[0m\u001b[0m\n\u001b[0m",
            "\u001b[1;32m~\\anaconda3\\envs\\simrita\\lib\\site-packages\\pandas\\util\\_decorators.py\u001b[0m in \u001b[0;36mwrapper\u001b[1;34m(*args, **kwargs)\u001b[0m\n\u001b[0;32m    309\u001b[0m                     \u001b[0mstacklevel\u001b[0m\u001b[1;33m=\u001b[0m\u001b[0mstacklevel\u001b[0m\u001b[1;33m,\u001b[0m\u001b[1;33m\u001b[0m\u001b[1;33m\u001b[0m\u001b[0m\n\u001b[0;32m    310\u001b[0m                 )\n\u001b[1;32m--> 311\u001b[1;33m             \u001b[1;32mreturn\u001b[0m \u001b[0mfunc\u001b[0m\u001b[1;33m(\u001b[0m\u001b[1;33m*\u001b[0m\u001b[0margs\u001b[0m\u001b[1;33m,\u001b[0m \u001b[1;33m**\u001b[0m\u001b[0mkwargs\u001b[0m\u001b[1;33m)\u001b[0m\u001b[1;33m\u001b[0m\u001b[1;33m\u001b[0m\u001b[0m\n\u001b[0m\u001b[0;32m    312\u001b[0m \u001b[1;33m\u001b[0m\u001b[0m\n\u001b[0;32m    313\u001b[0m         \u001b[1;32mreturn\u001b[0m \u001b[0mwrapper\u001b[0m\u001b[1;33m\u001b[0m\u001b[1;33m\u001b[0m\u001b[0m\n",
            "\u001b[1;32m~\\anaconda3\\envs\\simrita\\lib\\site-packages\\pandas\\core\\frame.py\u001b[0m in \u001b[0;36mdrop\u001b[1;34m(self, labels, axis, index, columns, level, inplace, errors)\u001b[0m\n\u001b[0;32m   4904\u001b[0m                 \u001b[0mweight\u001b[0m  \u001b[1;36m1.0\u001b[0m     \u001b[1;36m0.8\u001b[0m\u001b[1;33m\u001b[0m\u001b[1;33m\u001b[0m\u001b[0m\n\u001b[0;32m   4905\u001b[0m         \"\"\"\n\u001b[1;32m-> 4906\u001b[1;33m         return super().drop(\n\u001b[0m\u001b[0;32m   4907\u001b[0m             \u001b[0mlabels\u001b[0m\u001b[1;33m=\u001b[0m\u001b[0mlabels\u001b[0m\u001b[1;33m,\u001b[0m\u001b[1;33m\u001b[0m\u001b[1;33m\u001b[0m\u001b[0m\n\u001b[0;32m   4908\u001b[0m             \u001b[0maxis\u001b[0m\u001b[1;33m=\u001b[0m\u001b[0maxis\u001b[0m\u001b[1;33m,\u001b[0m\u001b[1;33m\u001b[0m\u001b[1;33m\u001b[0m\u001b[0m\n",
            "\u001b[1;32m~\\anaconda3\\envs\\simrita\\lib\\site-packages\\pandas\\core\\generic.py\u001b[0m in \u001b[0;36mdrop\u001b[1;34m(self, labels, axis, index, columns, level, inplace, errors)\u001b[0m\n\u001b[0;32m   4148\u001b[0m         \u001b[1;32mfor\u001b[0m \u001b[0maxis\u001b[0m\u001b[1;33m,\u001b[0m \u001b[0mlabels\u001b[0m \u001b[1;32min\u001b[0m \u001b[0maxes\u001b[0m\u001b[1;33m.\u001b[0m\u001b[0mitems\u001b[0m\u001b[1;33m(\u001b[0m\u001b[1;33m)\u001b[0m\u001b[1;33m:\u001b[0m\u001b[1;33m\u001b[0m\u001b[1;33m\u001b[0m\u001b[0m\n\u001b[0;32m   4149\u001b[0m             \u001b[1;32mif\u001b[0m \u001b[0mlabels\u001b[0m \u001b[1;32mis\u001b[0m \u001b[1;32mnot\u001b[0m \u001b[1;32mNone\u001b[0m\u001b[1;33m:\u001b[0m\u001b[1;33m\u001b[0m\u001b[1;33m\u001b[0m\u001b[0m\n\u001b[1;32m-> 4150\u001b[1;33m                 \u001b[0mobj\u001b[0m \u001b[1;33m=\u001b[0m \u001b[0mobj\u001b[0m\u001b[1;33m.\u001b[0m\u001b[0m_drop_axis\u001b[0m\u001b[1;33m(\u001b[0m\u001b[0mlabels\u001b[0m\u001b[1;33m,\u001b[0m \u001b[0maxis\u001b[0m\u001b[1;33m,\u001b[0m \u001b[0mlevel\u001b[0m\u001b[1;33m=\u001b[0m\u001b[0mlevel\u001b[0m\u001b[1;33m,\u001b[0m \u001b[0merrors\u001b[0m\u001b[1;33m=\u001b[0m\u001b[0merrors\u001b[0m\u001b[1;33m)\u001b[0m\u001b[1;33m\u001b[0m\u001b[1;33m\u001b[0m\u001b[0m\n\u001b[0m\u001b[0;32m   4151\u001b[0m \u001b[1;33m\u001b[0m\u001b[0m\n\u001b[0;32m   4152\u001b[0m         \u001b[1;32mif\u001b[0m \u001b[0minplace\u001b[0m\u001b[1;33m:\u001b[0m\u001b[1;33m\u001b[0m\u001b[1;33m\u001b[0m\u001b[0m\n",
            "\u001b[1;32m~\\anaconda3\\envs\\simrita\\lib\\site-packages\\pandas\\core\\generic.py\u001b[0m in \u001b[0;36m_drop_axis\u001b[1;34m(self, labels, axis, level, errors)\u001b[0m\n\u001b[0;32m   4183\u001b[0m                 \u001b[0mnew_axis\u001b[0m \u001b[1;33m=\u001b[0m \u001b[0maxis\u001b[0m\u001b[1;33m.\u001b[0m\u001b[0mdrop\u001b[0m\u001b[1;33m(\u001b[0m\u001b[0mlabels\u001b[0m\u001b[1;33m,\u001b[0m \u001b[0mlevel\u001b[0m\u001b[1;33m=\u001b[0m\u001b[0mlevel\u001b[0m\u001b[1;33m,\u001b[0m \u001b[0merrors\u001b[0m\u001b[1;33m=\u001b[0m\u001b[0merrors\u001b[0m\u001b[1;33m)\u001b[0m\u001b[1;33m\u001b[0m\u001b[1;33m\u001b[0m\u001b[0m\n\u001b[0;32m   4184\u001b[0m             \u001b[1;32melse\u001b[0m\u001b[1;33m:\u001b[0m\u001b[1;33m\u001b[0m\u001b[1;33m\u001b[0m\u001b[0m\n\u001b[1;32m-> 4185\u001b[1;33m                 \u001b[0mnew_axis\u001b[0m \u001b[1;33m=\u001b[0m \u001b[0maxis\u001b[0m\u001b[1;33m.\u001b[0m\u001b[0mdrop\u001b[0m\u001b[1;33m(\u001b[0m\u001b[0mlabels\u001b[0m\u001b[1;33m,\u001b[0m \u001b[0merrors\u001b[0m\u001b[1;33m=\u001b[0m\u001b[0merrors\u001b[0m\u001b[1;33m)\u001b[0m\u001b[1;33m\u001b[0m\u001b[1;33m\u001b[0m\u001b[0m\n\u001b[0m\u001b[0;32m   4186\u001b[0m             \u001b[0mresult\u001b[0m \u001b[1;33m=\u001b[0m \u001b[0mself\u001b[0m\u001b[1;33m.\u001b[0m\u001b[0mreindex\u001b[0m\u001b[1;33m(\u001b[0m\u001b[1;33m**\u001b[0m\u001b[1;33m{\u001b[0m\u001b[0maxis_name\u001b[0m\u001b[1;33m:\u001b[0m \u001b[0mnew_axis\u001b[0m\u001b[1;33m}\u001b[0m\u001b[1;33m)\u001b[0m\u001b[1;33m\u001b[0m\u001b[1;33m\u001b[0m\u001b[0m\n\u001b[0;32m   4187\u001b[0m \u001b[1;33m\u001b[0m\u001b[0m\n",
            "\u001b[1;32m~\\anaconda3\\envs\\simrita\\lib\\site-packages\\pandas\\core\\indexes\\base.py\u001b[0m in \u001b[0;36mdrop\u001b[1;34m(self, labels, errors)\u001b[0m\n\u001b[0;32m   6015\u001b[0m         \u001b[1;32mif\u001b[0m \u001b[0mmask\u001b[0m\u001b[1;33m.\u001b[0m\u001b[0many\u001b[0m\u001b[1;33m(\u001b[0m\u001b[1;33m)\u001b[0m\u001b[1;33m:\u001b[0m\u001b[1;33m\u001b[0m\u001b[1;33m\u001b[0m\u001b[0m\n\u001b[0;32m   6016\u001b[0m             \u001b[1;32mif\u001b[0m \u001b[0merrors\u001b[0m \u001b[1;33m!=\u001b[0m \u001b[1;34m\"ignore\"\u001b[0m\u001b[1;33m:\u001b[0m\u001b[1;33m\u001b[0m\u001b[1;33m\u001b[0m\u001b[0m\n\u001b[1;32m-> 6017\u001b[1;33m                 \u001b[1;32mraise\u001b[0m \u001b[0mKeyError\u001b[0m\u001b[1;33m(\u001b[0m\u001b[1;34mf\"{labels[mask]} not found in axis\"\u001b[0m\u001b[1;33m)\u001b[0m\u001b[1;33m\u001b[0m\u001b[1;33m\u001b[0m\u001b[0m\n\u001b[0m\u001b[0;32m   6018\u001b[0m             \u001b[0mindexer\u001b[0m \u001b[1;33m=\u001b[0m \u001b[0mindexer\u001b[0m\u001b[1;33m[\u001b[0m\u001b[1;33m~\u001b[0m\u001b[0mmask\u001b[0m\u001b[1;33m]\u001b[0m\u001b[1;33m\u001b[0m\u001b[1;33m\u001b[0m\u001b[0m\n\u001b[0;32m   6019\u001b[0m         \u001b[1;32mreturn\u001b[0m \u001b[0mself\u001b[0m\u001b[1;33m.\u001b[0m\u001b[0mdelete\u001b[0m\u001b[1;33m(\u001b[0m\u001b[0mindexer\u001b[0m\u001b[1;33m)\u001b[0m\u001b[1;33m\u001b[0m\u001b[1;33m\u001b[0m\u001b[0m\n",
            "\u001b[1;31mKeyError\u001b[0m: '[0] not found in axis'"
          ]
        }
      ]
    },
    {
      "cell_type": "code",
      "metadata": {
        "id": "062cac8d"
      },
      "source": [
        "newdf.head()"
      ],
      "id": "062cac8d",
      "execution_count": null,
      "outputs": []
    },
    {
      "cell_type": "code",
      "metadata": {
        "id": "cedc02fe"
      },
      "source": [
        "newdf.loc[[1,2],['C', 'D']]"
      ],
      "id": "cedc02fe",
      "execution_count": null,
      "outputs": []
    },
    {
      "cell_type": "code",
      "metadata": {
        "id": "83e64365"
      },
      "source": [
        "newdf.head()"
      ],
      "id": "83e64365",
      "execution_count": null,
      "outputs": []
    },
    {
      "cell_type": "code",
      "metadata": {
        "id": "90399e1b"
      },
      "source": [
        "newdf.loc[:,['C', 'D']]"
      ],
      "id": "90399e1b",
      "execution_count": null,
      "outputs": []
    },
    {
      "cell_type": "code",
      "metadata": {
        "id": "7b47e29a"
      },
      "source": [
        "newdf.loc[[1,2], :]"
      ],
      "id": "7b47e29a",
      "execution_count": null,
      "outputs": []
    },
    {
      "cell_type": "code",
      "metadata": {
        "id": "11e98546"
      },
      "source": [
        ""
      ],
      "id": "11e98546",
      "execution_count": null,
      "outputs": []
    }
  ]
}