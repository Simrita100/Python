{
  "nbformat": 4,
  "nbformat_minor": 5,
  "metadata": {
    "kernelspec": {
      "display_name": "Python 3",
      "language": "python",
      "name": "python3"
    },
    "language_info": {
      "codemirror_mode": {
        "name": "ipython",
        "version": 3
      },
      "file_extension": ".py",
      "mimetype": "text/x-python",
      "name": "python",
      "nbconvert_exporter": "python",
      "pygments_lexer": "ipython3",
      "version": "3.8.10"
    },
    "colab": {
      "name": "Lab_exercise_03.ipynb",
      "provenance": [],
      "include_colab_link": true
    }
  },
  "cells": [
    {
      "cell_type": "markdown",
      "metadata": {
        "id": "view-in-github",
        "colab_type": "text"
      },
      "source": [
        "<a href=\"https://colab.research.google.com/github/Simrita100/Python/blob/main/Lab_exercise_03.ipynb\" target=\"_parent\"><img src=\"https://colab.research.google.com/assets/colab-badge.svg\" alt=\"Open In Colab\"/></a>"
      ]
    },
    {
      "cell_type": "markdown",
      "metadata": {
        "id": "592e1093"
      },
      "source": [
        "## For Loops"
      ],
      "id": "592e1093"
    },
    {
      "cell_type": "code",
      "metadata": {
        "id": "55a5d2f7",
        "outputId": "7a119b1c-27d5-48a4-d623-4792258d5b1b"
      },
      "source": [
        "for n in range(7):\n",
        "    print('serial', n)"
      ],
      "id": "55a5d2f7",
      "execution_count": null,
      "outputs": [
        {
          "name": "stdout",
          "output_type": "stream",
          "text": [
            "serial 0\n",
            "serial 1\n",
            "serial 2\n",
            "serial 3\n",
            "serial 4\n",
            "serial 5\n",
            "serial 6\n"
          ]
        }
      ]
    },
    {
      "cell_type": "code",
      "metadata": {
        "id": "56eb00c1",
        "outputId": "ae7ef95e-f568-48e9-9df2-be163f070363"
      },
      "source": [
        "for n in range(4):\n",
        "    print('serial', n + 1)"
      ],
      "id": "56eb00c1",
      "execution_count": null,
      "outputs": [
        {
          "name": "stdout",
          "output_type": "stream",
          "text": [
            "serial 1\n",
            "serial 2\n",
            "serial 3\n",
            "serial 4\n"
          ]
        }
      ]
    },
    {
      "cell_type": "code",
      "metadata": {
        "id": "8fc80790",
        "outputId": "e824c343-66ca-4530-b127-dfe0a40f5682"
      },
      "source": [
        "for number in range(1, 5):\n",
        "    print('attempt', number, number * '*')"
      ],
      "id": "8fc80790",
      "execution_count": null,
      "outputs": [
        {
          "name": "stdout",
          "output_type": "stream",
          "text": [
            "attempt 1 *\n",
            "attempt 2 **\n",
            "attempt 3 ***\n",
            "attempt 4 ****\n"
          ]
        }
      ]
    },
    {
      "cell_type": "code",
      "metadata": {
        "id": "f14634f1",
        "outputId": "d8f4769b-41ba-4b0f-ee77-745f8350827a"
      },
      "source": [
        "for number in range(1, 10, 2):\n",
        "    print('attempt', number, number * '.' )"
      ],
      "id": "f14634f1",
      "execution_count": null,
      "outputs": [
        {
          "name": "stdout",
          "output_type": "stream",
          "text": [
            "attempt 1 .\n",
            "attempt 3 ...\n",
            "attempt 5 .....\n",
            "attempt 7 .......\n",
            "attempt 9 .........\n"
          ]
        }
      ]
    },
    {
      "cell_type": "markdown",
      "metadata": {
        "id": "0b0bcc50"
      },
      "source": [
        "## For Else"
      ],
      "id": "0b0bcc50"
    },
    {
      "cell_type": "code",
      "metadata": {
        "id": "22de3ab2",
        "outputId": "74fa263d-fad6-4b59-83a1-e2ab3d4cc246"
      },
      "source": [
        "Launch = True\n",
        "for number in range (5):\n",
        "    print('Product')\n",
        "    if Launch:\n",
        "        print('Launch')\n",
        "        break\n",
        "    "
      ],
      "id": "22de3ab2",
      "execution_count": null,
      "outputs": [
        {
          "name": "stdout",
          "output_type": "stream",
          "text": [
            "Product\n",
            "Launch\n"
          ]
        }
      ]
    },
    {
      "cell_type": "code",
      "metadata": {
        "id": "850f1696",
        "outputId": "aa8e8d58-b270-41c4-8822-5415ea7de5a5"
      },
      "source": [
        "successful = True\n",
        "for number in range(5):\n",
        "    print('attempt')\n",
        "    if successful:\n",
        "        print('Successful')\n",
        "        break\n",
        "else:\n",
        "    print('attempt denied')"
      ],
      "id": "850f1696",
      "execution_count": null,
      "outputs": [
        {
          "name": "stdout",
          "output_type": "stream",
          "text": [
            "attempt\n",
            "Successful\n"
          ]
        }
      ]
    },
    {
      "cell_type": "code",
      "metadata": {
        "id": "752f1992",
        "outputId": "f0a1c9cf-dc9e-475d-81a7-c50a5830cea9"
      },
      "source": [
        "successful = False\n",
        "for number in range(5):\n",
        "    print('attempt')\n",
        "    if successful:\n",
        "        print('Successful')\n",
        "        break\n",
        "else:\n",
        "    print('Attempts exhausted')"
      ],
      "id": "752f1992",
      "execution_count": null,
      "outputs": [
        {
          "name": "stdout",
          "output_type": "stream",
          "text": [
            "attempt\n",
            "attempt\n",
            "attempt\n",
            "attempt\n",
            "attempt\n",
            "Attempts exhausted\n"
          ]
        }
      ]
    },
    {
      "cell_type": "code",
      "metadata": {
        "id": "086fce01",
        "outputId": "16e4bd79-dc7b-447e-d62a-237b567752bc"
      },
      "source": [
        "Successful = False\n",
        "for number in range(5):\n",
        "    print('Login')\n",
        "    if Successful :\n",
        "        print('Successful')\n",
        "        break\n",
        "else:\n",
        "    print('Please Login')"
      ],
      "id": "086fce01",
      "execution_count": null,
      "outputs": [
        {
          "name": "stdout",
          "output_type": "stream",
          "text": [
            "Login\n",
            "Login\n",
            "Login\n",
            "Login\n",
            "Login\n",
            "Please Login\n"
          ]
        }
      ]
    },
    {
      "cell_type": "markdown",
      "metadata": {
        "id": "96a17888"
      },
      "source": [
        "## Nested Loops"
      ],
      "id": "96a17888"
    },
    {
      "cell_type": "code",
      "metadata": {
        "id": "941b7ccd",
        "outputId": "49418f8d-cf2a-495f-ada6-2140f00f80c7"
      },
      "source": [
        "for x in range (6):\n",
        "    for y in range (4):\n",
        "        print(f\"({x}, {y})\")"
      ],
      "id": "941b7ccd",
      "execution_count": null,
      "outputs": [
        {
          "name": "stdout",
          "output_type": "stream",
          "text": [
            "(0, 0)\n",
            "(0, 1)\n",
            "(0, 2)\n",
            "(0, 3)\n",
            "(1, 0)\n",
            "(1, 1)\n",
            "(1, 2)\n",
            "(1, 3)\n",
            "(2, 0)\n",
            "(2, 1)\n",
            "(2, 2)\n",
            "(2, 3)\n",
            "(3, 0)\n",
            "(3, 1)\n",
            "(3, 2)\n",
            "(3, 3)\n",
            "(4, 0)\n",
            "(4, 1)\n",
            "(4, 2)\n",
            "(4, 3)\n",
            "(5, 0)\n",
            "(5, 1)\n",
            "(5, 2)\n",
            "(5, 3)\n"
          ]
        }
      ]
    },
    {
      "cell_type": "code",
      "metadata": {
        "id": "b1a30ccf",
        "outputId": "f0070bba-9a02-405a-fca4-fbf0b41bdd1d"
      },
      "source": [
        "for Zoom_out in range(4):\n",
        "    for Zoom_in in range(4):\n",
        "        print(f\"({Zoom_out}, {Zoom_in})\")"
      ],
      "id": "b1a30ccf",
      "execution_count": null,
      "outputs": [
        {
          "name": "stdout",
          "output_type": "stream",
          "text": [
            "(0, 0)\n",
            "(0, 1)\n",
            "(0, 2)\n",
            "(0, 3)\n",
            "(1, 0)\n",
            "(1, 1)\n",
            "(1, 2)\n",
            "(1, 3)\n",
            "(2, 0)\n",
            "(2, 1)\n",
            "(2, 2)\n",
            "(2, 3)\n",
            "(3, 0)\n",
            "(3, 1)\n",
            "(3, 2)\n",
            "(3, 3)\n"
          ]
        }
      ]
    },
    {
      "cell_type": "markdown",
      "metadata": {
        "id": "e928ba33"
      },
      "source": [
        "## Iterables"
      ],
      "id": "e928ba33"
    },
    {
      "cell_type": "code",
      "metadata": {
        "id": "dd9333c5",
        "outputId": "82ad9b61-3d22-49ae-9d78-8d4f1161c2af"
      },
      "source": [
        "for x in 'Python':\n",
        "    print(x)"
      ],
      "id": "dd9333c5",
      "execution_count": null,
      "outputs": [
        {
          "name": "stdout",
          "output_type": "stream",
          "text": [
            "P\n",
            "y\n",
            "t\n",
            "h\n",
            "o\n",
            "n\n"
          ]
        }
      ]
    },
    {
      "cell_type": "code",
      "metadata": {
        "id": "7a453311",
        "outputId": "ca1aee4c-2713-4945-ab85-827dced2a53e"
      },
      "source": [
        "for s in '100g0100':\n",
        "    print(s)"
      ],
      "id": "7a453311",
      "execution_count": null,
      "outputs": [
        {
          "name": "stdout",
          "output_type": "stream",
          "text": [
            "1\n",
            "0\n",
            "0\n",
            "g\n",
            "0\n",
            "1\n",
            "0\n",
            "0\n"
          ]
        }
      ]
    },
    {
      "cell_type": "code",
      "metadata": {
        "id": "4478ed25",
        "outputId": "44c2209c-2c32-4e4f-abf4-673690d634fb"
      },
      "source": [
        "for txt in [10, 20, 40, 'x', 'y', 'z']:\n",
        "    print(txt)"
      ],
      "id": "4478ed25",
      "execution_count": null,
      "outputs": [
        {
          "name": "stdout",
          "output_type": "stream",
          "text": [
            "10\n",
            "20\n",
            "40\n",
            "x\n",
            "y\n",
            "z\n"
          ]
        }
      ]
    },
    {
      "cell_type": "code",
      "metadata": {
        "id": "ee005379",
        "outputId": "da53176d-6d77-439a-aa06-24562b70b776"
      },
      "source": [
        "for z in range(6):\n",
        "    print(z)"
      ],
      "id": "ee005379",
      "execution_count": null,
      "outputs": [
        {
          "name": "stdout",
          "output_type": "stream",
          "text": [
            "0\n",
            "1\n",
            "2\n",
            "3\n",
            "4\n",
            "5\n"
          ]
        }
      ]
    },
    {
      "cell_type": "markdown",
      "metadata": {
        "id": "cadf4880"
      },
      "source": [
        "## While Loops"
      ],
      "id": "cadf4880"
    },
    {
      "cell_type": "code",
      "metadata": {
        "id": "bd0c7fec",
        "outputId": "cd84e909-0a27-4bbe-aeb2-44a5321b0d2d"
      },
      "source": [
        "number = 400\n",
        "while number > 0:\n",
        "    print(number)\n",
        "    number //= 2"
      ],
      "id": "bd0c7fec",
      "execution_count": null,
      "outputs": [
        {
          "name": "stdout",
          "output_type": "stream",
          "text": [
            "400\n",
            "200\n",
            "100\n",
            "50\n",
            "25\n",
            "12\n",
            "6\n",
            "3\n",
            "1\n"
          ]
        }
      ]
    },
    {
      "cell_type": "code",
      "metadata": {
        "id": "36cbe010",
        "outputId": "9872963c-0c5f-47cb-e065-61b52bb09fbd"
      },
      "source": [
        "i = 0\n",
        "while i < 6:\n",
        "    i += 1\n",
        "    if i == 3:\n",
        "        continue\n",
        "    print(i)"
      ],
      "id": "36cbe010",
      "execution_count": null,
      "outputs": [
        {
          "name": "stdout",
          "output_type": "stream",
          "text": [
            "1\n",
            "2\n",
            "4\n",
            "5\n",
            "6\n"
          ]
        }
      ]
    },
    {
      "cell_type": "code",
      "metadata": {
        "id": "65cf34a9",
        "outputId": "dd6d8225-8402-4938-c092-95b1b59c47d9"
      },
      "source": [
        "i = 1\n",
        "while i < 6:\n",
        "    print(i)\n",
        "    i += 1\n",
        "else:\n",
        "    print(\"i is no longer less than 6\")\n"
      ],
      "id": "65cf34a9",
      "execution_count": null,
      "outputs": [
        {
          "name": "stdout",
          "output_type": "stream",
          "text": [
            "1\n",
            "2\n",
            "3\n",
            "4\n",
            "5\n",
            "i is no longer less than 6\n"
          ]
        }
      ]
    }
  ]
}