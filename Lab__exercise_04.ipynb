{
  "nbformat": 4,
  "nbformat_minor": 5,
  "metadata": {
    "kernelspec": {
      "display_name": "Python 3",
      "language": "python",
      "name": "python3"
    },
    "language_info": {
      "codemirror_mode": {
        "name": "ipython",
        "version": 3
      },
      "file_extension": ".py",
      "mimetype": "text/x-python",
      "name": "python",
      "nbconvert_exporter": "python",
      "pygments_lexer": "ipython3",
      "version": "3.8.10"
    },
    "colab": {
      "name": "Lab_ exercise_04.ipynb",
      "provenance": [],
      "include_colab_link": true
    }
  },
  "cells": [
    {
      "cell_type": "markdown",
      "metadata": {
        "id": "view-in-github",
        "colab_type": "text"
      },
      "source": [
        "<a href=\"https://colab.research.google.com/github/Simrita100/Python/blob/main/Lab__exercise_04.ipynb\" target=\"_parent\"><img src=\"https://colab.research.google.com/assets/colab-badge.svg\" alt=\"Open In Colab\"/></a>"
      ]
    },
    {
      "cell_type": "markdown",
      "metadata": {
        "id": "f1a5c697"
      },
      "source": [
        "## Defining Functions"
      ],
      "id": "f1a5c697"
    },
    {
      "cell_type": "code",
      "metadata": {
        "id": "235099fc",
        "outputId": "d28c6f57-df36-4efb-942e-8cc4676d5930"
      },
      "source": [
        "def greet():\n",
        "    print(\"Hello!\")\n",
        "    print(\"Goood Evening.\")\n",
        "\n",
        "greet()"
      ],
      "id": "235099fc",
      "execution_count": null,
      "outputs": [
        {
          "name": "stdout",
          "output_type": "stream",
          "text": [
            "Hello!\n",
            "Goood Evening.\n"
          ]
        }
      ]
    },
    {
      "cell_type": "code",
      "metadata": {
        "id": "dab74031",
        "outputId": "bf17e7f3-dca4-42b4-8ada-bd5e6faba412"
      },
      "source": [
        "def x():\n",
        "    print(\"Hey\")\n",
        "    print(\"I play Cricket\")\n",
        "    print(\"I am an engineer\")\n",
        "x()\n",
        "    "
      ],
      "id": "dab74031",
      "execution_count": null,
      "outputs": [
        {
          "name": "stdout",
          "output_type": "stream",
          "text": [
            "Hey\n",
            "I play Cricket\n",
            "I am an engineer\n"
          ]
        }
      ]
    },
    {
      "cell_type": "markdown",
      "metadata": {
        "id": "12c4a53e"
      },
      "source": [
        "## Argument\n"
      ],
      "id": "12c4a53e"
    },
    {
      "cell_type": "code",
      "metadata": {
        "id": "c690f2ff",
        "outputId": "e7555998-8afe-4e74-f1be-c20563c8af37"
      },
      "source": [
        "def greet(first_name, last_name):\n",
        "    print(f\"Hey, {first_name} {last_name}\")\n",
        "    print(\"How are you?\")\n",
        "    print(\"Best Wishes\")\n",
        "\n",
        "greet(\"Anisha\", \"Ray\")    \n",
        "greet(\"Anne\", \"Frank\")\n",
        "greet(\"Carolyn\", \"Smith\")"
      ],
      "id": "c690f2ff",
      "execution_count": null,
      "outputs": [
        {
          "name": "stdout",
          "output_type": "stream",
          "text": [
            "Hey, Anisha Ray\n",
            "How are you?\n",
            "Best Wishes\n",
            "Hey, Anne Frank\n",
            "How are you?\n",
            "Best Wishes\n",
            "Hey, Carolyn Smith\n",
            "How are you?\n",
            "Best Wishes\n"
          ]
        }
      ]
    },
    {
      "cell_type": "code",
      "metadata": {
        "id": "d19325eb",
        "outputId": "a75b6780-3bcb-48c3-e8c8-8792afb46b8f"
      },
      "source": [
        "def Course(name, group):\n",
        "    print(f\"Hey, {name} {group}\")\n",
        "    print(\"You've been enrolled\")\n",
        "\n",
        "Course(\"Lisa\", \"A\")"
      ],
      "id": "d19325eb",
      "execution_count": null,
      "outputs": [
        {
          "name": "stdout",
          "output_type": "stream",
          "text": [
            "Hey, Lisa A\n",
            "You've been enrolled\n"
          ]
        }
      ]
    },
    {
      "cell_type": "code",
      "metadata": {
        "id": "50baeab5",
        "outputId": "0c613123-c9ef-4b32-ee95-31b793f6dc6e"
      },
      "source": [
        "def x(name):\n",
        "    print(f\"Hello, {name}\")\n",
        "x(\"Daniella\")"
      ],
      "id": "50baeab5",
      "execution_count": null,
      "outputs": [
        {
          "name": "stdout",
          "output_type": "stream",
          "text": [
            "Hello, Daniella\n"
          ]
        }
      ]
    },
    {
      "cell_type": "code",
      "metadata": {
        "id": "6a40cb2d",
        "outputId": "0a9524d9-8371-414c-979d-3328f01aa032"
      },
      "source": [
        "def Car(name):\n",
        "    return f\"This is a {name}\"\n",
        "\n",
        "Car('Ford')\n"
      ],
      "id": "6a40cb2d",
      "execution_count": null,
      "outputs": [
        {
          "data": {
            "text/plain": [
              "'This is a Ford'"
            ]
          },
          "execution_count": 15,
          "metadata": {},
          "output_type": "execute_result"
        }
      ]
    },
    {
      "cell_type": "markdown",
      "metadata": {
        "id": "0e7f6161"
      },
      "source": [
        "## Keyword Argument"
      ],
      "id": "0e7f6161"
    },
    {
      "cell_type": "code",
      "metadata": {
        "id": "ecc31ed6",
        "outputId": "c02cfd52-026d-4e3a-f621-21b8d5addb51"
      },
      "source": [
        "def increase(number, by):\n",
        "    return number + by\n",
        "\n",
        "increase(4,5)"
      ],
      "id": "ecc31ed6",
      "execution_count": null,
      "outputs": [
        {
          "data": {
            "text/plain": [
              "9"
            ]
          },
          "execution_count": 16,
          "metadata": {},
          "output_type": "execute_result"
        }
      ]
    },
    {
      "cell_type": "code",
      "metadata": {
        "id": "3cba67bc",
        "outputId": "f949dbae-89dd-4843-b00a-a914deea47c1"
      },
      "source": [
        "def x(num1, num2):\n",
        "    return num1 + num2\n",
        "\n",
        "x(4, num2=8)"
      ],
      "id": "3cba67bc",
      "execution_count": null,
      "outputs": [
        {
          "data": {
            "text/plain": [
              "12"
            ]
          },
          "execution_count": 17,
          "metadata": {},
          "output_type": "execute_result"
        }
      ]
    },
    {
      "cell_type": "markdown",
      "metadata": {
        "id": "b10a02c1"
      },
      "source": [
        "## Default Arguments"
      ],
      "id": "b10a02c1"
    },
    {
      "cell_type": "code",
      "metadata": {
        "id": "baa08d3e",
        "outputId": "ab3e45eb-b2a1-4f61-9d39-aeae375c60d7"
      },
      "source": [
        "def y(num1, num2=4):\n",
        "    return num1 + num2\n",
        "print(y(6))"
      ],
      "id": "baa08d3e",
      "execution_count": null,
      "outputs": [
        {
          "name": "stdout",
          "output_type": "stream",
          "text": [
            "10\n"
          ]
        }
      ]
    },
    {
      "cell_type": "code",
      "metadata": {
        "id": "a44da5ec",
        "outputId": "f2d64596-6d5c-4f33-db26-8c29ae00906e"
      },
      "source": [
        "def n(num1, num2=1):\n",
        "    return num1 + num2\n",
        "\n",
        "print(n(2,8))"
      ],
      "id": "a44da5ec",
      "execution_count": null,
      "outputs": [
        {
          "name": "stdout",
          "output_type": "stream",
          "text": [
            "10\n"
          ]
        }
      ]
    },
    {
      "cell_type": "code",
      "metadata": {
        "id": "f4aeff1e"
      },
      "source": [
        ""
      ],
      "id": "f4aeff1e",
      "execution_count": null,
      "outputs": []
    }
  ]
}