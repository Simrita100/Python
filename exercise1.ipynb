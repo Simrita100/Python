{
  "nbformat": 4,
  "nbformat_minor": 5,
  "metadata": {
    "kernelspec": {
      "display_name": "Python 3",
      "language": "python",
      "name": "python3"
    },
    "language_info": {
      "codemirror_mode": {
        "name": "ipython",
        "version": 3
      },
      "file_extension": ".py",
      "mimetype": "text/x-python",
      "name": "python",
      "nbconvert_exporter": "python",
      "pygments_lexer": "ipython3",
      "version": "3.8.10"
    },
    "colab": {
      "name": "exercise1.ipynb",
      "provenance": [],
      "include_colab_link": true
    }
  },
  "cells": [
    {
      "cell_type": "markdown",
      "metadata": {
        "id": "view-in-github",
        "colab_type": "text"
      },
      "source": [
        "<a href=\"https://colab.research.google.com/github/Simrita100/Simrita100/blob/main/exercise1.ipynb\" target=\"_parent\"><img src=\"https://colab.research.google.com/assets/colab-badge.svg\" alt=\"Open In Colab\"/></a>"
      ]
    },
    {
      "cell_type": "code",
      "metadata": {
        "id": "03c1cea2",
        "outputId": "ec14b976-ebf2-482e-8f9d-9439c4cf6da6"
      },
      "source": [
        "print(\"I am buying %s from the market.\" %'fruits')"
      ],
      "id": "03c1cea2",
      "execution_count": null,
      "outputs": [
        {
          "output_type": "stream",
          "text": [
            "I am buying fruits from the market.\n"
          ],
          "name": "stdout"
        }
      ]
    },
    {
      "cell_type": "code",
      "metadata": {
        "id": "3d68068f",
        "outputId": "10bcc15c-704e-4088-a34c-147277c1c254"
      },
      "source": [
        "print(\"I play %s and %s.\" %('cricket','football'))"
      ],
      "id": "3d68068f",
      "execution_count": null,
      "outputs": [
        {
          "output_type": "stream",
          "text": [
            "I play cricket and football.\n"
          ],
          "name": "stdout"
        }
      ]
    },
    {
      "cell_type": "code",
      "metadata": {
        "id": "ce5c80ce",
        "outputId": "e82f25a6-6f15-42a2-b4b6-dc3110402fb0"
      },
      "source": [
        "a,b = 'cats','dogs'\n",
        "print(\"It's rainin' %s and %s in here.\"%(a,b))"
      ],
      "id": "ce5c80ce",
      "execution_count": null,
      "outputs": [
        {
          "output_type": "stream",
          "text": [
            "It's rainin' cats and dogs in here.\n"
          ],
          "name": "stdout"
        }
      ]
    },
    {
      "cell_type": "code",
      "metadata": {
        "id": "e5fa2475",
        "outputId": "8c556b4d-73d1-4860-da9b-356e6b9cd3cf"
      },
      "source": [
        "print('He is a %r.' %'Doctor')"
      ],
      "id": "e5fa2475",
      "execution_count": null,
      "outputs": [
        {
          "output_type": "stream",
          "text": [
            "He is a 'Doctor'.\n"
          ],
          "name": "stdout"
        }
      ]
    },
    {
      "cell_type": "code",
      "metadata": {
        "id": "81fecb9c",
        "outputId": "3e3c5bd7-8047-4235-fac0-c5a27a24c2b7"
      },
      "source": [
        "print(\"I got %s marks.\" %80.7)\n",
        "print(\"I got %d marks.\" %80.7)"
      ],
      "id": "81fecb9c",
      "execution_count": null,
      "outputs": [
        {
          "output_type": "stream",
          "text": [
            "I got 80.7 marks.\n",
            "I got 80 marks.\n"
          ],
          "name": "stdout"
        }
      ]
    },
    {
      "cell_type": "code",
      "metadata": {
        "id": "65a9ab37",
        "outputId": "f936fd9a-46eb-4fec-9681-5834a4adcad9"
      },
      "source": [
        "aa='S80HELloThere!'\n",
        "aa[::1]"
      ],
      "id": "65a9ab37",
      "execution_count": null,
      "outputs": [
        {
          "output_type": "execute_result",
          "data": {
            "text/plain": [
              "'S80HELloThere!'"
            ]
          },
          "metadata": {
            "tags": []
          },
          "execution_count": 9
        }
      ]
    },
    {
      "cell_type": "code",
      "metadata": {
        "id": "54e94304",
        "outputId": "e7ace2ef-3a91-47e2-daf6-65c1932cc958"
      },
      "source": [
        "len(aa)"
      ],
      "id": "54e94304",
      "execution_count": null,
      "outputs": [
        {
          "output_type": "execute_result",
          "data": {
            "text/plain": [
              "14"
            ]
          },
          "metadata": {
            "tags": []
          },
          "execution_count": 10
        }
      ]
    },
    {
      "cell_type": "code",
      "metadata": {
        "id": "89c946a5",
        "outputId": "42608566-7860-4d67-df0c-2d25c9282c7d"
      },
      "source": [
        "aa[::4]"
      ],
      "id": "89c946a5",
      "execution_count": null,
      "outputs": [
        {
          "output_type": "execute_result",
          "data": {
            "text/plain": [
              "'SETe'"
            ]
          },
          "metadata": {
            "tags": []
          },
          "execution_count": 12
        }
      ]
    },
    {
      "cell_type": "code",
      "metadata": {
        "id": "a16e6d5b",
        "outputId": "2fbc0916-24e7-438e-a755-7bc64bd32eb2"
      },
      "source": [
        "aa[::2]"
      ],
      "id": "a16e6d5b",
      "execution_count": null,
      "outputs": [
        {
          "output_type": "execute_result",
          "data": {
            "text/plain": [
              "'S0ElTee'"
            ]
          },
          "metadata": {
            "tags": []
          },
          "execution_count": 13
        }
      ]
    },
    {
      "cell_type": "code",
      "metadata": {
        "id": "160cc874",
        "outputId": "a6a07432-152f-425c-eb27-b1cba3514b4a"
      },
      "source": [
        "x = 'Hey'\n",
        "x = x + 'there' + ' '\n",
        "print(len(x*4))"
      ],
      "id": "160cc874",
      "execution_count": null,
      "outputs": [
        {
          "output_type": "stream",
          "text": [
            "36\n"
          ],
          "name": "stdout"
        }
      ]
    },
    {
      "cell_type": "code",
      "metadata": {
        "id": "11dddf4b"
      },
      "source": [
        ""
      ],
      "id": "11dddf4b",
      "execution_count": null,
      "outputs": []
    },
    {
      "cell_type": "code",
      "metadata": {
        "id": "6feeb0e1",
        "outputId": "a446e10a-d606-4855-d80e-b1e4c99073ce"
      },
      "source": [
        "y = \"Aye Aye captain,\"\n",
        "y = y + \" Move!\" + \" Steer the wheel\\nkeep workin'\\ndo not slow down\\nmove faster!\"\n",
        "print(y)"
      ],
      "id": "6feeb0e1",
      "execution_count": null,
      "outputs": [
        {
          "output_type": "stream",
          "text": [
            "Aye Aye captain, Move! Steer the wheel\n",
            "keep workin'\n",
            "do not slow down\n",
            "move faster!\n"
          ],
          "name": "stdout"
        }
      ]
    },
    {
      "cell_type": "code",
      "metadata": {
        "id": "95da1950"
      },
      "source": [
        ""
      ],
      "id": "95da1950",
      "execution_count": null,
      "outputs": []
    }
  ]
}