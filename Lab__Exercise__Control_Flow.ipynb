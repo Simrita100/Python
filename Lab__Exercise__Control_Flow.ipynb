{
  "nbformat": 4,
  "nbformat_minor": 5,
  "metadata": {
    "kernelspec": {
      "display_name": "Python 3",
      "language": "python",
      "name": "python3"
    },
    "language_info": {
      "codemirror_mode": {
        "name": "ipython",
        "version": 3
      },
      "file_extension": ".py",
      "mimetype": "text/x-python",
      "name": "python",
      "nbconvert_exporter": "python",
      "pygments_lexer": "ipython3",
      "version": "3.8.10"
    },
    "colab": {
      "name": "Lab_ Exercise_ Control Flow.ipynb",
      "provenance": [],
      "include_colab_link": true
    }
  },
  "cells": [
    {
      "cell_type": "markdown",
      "metadata": {
        "id": "view-in-github",
        "colab_type": "text"
      },
      "source": [
        "<a href=\"https://colab.research.google.com/github/Simrita100/Python/blob/main/Lab__Exercise__Control_Flow.ipynb\" target=\"_parent\"><img src=\"https://colab.research.google.com/assets/colab-badge.svg\" alt=\"Open In Colab\"/></a>"
      ]
    },
    {
      "cell_type": "markdown",
      "metadata": {
        "id": "984ebb6b"
      },
      "source": [
        "## Conditional Statements\n"
      ],
      "id": "984ebb6b"
    },
    {
      "cell_type": "code",
      "metadata": {
        "id": "ed380c02",
        "outputId": "6e0a787d-5e7d-47c3-be3e-d07d575b3e43"
      },
      "source": [
        "temperature = int(input('Add a value of temperature: '))\n",
        "if temperature < 15:\n",
        "    print('Its\\'s very cold outside')\n",
        "    print('Wear warm clothes')\n",
        "    print('Drink coffee')\n",
        "print('Done')\n",
        "print('Don\\'t go  out')"
      ],
      "id": "ed380c02",
      "execution_count": null,
      "outputs": [
        {
          "name": "stdout",
          "output_type": "stream",
          "text": [
            "Add a value of temperature: 6\n",
            "Its's very cold outside\n",
            "Wear warm clothes\n",
            "Drink coffee\n",
            "Done\n",
            "Don't go  out\n"
          ]
        }
      ]
    },
    {
      "cell_type": "code",
      "metadata": {
        "id": "3bc3ee64",
        "outputId": "3cde6c6e-5c2c-415a-d222-8e5178979524"
      },
      "source": [
        "temperature = int(input('Add a value of temperature: '))\n",
        "if temperature < 15:\n",
        "    print('Its\\'s very cold outside')\n",
        "    print('Wear warm clothes')\n",
        "    print('Drink coffee')\n",
        "print('Done')\n",
        "print('Don\\'t go  out')"
      ],
      "id": "3bc3ee64",
      "execution_count": null,
      "outputs": [
        {
          "name": "stdout",
          "output_type": "stream",
          "text": [
            "Add a value of temperature: 20\n",
            "Done\n",
            "Don't go  out\n"
          ]
        }
      ]
    },
    {
      "cell_type": "code",
      "metadata": {
        "id": "1e32b333",
        "outputId": "c43fe225-148a-4dfe-94c0-5c223b7f98f3"
      },
      "source": [
        "Number_of_boxes = 20\n",
        "if Number_of_boxes > 30:\n",
        "    print(\"Cart is overloaded\")\n",
        "    print(\"Remove few boxes\")\n",
        "elif Number_of_boxes > 20:\n",
        "    print(\"Managable\")\n",
        "else:\n",
        "    print(\"Perfectly packaged\")\n",
        "print('Cart will be shipped')"
      ],
      "id": "1e32b333",
      "execution_count": null,
      "outputs": [
        {
          "name": "stdout",
          "output_type": "stream",
          "text": [
            "Perfectly packaged\n",
            "Cart will be shipped\n"
          ]
        }
      ]
    },
    {
      "cell_type": "code",
      "metadata": {
        "id": "87aa40a3",
        "outputId": "436b2f0b-524d-444d-f908-3a73fa114865"
      },
      "source": [
        "Number_of_boxes = int(input('The number of boxes to be shipped: '))\n",
        "if Number_of_boxes > 30:\n",
        "    print(\"Cart is overloaded\")\n",
        "    print(\"Remove few boxes\")\n",
        "elif Number_of_boxes > 20:\n",
        "    print(\"Managable\")\n",
        "else:\n",
        "    print(\"Perfectly packaged\")\n",
        "print('Cart will be shipped')"
      ],
      "id": "87aa40a3",
      "execution_count": null,
      "outputs": [
        {
          "name": "stdout",
          "output_type": "stream",
          "text": [
            "The number of boxes to be shipped: 40\n",
            "Cart is overloaded\n",
            "Remove few boxes\n",
            "Cart will be shipped\n"
          ]
        }
      ]
    },
    {
      "cell_type": "code",
      "metadata": {
        "id": "9d241e08",
        "outputId": "7876e738-9bd5-4fed-8b4e-a9c92ff065ea"
      },
      "source": [
        "Number_of_boxes = int(input('The number of boxes to be shipped: '))\n",
        "if Number_of_boxes > 30:\n",
        "    print(\"Cart is overloaded\")\n",
        "    print(\"Remove few boxes\")\n",
        "elif Number_of_boxes >= 20:\n",
        "    print(\"Managable\")\n",
        "else:\n",
        "    print(\"Perfectly packaged\")\n",
        "print('Cart will be shipped')"
      ],
      "id": "9d241e08",
      "execution_count": null,
      "outputs": [
        {
          "name": "stdout",
          "output_type": "stream",
          "text": [
            "The number of boxes to be shipped: 20\n",
            "Managable\n",
            "Cart will be shipped\n"
          ]
        }
      ]
    },
    {
      "cell_type": "code",
      "metadata": {
        "id": "e341f9d0",
        "outputId": "1404262d-8657-4402-c1cf-3f1ee6eec05f"
      },
      "source": [
        "Number_of_boxes = int(input('The number of boxes to be shipped: '))\n",
        "if Number_of_boxes > 30:\n",
        "    print(\"Cart is overloaded\")\n",
        "    print(\"Remove few boxes\")\n",
        "elif Number_of_boxes >= 20:\n",
        "    print(\"Managable\")\n",
        "else:\n",
        "    print(\"Perfectly packaged\")\n",
        "print('Cart will be shipped')"
      ],
      "id": "e341f9d0",
      "execution_count": null,
      "outputs": [
        {
          "name": "stdout",
          "output_type": "stream",
          "text": [
            "The number of boxes to be shipped: 10\n",
            "Perfectly packaged\n",
            "Cart will be shipped\n"
          ]
        }
      ]
    },
    {
      "cell_type": "markdown",
      "metadata": {
        "id": "c3136948"
      },
      "source": [
        "## Ternary Operator"
      ],
      "id": "c3136948"
    },
    {
      "cell_type": "code",
      "metadata": {
        "id": "50963f55",
        "outputId": "8d00694f-0001-425c-da3e-c17bd9bab9d3"
      },
      "source": [
        "temperature = 12\n",
        "message = 'It\\'s sunny' if temperature >=25 else 'it\\'s cold'\n",
        "print(message)"
      ],
      "id": "50963f55",
      "execution_count": null,
      "outputs": [
        {
          "name": "stdout",
          "output_type": "stream",
          "text": [
            "it's cold\n"
          ]
        }
      ]
    },
    {
      "cell_type": "code",
      "metadata": {
        "id": "0fbb93f1",
        "outputId": "72a0a2b4-fc56-462d-b44c-c36a9e9eb667"
      },
      "source": [
        "age = 14\n",
        "condition = 'Eligible for voting' if age >= 18 else \"Not eligible to vote\"\n",
        "print(condition)"
      ],
      "id": "0fbb93f1",
      "execution_count": null,
      "outputs": [
        {
          "name": "stdout",
          "output_type": "stream",
          "text": [
            "Not eligible to vote\n"
          ]
        }
      ]
    },
    {
      "cell_type": "code",
      "metadata": {
        "id": "e146e176",
        "outputId": "2d46ef91-8b8a-4534-e383-5bafbf72f3ba"
      },
      "source": [
        "age = int(input('Given age is: '))\n",
        "condition = 'Eligible for voting' if age >= 18 else \"Not eligible to vote\"\n",
        "print(condition)"
      ],
      "id": "e146e176",
      "execution_count": null,
      "outputs": [
        {
          "name": "stdout",
          "output_type": "stream",
          "text": [
            "Given age is: 20\n",
            "Eligible for voting\n"
          ]
        }
      ]
    },
    {
      "cell_type": "code",
      "metadata": {
        "id": "2ef42fd6",
        "outputId": "b56d3ecb-bf61-43b9-c241-094d279c5018"
      },
      "source": [
        "Age = 5 \n",
        "requirement = 'Entry into children\\'s park' if Age <= 5 else \"Cannot enter\"\n",
        "print(requirement)"
      ],
      "id": "2ef42fd6",
      "execution_count": null,
      "outputs": [
        {
          "name": "stdout",
          "output_type": "stream",
          "text": [
            "Entry into children's park\n"
          ]
        }
      ]
    },
    {
      "cell_type": "code",
      "metadata": {
        "id": "0106cb8e",
        "outputId": "1e2f108f-2d1a-488a-84ec-83a9cda8114e"
      },
      "source": [
        "boxes = int(input('The number of boxes to be shipped: '))\n",
        "packaging = 'Perfectly packaged and shipped' if boxes <= 20 else 'Cannot be packaged\\\\shipped'\n",
        "print(packaging)"
      ],
      "id": "0106cb8e",
      "execution_count": null,
      "outputs": [
        {
          "name": "stdout",
          "output_type": "stream",
          "text": [
            "The number of boxes to be shipped: 20\n",
            "Perfectly packaged and shipped\n"
          ]
        }
      ]
    },
    {
      "cell_type": "code",
      "metadata": {
        "id": "9761679b",
        "outputId": "bec71409-b904-46bb-9ebb-701898ec7009"
      },
      "source": [
        "boxes = int(input('The number of boxes to be shipped: '))\n",
        "packaging = 'Perfectly packaged and shipped' if boxes <= 20 else 'Cannot be packaged\\\\shipped'\n",
        "print(packaging)"
      ],
      "id": "9761679b",
      "execution_count": null,
      "outputs": [
        {
          "name": "stdout",
          "output_type": "stream",
          "text": [
            "The number of boxes to be shipped: 34\n",
            "Cannot be packaged\\shipped\n"
          ]
        }
      ]
    },
    {
      "cell_type": "code",
      "metadata": {
        "id": "74da565b",
        "outputId": "aa2d520d-c70d-4a44-fcb8-d81593278ac1"
      },
      "source": [
        "sp = int(input('The selling price is: '))\n",
        "cp = int(input('The cost price is: '))\n",
        "print('Profit') if sp > cp else print ('Equal') if sp == cp else print('Loss') "
      ],
      "id": "74da565b",
      "execution_count": null,
      "outputs": [
        {
          "name": "stdout",
          "output_type": "stream",
          "text": [
            "The selling price is: 48\n",
            "The cost price is: 32\n",
            "Profit\n"
          ]
        }
      ]
    },
    {
      "cell_type": "markdown",
      "metadata": {
        "id": "3a50277e"
      },
      "source": [
        "## Logical Operators\n"
      ],
      "id": "3a50277e"
    },
    {
      "cell_type": "code",
      "metadata": {
        "id": "2bcc7210",
        "outputId": "7d633fa9-7a03-424a-ebaf-1ee9f6ecab6d",
        "colab": {
          "base_uri": "https://localhost:8080/"
        }
      },
      "source": [
        "more_savings = True\n",
        "less_expenditure = True\n",
        "\n",
        "if more_savings and less_expenditure:\n",
        "    print('High income')\n",
        "else:\n",
        "    print('Low income')"
      ],
      "id": "2bcc7210",
      "execution_count": 1,
      "outputs": [
        {
          "output_type": "stream",
          "text": [
            "High income\n"
          ],
          "name": "stdout"
        }
      ]
    },
    {
      "cell_type": "code",
      "metadata": {
        "id": "e86289f1",
        "outputId": "c8e87615-d6bd-4843-c470-f4f4e64d236d",
        "colab": {
          "base_uri": "https://localhost:8080/"
        }
      },
      "source": [
        "more_savings = True\n",
        "less_expenditure = False\n",
        "\n",
        "if more_savings and less_expenditure:\n",
        "    print('High income')\n",
        "else:\n",
        "    print('Low income')"
      ],
      "id": "e86289f1",
      "execution_count": 2,
      "outputs": [
        {
          "output_type": "stream",
          "text": [
            "Low income\n"
          ],
          "name": "stdout"
        }
      ]
    },
    {
      "cell_type": "code",
      "metadata": {
        "id": "3b003cbe",
        "outputId": "66f5d499-0136-4d9b-a1bd-0553f43cbfaf",
        "colab": {
          "base_uri": "https://localhost:8080/"
        }
      },
      "source": [
        "high_income = False\n",
        "good_credit = False\n",
        "\n",
        "if high_income or good_credit:\n",
        "    print(\"eligible for loan\")\n",
        "else:\n",
        "    print(\"not eligible for loan\")"
      ],
      "id": "3b003cbe",
      "execution_count": 3,
      "outputs": [
        {
          "output_type": "stream",
          "text": [
            "not eligible for loan\n"
          ],
          "name": "stdout"
        }
      ]
    },
    {
      "cell_type": "code",
      "metadata": {
        "id": "4599ce9e",
        "outputId": "d5a3ec17-c224-4e4d-f302-629ecdbd1c56",
        "colab": {
          "base_uri": "https://localhost:8080/"
        }
      },
      "source": [
        "high_income = True\n",
        "good_credit = False\n",
        "\n",
        "if high_income or good_credit:\n",
        "    print(\"eligible for loan\")\n",
        "else:\n",
        "    print(\"not eligible for loan\")"
      ],
      "id": "4599ce9e",
      "execution_count": 4,
      "outputs": [
        {
          "output_type": "stream",
          "text": [
            "eligible for loan\n"
          ],
          "name": "stdout"
        }
      ]
    },
    {
      "cell_type": "code",
      "metadata": {
        "id": "7eedcf6a",
        "outputId": "61814f40-4b74-4734-b468-b0111644292f",
        "colab": {
          "base_uri": "https://localhost:8080/"
        }
      },
      "source": [
        "A_in_academics = True\n",
        "A_in_sports = True\n",
        "A_in_behaviour = True\n",
        "A_in_every_field = True\n",
        "\n",
        "if A_in_academics:\n",
        "    print('A good student')\n",
        "elif A_in_sports:\n",
        "    print('A Sports enthusiast')\n",
        "elif A_in_behaviour:\n",
        "    print('An obedient student')\n",
        "elif A_in_every_field:\n",
        "    print('Champion')\n",
        "else:\n",
        "    print('Not very appreciative')\n",
        "print('Get better everyday')\n",
        "    "
      ],
      "id": "7eedcf6a",
      "execution_count": 5,
      "outputs": [
        {
          "output_type": "stream",
          "text": [
            "A good student\n",
            "Get better everyday\n"
          ],
          "name": "stdout"
        }
      ]
    },
    {
      "cell_type": "code",
      "metadata": {
        "id": "a14d6487",
        "outputId": "3a00bfe0-0f07-4dcc-fb7c-a0eabff6d6aa",
        "colab": {
          "base_uri": "https://localhost:8080/"
        }
      },
      "source": [
        "A_in_academics = False\n",
        "A_in_sports = True\n",
        "A_in_behaviour = True\n",
        "A_in_every_field = True\n",
        "\n",
        "if A_in_academics:\n",
        "    print('A good student')\n",
        "elif A_in_sports:\n",
        "    print('A Sports enthusiast')\n",
        "elif A_in_behaviour:\n",
        "    print('An obedient student')\n",
        "elif A_in_every_field:\n",
        "    print('Champion')\n",
        "else:\n",
        "    print('Not very appreciative')\n",
        "print('Get better everyday')\n",
        "    "
      ],
      "id": "a14d6487",
      "execution_count": 6,
      "outputs": [
        {
          "output_type": "stream",
          "text": [
            "A Sports enthusiast\n",
            "Get better everyday\n"
          ],
          "name": "stdout"
        }
      ]
    },
    {
      "cell_type": "code",
      "metadata": {
        "id": "af395134",
        "outputId": "543fa1af-c3bf-43ac-cab5-aa60095ed4ef",
        "colab": {
          "base_uri": "https://localhost:8080/"
        }
      },
      "source": [
        "A_in_academics = False\n",
        "A_in_sports = False\n",
        "A_in_behaviour = True\n",
        "A_in_every_field = False\n",
        "\n",
        "if A_in_academics:\n",
        "    print('A good student')\n",
        "elif A_in_sports:\n",
        "    print('A Sports enthusiast')\n",
        "elif A_in_behaviour:\n",
        "    print('An obedient student')\n",
        "elif A_in_every_field:\n",
        "    print('Champion')\n",
        "else:\n",
        "    print('Not very appreciative')\n",
        "print('Get better everyday')\n",
        "    "
      ],
      "id": "af395134",
      "execution_count": 7,
      "outputs": [
        {
          "output_type": "stream",
          "text": [
            "An obedient student\n",
            "Get better everyday\n"
          ],
          "name": "stdout"
        }
      ]
    },
    {
      "cell_type": "code",
      "metadata": {
        "id": "b24b61a1",
        "outputId": "a956c9e7-2749-4562-c424-ffd6d1e85d1d",
        "colab": {
          "base_uri": "https://localhost:8080/"
        }
      },
      "source": [
        "A_in_academics = False\n",
        "A_in_sports = False\n",
        "A_in_behaviour = False\n",
        "A_in_every_field = True\n",
        "\n",
        "if A_in_academics:\n",
        "    print('A good student')\n",
        "elif A_in_sports:\n",
        "    print('A Sports enthusiast')\n",
        "elif A_in_behaviour:\n",
        "    print('An obedient student')\n",
        "elif A_in_every_field:\n",
        "    print('Champion')\n",
        "else:\n",
        "    print('Not very appreciative')\n",
        "print('Get better everyday')\n",
        "    "
      ],
      "id": "b24b61a1",
      "execution_count": 8,
      "outputs": [
        {
          "output_type": "stream",
          "text": [
            "Champion\n",
            "Get better everyday\n"
          ],
          "name": "stdout"
        }
      ]
    },
    {
      "cell_type": "code",
      "metadata": {
        "id": "8aedbd1b",
        "outputId": "c2b7d96e-5fc7-4297-a31e-38c8740e2d66",
        "colab": {
          "base_uri": "https://localhost:8080/"
        }
      },
      "source": [
        "A_in_academics = False\n",
        "A_in_sports = False\n",
        "A_in_behaviour = False\n",
        "A_in_every_field = False\n",
        "\n",
        "if A_in_academics:\n",
        "    print('A good student')\n",
        "elif A_in_sports:\n",
        "    print('A Sports enthusiast')\n",
        "elif A_in_behaviour:\n",
        "    print('An obedient student')\n",
        "elif A_in_every_field:\n",
        "    print('Champion')\n",
        "else:\n",
        "    print('Not very appreciative')\n",
        "print('Get better everyday')\n",
        "    "
      ],
      "id": "8aedbd1b",
      "execution_count": 9,
      "outputs": [
        {
          "output_type": "stream",
          "text": [
            "Not very appreciative\n",
            "Get better everyday\n"
          ],
          "name": "stdout"
        }
      ]
    },
    {
      "cell_type": "code",
      "metadata": {
        "id": "560f4459",
        "outputId": "b3c49a93-2ca5-4b70-a6ee-34fc19e0e797",
        "colab": {
          "base_uri": "https://localhost:8080/"
        }
      },
      "source": [
        "high_income = True\n",
        "good_credit = True\n",
        "student = True\n",
        "\n",
        "if not good_credit:\n",
        "    print(\"eligible for loan\")\n",
        "elif student:\n",
        "    print(\"not eligible for loan\")\n",
        "elif high_income:\n",
        "    print('its ok!')\n",
        "    \n",
        "print(\"it\\'s not ok!\")"
      ],
      "id": "560f4459",
      "execution_count": 10,
      "outputs": [
        {
          "output_type": "stream",
          "text": [
            "not eligible for loan\n",
            "it's not ok!\n"
          ],
          "name": "stdout"
        }
      ]
    },
    {
      "cell_type": "code",
      "metadata": {
        "id": "37c39a46",
        "outputId": "5716eeb5-3798-4009-ca1d-145d03728f9f",
        "colab": {
          "base_uri": "https://localhost:8080/"
        }
      },
      "source": [
        "high_income = True\n",
        "good_credit = False\n",
        "student = True\n",
        "\n",
        "if not good_credit:\n",
        "    print(\"eligible for loan\")\n",
        "elif student:\n",
        "    print(\"not eligible for loan\")\n",
        "elif high_income:\n",
        "    print('it\\'s okay')\n",
        "    \n",
        "print(\"it\\'s not okay\")"
      ],
      "id": "37c39a46",
      "execution_count": 11,
      "outputs": [
        {
          "output_type": "stream",
          "text": [
            "eligible for loan\n",
            "it's not okay\n"
          ],
          "name": "stdout"
        }
      ]
    },
    {
      "cell_type": "markdown",
      "metadata": {
        "id": "4913822c"
      },
      "source": [
        "## Short-Circuit Evaluation"
      ],
      "id": "4913822c"
    },
    {
      "cell_type": "code",
      "metadata": {
        "id": "e49ca36d",
        "outputId": "e8d90616-329f-46e4-af24-622cfe88dbcd",
        "colab": {
          "base_uri": "https://localhost:8080/"
        }
      },
      "source": [
        "high_income = True\n",
        "good_credit = False\n",
        "student = True\n",
        "\n",
        "if high_income or good_credit or not student:\n",
        "    print(\"eligible for loan\")"
      ],
      "id": "e49ca36d",
      "execution_count": 12,
      "outputs": [
        {
          "output_type": "stream",
          "text": [
            "eligible for loan\n"
          ],
          "name": "stdout"
        }
      ]
    },
    {
      "cell_type": "code",
      "metadata": {
        "id": "f9b9977d",
        "outputId": "2224d482-8196-4a92-c9f8-bb12b90ce607",
        "colab": {
          "base_uri": "https://localhost:8080/"
        }
      },
      "source": [
        "x = False\n",
        "y = True \n",
        "z = True\n",
        "if not x or y or not z:\n",
        "    print('YES')\n",
        "else:\n",
        "    print('NO')"
      ],
      "id": "f9b9977d",
      "execution_count": 13,
      "outputs": [
        {
          "output_type": "stream",
          "text": [
            "YES\n"
          ],
          "name": "stdout"
        }
      ]
    },
    {
      "cell_type": "code",
      "metadata": {
        "id": "b4cc3c40",
        "outputId": "f9b85633-88dc-4aba-ee7d-d382f1608f31",
        "colab": {
          "base_uri": "https://localhost:8080/"
        }
      },
      "source": [
        "x = False\n",
        "y = True \n",
        "z = True\n",
        "if x or not y or not z:\n",
        "    print('YES')\n",
        "else:\n",
        "    print('NO')"
      ],
      "id": "b4cc3c40",
      "execution_count": 14,
      "outputs": [
        {
          "output_type": "stream",
          "text": [
            "NO\n"
          ],
          "name": "stdout"
        }
      ]
    },
    {
      "cell_type": "code",
      "metadata": {
        "id": "9dc25878",
        "outputId": "98c78a50-af27-4132-f91f-292f69d1685d",
        "colab": {
          "base_uri": "https://localhost:8080/"
        }
      },
      "source": [
        "high_income = True\n",
        "good_credit = False\n",
        "student = True\n",
        "\n",
        "if high_income and good_credit and  student:\n",
        "    print(\"Can avail loan\")\n",
        "else:\n",
        "    print(\"Cannot avail loan\")"
      ],
      "id": "9dc25878",
      "execution_count": 15,
      "outputs": [
        {
          "output_type": "stream",
          "text": [
            "Cannot avail loan\n"
          ],
          "name": "stdout"
        }
      ]
    },
    {
      "cell_type": "code",
      "metadata": {
        "id": "57e82110",
        "outputId": "12f7587c-a635-484a-f49d-5707bf7b9918",
        "colab": {
          "base_uri": "https://localhost:8080/"
        }
      },
      "source": [
        "x = False\n",
        "y = True \n",
        "z = False\n",
        "if not x and y and not z:\n",
        "    print('Correct')\n",
        "else:\n",
        "    print('Incorrect')"
      ],
      "id": "57e82110",
      "execution_count": 16,
      "outputs": [
        {
          "output_type": "stream",
          "text": [
            "Correct\n"
          ],
          "name": "stdout"
        }
      ]
    },
    {
      "cell_type": "markdown",
      "metadata": {
        "id": "e69d14e0"
      },
      "source": [
        "## Chaining Comparison Operators"
      ],
      "id": "e69d14e0"
    },
    {
      "cell_type": "code",
      "metadata": {
        "id": "aca8ca97",
        "outputId": "b5509708-ed7c-48ea-c0f1-80a1afca3f42"
      },
      "source": [
        "age = 20\n",
        "if age >= 18 and age <= 65:\n",
        "    print(\"eligible\")"
      ],
      "id": "aca8ca97",
      "execution_count": null,
      "outputs": [
        {
          "name": "stdout",
          "output_type": "stream",
          "text": [
            "eligible\n"
          ]
        }
      ]
    },
    {
      "cell_type": "code",
      "metadata": {
        "id": "4ecfb000",
        "outputId": "815752e3-d338-47bd-ccc8-1f6b06eefe3a"
      },
      "source": [
        "box = int(input('The number of boxes present: '))\n",
        "if 25<= box < 40:\n",
        "    print('packed')"
      ],
      "id": "4ecfb000",
      "execution_count": null,
      "outputs": [
        {
          "name": "stdout",
          "output_type": "stream",
          "text": [
            "The number of boxes present: 30\n",
            "packed\n"
          ]
        }
      ]
    },
    {
      "cell_type": "code",
      "metadata": {
        "id": "f1dbc732"
      },
      "source": [
        ""
      ],
      "id": "f1dbc732",
      "execution_count": null,
      "outputs": []
    }
  ]
}