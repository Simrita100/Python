{
  "nbformat": 4,
  "nbformat_minor": 5,
  "metadata": {
    "kernelspec": {
      "display_name": "Python 3",
      "language": "python",
      "name": "python3"
    },
    "language_info": {
      "codemirror_mode": {
        "name": "ipython",
        "version": 3
      },
      "file_extension": ".py",
      "mimetype": "text/x-python",
      "name": "python",
      "nbconvert_exporter": "python",
      "pygments_lexer": "ipython3",
      "version": "3.8.10"
    },
    "colab": {
      "name": "practice.ipynb",
      "provenance": [],
      "include_colab_link": true
    }
  },
  "cells": [
    {
      "cell_type": "markdown",
      "metadata": {
        "id": "view-in-github",
        "colab_type": "text"
      },
      "source": [
        "<a href=\"https://colab.research.google.com/github/Simrita100/Python/blob/main/practice.ipynb\" target=\"_parent\"><img src=\"https://colab.research.google.com/assets/colab-badge.svg\" alt=\"Open In Colab\"/></a>"
      ]
    },
    {
      "cell_type": "markdown",
      "metadata": {
        "id": "e214829b"
      },
      "source": [
        "## Variables"
      ],
      "id": "e214829b"
    },
    {
      "cell_type": "code",
      "metadata": {
        "id": "ee988488",
        "outputId": "b5d43aa7-9363-400e-ca7d-b726f422d7bd"
      },
      "source": [
        "x = 7\n",
        "print(x)"
      ],
      "id": "ee988488",
      "execution_count": null,
      "outputs": [
        {
          "output_type": "stream",
          "text": [
            "7\n"
          ],
          "name": "stdout"
        }
      ]
    },
    {
      "cell_type": "code",
      "metadata": {
        "id": "835143ed",
        "outputId": "9a540109-7852-40c3-e369-898cca359a1a"
      },
      "source": [
        "name = \"Sharon\"\n",
        "age = 40\n",
        "print(name)\n",
        "print(age)"
      ],
      "id": "835143ed",
      "execution_count": null,
      "outputs": [
        {
          "output_type": "stream",
          "text": [
            "Sharon\n",
            "40\n"
          ],
          "name": "stdout"
        }
      ]
    },
    {
      "cell_type": "code",
      "metadata": {
        "id": "db71baaf",
        "outputId": "cc75fdf2-28fb-419c-ae8e-11b267a93a59"
      },
      "source": [
        "print(type(name))\n",
        "print(type(age))"
      ],
      "id": "db71baaf",
      "execution_count": null,
      "outputs": [
        {
          "output_type": "stream",
          "text": [
            "<class 'str'>\n",
            "<class 'int'>\n"
          ],
          "name": "stdout"
        }
      ]
    },
    {
      "cell_type": "code",
      "metadata": {
        "id": "66348e7f",
        "outputId": "0e84c789-3d4a-46bc-c3e7-c8c002923cd6"
      },
      "source": [
        "s = \"Nyc\"\n",
        "print(s)\n",
        "s = 100.0\n",
        "print(s)"
      ],
      "id": "66348e7f",
      "execution_count": null,
      "outputs": [
        {
          "output_type": "stream",
          "text": [
            "Nyc\n",
            "100.0\n"
          ],
          "name": "stdout"
        }
      ]
    },
    {
      "cell_type": "code",
      "metadata": {
        "id": "fcb13706",
        "outputId": "0eb1c3db-7e75-4b35-968f-1184b15f31f7"
      },
      "source": [
        "int = '10'\n",
        "type(int)"
      ],
      "id": "fcb13706",
      "execution_count": null,
      "outputs": [
        {
          "output_type": "execute_result",
          "data": {
            "text/plain": [
              "str"
            ]
          },
          "metadata": {
            "tags": []
          },
          "execution_count": 37
        }
      ]
    },
    {
      "cell_type": "code",
      "metadata": {
        "id": "b223e9fe",
        "outputId": "afeb7db5-29ba-4059-c238-67ad01c9b644"
      },
      "source": [
        "x = y = z = True\n",
        "print(x)\n",
        "print(y)\n",
        "print(z)"
      ],
      "id": "b223e9fe",
      "execution_count": null,
      "outputs": [
        {
          "output_type": "stream",
          "text": [
            "True\n",
            "True\n",
            "True\n"
          ],
          "name": "stdout"
        }
      ]
    },
    {
      "cell_type": "code",
      "metadata": {
        "id": "e8d841ac",
        "outputId": "504f9e98-1925-4469-8e42-2bd33f60d307"
      },
      "source": [
        "e = \"elite\"\n",
        "e = \"english\"\n",
        "print(e)"
      ],
      "id": "e8d841ac",
      "execution_count": null,
      "outputs": [
        {
          "output_type": "stream",
          "text": [
            "english\n"
          ],
          "name": "stdout"
        }
      ]
    },
    {
      "cell_type": "code",
      "metadata": {
        "id": "4cdb5061",
        "outputId": "7b0383ff-91b9-45c2-e623-4f93a1376cf1"
      },
      "source": [
        "a = \"Simrita \"\n",
        "b = \"Mishra\"\n",
        "print(a + b)"
      ],
      "id": "4cdb5061",
      "execution_count": null,
      "outputs": [
        {
          "output_type": "stream",
          "text": [
            "Simrita Mishra\n"
          ],
          "name": "stdout"
        }
      ]
    },
    {
      "cell_type": "code",
      "metadata": {
        "id": "a9d4e8dd",
        "outputId": "32678691-52ad-4753-c94c-59e146702811"
      },
      "source": [
        "def s():\n",
        "    a = \"Hello!\"\n",
        "    print(a)\n",
        "s()"
      ],
      "id": "a9d4e8dd",
      "execution_count": null,
      "outputs": [
        {
          "output_type": "stream",
          "text": [
            "Hello!\n"
          ],
          "name": "stdout"
        }
      ]
    },
    {
      "cell_type": "markdown",
      "metadata": {
        "id": "103b9194"
      },
      "source": [
        "## Strings"
      ],
      "id": "103b9194"
    },
    {
      "cell_type": "code",
      "metadata": {
        "id": "1c895be4",
        "outputId": "84f7cc58-c344-4c09-b64c-6fe2b6b48d30"
      },
      "source": [
        "text = \"Reach here asap!\"\n",
        "print(text)"
      ],
      "id": "1c895be4",
      "execution_count": null,
      "outputs": [
        {
          "output_type": "stream",
          "text": [
            "Reach here asap!\n"
          ],
          "name": "stdout"
        }
      ]
    },
    {
      "cell_type": "code",
      "metadata": {
        "id": "2535b507",
        "outputId": "e19a055f-da20-4930-cb33-0de413de44e3"
      },
      "source": [
        "print(len(text))"
      ],
      "id": "2535b507",
      "execution_count": null,
      "outputs": [
        {
          "output_type": "stream",
          "text": [
            "16\n"
          ],
          "name": "stdout"
        }
      ]
    },
    {
      "cell_type": "code",
      "metadata": {
        "id": "f40bb9d9",
        "outputId": "bda8b0ef-8db8-4bbe-b31b-65633ed920b6"
      },
      "source": [
        "print(text[0])\n",
        "\n",
        "print(text[-1])\n",
        "\n",
        "print(text[:-1])\n",
        "\n",
        "print(text[0:6])\n",
        "\n",
        "print(text[3:])\n",
        "\n",
        "print(text[6:10])\n",
        "\n",
        "print(text[:])\n",
        "\n",
        "print(text[6:0:-1])\n",
        "\n",
        "print(text[-2:-10:-2])\n",
        "\n",
        "print(text[1:4:8])"
      ],
      "id": "f40bb9d9",
      "execution_count": null,
      "outputs": [
        {
          "output_type": "stream",
          "text": [
            "R\n",
            "!\n",
            "Reach here asap\n",
            "Reach \n",
            "ch here asap!\n",
            "here\n",
            "Reach here asap!\n",
            "h hcae\n",
            "ps r\n",
            "e\n"
          ],
          "name": "stdout"
        }
      ]
    },
    {
      "cell_type": "code",
      "metadata": {
        "id": "97f8283e",
        "outputId": "4ff84302-91f3-4f61-e54a-8d9ec2711121"
      },
      "source": [
        "s = '''Hello there\n",
        "    Hope you doing well.\n",
        "    Best Wishes 😊💐''' \n",
        "print(s)"
      ],
      "id": "97f8283e",
      "execution_count": null,
      "outputs": [
        {
          "output_type": "stream",
          "text": [
            "Hello there\n",
            "    Hope you doing well.\n",
            "    Best Wishes 😊💐\n"
          ],
          "name": "stdout"
        }
      ]
    },
    {
      "cell_type": "code",
      "metadata": {
        "id": "95f397b0",
        "outputId": "25a9f076-00b1-432b-c82d-404f628c0678"
      },
      "source": [
        "str1 = \"Good \"\n",
        "str2 = \"Evening\"\n",
        "print('Text = ', str1 + str2)\n"
      ],
      "id": "95f397b0",
      "execution_count": null,
      "outputs": [
        {
          "output_type": "stream",
          "text": [
            "Text =  Good Evening\n"
          ],
          "name": "stdout"
        }
      ]
    },
    {
      "cell_type": "markdown",
      "metadata": {
        "id": "024ad35c"
      },
      "source": [
        "## Escape Sequence"
      ],
      "id": "024ad35c"
    },
    {
      "cell_type": "code",
      "metadata": {
        "id": "50c526c1",
        "outputId": "5d168675-c3b6-4a24-c72a-f597bf7582e5"
      },
      "source": [
        "s = 'She said,\"What\\'s up?\"'\n",
        "print(s)"
      ],
      "id": "50c526c1",
      "execution_count": null,
      "outputs": [
        {
          "output_type": "stream",
          "text": [
            "She said,\"What's up?\"\n"
          ],
          "name": "stdout"
        }
      ]
    },
    {
      "cell_type": "code",
      "metadata": {
        "id": "6266a363",
        "outputId": "ca07be66-28c2-4eed-fcd2-4a58a52e7369"
      },
      "source": [
        "txt = \"Hello Dina!\\nHow you doin\\'?\"\n",
        "print(txt)"
      ],
      "id": "6266a363",
      "execution_count": null,
      "outputs": [
        {
          "output_type": "stream",
          "text": [
            "Hello Dina!\n",
            "How you doin'?\n"
          ],
          "name": "stdout"
        }
      ]
    },
    {
      "cell_type": "code",
      "metadata": {
        "id": "6187b159",
        "outputId": "db60988d-685b-4c63-f84b-ed90ae99b2fb"
      },
      "source": [
        "c = \"She has to \\\"create\\\" a folder\"\n",
        "print(c)"
      ],
      "id": "6187b159",
      "execution_count": null,
      "outputs": [
        {
          "output_type": "stream",
          "text": [
            "She has to \"create\" a folder\n"
          ],
          "name": "stdout"
        }
      ]
    },
    {
      "cell_type": "code",
      "metadata": {
        "id": "6f4e22cc",
        "outputId": "482fd122-746a-49f1-8bd9-779329f4231e"
      },
      "source": [
        "ps = 'You should go shopping.\\nMy cart 🛒 is almost this \\t\\t\\t empty' \n",
        "print(ps)"
      ],
      "id": "6f4e22cc",
      "execution_count": null,
      "outputs": [
        {
          "output_type": "stream",
          "text": [
            "You should go shopping.\n",
            "My cart 🛒 is almost this \t\t\t empty\n"
          ],
          "name": "stdout"
        }
      ]
    },
    {
      "cell_type": "code",
      "metadata": {
        "id": "632a0efe",
        "outputId": "1ddd0da1-1d85-411d-d126-22c4d471394d"
      },
      "source": [
        "x = \"go there\\\\ :)\"\n",
        "print(x)"
      ],
      "id": "632a0efe",
      "execution_count": null,
      "outputs": [
        {
          "output_type": "stream",
          "text": [
            "go there\\ :)\n"
          ],
          "name": "stdout"
        }
      ]
    },
    {
      "cell_type": "markdown",
      "metadata": {
        "id": "26684752"
      },
      "source": [
        "## Formatted Strings"
      ],
      "id": "26684752"
    },
    {
      "cell_type": "code",
      "metadata": {
        "id": "e026580a",
        "outputId": "9a570d13-259a-4611-a251-109dff263e4c"
      },
      "source": [
        "first = \"Little\"\n",
        "second = \"Animal\"\n",
        "s = f\"{first} {second}\"\n",
        "print(s)"
      ],
      "id": "e026580a",
      "execution_count": null,
      "outputs": [
        {
          "output_type": "stream",
          "text": [
            "Little Animal\n"
          ],
          "name": "stdout"
        }
      ]
    },
    {
      "cell_type": "code",
      "metadata": {
        "id": "b93e461a",
        "outputId": "45730722-46f1-4121-926c-bb8ac03434aa"
      },
      "source": [
        "first = \"Little\"\n",
        "second = \"Animal\"\n",
        "s = f\"{len(first)} {len(second)}\"\n",
        "print(s)"
      ],
      "id": "b93e461a",
      "execution_count": null,
      "outputs": [
        {
          "output_type": "stream",
          "text": [
            "6 6\n"
          ],
          "name": "stdout"
        }
      ]
    },
    {
      "cell_type": "code",
      "metadata": {
        "id": "e7379074",
        "outputId": "a32f6462-4454-473a-ebf9-6c1583127da4"
      },
      "source": [
        "s = \"I play {} for {}\".format(\"tennis\", \"fun\")\n",
        "print(s)"
      ],
      "id": "e7379074",
      "execution_count": null,
      "outputs": [
        {
          "output_type": "stream",
          "text": [
            "I play tennis for fun\n"
          ],
          "name": "stdout"
        }
      ]
    },
    {
      "cell_type": "code",
      "metadata": {
        "id": "ea7d9927",
        "outputId": "c06a0af2-2b21-4baa-98eb-c99ec06b2b76"
      },
      "source": [
        "print('{0} and {1}'.format('Bread', 'Butter'))"
      ],
      "id": "ea7d9927",
      "execution_count": null,
      "outputs": [
        {
          "output_type": "stream",
          "text": [
            "Bread and Butter\n"
          ],
          "name": "stdout"
        }
      ]
    },
    {
      "cell_type": "code",
      "metadata": {
        "id": "8ffd4537",
        "outputId": "a84ff021-4813-45d5-ed01-6e402ebdda34"
      },
      "source": [
        "print('Hey {1}! please have a {0}'.format('seat', 'there'))"
      ],
      "id": "8ffd4537",
      "execution_count": null,
      "outputs": [
        {
          "output_type": "stream",
          "text": [
            "Hey there! please have a seat\n"
          ],
          "name": "stdout"
        }
      ]
    },
    {
      "cell_type": "markdown",
      "metadata": {
        "id": "6ceb1dab"
      },
      "source": [
        "## String Method"
      ],
      "id": "6ceb1dab"
    },
    {
      "cell_type": "code",
      "metadata": {
        "id": "faabdce8",
        "outputId": "4af68e26-c298-4f89-abe9-14a606a3f209"
      },
      "source": [
        "text = \"congratulations people\"\n",
        "print(text.upper())"
      ],
      "id": "faabdce8",
      "execution_count": null,
      "outputs": [
        {
          "output_type": "stream",
          "text": [
            "CONGRATULATIONS PEOPLE\n"
          ],
          "name": "stdout"
        }
      ]
    },
    {
      "cell_type": "code",
      "metadata": {
        "id": "fe469092",
        "outputId": "1be9523d-fba9-4a1f-abdc-962b026e7f6e"
      },
      "source": [
        "print(text.lower())"
      ],
      "id": "fe469092",
      "execution_count": null,
      "outputs": [
        {
          "output_type": "stream",
          "text": [
            "congratulations people\n"
          ],
          "name": "stdout"
        }
      ]
    },
    {
      "cell_type": "code",
      "metadata": {
        "id": "07a1f975",
        "outputId": "88335a18-c0ac-4a4f-f05c-e1aaa36a3138"
      },
      "source": [
        "print(text.title())"
      ],
      "id": "07a1f975",
      "execution_count": null,
      "outputs": [
        {
          "output_type": "stream",
          "text": [
            "Congratulations People\n"
          ],
          "name": "stdout"
        }
      ]
    },
    {
      "cell_type": "code",
      "metadata": {
        "id": "282e5de5",
        "outputId": "7f0b7817-781c-4494-cf50-4b8ab90b9f20"
      },
      "source": [
        "print(text.find(\"tion\"))"
      ],
      "id": "282e5de5",
      "execution_count": null,
      "outputs": [
        {
          "output_type": "stream",
          "text": [
            "10\n"
          ],
          "name": "stdout"
        }
      ]
    },
    {
      "cell_type": "code",
      "metadata": {
        "id": "6fe03c72",
        "outputId": "4f65f3f7-2175-4145-b630-6512e8d472d4"
      },
      "source": [
        "print(text.find(\"Con\"))"
      ],
      "id": "6fe03c72",
      "execution_count": null,
      "outputs": [
        {
          "output_type": "stream",
          "text": [
            "-1\n"
          ],
          "name": "stdout"
        }
      ]
    },
    {
      "cell_type": "code",
      "metadata": {
        "id": "7be4fdb2",
        "outputId": "24c4faf3-89ed-4b64-ce44-19ef5824f648"
      },
      "source": [
        "print(text.replace(\"people\", \"coders\"))"
      ],
      "id": "7be4fdb2",
      "execution_count": null,
      "outputs": [
        {
          "output_type": "stream",
          "text": [
            "congratulations coders\n"
          ],
          "name": "stdout"
        }
      ]
    },
    {
      "cell_type": "code",
      "metadata": {
        "id": "ede016fb",
        "outputId": "5f99f0e3-d1c1-41cb-9cfc-c8cb92f67c9e"
      },
      "source": [
        "print(\"leo\" in text)"
      ],
      "id": "ede016fb",
      "execution_count": null,
      "outputs": [
        {
          "output_type": "stream",
          "text": [
            "False\n"
          ],
          "name": "stdout"
        }
      ]
    },
    {
      "cell_type": "code",
      "metadata": {
        "id": "691a9897",
        "outputId": "f0ba2310-4c32-4df4-fa83-0b420f27132d"
      },
      "source": [
        "print(\"people\" in text)"
      ],
      "id": "691a9897",
      "execution_count": null,
      "outputs": [
        {
          "output_type": "stream",
          "text": [
            "True\n"
          ],
          "name": "stdout"
        }
      ]
    },
    {
      "cell_type": "markdown",
      "metadata": {
        "id": "f30c4af6"
      },
      "source": [
        "## Numbers"
      ],
      "id": "f30c4af6"
    },
    {
      "cell_type": "code",
      "metadata": {
        "id": "9116b2f4",
        "outputId": "3720d4da-0c8a-4d5d-bed4-a7ea2943278d"
      },
      "source": [
        "print(round(8.7))"
      ],
      "id": "9116b2f4",
      "execution_count": null,
      "outputs": [
        {
          "output_type": "stream",
          "text": [
            "9\n"
          ],
          "name": "stdout"
        }
      ]
    },
    {
      "cell_type": "code",
      "metadata": {
        "id": "d5c7825b",
        "outputId": "4bfc28f8-66f4-4a36-cbab-6ba3db95b8c6"
      },
      "source": [
        "print(round(8.2))"
      ],
      "id": "d5c7825b",
      "execution_count": null,
      "outputs": [
        {
          "output_type": "stream",
          "text": [
            "8\n"
          ],
          "name": "stdout"
        }
      ]
    },
    {
      "cell_type": "code",
      "metadata": {
        "id": "f44f10e2",
        "outputId": "55407cf4-48ca-4d77-a20f-f98684e2437c"
      },
      "source": [
        "print(round(5.5))"
      ],
      "id": "f44f10e2",
      "execution_count": null,
      "outputs": [
        {
          "output_type": "stream",
          "text": [
            "6\n"
          ],
          "name": "stdout"
        }
      ]
    },
    {
      "cell_type": "code",
      "metadata": {
        "id": "fe4ec9d3",
        "outputId": "378f9503-1ba4-4b71-eeee-e968df50f17f"
      },
      "source": [
        "print(abs(-2.6))"
      ],
      "id": "fe4ec9d3",
      "execution_count": null,
      "outputs": [
        {
          "output_type": "stream",
          "text": [
            "2.6\n"
          ],
          "name": "stdout"
        }
      ]
    },
    {
      "cell_type": "code",
      "metadata": {
        "id": "03f60576",
        "outputId": "d3542780-7b66-4edb-f1a0-0e7162cbe76c"
      },
      "source": [
        "print(abs(round(-4.6)))"
      ],
      "id": "03f60576",
      "execution_count": null,
      "outputs": [
        {
          "output_type": "stream",
          "text": [
            "5\n"
          ],
          "name": "stdout"
        }
      ]
    },
    {
      "cell_type": "code",
      "metadata": {
        "id": "15037dba",
        "outputId": "283a9434-dd47-4dce-9ce7-f25cb6caee6d"
      },
      "source": [
        "import math\n",
        "\n",
        "print(math.ceil(4.0))"
      ],
      "id": "15037dba",
      "execution_count": null,
      "outputs": [
        {
          "output_type": "stream",
          "text": [
            "4\n"
          ],
          "name": "stdout"
        }
      ]
    },
    {
      "cell_type": "code",
      "metadata": {
        "id": "933d902c",
        "outputId": "77103861-1796-4702-d173-2bb02d6c5272"
      },
      "source": [
        "print(math.ceil(4.2))"
      ],
      "id": "933d902c",
      "execution_count": null,
      "outputs": [
        {
          "output_type": "stream",
          "text": [
            "5\n"
          ],
          "name": "stdout"
        }
      ]
    },
    {
      "cell_type": "code",
      "metadata": {
        "id": "dd41cb52",
        "outputId": "bb8ea986-e602-4260-a200-a180b515d662"
      },
      "source": [
        "print(math.ceil(4.8))"
      ],
      "id": "dd41cb52",
      "execution_count": null,
      "outputs": [
        {
          "output_type": "stream",
          "text": [
            "5\n"
          ],
          "name": "stdout"
        }
      ]
    },
    {
      "cell_type": "code",
      "metadata": {
        "id": "42c9e12f",
        "outputId": "397a1515-bdbd-4e39-f552-f5704c3859dd"
      },
      "source": [
        "print(math.factorial(4))"
      ],
      "id": "42c9e12f",
      "execution_count": null,
      "outputs": [
        {
          "output_type": "stream",
          "text": [
            "24\n"
          ],
          "name": "stdout"
        }
      ]
    },
    {
      "cell_type": "code",
      "metadata": {
        "id": "793899c0",
        "outputId": "557940a4-5427-49d3-da4f-9b462ed20715"
      },
      "source": [
        "print(pow(2, -2))"
      ],
      "id": "793899c0",
      "execution_count": null,
      "outputs": [
        {
          "output_type": "stream",
          "text": [
            "0.25\n"
          ],
          "name": "stdout"
        }
      ]
    },
    {
      "cell_type": "code",
      "metadata": {
        "id": "4f76e083",
        "outputId": "70daac1b-11c1-4557-b996-1a5f750d3253"
      },
      "source": [
        "print(pow(4, 2))"
      ],
      "id": "4f76e083",
      "execution_count": null,
      "outputs": [
        {
          "output_type": "stream",
          "text": [
            "16\n"
          ],
          "name": "stdout"
        }
      ]
    },
    {
      "cell_type": "code",
      "metadata": {
        "id": "e0943262",
        "outputId": "a90db707-2502-46b1-b0c3-6ef732bd3d72"
      },
      "source": [
        "print(pow (2, 6, 2))"
      ],
      "id": "e0943262",
      "execution_count": null,
      "outputs": [
        {
          "output_type": "stream",
          "text": [
            "0\n"
          ],
          "name": "stdout"
        }
      ]
    },
    {
      "cell_type": "code",
      "metadata": {
        "id": "49eae578",
        "outputId": "8f8098ce-938f-4c39-de39-00bf4500b297"
      },
      "source": [
        "n = 7.414\n",
        "f\"Value of n is {n:.1f}\"\n"
      ],
      "id": "49eae578",
      "execution_count": null,
      "outputs": [
        {
          "output_type": "execute_result",
          "data": {
            "text/plain": [
              "'Value of n is 7.4'"
            ]
          },
          "metadata": {
            "tags": []
          },
          "execution_count": 98
        }
      ]
    },
    {
      "cell_type": "code",
      "metadata": {
        "id": "087f72fc"
      },
      "source": [
        ""
      ],
      "id": "087f72fc",
      "execution_count": null,
      "outputs": []
    }
  ]
}