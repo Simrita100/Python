{
  "nbformat": 4,
  "nbformat_minor": 5,
  "metadata": {
    "kernelspec": {
      "display_name": "Python 3",
      "language": "python",
      "name": "python3"
    },
    "language_info": {
      "codemirror_mode": {
        "name": "ipython",
        "version": 3
      },
      "file_extension": ".py",
      "mimetype": "text/x-python",
      "name": "python",
      "nbconvert_exporter": "python",
      "pygments_lexer": "ipython3",
      "version": "3.8.10"
    },
    "colab": {
      "name": "practice-exercise-4-sets.ipynb",
      "provenance": [],
      "include_colab_link": true
    }
  },
  "cells": [
    {
      "cell_type": "markdown",
      "metadata": {
        "id": "view-in-github",
        "colab_type": "text"
      },
      "source": [
        "<a href=\"https://colab.research.google.com/github/Simrita100/Python/blob/main/practice_exercise_4_sets.ipynb\" target=\"_parent\"><img src=\"https://colab.research.google.com/assets/colab-badge.svg\" alt=\"Open In Colab\"/></a>"
      ]
    },
    {
      "cell_type": "code",
      "metadata": {
        "id": "b84ae1cb",
        "outputId": "64f5d7e5-4b5d-4d7b-9f8f-c75dbe84ede1"
      },
      "source": [
        "fruits = {'mango', 'apple', 'orange', 'guava'}\n",
        "print(fruits)"
      ],
      "id": "b84ae1cb",
      "execution_count": null,
      "outputs": [
        {
          "output_type": "stream",
          "text": [
            "{'mango', 'apple', 'guava', 'orange'}\n"
          ],
          "name": "stdout"
        }
      ]
    },
    {
      "cell_type": "code",
      "metadata": {
        "id": "fd814983",
        "outputId": "f48f0059-da56-43ab-952a-f69137c4127a"
      },
      "source": [
        "fruits = {'mango', 'apple', 'orange', 'guava', 'mango'}\n",
        "print(fruits)"
      ],
      "id": "fd814983",
      "execution_count": null,
      "outputs": [
        {
          "output_type": "stream",
          "text": [
            "{'mango', 'apple', 'guava', 'orange'}\n"
          ],
          "name": "stdout"
        }
      ]
    },
    {
      "cell_type": "code",
      "metadata": {
        "id": "4999963d",
        "outputId": "935c38f2-f5ce-458d-8537-6710523a7ec8"
      },
      "source": [
        "fruits = {'mango', 'apple', 'orange', 'guava'}\n",
        "print(len(fruits))"
      ],
      "id": "4999963d",
      "execution_count": null,
      "outputs": [
        {
          "output_type": "stream",
          "text": [
            "4\n"
          ],
          "name": "stdout"
        }
      ]
    },
    {
      "cell_type": "code",
      "metadata": {
        "id": "6e8bd0c6",
        "outputId": "6346e109-c682-42e2-a25c-aee7acdf0491"
      },
      "source": [
        "set1 = {'mango', 'apple', 'orange', 'guava'}\n",
        "set2 = {10, 20, 30, 40, 50, 60}\n",
        "set3 = {False, True}\n",
        "print(set1)\n",
        "print(set2)\n",
        "print(set3)"
      ],
      "id": "6e8bd0c6",
      "execution_count": null,
      "outputs": [
        {
          "output_type": "stream",
          "text": [
            "{'mango', 'apple', 'guava', 'orange'}\n",
            "{40, 10, 50, 20, 60, 30}\n",
            "{False, True}\n"
          ],
          "name": "stdout"
        }
      ]
    },
    {
      "cell_type": "code",
      "metadata": {
        "id": "8758e2c5",
        "outputId": "d4b38e39-e081-4a38-e980-0f1e7d836cc2"
      },
      "source": [
        "print(type(fruits))"
      ],
      "id": "8758e2c5",
      "execution_count": null,
      "outputs": [
        {
          "output_type": "stream",
          "text": [
            "<class 'set'>\n"
          ],
          "name": "stdout"
        }
      ]
    },
    {
      "cell_type": "code",
      "metadata": {
        "id": "6d2c4de3",
        "outputId": "3fe4bff6-b25f-4b49-b8b9-bcfa879a8d03"
      },
      "source": [
        "thisset = set(('mango', 'apple', 'orange', 'guava'))\n",
        "print(thisset)"
      ],
      "id": "6d2c4de3",
      "execution_count": null,
      "outputs": [
        {
          "output_type": "stream",
          "text": [
            "{'mango', 'apple', 'guava', 'orange'}\n"
          ],
          "name": "stdout"
        }
      ]
    },
    {
      "cell_type": "code",
      "metadata": {
        "id": "9093d741",
        "outputId": "a60f45b9-596d-40f5-addd-a6704044f7ea"
      },
      "source": [
        "fruits = {'mango', 'apple', 'orange', 'guava'}\n",
        "for x in fruits:\n",
        "    print(x)"
      ],
      "id": "9093d741",
      "execution_count": null,
      "outputs": [
        {
          "output_type": "stream",
          "text": [
            "mango\n",
            "apple\n",
            "guava\n",
            "orange\n"
          ],
          "name": "stdout"
        }
      ]
    },
    {
      "cell_type": "code",
      "metadata": {
        "id": "c6589dfe",
        "outputId": "d0844d8c-654c-41a8-89c5-3c49cfdf9c60"
      },
      "source": [
        "print(\"orange\" in fruits)"
      ],
      "id": "c6589dfe",
      "execution_count": null,
      "outputs": [
        {
          "output_type": "stream",
          "text": [
            "True\n"
          ],
          "name": "stdout"
        }
      ]
    },
    {
      "cell_type": "code",
      "metadata": {
        "id": "5039ef1c",
        "outputId": "40333da4-d545-457b-e2b2-5663b3d006ab"
      },
      "source": [
        "fruits = {'mango', 'apple', 'orange', 'guava'}\n",
        "fruits.add(\"watermelon\")\n",
        "print(fruits)"
      ],
      "id": "5039ef1c",
      "execution_count": null,
      "outputs": [
        {
          "output_type": "stream",
          "text": [
            "{'watermelon', 'orange', 'mango', 'guava', 'apple'}\n"
          ],
          "name": "stdout"
        }
      ]
    },
    {
      "cell_type": "code",
      "metadata": {
        "id": "f9c47dec",
        "outputId": "d834cacc-6848-4885-a56a-ba3efed725d6"
      },
      "source": [
        "fruits = {'mango', 'apple', 'orange', 'guava'}\n",
        "other_fruits = {\"strawberry\", \"pear\"}\n",
        "fruits.update(other_fruits)\n",
        "print(fruits)"
      ],
      "id": "f9c47dec",
      "execution_count": null,
      "outputs": [
        {
          "output_type": "stream",
          "text": [
            "{'mango', 'guava', 'strawberry', 'pear', 'apple', 'orange'}\n"
          ],
          "name": "stdout"
        }
      ]
    },
    {
      "cell_type": "code",
      "metadata": {
        "id": "3c71eba7",
        "outputId": "6793a3c7-f5c1-4d97-ecd4-4b2bb85a67f6"
      },
      "source": [
        "fruits = {'mango', 'apple', 'orange', 'guava'}\n",
        "others = [\"blueberry\", \"avocado\"]\n",
        "fruits.update(others)\n",
        "print(fruits)"
      ],
      "id": "3c71eba7",
      "execution_count": null,
      "outputs": [
        {
          "output_type": "stream",
          "text": [
            "{'orange', 'mango', 'avocado', 'blueberry', 'guava', 'apple'}\n"
          ],
          "name": "stdout"
        }
      ]
    },
    {
      "cell_type": "code",
      "metadata": {
        "id": "6eee0457",
        "outputId": "cd7a260c-e9dc-48d8-9385-dffc3336c520"
      },
      "source": [
        "fruits = {'mango', 'apricot', 'orange', 'guava'}\n",
        "fruits.remove('guava')\n",
        "print(fruits)"
      ],
      "id": "6eee0457",
      "execution_count": null,
      "outputs": [
        {
          "output_type": "stream",
          "text": [
            "{'mango', 'apricot', 'orange'}\n"
          ],
          "name": "stdout"
        }
      ]
    },
    {
      "cell_type": "code",
      "metadata": {
        "id": "1c95c85b",
        "outputId": "acfad3e8-d746-4c9d-ed82-bb364d0d817a"
      },
      "source": [
        "fruits = {'mango', 'avocado', 'orange', 'guava'}\n",
        "fruits.discard(\"guava\")\n",
        "print(fruits)\n"
      ],
      "id": "1c95c85b",
      "execution_count": null,
      "outputs": [
        {
          "output_type": "stream",
          "text": [
            "{'mango', 'avocado', 'orange'}\n"
          ],
          "name": "stdout"
        }
      ]
    },
    {
      "cell_type": "code",
      "metadata": {
        "id": "5c6f56f1",
        "outputId": "344d74cf-f715-4edc-ecd3-adcf7a0e9162"
      },
      "source": [
        "fruits.discard(\"watermelon\")\n",
        "print(fruits)"
      ],
      "id": "5c6f56f1",
      "execution_count": null,
      "outputs": [
        {
          "output_type": "stream",
          "text": [
            "{'mango', 'avocado', 'orange'}\n"
          ],
          "name": "stdout"
        }
      ]
    },
    {
      "cell_type": "code",
      "metadata": {
        "id": "d4363887",
        "outputId": "0742e124-6323-4abf-f28e-3d5724f2d019"
      },
      "source": [
        "fruits = {'mango', 'avocado', 'orange', 'guava', 'apple'}\n",
        "x = fruits.pop()\n",
        "print(x)\n",
        "print(fruits)\n"
      ],
      "id": "d4363887",
      "execution_count": null,
      "outputs": [
        {
          "output_type": "stream",
          "text": [
            "orange\n",
            "{'mango', 'avocado', 'guava', 'apple'}\n"
          ],
          "name": "stdout"
        }
      ]
    },
    {
      "cell_type": "code",
      "metadata": {
        "id": "838dfab9",
        "outputId": "18912ec9-7be3-4f3f-e86a-05c82c5846c9"
      },
      "source": [
        "fruits = {'mango', 'avocado', 'orange', 'guava'}\n",
        "fruits.clear()\n",
        "print(fruits)"
      ],
      "id": "838dfab9",
      "execution_count": null,
      "outputs": [
        {
          "output_type": "stream",
          "text": [
            "set()\n"
          ],
          "name": "stdout"
        }
      ]
    },
    {
      "cell_type": "code",
      "metadata": {
        "id": "fe197a63",
        "outputId": "e07aff2f-bf0a-4a53-dbf9-af08f21d5319"
      },
      "source": [
        "fruits = {'mango', 'avocado', 'orange', 'guava'}\n",
        "del fruits\n",
        "print(fruits)"
      ],
      "id": "fe197a63",
      "execution_count": null,
      "outputs": [
        {
          "output_type": "error",
          "ename": "NameError",
          "evalue": "name 'fruits' is not defined",
          "traceback": [
            "\u001b[1;31m---------------------------------------------------------------------------\u001b[0m",
            "\u001b[1;31mNameError\u001b[0m                                 Traceback (most recent call last)",
            "\u001b[1;32m<ipython-input-18-3916a296a5c8>\u001b[0m in \u001b[0;36m<module>\u001b[1;34m\u001b[0m\n\u001b[0;32m      1\u001b[0m \u001b[0mfruits\u001b[0m \u001b[1;33m=\u001b[0m \u001b[1;33m{\u001b[0m\u001b[1;34m'mango'\u001b[0m\u001b[1;33m,\u001b[0m \u001b[1;34m'avocado'\u001b[0m\u001b[1;33m,\u001b[0m \u001b[1;34m'orange'\u001b[0m\u001b[1;33m,\u001b[0m \u001b[1;34m'guava'\u001b[0m\u001b[1;33m}\u001b[0m\u001b[1;33m\u001b[0m\u001b[1;33m\u001b[0m\u001b[0m\n\u001b[0;32m      2\u001b[0m \u001b[1;32mdel\u001b[0m \u001b[0mfruits\u001b[0m\u001b[1;33m\u001b[0m\u001b[1;33m\u001b[0m\u001b[0m\n\u001b[1;32m----> 3\u001b[1;33m \u001b[0mprint\u001b[0m\u001b[1;33m(\u001b[0m\u001b[0mfruits\u001b[0m\u001b[1;33m)\u001b[0m\u001b[1;33m\u001b[0m\u001b[1;33m\u001b[0m\u001b[0m\n\u001b[0m",
            "\u001b[1;31mNameError\u001b[0m: name 'fruits' is not defined"
          ]
        }
      ]
    },
    {
      "cell_type": "code",
      "metadata": {
        "id": "cb169d5f",
        "outputId": "0e313b71-e6ba-4466-cd51-d75484fcc83c"
      },
      "source": [
        "fruits = {'mango', 'avocado', 'orange', 'guava'}\n",
        "for x in fruits:\n",
        "    print(x)"
      ],
      "id": "cb169d5f",
      "execution_count": null,
      "outputs": [
        {
          "output_type": "stream",
          "text": [
            "mango\n",
            "avocado\n",
            "guava\n",
            "orange\n"
          ],
          "name": "stdout"
        }
      ]
    },
    {
      "cell_type": "code",
      "metadata": {
        "id": "047c63c4",
        "outputId": "008badd7-8177-4b08-8a0c-d245c24b246f"
      },
      "source": [
        "set1 = {'a', 'b'}\n",
        "set2 = {1, 2}\n",
        "set3 = set1.union(set2)\n",
        "print(set3)"
      ],
      "id": "047c63c4",
      "execution_count": null,
      "outputs": [
        {
          "output_type": "stream",
          "text": [
            "{'b', 2, 'a', 1}\n"
          ],
          "name": "stdout"
        }
      ]
    },
    {
      "cell_type": "code",
      "metadata": {
        "id": "a5d81c2b",
        "outputId": "6abb826b-56a2-446c-dbd6-064b114496e0"
      },
      "source": [
        "set2.update(set1)\n",
        "print(set2)"
      ],
      "id": "a5d81c2b",
      "execution_count": null,
      "outputs": [
        {
          "output_type": "stream",
          "text": [
            "{'b', 1, 2, 'a'}\n"
          ],
          "name": "stdout"
        }
      ]
    },
    {
      "cell_type": "code",
      "metadata": {
        "id": "9f8dc106",
        "outputId": "4cff2b85-8c91-4237-c0bf-41c14a75c4de"
      },
      "source": [
        "x = {'pen', 'highlighter', 'pencil', 'ink'}\n",
        "y = {'book', 'pen', 'notebook', 'pen'}\n",
        "x.intersection_update(y)\n",
        "print(x)"
      ],
      "id": "9f8dc106",
      "execution_count": null,
      "outputs": [
        {
          "output_type": "stream",
          "text": [
            "{'pen'}\n"
          ],
          "name": "stdout"
        }
      ]
    },
    {
      "cell_type": "code",
      "metadata": {
        "id": "7d1b914c",
        "outputId": "3d2390d7-cf2c-46a7-883b-f242189f1f8b"
      },
      "source": [
        "fruits1 = {'mango', 'avocado', 'orange', 'guava'}\n",
        "fruits2 = {'watermelon', 'mango', 'apricot', 'avocado'}\n",
        "basket = fruits1.intersection(fruits2)\n",
        "print(basket)\n"
      ],
      "id": "7d1b914c",
      "execution_count": null,
      "outputs": [
        {
          "output_type": "stream",
          "text": [
            "{'mango', 'avocado'}\n"
          ],
          "name": "stdout"
        }
      ]
    },
    {
      "cell_type": "code",
      "metadata": {
        "id": "2c40baa4",
        "outputId": "1930f28d-ca5f-4c7b-b2d8-f5b4ee00c0df"
      },
      "source": [
        "fruits1 = {'mango', 'avocado', 'orange', 'guava'}\n",
        "fruits2 = {'watermelon', 'mango', 'apricot', 'avocado'}\n",
        "fruits1.symmetric_difference_update(fruits2)\n",
        "print(fruits1)"
      ],
      "id": "2c40baa4",
      "execution_count": null,
      "outputs": [
        {
          "output_type": "stream",
          "text": [
            "{'guava', 'watermelon', 'apricot', 'orange'}\n"
          ],
          "name": "stdout"
        }
      ]
    },
    {
      "cell_type": "code",
      "metadata": {
        "id": "0eda95c9",
        "outputId": "2201aad5-3b35-41c7-fcc1-e84cf67003d6"
      },
      "source": [
        "fruits1 = {'mango', 'avocado', 'orange', 'guava'}\n",
        "fruits2 = {'watermelon', 'mango', 'apricot', 'avocado'}\n",
        "basket = fruits1.symmetric_difference(fruits2)\n",
        "print(basket)"
      ],
      "id": "0eda95c9",
      "execution_count": null,
      "outputs": [
        {
          "output_type": "stream",
          "text": [
            "{'guava', 'watermelon', 'apricot', 'orange'}\n"
          ],
          "name": "stdout"
        }
      ]
    },
    {
      "cell_type": "code",
      "metadata": {
        "id": "5862e570"
      },
      "source": [
        ""
      ],
      "id": "5862e570",
      "execution_count": null,
      "outputs": []
    }
  ]
}