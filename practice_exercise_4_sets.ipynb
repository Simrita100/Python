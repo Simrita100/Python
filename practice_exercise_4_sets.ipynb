{
  "nbformat": 4,
  "nbformat_minor": 5,
  "metadata": {
    "kernelspec": {
      "display_name": "Python 3",
      "language": "python",
      "name": "python3"
    },
    "language_info": {
      "codemirror_mode": {
        "name": "ipython",
        "version": 3
      },
      "file_extension": ".py",
      "mimetype": "text/x-python",
      "name": "python",
      "nbconvert_exporter": "python",
      "pygments_lexer": "ipython3",
      "version": "3.8.10"
    },
    "colab": {
      "name": "practice-exercise-4-sets.ipynb",
      "provenance": [],
      "include_colab_link": true
    }
  },
  "cells": [
    {
      "cell_type": "markdown",
      "metadata": {
        "id": "view-in-github",
        "colab_type": "text"
      },
      "source": [
        "<a href=\"https://colab.research.google.com/github/Simrita100/Python/blob/main/practice_exercise_4_sets.ipynb\" target=\"_parent\"><img src=\"https://colab.research.google.com/assets/colab-badge.svg\" alt=\"Open In Colab\"/></a>"
      ]
    },
    {
      "cell_type": "code",
      "metadata": {
        "id": "b84ae1cb",
        "outputId": "b7f4bc13-1d7b-44da-e857-eaef6f576727"
      },
      "source": [
        "fruits = {'mango', 'apple', 'orange', 'guava'}\n",
        "print(fruits)"
      ],
      "id": "b84ae1cb",
      "execution_count": null,
      "outputs": [
        {
          "output_type": "stream",
          "text": [
            "{'mango', 'apple', 'guava', 'orange'}\n"
          ],
          "name": "stdout"
        }
      ]
    },
    {
      "cell_type": "code",
      "metadata": {
        "id": "fd814983",
        "outputId": "b2e04f32-f777-48cc-95e4-391e56482a25"
      },
      "source": [
        "fruits = {'mango', 'apple', 'orange', 'guava', 'mango'}\n",
        "print(fruits)"
      ],
      "id": "fd814983",
      "execution_count": null,
      "outputs": [
        {
          "output_type": "stream",
          "text": [
            "{'mango', 'apple', 'guava', 'orange'}\n"
          ],
          "name": "stdout"
        }
      ]
    },
    {
      "cell_type": "code",
      "metadata": {
        "id": "4999963d",
        "outputId": "82eb99c1-86da-4ee7-c86e-3ba8e84c313e"
      },
      "source": [
        "fruits = {'mango', 'apple', 'orange', 'guava'}\n",
        "print(len(fruits))"
      ],
      "id": "4999963d",
      "execution_count": null,
      "outputs": [
        {
          "output_type": "stream",
          "text": [
            "4\n"
          ],
          "name": "stdout"
        }
      ]
    },
    {
      "cell_type": "code",
      "metadata": {
        "id": "6e8bd0c6",
        "outputId": "57062802-46a3-4f08-b7f0-6f88ecd59910"
      },
      "source": [
        "set1 = {'mango', 'apple', 'orange', 'guava'}\n",
        "set2 = {10, 20, 30, 40, 50, 60}\n",
        "set3 = {False, True}\n",
        "print(set1)\n",
        "print(set2)\n",
        "print(set3)"
      ],
      "id": "6e8bd0c6",
      "execution_count": null,
      "outputs": [
        {
          "output_type": "stream",
          "text": [
            "{'mango', 'apple', 'guava', 'orange'}\n",
            "{40, 10, 50, 20, 60, 30}\n",
            "{False, True}\n"
          ],
          "name": "stdout"
        }
      ]
    },
    {
      "cell_type": "code",
      "metadata": {
        "id": "8758e2c5",
        "outputId": "4030e7c9-1327-48c1-d3c4-368a597aaacd"
      },
      "source": [
        "print(type(fruits))"
      ],
      "id": "8758e2c5",
      "execution_count": null,
      "outputs": [
        {
          "output_type": "stream",
          "text": [
            "<class 'set'>\n"
          ],
          "name": "stdout"
        }
      ]
    },
    {
      "cell_type": "code",
      "metadata": {
        "id": "6d2c4de3",
        "outputId": "563c0648-4c20-42fe-9a78-10e237bc97d6"
      },
      "source": [
        "thisset = set(('mango', 'apple', 'orange', 'guava'))\n",
        "print(thisset)"
      ],
      "id": "6d2c4de3",
      "execution_count": null,
      "outputs": [
        {
          "output_type": "stream",
          "text": [
            "{'mango', 'apple', 'guava', 'orange'}\n"
          ],
          "name": "stdout"
        }
      ]
    },
    {
      "cell_type": "code",
      "metadata": {
        "id": "9093d741",
        "outputId": "2b9f8b2c-fa92-4fe3-d664-446f0f097eaa"
      },
      "source": [
        "fruits = {'mango', 'apple', 'orange', 'guava'}\n",
        "for x in fruits:\n",
        "    print(x)"
      ],
      "id": "9093d741",
      "execution_count": null,
      "outputs": [
        {
          "output_type": "stream",
          "text": [
            "mango\n",
            "apple\n",
            "guava\n",
            "orange\n"
          ],
          "name": "stdout"
        }
      ]
    },
    {
      "cell_type": "code",
      "metadata": {
        "id": "c6589dfe",
        "outputId": "e2a51c90-a6a6-4620-de9d-7d43b8d45883"
      },
      "source": [
        "print(\"orange\" in fruits)"
      ],
      "id": "c6589dfe",
      "execution_count": null,
      "outputs": [
        {
          "output_type": "stream",
          "text": [
            "True\n"
          ],
          "name": "stdout"
        }
      ]
    },
    {
      "cell_type": "code",
      "metadata": {
        "id": "5039ef1c",
        "outputId": "bac1e5db-b92e-489e-affb-413445d08c4f"
      },
      "source": [
        "fruits = {'mango', 'apple', 'orange', 'guava'}\n",
        "fruits.add(\"watermelon\")\n",
        "print(fruits)"
      ],
      "id": "5039ef1c",
      "execution_count": null,
      "outputs": [
        {
          "output_type": "stream",
          "text": [
            "{'watermelon', 'orange', 'mango', 'guava', 'apple'}\n"
          ],
          "name": "stdout"
        }
      ]
    },
    {
      "cell_type": "code",
      "metadata": {
        "id": "f9c47dec",
        "outputId": "c001c88c-ed09-40db-d848-3a9c2a4bb8d2"
      },
      "source": [
        "fruits = {'mango', 'apple', 'orange', 'guava'}\n",
        "other_fruits = {\"strawberry\", \"pear\"}\n",
        "fruits.update(other_fruits)\n",
        "print(fruits)"
      ],
      "id": "f9c47dec",
      "execution_count": null,
      "outputs": [
        {
          "output_type": "stream",
          "text": [
            "{'mango', 'guava', 'strawberry', 'pear', 'apple', 'orange'}\n"
          ],
          "name": "stdout"
        }
      ]
    },
    {
      "cell_type": "code",
      "metadata": {
        "id": "3c71eba7",
        "outputId": "4ff68f25-d847-4ca8-d0a4-86a4987b78f6"
      },
      "source": [
        "fruits = {'mango', 'apple', 'orange', 'guava'}\n",
        "others = [\"blueberry\", \"avocado\"]\n",
        "fruits.update(others)\n",
        "print(fruits)"
      ],
      "id": "3c71eba7",
      "execution_count": null,
      "outputs": [
        {
          "output_type": "stream",
          "text": [
            "{'orange', 'mango', 'avocado', 'blueberry', 'guava', 'apple'}\n"
          ],
          "name": "stdout"
        }
      ]
    },
    {
      "cell_type": "code",
      "metadata": {
        "id": "6eee0457",
        "outputId": "e9891a41-7a88-4106-96dd-726c06bf5aac"
      },
      "source": [
        "fruits = {'mango', 'apricot', 'orange', 'guava'}\n",
        "fruits.remove('guava')\n",
        "print(fruits)"
      ],
      "id": "6eee0457",
      "execution_count": null,
      "outputs": [
        {
          "output_type": "stream",
          "text": [
            "{'mango', 'apricot', 'orange'}\n"
          ],
          "name": "stdout"
        }
      ]
    },
    {
      "cell_type": "code",
      "metadata": {
        "id": "1c95c85b",
        "outputId": "4923fee2-0ab6-40e8-a0a3-a2070ceeef4e"
      },
      "source": [
        "fruits = {'mango', 'avocado', 'orange', 'guava'}\n",
        "fruits.discard(\"guava\")\n",
        "print(fruits)\n"
      ],
      "id": "1c95c85b",
      "execution_count": null,
      "outputs": [
        {
          "output_type": "stream",
          "text": [
            "{'mango', 'avocado', 'orange'}\n"
          ],
          "name": "stdout"
        }
      ]
    },
    {
      "cell_type": "code",
      "metadata": {
        "id": "5c6f56f1",
        "outputId": "74ccd421-096d-40e5-e993-b3dc82418405"
      },
      "source": [
        "fruits.discard(\"watermelon\")\n",
        "print(fruits)"
      ],
      "id": "5c6f56f1",
      "execution_count": null,
      "outputs": [
        {
          "output_type": "stream",
          "text": [
            "{'mango', 'avocado', 'orange'}\n"
          ],
          "name": "stdout"
        }
      ]
    },
    {
      "cell_type": "code",
      "metadata": {
        "id": "d4363887",
        "outputId": "259d3f1c-4123-4bf3-e0fe-0eca58db2a1e"
      },
      "source": [
        "fruits = {'mango', 'avocado', 'orange', 'guava', 'apple'}\n",
        "x = fruits.pop()\n",
        "print(x)\n",
        "print(fruits)\n"
      ],
      "id": "d4363887",
      "execution_count": null,
      "outputs": [
        {
          "output_type": "stream",
          "text": [
            "orange\n",
            "{'mango', 'avocado', 'guava', 'apple'}\n"
          ],
          "name": "stdout"
        }
      ]
    },
    {
      "cell_type": "code",
      "metadata": {
        "id": "838dfab9",
        "outputId": "5774d655-86ac-4033-efe5-63b16a83bcd2"
      },
      "source": [
        "fruits = {'mango', 'avocado', 'orange', 'guava'}\n",
        "fruits.clear()\n",
        "print(fruits)"
      ],
      "id": "838dfab9",
      "execution_count": null,
      "outputs": [
        {
          "output_type": "stream",
          "text": [
            "set()\n"
          ],
          "name": "stdout"
        }
      ]
    },
    {
      "cell_type": "code",
      "metadata": {
        "id": "fe197a63",
        "outputId": "eed55ce4-5484-4c40-f088-24e3efa39b9c"
      },
      "source": [
        "fruits = {'mango', 'avocado', 'orange', 'guava'}\n",
        "del fruits\n",
        "print(fruits)"
      ],
      "id": "fe197a63",
      "execution_count": null,
      "outputs": [
        {
          "output_type": "error",
          "ename": "NameError",
          "evalue": "name 'fruits' is not defined",
          "traceback": [
            "\u001b[1;31m---------------------------------------------------------------------------\u001b[0m",
            "\u001b[1;31mNameError\u001b[0m                                 Traceback (most recent call last)",
            "\u001b[1;32m<ipython-input-18-3916a296a5c8>\u001b[0m in \u001b[0;36m<module>\u001b[1;34m\u001b[0m\n\u001b[0;32m      1\u001b[0m \u001b[0mfruits\u001b[0m \u001b[1;33m=\u001b[0m \u001b[1;33m{\u001b[0m\u001b[1;34m'mango'\u001b[0m\u001b[1;33m,\u001b[0m \u001b[1;34m'avocado'\u001b[0m\u001b[1;33m,\u001b[0m \u001b[1;34m'orange'\u001b[0m\u001b[1;33m,\u001b[0m \u001b[1;34m'guava'\u001b[0m\u001b[1;33m}\u001b[0m\u001b[1;33m\u001b[0m\u001b[1;33m\u001b[0m\u001b[0m\n\u001b[0;32m      2\u001b[0m \u001b[1;32mdel\u001b[0m \u001b[0mfruits\u001b[0m\u001b[1;33m\u001b[0m\u001b[1;33m\u001b[0m\u001b[0m\n\u001b[1;32m----> 3\u001b[1;33m \u001b[0mprint\u001b[0m\u001b[1;33m(\u001b[0m\u001b[0mfruits\u001b[0m\u001b[1;33m)\u001b[0m\u001b[1;33m\u001b[0m\u001b[1;33m\u001b[0m\u001b[0m\n\u001b[0m",
            "\u001b[1;31mNameError\u001b[0m: name 'fruits' is not defined"
          ]
        }
      ]
    },
    {
      "cell_type": "code",
      "metadata": {
        "id": "cb169d5f",
        "outputId": "64b2d335-ef39-405f-ef22-226cd5374508"
      },
      "source": [
        "fruits = {'mango', 'avocado', 'orange', 'guava'}\n",
        "for x in fruits:\n",
        "    print(x)"
      ],
      "id": "cb169d5f",
      "execution_count": null,
      "outputs": [
        {
          "output_type": "stream",
          "text": [
            "mango\n",
            "avocado\n",
            "guava\n",
            "orange\n"
          ],
          "name": "stdout"
        }
      ]
    },
    {
      "cell_type": "code",
      "metadata": {
        "id": "047c63c4",
        "outputId": "0a55f785-e4ec-4bac-c343-9bf9deabd04c"
      },
      "source": [
        "set1 = {'a', 'b'}\n",
        "set2 = {1, 2}\n",
        "set3 = set1.union(set2)\n",
        "print(set3)"
      ],
      "id": "047c63c4",
      "execution_count": null,
      "outputs": [
        {
          "output_type": "stream",
          "text": [
            "{'b', 2, 'a', 1}\n"
          ],
          "name": "stdout"
        }
      ]
    },
    {
      "cell_type": "code",
      "metadata": {
        "id": "a5d81c2b",
        "outputId": "b52ef9c6-9308-4110-a88f-2de0c853d00e"
      },
      "source": [
        "set2.update(set1)\n",
        "print(set2)"
      ],
      "id": "a5d81c2b",
      "execution_count": null,
      "outputs": [
        {
          "output_type": "stream",
          "text": [
            "{'b', 1, 2, 'a'}\n"
          ],
          "name": "stdout"
        }
      ]
    },
    {
      "cell_type": "code",
      "metadata": {
        "id": "9f8dc106",
        "outputId": "99383ee3-3a0a-4bd0-87c7-423144ff7142"
      },
      "source": [
        "x = {'pen', 'highlighter', 'pencil', 'ink'}\n",
        "y = {'book', 'pen', 'notebook', 'pen'}\n",
        "x.intersection_update(y)\n",
        "print(x)"
      ],
      "id": "9f8dc106",
      "execution_count": null,
      "outputs": [
        {
          "output_type": "stream",
          "text": [
            "{'pen'}\n"
          ],
          "name": "stdout"
        }
      ]
    },
    {
      "cell_type": "code",
      "metadata": {
        "id": "7d1b914c",
        "outputId": "bb1b7834-970f-40a0-d65c-26f32ac50358"
      },
      "source": [
        "fruits1 = {'mango', 'avocado', 'orange', 'guava'}\n",
        "fruits2 = {'watermelon', 'mango', 'apricot', 'avocado'}\n",
        "basket = fruits1.intersection(fruits2)\n",
        "print(basket)\n"
      ],
      "id": "7d1b914c",
      "execution_count": null,
      "outputs": [
        {
          "output_type": "stream",
          "text": [
            "{'mango', 'avocado'}\n"
          ],
          "name": "stdout"
        }
      ]
    },
    {
      "cell_type": "code",
      "metadata": {
        "id": "2c40baa4",
        "outputId": "a92421a5-f53e-462f-9b92-31b0c7fff0e1"
      },
      "source": [
        "fruits1 = {'mango', 'avocado', 'orange', 'guava'}\n",
        "fruits2 = {'watermelon', 'mango', 'apricot', 'avocado'}\n",
        "fruits1.symmetric_difference_update(fruits2)\n",
        "print(fruits1)"
      ],
      "id": "2c40baa4",
      "execution_count": null,
      "outputs": [
        {
          "output_type": "stream",
          "text": [
            "{'guava', 'watermelon', 'apricot', 'orange'}\n"
          ],
          "name": "stdout"
        }
      ]
    },
    {
      "cell_type": "code",
      "metadata": {
        "id": "0eda95c9",
        "outputId": "c29d5ccb-8cd9-4c20-906e-7f59d82c308b"
      },
      "source": [
        "fruits1 = {'mango', 'avocado', 'orange', 'guava'}\n",
        "fruits2 = {'watermelon', 'mango', 'apricot', 'avocado'}\n",
        "basket = fruits1.symmetric_difference(fruits2)\n",
        "print(basket)"
      ],
      "id": "0eda95c9",
      "execution_count": null,
      "outputs": [
        {
          "output_type": "stream",
          "text": [
            "{'guava', 'watermelon', 'apricot', 'orange'}\n"
          ],
          "name": "stdout"
        }
      ]
    },
    {
      "cell_type": "code",
      "metadata": {
        "id": "5862e570"
      },
      "source": [
        ""
      ],
      "id": "5862e570",
      "execution_count": null,
      "outputs": []
    }
  ]
}