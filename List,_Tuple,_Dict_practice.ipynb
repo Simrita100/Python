{
  "nbformat": 4,
  "nbformat_minor": 5,
  "metadata": {
    "kernelspec": {
      "display_name": "Python 3",
      "language": "python",
      "name": "python3"
    },
    "language_info": {
      "codemirror_mode": {
        "name": "ipython",
        "version": 3
      },
      "file_extension": ".py",
      "mimetype": "text/x-python",
      "name": "python",
      "nbconvert_exporter": "python",
      "pygments_lexer": "ipython3",
      "version": "3.8.10"
    },
    "colab": {
      "name": "List, Tuple, Dict - practice.ipynb",
      "provenance": [],
      "include_colab_link": true
    }
  },
  "cells": [
    {
      "cell_type": "markdown",
      "metadata": {
        "id": "view-in-github",
        "colab_type": "text"
      },
      "source": [
        "<a href=\"https://colab.research.google.com/github/Simrita100/Python/blob/main/List%2C_Tuple%2C_Dict_practice.ipynb\" target=\"_parent\"><img src=\"https://colab.research.google.com/assets/colab-badge.svg\" alt=\"Open In Colab\"/></a>"
      ]
    },
    {
      "cell_type": "markdown",
      "metadata": {
        "id": "38e7fb91"
      },
      "source": [
        "### List"
      ],
      "id": "38e7fb91"
    },
    {
      "cell_type": "code",
      "metadata": {
        "id": "f4b74ed6",
        "outputId": "0f1c3384-547f-42d6-a68e-1576d21234e4"
      },
      "source": [
        "x = [\"Hello\", 20, 40, \"Hey\",80,\"There\", 100]\n",
        "x[2:6]"
      ],
      "id": "f4b74ed6",
      "execution_count": null,
      "outputs": [
        {
          "output_type": "execute_result",
          "data": {
            "text/plain": [
              "[40, 'Hey', 80, 'There']"
            ]
          },
          "metadata": {
            "tags": []
          },
          "execution_count": 2
        }
      ]
    },
    {
      "cell_type": "code",
      "metadata": {
        "id": "0e6ad425",
        "outputId": "c8948dac-4977-4ee9-c341-6df35f7a5d2e"
      },
      "source": [
        "x[:]"
      ],
      "id": "0e6ad425",
      "execution_count": null,
      "outputs": [
        {
          "output_type": "execute_result",
          "data": {
            "text/plain": [
              "['Hello', 20, 40, 'Hey', 80, 'There', 100]"
            ]
          },
          "metadata": {
            "tags": []
          },
          "execution_count": 3
        }
      ]
    },
    {
      "cell_type": "code",
      "metadata": {
        "id": "820db48e",
        "outputId": "c7f72f1f-275b-4de8-c02f-537d99b5b5a4"
      },
      "source": [
        "x[1:6:3]"
      ],
      "id": "820db48e",
      "execution_count": null,
      "outputs": [
        {
          "output_type": "execute_result",
          "data": {
            "text/plain": [
              "[20, 80]"
            ]
          },
          "metadata": {
            "tags": []
          },
          "execution_count": 5
        }
      ]
    },
    {
      "cell_type": "code",
      "metadata": {
        "id": "e96d890f",
        "outputId": "f91367f8-5874-4521-b1cb-423e5e00fdd3"
      },
      "source": [
        "products = ['Bag','Desk', 'Soap']\n",
        "products.sort\n",
        "print(products)"
      ],
      "id": "e96d890f",
      "execution_count": null,
      "outputs": [
        {
          "output_type": "stream",
          "text": [
            "['Bag', 'Desk', 'Soap']\n"
          ],
          "name": "stdout"
        }
      ]
    },
    {
      "cell_type": "code",
      "metadata": {
        "id": "b9d0dd23",
        "outputId": "ad8472e1-249d-4cb1-86a8-8c34c7850f86"
      },
      "source": [
        "products.sort\n",
        "print(products)"
      ],
      "id": "b9d0dd23",
      "execution_count": null,
      "outputs": [
        {
          "output_type": "stream",
          "text": [
            "['Bag', 'Soap', 'Desk']\n"
          ],
          "name": "stdout"
        }
      ]
    },
    {
      "cell_type": "code",
      "metadata": {
        "id": "4267b63a",
        "outputId": "6664dcd2-b054-404c-b750-7e38c063459b"
      },
      "source": [
        "products.append('Book')\n",
        "print(products)"
      ],
      "id": "4267b63a",
      "execution_count": null,
      "outputs": [
        {
          "output_type": "stream",
          "text": [
            "['Bag', 'Soap', 'Desk', 'Book']\n"
          ],
          "name": "stdout"
        }
      ]
    },
    {
      "cell_type": "code",
      "metadata": {
        "id": "fd0de5c0",
        "outputId": "a67c276d-9b12-405f-b731-986c446b3a54"
      },
      "source": [
        "total = 0\n",
        "count = 0\n",
        "while True :\n",
        "    inp = input('Enter a number:')\n",
        "    if inp == 'done': \n",
        "        break\n",
        "    value = float(inp)\n",
        "    total = total + value\n",
        "    count = count + 1"
      ],
      "id": "fd0de5c0",
      "execution_count": null,
      "outputs": [
        {
          "output_type": "stream",
          "text": [
            "Enter a number:7\n",
            "Enter a number:9\n",
            "Enter a number:10\n",
            "Enter a number:done\n"
          ],
          "name": "stdout"
        }
      ]
    },
    {
      "cell_type": "code",
      "metadata": {
        "id": "909abd04",
        "outputId": "ffd6dd19-1feb-41bd-f889-918cb7913350"
      },
      "source": [
        "average = total / count\n",
        "print('Average:, Count:', average, count)"
      ],
      "id": "909abd04",
      "execution_count": null,
      "outputs": [
        {
          "output_type": "stream",
          "text": [
            "Average:, Count: 8.666666666666666 3\n"
          ],
          "name": "stdout"
        }
      ]
    },
    {
      "cell_type": "code",
      "metadata": {
        "id": "afa7f6e6",
        "outputId": "5c5a8676-2a02-4cc3-83e0-4d882a4704e4"
      },
      "source": [
        "line ='From simrita.mishra@gmail.com Tue Aug 17 12:20:30 2021'\n",
        "words = line.split()\n",
        "print(words)\n",
        "email = words[1]\n",
        "pieces = email.split('@')\n",
        "print(pieces)\n",
        "print(pieces[1])\n"
      ],
      "id": "afa7f6e6",
      "execution_count": null,
      "outputs": [
        {
          "output_type": "stream",
          "text": [
            "['From', 'simrita.mishra@gmail.com', 'Tue', 'Aug', '17', '12:20:30', '2021']\n",
            "['simrita.mishra', 'gmail.com']\n",
            "gmail.com\n"
          ],
          "name": "stdout"
        }
      ]
    },
    {
      "cell_type": "markdown",
      "metadata": {
        "id": "870722f7"
      },
      "source": [
        "### Tuple\n"
      ],
      "id": "870722f7"
    },
    {
      "cell_type": "code",
      "metadata": {
        "id": "7a36ef3e",
        "outputId": "8d23b87f-22bd-41c7-97c8-27781272b91f"
      },
      "source": [
        "tpl = (80, 'Car', 100, 'Bus')\n",
        "print(tpl)"
      ],
      "id": "7a36ef3e",
      "execution_count": null,
      "outputs": [
        {
          "output_type": "stream",
          "text": [
            "(80, 'Car', 100, 'Bus')\n"
          ],
          "name": "stdout"
        }
      ]
    },
    {
      "cell_type": "code",
      "metadata": {
        "id": "75724abb",
        "outputId": "6e385bf6-c1fd-488a-8208-77eaf0e68464"
      },
      "source": [
        "tpl1 = list(tpl)\n",
        "print(tpl1)"
      ],
      "id": "75724abb",
      "execution_count": null,
      "outputs": [
        {
          "output_type": "stream",
          "text": [
            "[80, 'Car', 100, 'Bus']\n"
          ],
          "name": "stdout"
        }
      ]
    },
    {
      "cell_type": "code",
      "metadata": {
        "id": "fe71efb3",
        "outputId": "5db9fcdc-b764-45ec-c9b1-d2966d8c9009"
      },
      "source": [
        "tpl1[2] = 90\n",
        "print(tpl1)"
      ],
      "id": "fe71efb3",
      "execution_count": null,
      "outputs": [
        {
          "output_type": "stream",
          "text": [
            "[80, 'Car', 90, 'Bus']\n"
          ],
          "name": "stdout"
        }
      ]
    },
    {
      "cell_type": "code",
      "metadata": {
        "id": "c33e8291",
        "outputId": "dde1873f-1d2c-4021-a745-a981d03d954d"
      },
      "source": [
        "tpl[2]"
      ],
      "id": "c33e8291",
      "execution_count": null,
      "outputs": [
        {
          "output_type": "execute_result",
          "data": {
            "text/plain": [
              "100"
            ]
          },
          "metadata": {
            "tags": []
          },
          "execution_count": 20
        }
      ]
    },
    {
      "cell_type": "code",
      "metadata": {
        "id": "41c8c8f3",
        "outputId": "c570a7ab-f0b4-467d-a581-a4729b98e64d"
      },
      "source": [
        "tpl1[2]"
      ],
      "id": "41c8c8f3",
      "execution_count": null,
      "outputs": [
        {
          "output_type": "execute_result",
          "data": {
            "text/plain": [
              "90"
            ]
          },
          "metadata": {
            "tags": []
          },
          "execution_count": 23
        }
      ]
    },
    {
      "cell_type": "code",
      "metadata": {
        "id": "737f05ec",
        "outputId": "c4e224cc-712c-4138-f658-dc298a9fa0e1"
      },
      "source": [
        "t = (1, 0, 50, 0, 44, 87, 0, 1, 100, 0, 66)\n",
        "print(t.count(0))"
      ],
      "id": "737f05ec",
      "execution_count": null,
      "outputs": [
        {
          "output_type": "stream",
          "text": [
            "4\n"
          ],
          "name": "stdout"
        }
      ]
    },
    {
      "cell_type": "code",
      "metadata": {
        "id": "f00d0726",
        "outputId": "942182fd-6bdb-4279-b0f9-a8fddaa8dddd"
      },
      "source": [
        "print(t.index(87))"
      ],
      "id": "f00d0726",
      "execution_count": null,
      "outputs": [
        {
          "output_type": "stream",
          "text": [
            "5\n"
          ],
          "name": "stdout"
        }
      ]
    },
    {
      "cell_type": "markdown",
      "metadata": {
        "id": "23de04e8"
      },
      "source": [
        "### Dictionary"
      ],
      "id": "23de04e8"
    },
    {
      "cell_type": "code",
      "metadata": {
        "id": "226cae2d",
        "outputId": "903f4928-9c0e-49ab-e2fc-9aae6e4c8f4f"
      },
      "source": [
        "myDict = {\n",
        "    \"Car\": \"Ford\",\n",
        "    \"Colour\": \"Mauve\",\n",
        "    \"Model_numbers\": [1, 5, 7],\n",
        "    \"Purchase_details\": {\n",
        "        \"Name\": 'Ariel',\n",
        "        \"Order_id\": 24\n",
        "    },\n",
        "    \"Price\": 1200000\n",
        "}\n",
        "\n",
        "print(myDict['Car'])\n",
        "print(myDict['Colour'])\n",
        "print(myDict['Model_numbers'])\n",
        "print(myDict['Purchase_details'])\n",
        "print(myDict['Purchase_details']['Order_id'])\n"
      ],
      "id": "226cae2d",
      "execution_count": null,
      "outputs": [
        {
          "output_type": "stream",
          "text": [
            "Ford\n",
            "Mauve\n",
            "[1, 5, 7]\n",
            "{'Name': 'Ariel', 'Order_id': 24}\n",
            "24\n"
          ],
          "name": "stdout"
        }
      ]
    },
    {
      "cell_type": "code",
      "metadata": {
        "id": "a9750bf3",
        "outputId": "349b28aa-50e7-4919-d84a-4cb53513c5da"
      },
      "source": [
        "myDict['Model_numbers'] = [6, 10]\n",
        "print(myDict['Model_numbers'])\n",
        "print(myDict)\n"
      ],
      "id": "a9750bf3",
      "execution_count": null,
      "outputs": [
        {
          "output_type": "stream",
          "text": [
            "[6, 10]\n",
            "{'Car': 'Ford', 'Colour': 'Mauve', 'Model_numbers': [6, 10], 'Purchase_details': {'Name': 'Ariel', 'Order_id': 24}, 'Price': 1200000}\n"
          ],
          "name": "stdout"
        }
      ]
    },
    {
      "cell_type": "code",
      "metadata": {
        "id": "3d339488",
        "outputId": "9670e8e9-2512-4753-8dc1-1455b99bbc37"
      },
      "source": [
        "\n",
        "print(myDict.keys())\n",
        "print(type(myDict.keys()))"
      ],
      "id": "3d339488",
      "execution_count": null,
      "outputs": [
        {
          "output_type": "stream",
          "text": [
            "dict_keys(['Car', 'Colour', 'Model_numbers', 'Purchase_details', 'Price'])\n",
            "<class 'dict_keys'>\n"
          ],
          "name": "stdout"
        }
      ]
    },
    {
      "cell_type": "code",
      "metadata": {
        "id": "4dfd313d",
        "outputId": "057eb9ce-f279-41fc-9e2c-26eead5885bb"
      },
      "source": [
        "print(list(myDict.keys()))\n"
      ],
      "id": "4dfd313d",
      "execution_count": null,
      "outputs": [
        {
          "output_type": "stream",
          "text": [
            "['Car', 'Colour', 'Model_numbers', 'Purchase_details', 'Price']\n"
          ],
          "name": "stdout"
        }
      ]
    },
    {
      "cell_type": "code",
      "metadata": {
        "id": "c045a509",
        "outputId": "534db0fd-4a01-4ccc-9fe6-eac2628e08a8"
      },
      "source": [
        "print(myDict.values())\n",
        "print(list(myDict.values()))\n"
      ],
      "id": "c045a509",
      "execution_count": null,
      "outputs": [
        {
          "output_type": "stream",
          "text": [
            "dict_values(['Ford', 'Mauve', [6, 10], {'Name': 'Ariel', 'Order_id': 24}, 1200000])\n",
            "['Ford', 'Mauve', [6, 10], {'Name': 'Ariel', 'Order_id': 24}, 1200000]\n"
          ],
          "name": "stdout"
        }
      ]
    },
    {
      "cell_type": "code",
      "metadata": {
        "id": "df002890",
        "outputId": "1534c8f3-777c-4c45-d050-5cb1fad8d1b7"
      },
      "source": [
        "print(myDict.items())"
      ],
      "id": "df002890",
      "execution_count": null,
      "outputs": [
        {
          "output_type": "stream",
          "text": [
            "dict_items([('Car', 'Ford'), ('Colour', 'Mauve'), ('Model_numbers', [6, 10]), ('Purchase_details', {'Name': 'Ariel', 'Order_id': 24}), ('Price', 1200000)])\n"
          ],
          "name": "stdout"
        }
      ]
    },
    {
      "cell_type": "code",
      "metadata": {
        "id": "e0645f18",
        "outputId": "32b843c3-e35f-47e0-8da1-7e379e46fe04"
      },
      "source": [
        "print(type(myDict.items()))   # prints (key, values) for all items of the dictionary\n"
      ],
      "id": "e0645f18",
      "execution_count": null,
      "outputs": [
        {
          "output_type": "stream",
          "text": [
            "<class 'dict_items'>\n"
          ],
          "name": "stdout"
        }
      ]
    },
    {
      "cell_type": "code",
      "metadata": {
        "id": "7a25ea4b",
        "outputId": "c8b38bab-9f8d-4d94-abbc-63e05549eb34"
      },
      "source": [
        "print(myDict)\n",
        "newDict = {\n",
        "    \"Mode_of_payment\": \"Card\",\n",
        "    \"Rating\": \"Excellent\",\n",
        "    \"Colour\": \"Black\"\n",
        "}\n",
        "myDict.update(newDict)      # Updates the dictionary by adding key-value pairs from newDict\n",
        "print(myDict)\n"
      ],
      "id": "7a25ea4b",
      "execution_count": null,
      "outputs": [
        {
          "output_type": "stream",
          "text": [
            "{'Car': 'Ford', 'Colour': 'Mauve', 'Model_numbers': [6, 10], 'Purchase_details': {'Name': 'Ariel', 'Order_id': 24}, 'Price': 1200000}\n",
            "{'Car': 'Ford', 'Colour': 'Black', 'Model_numbers': [6, 10], 'Purchase_details': {'Name': 'Ariel', 'Order_id': 24}, 'Price': 1200000, 'Mode_of_payment': 'Card', 'Rating': 'Excellent'}\n"
          ],
          "name": "stdout"
        }
      ]
    },
    {
      "cell_type": "code",
      "metadata": {
        "id": "1d842ae0",
        "outputId": "f32bd919-6e34-4e12-e515-847e588e8736"
      },
      "source": [
        "print(myDict.get(\"Car\"))"
      ],
      "id": "1d842ae0",
      "execution_count": null,
      "outputs": [
        {
          "output_type": "stream",
          "text": [
            "Ford\n"
          ],
          "name": "stdout"
        }
      ]
    },
    {
      "cell_type": "code",
      "metadata": {
        "id": "18ea382d",
        "outputId": "28215192-1703-45d3-926e-d39d7b502f4b"
      },
      "source": [
        "print(myDict.get(\"Jet\")) "
      ],
      "id": "18ea382d",
      "execution_count": null,
      "outputs": [
        {
          "output_type": "stream",
          "text": [
            "None\n"
          ],
          "name": "stdout"
        }
      ]
    },
    {
      "cell_type": "code",
      "metadata": {
        "id": "099d5ec4"
      },
      "source": [
        ""
      ],
      "id": "099d5ec4",
      "execution_count": null,
      "outputs": []
    }
  ]
}