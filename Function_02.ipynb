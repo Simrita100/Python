{
  "nbformat": 4,
  "nbformat_minor": 5,
  "metadata": {
    "kernelspec": {
      "display_name": "Python 3",
      "language": "python",
      "name": "python3"
    },
    "language_info": {
      "codemirror_mode": {
        "name": "ipython",
        "version": 3
      },
      "file_extension": ".py",
      "mimetype": "text/x-python",
      "name": "python",
      "nbconvert_exporter": "python",
      "pygments_lexer": "ipython3",
      "version": "3.8.10"
    },
    "colab": {
      "name": "Function_02.ipynb",
      "provenance": [],
      "include_colab_link": true
    }
  },
  "cells": [
    {
      "cell_type": "markdown",
      "metadata": {
        "id": "view-in-github",
        "colab_type": "text"
      },
      "source": [
        "<a href=\"https://colab.research.google.com/github/Simrita100/Python/blob/main/Function_02.ipynb\" target=\"_parent\"><img src=\"https://colab.research.google.com/assets/colab-badge.svg\" alt=\"Open In Colab\"/></a>"
      ]
    },
    {
      "cell_type": "code",
      "metadata": {
        "id": "8c6db933",
        "outputId": "7750cb5c-c277-4888-a4a2-96007af6e2ff"
      },
      "source": [
        "s = abs(-6.0)\n",
        "print(s)\n",
        "\n",
        "l = len(\"COMPUTER\")\n",
        "print(l)"
      ],
      "id": "8c6db933",
      "execution_count": null,
      "outputs": [
        {
          "name": "stdout",
          "output_type": "stream",
          "text": [
            "6.0\n",
            "8\n"
          ]
        }
      ]
    },
    {
      "cell_type": "code",
      "metadata": {
        "id": "33b7621c",
        "outputId": "fac96aac-6083-4f86-f641-e4199c5aad0a"
      },
      "source": [
        "def name():\n",
        "    print('Anita')\n",
        "name()"
      ],
      "id": "33b7621c",
      "execution_count": null,
      "outputs": [
        {
          "name": "stdout",
          "output_type": "stream",
          "text": [
            "Anita\n"
          ]
        }
      ]
    },
    {
      "cell_type": "code",
      "metadata": {
        "id": "af5b6b78",
        "outputId": "f3aca6cc-05c7-40c2-889e-b9d3a43bef62"
      },
      "source": [
        "def calculate(x, y):\n",
        "  z = x*x + y*y\n",
        "  return z\n",
        "\n",
        "\n",
        "result = calculate(8.9067, 2.0)\n",
        "print(result)"
      ],
      "id": "af5b6b78",
      "execution_count": null,
      "outputs": [
        {
          "name": "stdout",
          "output_type": "stream",
          "text": [
            "83.32930489000002\n"
          ]
        }
      ]
    },
    {
      "cell_type": "code",
      "metadata": {
        "id": "ae778236",
        "outputId": "611df64b-bf7f-49bb-f0bd-1e46c361b1a4"
      },
      "source": [
        "def Sign(value):\n",
        "    \n",
        "    if value > 0:\n",
        "        return \"Positive\"\n",
        "    \n",
        "    elif value < 0:\n",
        "        return \"Negative\"\n",
        "    \n",
        "    return \n",
        "\n",
        "    print(\"I\\'m learning Python\")\n",
        "    \n",
        "print(\"Sign(80):\", getSign(80))\n",
        "print(\"Sign(-86):\", getSign(-86))\n",
        "print(\"Sign(0):\", getSign(0))"
      ],
      "id": "ae778236",
      "execution_count": null,
      "outputs": [
        {
          "name": "stdout",
          "output_type": "stream",
          "text": [
            "Sign(80): Positive\n",
            "Sign(-86): Negative\n",
            "Sign(0): None\n"
          ]
        }
      ]
    },
    {
      "cell_type": "code",
      "metadata": {
        "id": "e0bd4c84",
        "outputId": "ea59915b-0b12-409a-ed3a-18f598f97a9a"
      },
      "source": [
        "def x(s, num):\n",
        "    y = ''\n",
        "    for i in range(0,num):\n",
        "        y = s+y\n",
        "    return y\n",
        "\n",
        "print(x(\"Simrita\", 4))\n",
        "print(x(num=6, s=\"ABCD\"))\n",
        "        "
      ],
      "id": "e0bd4c84",
      "execution_count": null,
      "outputs": [
        {
          "name": "stdout",
          "output_type": "stream",
          "text": [
            "SimritaSimritaSimritaSimrita\n",
            "ABCDABCDABCDABCDABCDABCD\n"
          ]
        }
      ]
    },
    {
      "cell_type": "code",
      "metadata": {
        "id": "9649ed6d",
        "outputId": "4e40e689-11e6-4ecd-9caf-6a2126fa500c"
      },
      "source": [
        "print(x(s=\"GOOD\", num=10))"
      ],
      "id": "9649ed6d",
      "execution_count": null,
      "outputs": [
        {
          "name": "stdout",
          "output_type": "stream",
          "text": [
            "GOODGOODGOODGOODGOODGOODGOODGOODGOODGOOD\n"
          ]
        }
      ]
    },
    {
      "cell_type": "code",
      "metadata": {
        "id": "1c7e714f",
        "outputId": "887a8289-2307-4841-ef4f-5b9ffda7ba01"
      },
      "source": [
        "def Price(cost = 600):\n",
        "    print(\"Cost of the box is\", cost)\n",
        "Price(200)\n",
        "Price()"
      ],
      "id": "1c7e714f",
      "execution_count": null,
      "outputs": [
        {
          "name": "stdout",
          "output_type": "stream",
          "text": [
            "Cost of the box is 200\n",
            "Cost of the box is 600\n"
          ]
        }
      ]
    },
    {
      "cell_type": "code",
      "metadata": {
        "id": "736ee436",
        "outputId": "5288e67e-8129-46de-83f0-68c4d64506a9"
      },
      "source": [
        "def x(text):\n",
        "    return text.upper()\n",
        "def y(text):\n",
        "    return text.lower()\n",
        "def greet(t):\n",
        "    greeting = t(\"Congratulations, you've won a gift!🎁\")\n",
        "    print(greeting)\n",
        "greet(x)\n",
        "greet(y)"
      ],
      "id": "736ee436",
      "execution_count": null,
      "outputs": [
        {
          "name": "stdout",
          "output_type": "stream",
          "text": [
            "CONGRATULATIONS, YOU'VE WON A GIFT!🎁\n",
            "congratulations, you've won a gift!🎁\n"
          ]
        }
      ]
    },
    {
      "cell_type": "code",
      "metadata": {
        "id": "23302cdf",
        "outputId": "4a083d8a-0a0d-4fb7-ca0b-b99b990b9056"
      },
      "source": [
        "def abs_value(n):\n",
        "    if n >=0:\n",
        "        return n\n",
        "    else:\n",
        "        return -n\n",
        "print(abs_value(-4))\n",
        "\n",
        "print(abs_value(0))"
      ],
      "id": "23302cdf",
      "execution_count": null,
      "outputs": [
        {
          "name": "stdout",
          "output_type": "stream",
          "text": [
            "4\n",
            "0\n"
          ]
        }
      ]
    },
    {
      "cell_type": "code",
      "metadata": {
        "id": "17cef4a9",
        "outputId": "55a01583-2dd0-4776-8c70-9a75890af2ff"
      },
      "source": [
        "counter = 1\n",
        "def increment(): \n",
        "    global counter\n",
        "    print(counter)\n",
        "    counter += 1\n",
        "\n",
        "increment()\n",
        "print(counter)"
      ],
      "id": "17cef4a9",
      "execution_count": null,
      "outputs": [
        {
          "name": "stdout",
          "output_type": "stream",
          "text": [
            "1\n",
            "2\n"
          ]
        }
      ]
    },
    {
      "cell_type": "code",
      "metadata": {
        "id": "a90cf3ce",
        "outputId": "bcc8067c-f7cc-4e9f-8004-e8f11abf03f9"
      },
      "source": [
        "def function():\n",
        "    x = 20\n",
        "    print(\"The value is : \", x)\n",
        "\n",
        "x = 40\n",
        "function()\n",
        "print(\"Now the value is : \", x)"
      ],
      "id": "a90cf3ce",
      "execution_count": null,
      "outputs": [
        {
          "name": "stdout",
          "output_type": "stream",
          "text": [
            "The value is :  20\n",
            "Now the value is :  40\n"
          ]
        }
      ]
    },
    {
      "cell_type": "code",
      "metadata": {
        "id": "b642883a"
      },
      "source": [
        ""
      ],
      "id": "b642883a",
      "execution_count": null,
      "outputs": []
    }
  ]
}