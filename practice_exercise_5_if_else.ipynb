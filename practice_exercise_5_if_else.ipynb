{
  "nbformat": 4,
  "nbformat_minor": 5,
  "metadata": {
    "kernelspec": {
      "display_name": "Python 3",
      "language": "python",
      "name": "python3"
    },
    "language_info": {
      "codemirror_mode": {
        "name": "ipython",
        "version": 3
      },
      "file_extension": ".py",
      "mimetype": "text/x-python",
      "name": "python",
      "nbconvert_exporter": "python",
      "pygments_lexer": "ipython3",
      "version": "3.8.10"
    },
    "colab": {
      "name": "practice-exercise-5-if-else.ipynb",
      "provenance": [],
      "include_colab_link": true
    }
  },
  "cells": [
    {
      "cell_type": "markdown",
      "metadata": {
        "id": "view-in-github",
        "colab_type": "text"
      },
      "source": [
        "<a href=\"https://colab.research.google.com/github/Simrita100/Python/blob/main/practice_exercise_5_if_else.ipynb\" target=\"_parent\"><img src=\"https://colab.research.google.com/assets/colab-badge.svg\" alt=\"Open In Colab\"/></a>"
      ]
    },
    {
      "cell_type": "code",
      "metadata": {
        "id": "c750a265",
        "outputId": "7beef7fa-ed8c-43d3-f72d-abe9ce39f5b8"
      },
      "source": [
        "a = 30\n",
        "b = 100\n",
        "if b > a:\n",
        "    print(\"b is greater than a\")"
      ],
      "id": "c750a265",
      "execution_count": null,
      "outputs": [
        {
          "output_type": "stream",
          "text": [
            "b is greater than a\n"
          ],
          "name": "stdout"
        }
      ]
    },
    {
      "cell_type": "code",
      "metadata": {
        "id": "de55492a",
        "outputId": "cdc84c87-67e0-4432-8c89-39f241cb97b0"
      },
      "source": [
        "a = 40\n",
        "b = 40\n",
        "\n",
        "if b > a :\n",
        "    print(\"b is greater than a\")\n",
        "elif a == b:\n",
        "    print(\"a and b are equal\")"
      ],
      "id": "de55492a",
      "execution_count": null,
      "outputs": [
        {
          "output_type": "stream",
          "text": [
            "a and b are equal\n"
          ],
          "name": "stdout"
        }
      ]
    },
    {
      "cell_type": "code",
      "metadata": {
        "id": "ee063a01",
        "outputId": "2eb25eea-7d70-45c1-f43a-1e4b184c5cef"
      },
      "source": [
        "a = 200\n",
        "b = 60\n",
        "if b > a:\n",
        "    print(\"b is greater\")\n",
        "elif a == b:\n",
        "    print(\"a and are equal\")\n",
        "else:\n",
        "    print(\"a is greater\")"
      ],
      "id": "ee063a01",
      "execution_count": null,
      "outputs": [
        {
          "output_type": "stream",
          "text": [
            "a is greater\n"
          ],
          "name": "stdout"
        }
      ]
    },
    {
      "cell_type": "code",
      "metadata": {
        "id": "4adddd3f",
        "outputId": "ebb37b47-d25d-4a04-9592-32d41856f31e"
      },
      "source": [
        "a = 40\n",
        "b = 12\n",
        "if b > a:\n",
        "    print(\"b is greater than a\")\n",
        "else:\n",
        "    print(\"a is greater than b\")"
      ],
      "id": "4adddd3f",
      "execution_count": null,
      "outputs": [
        {
          "output_type": "stream",
          "text": [
            "a is greater than b\n"
          ],
          "name": "stdout"
        }
      ]
    },
    {
      "cell_type": "code",
      "metadata": {
        "id": "5e5f7922",
        "outputId": "0bc71e99-b720-4db6-b0a5-80b4f2f7e7ce"
      },
      "source": [
        "if a > b: print(\"a is greater than b\")"
      ],
      "id": "5e5f7922",
      "execution_count": null,
      "outputs": [
        {
          "output_type": "stream",
          "text": [
            "a is greater than b\n"
          ],
          "name": "stdout"
        }
      ]
    },
    {
      "cell_type": "code",
      "metadata": {
        "id": "e0277b2d",
        "outputId": "61a77e65-e6c1-466b-ca09-e66ae32b7e4b"
      },
      "source": [
        "a = 2\n",
        "b = 15\n",
        "print(True) if a < b else print(False)"
      ],
      "id": "e0277b2d",
      "execution_count": null,
      "outputs": [
        {
          "output_type": "stream",
          "text": [
            "True\n"
          ],
          "name": "stdout"
        }
      ]
    },
    {
      "cell_type": "code",
      "metadata": {
        "id": "a3ee85e7",
        "outputId": "eea1542b-9466-4dc4-f93f-3f23e28a4294"
      },
      "source": [
        "a = 300\n",
        "b = 300\n",
        "print(\"a\") if a > b else print (\"=\") if a == b else print(\"b\")"
      ],
      "id": "a3ee85e7",
      "execution_count": null,
      "outputs": [
        {
          "output_type": "stream",
          "text": [
            "=\n"
          ],
          "name": "stdout"
        }
      ]
    },
    {
      "cell_type": "code",
      "metadata": {
        "id": "6ab351f0",
        "outputId": "25060e27-c60c-405f-9c53-6b8a83834e6f"
      },
      "source": [
        "x = 500 \n",
        "y = 200\n",
        "z = 800\n",
        "if x > y and z > a:\n",
        "    print(\"Both the conditions are True\")"
      ],
      "id": "6ab351f0",
      "execution_count": null,
      "outputs": [
        {
          "output_type": "stream",
          "text": [
            "Both the conditions are True\n"
          ],
          "name": "stdout"
        }
      ]
    },
    {
      "cell_type": "code",
      "metadata": {
        "id": "13b99eff",
        "outputId": "24706b8b-0ccd-452c-acfb-accb6540ff99"
      },
      "source": [
        "x = 500 \n",
        "y = 200\n",
        "z = 800\n",
        "if x > y or y > z:\n",
        "    print(\"At least one condition is true\")"
      ],
      "id": "13b99eff",
      "execution_count": null,
      "outputs": [
        {
          "output_type": "stream",
          "text": [
            "At least one condition is true\n"
          ],
          "name": "stdout"
        }
      ]
    },
    {
      "cell_type": "code",
      "metadata": {
        "id": "f526634e",
        "outputId": "792fdf80-0603-4228-a292-6f43e9bb1c04"
      },
      "source": [
        "x = 80 \n",
        "if x > 10:\n",
        "    print(\"Greater than ten\")\n",
        "if x > 20:\n",
        "    print('Also greater than twenty')\n",
        "else:\n",
        "    print(\"Not greater than twenty\")"
      ],
      "id": "f526634e",
      "execution_count": null,
      "outputs": [
        {
          "output_type": "stream",
          "text": [
            "Greater than ten\n",
            "Also greater than twenty\n"
          ],
          "name": "stdout"
        }
      ]
    },
    {
      "cell_type": "code",
      "metadata": {
        "id": "c0dec81b",
        "outputId": "24f7557c-4187-446f-9be6-aac319fe8667"
      },
      "source": [
        "x = 15\n",
        "if x > 10:\n",
        "    print(\"Greater than ten\")\n",
        "if x > 20:\n",
        "    print('Also greater than twenty')\n",
        "else:\n",
        "    print(\"Not greater than twenty\")"
      ],
      "id": "c0dec81b",
      "execution_count": null,
      "outputs": [
        {
          "output_type": "stream",
          "text": [
            "Greater than ten\n",
            "Not greater than twenty\n"
          ],
          "name": "stdout"
        }
      ]
    },
    {
      "cell_type": "code",
      "metadata": {
        "id": "4b5c247a"
      },
      "source": [
        "a = 60\n",
        "b = 400\n",
        "if b > a:\n",
        "    pass"
      ],
      "id": "4b5c247a",
      "execution_count": null,
      "outputs": []
    }
  ]
}