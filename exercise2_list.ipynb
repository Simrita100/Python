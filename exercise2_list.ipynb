{
  "nbformat": 4,
  "nbformat_minor": 5,
  "metadata": {
    "kernelspec": {
      "display_name": "Python 3",
      "language": "python",
      "name": "python3"
    },
    "language_info": {
      "codemirror_mode": {
        "name": "ipython",
        "version": 3
      },
      "file_extension": ".py",
      "mimetype": "text/x-python",
      "name": "python",
      "nbconvert_exporter": "python",
      "pygments_lexer": "ipython3",
      "version": "3.8.10"
    },
    "colab": {
      "name": "exercise2-list.ipynb",
      "provenance": [],
      "include_colab_link": true
    }
  },
  "cells": [
    {
      "cell_type": "markdown",
      "metadata": {
        "id": "view-in-github",
        "colab_type": "text"
      },
      "source": [
        "<a href=\"https://colab.research.google.com/github/Simrita100/Python/blob/main/exercise2_list.ipynb\" target=\"_parent\"><img src=\"https://colab.research.google.com/assets/colab-badge.svg\" alt=\"Open In Colab\"/></a>"
      ]
    },
    {
      "cell_type": "code",
      "metadata": {
        "id": "a4a083b7",
        "outputId": "1f5aef4d-7c00-4956-cb1d-9013cbfae61e"
      },
      "source": [
        "shop = [\"fruits\", \"vegetables\", \"dairy products\"]\n",
        "print(shop)"
      ],
      "id": "a4a083b7",
      "execution_count": null,
      "outputs": [
        {
          "output_type": "stream",
          "text": [
            "['fruits', 'vegetables', 'dairy products']\n"
          ],
          "name": "stdout"
        }
      ]
    },
    {
      "cell_type": "code",
      "metadata": {
        "id": "a30c8b3d",
        "outputId": "eb9cabfd-5f99-4549-84ae-c77ee3f736ed"
      },
      "source": [
        "shop = [\"fruits\", \"vegetables\", \"dairy products\",\"fruits\"]\n",
        "print(shop)"
      ],
      "id": "a30c8b3d",
      "execution_count": null,
      "outputs": [
        {
          "output_type": "stream",
          "text": [
            "['fruits', 'vegetables', 'dairy products', 'fruits']\n"
          ],
          "name": "stdout"
        }
      ]
    },
    {
      "cell_type": "code",
      "metadata": {
        "id": "c3e2c193",
        "outputId": "875cbc74-673f-40b8-d509-92422e08bc07"
      },
      "source": [
        "shop = [\"fruits\", \"vegetables\", \"dairy products\"]\n",
        "print(len(shop))"
      ],
      "id": "c3e2c193",
      "execution_count": null,
      "outputs": [
        {
          "output_type": "stream",
          "text": [
            "3\n"
          ],
          "name": "stdout"
        }
      ]
    },
    {
      "cell_type": "code",
      "metadata": {
        "id": "e79c4cbb",
        "outputId": "affcf1ad-f223-4fd5-8cb6-8c8f195291fb"
      },
      "source": [
        "list1 = [\"onion\", \"garlic\", \"ginger\"]\n",
        "list2 = [1, 6, 8, 10]\n",
        "list3 = [True, False, True]\n",
        "print(list1)\n",
        "print(list2)\n",
        "print(list3)"
      ],
      "id": "e79c4cbb",
      "execution_count": null,
      "outputs": [
        {
          "output_type": "stream",
          "text": [
            "['onion', 'garlic', 'ginger']\n",
            "[1, 6, 8, 10]\n",
            "[True, False, True]\n"
          ],
          "name": "stdout"
        }
      ]
    },
    {
      "cell_type": "code",
      "metadata": {
        "id": "9906f8f8",
        "outputId": "18e4f1f4-b056-484e-b1e5-d7b885203066"
      },
      "source": [
        "s = ['True', 'Good', 'Better', '10']\n",
        "print(s)"
      ],
      "id": "9906f8f8",
      "execution_count": null,
      "outputs": [
        {
          "output_type": "stream",
          "text": [
            "['True', 'Good', 'Better', '10']\n"
          ],
          "name": "stdout"
        }
      ]
    },
    {
      "cell_type": "code",
      "metadata": {
        "id": "3e54347b",
        "outputId": "1bbc27ad-ea31-456f-fa56-60d781d3067e"
      },
      "source": [
        "print(type(s))"
      ],
      "id": "3e54347b",
      "execution_count": null,
      "outputs": [
        {
          "output_type": "stream",
          "text": [
            "<class 'list'>\n"
          ],
          "name": "stdout"
        }
      ]
    },
    {
      "cell_type": "code",
      "metadata": {
        "id": "6306c07e",
        "outputId": "251053cd-30cc-4459-f758-aab650dba41d"
      },
      "source": [
        "x = list(('a', 'b', 'c', 'd'))\n",
        "print(x)"
      ],
      "id": "6306c07e",
      "execution_count": null,
      "outputs": [
        {
          "output_type": "stream",
          "text": [
            "['a', 'b', 'c', 'd']\n"
          ],
          "name": "stdout"
        }
      ]
    },
    {
      "cell_type": "code",
      "metadata": {
        "id": "59ee7f00",
        "outputId": "59e75613-597a-4f95-a732-d6aca97750a9"
      },
      "source": [
        "x = list(('a', 'b', 'c', 'd'))\n",
        "print(x[1])"
      ],
      "id": "59ee7f00",
      "execution_count": null,
      "outputs": [
        {
          "output_type": "stream",
          "text": [
            "b\n"
          ],
          "name": "stdout"
        }
      ]
    },
    {
      "cell_type": "code",
      "metadata": {
        "id": "839a54c0",
        "outputId": "caeec81c-8b22-450d-d3b2-b281d268fbbc"
      },
      "source": [
        "print(x[-1])"
      ],
      "id": "839a54c0",
      "execution_count": null,
      "outputs": [
        {
          "output_type": "stream",
          "text": [
            "d\n"
          ],
          "name": "stdout"
        }
      ]
    },
    {
      "cell_type": "code",
      "metadata": {
        "id": "452c052c",
        "outputId": "6833d0ed-1886-40d9-d359-42bfadb1db29"
      },
      "source": [
        "thislist = ['a', 'b', 'c', 'd', 'e', 'f']\n",
        "print(thislist[2:6])"
      ],
      "id": "452c052c",
      "execution_count": null,
      "outputs": [
        {
          "output_type": "stream",
          "text": [
            "['c', 'd', 'e', 'f']\n"
          ],
          "name": "stdout"
        }
      ]
    },
    {
      "cell_type": "code",
      "metadata": {
        "id": "02fd9fc8",
        "outputId": "467b58c3-90a2-4f17-a323-8314eb30ceb4"
      },
      "source": [
        "thislist = ['a', 'b', 'c', 'd', 'e', 'f']\n",
        "print(thislist[-4:-1])"
      ],
      "id": "02fd9fc8",
      "execution_count": null,
      "outputs": [
        {
          "output_type": "stream",
          "text": [
            "['c', 'd', 'e']\n"
          ],
          "name": "stdout"
        }
      ]
    },
    {
      "cell_type": "code",
      "metadata": {
        "id": "95ace131",
        "outputId": "f08aa928-3c50-491c-c3e8-86f68fe415c0"
      },
      "source": [
        "thislist = ['a', 'b', 'c', 'd', 'e', 'f']\n",
        "if 'd' in thislist:\n",
        "    print(\"Yes!\")"
      ],
      "id": "95ace131",
      "execution_count": null,
      "outputs": [
        {
          "output_type": "stream",
          "text": [
            "Yes!\n"
          ],
          "name": "stdout"
        }
      ]
    },
    {
      "cell_type": "code",
      "metadata": {
        "id": "20163975",
        "outputId": "0a12ed75-fc35-44cb-f5e9-22b457cc603c"
      },
      "source": [
        "veggies = ['potato', 'tomato', 'onion']\n",
        "veggies[2] = 'okra'\n",
        "print(veggies)"
      ],
      "id": "20163975",
      "execution_count": null,
      "outputs": [
        {
          "output_type": "stream",
          "text": [
            "['potato', 'tomato', 'okra']\n"
          ],
          "name": "stdout"
        }
      ]
    },
    {
      "cell_type": "code",
      "metadata": {
        "id": "a8893b37",
        "outputId": "17640acd-74a6-4853-d33e-44d814b5123f"
      },
      "source": [
        "colours = ['black', 'blue', 'red', 'brown']\n",
        "colours[1:3] = ['mauve', 'turquoise']\n",
        "print(colours)"
      ],
      "id": "a8893b37",
      "execution_count": null,
      "outputs": [
        {
          "output_type": "stream",
          "text": [
            "['black', 'mauve', 'turquoise', 'brown']\n"
          ],
          "name": "stdout"
        }
      ]
    },
    {
      "cell_type": "code",
      "metadata": {
        "id": "3b43bb1c",
        "outputId": "314cd7d0-12cb-4121-a5c4-ee65c7f8c6af"
      },
      "source": [
        "colours = ['black', 'blue', 'red', 'brown']\n",
        "colours[1:2] = ['yellow', 'white', 'orchid']\n",
        "print(colours)"
      ],
      "id": "3b43bb1c",
      "execution_count": null,
      "outputs": [
        {
          "output_type": "stream",
          "text": [
            "['black', 'yellow', 'white', 'orchid', 'red', 'brown']\n"
          ],
          "name": "stdout"
        }
      ]
    },
    {
      "cell_type": "code",
      "metadata": {
        "id": "2c8d2403",
        "outputId": "7771ba6d-9c1c-4ccd-bc41-25b0a9636fec"
      },
      "source": [
        "veggies[1:3] = ['cabbage']\n",
        "print(veggies)"
      ],
      "id": "2c8d2403",
      "execution_count": null,
      "outputs": [
        {
          "output_type": "stream",
          "text": [
            "['potato', 'cabbage']\n"
          ],
          "name": "stdout"
        }
      ]
    },
    {
      "cell_type": "code",
      "metadata": {
        "id": "e8ea20bd",
        "outputId": "adf4782f-2dd1-4f3b-8bd9-11f640508753"
      },
      "source": [
        "veggies = ['potato', 'tomato', 'onion']\n",
        "veggies.insert(2, 'garlic')\n",
        "print(veggies)"
      ],
      "id": "e8ea20bd",
      "execution_count": null,
      "outputs": [
        {
          "output_type": "stream",
          "text": [
            "['potato', 'tomato', 'garlic', 'onion']\n"
          ],
          "name": "stdout"
        }
      ]
    },
    {
      "cell_type": "code",
      "metadata": {
        "id": "9e3d6ce8",
        "outputId": "501761a9-027c-4b1a-b0e7-fffe3869aa86"
      },
      "source": [
        "veggies = ['potato', 'tomato', 'onion']\n",
        "veggies.append('carrot')\n",
        "print(veggies)"
      ],
      "id": "9e3d6ce8",
      "execution_count": null,
      "outputs": [
        {
          "output_type": "stream",
          "text": [
            "['potato', 'tomato', 'onion', 'carrot']\n"
          ],
          "name": "stdout"
        }
      ]
    },
    {
      "cell_type": "code",
      "metadata": {
        "id": "ab63de1e",
        "outputId": "d27d8e9d-03af-4164-f439-da2bf0359612"
      },
      "source": [
        "thislist = ['a', 'b', 'c', 'd', 'e', 'f']\n",
        "otherlist = ['g', 'h']\n",
        "thislist.extend(otherlist)\n",
        "print(thislist)"
      ],
      "id": "ab63de1e",
      "execution_count": null,
      "outputs": [
        {
          "output_type": "stream",
          "text": [
            "['a', 'b', 'c', 'd', 'e', 'f', 'g', 'h']\n"
          ],
          "name": "stdout"
        }
      ]
    },
    {
      "cell_type": "code",
      "metadata": {
        "id": "31195951",
        "outputId": "5993cd34-dc34-4783-886a-952982628673"
      },
      "source": [
        "x = ['a', '1', 'True']\n",
        "y = ('b', '$')\n",
        "x.extend(y)\n",
        "print(x)"
      ],
      "id": "31195951",
      "execution_count": null,
      "outputs": [
        {
          "output_type": "stream",
          "text": [
            "['a', '1', 'True', 'b', '$']\n"
          ],
          "name": "stdout"
        }
      ]
    },
    {
      "cell_type": "code",
      "metadata": {
        "id": "7c142d08",
        "outputId": "25c25771-4d58-4f4d-a005-02af2472128f"
      },
      "source": [
        "shop = [\"fruits\", \"vegetables\", \"dairy products\"]\n",
        "shop.remove(\"vegetables\")\n",
        "print(shop)"
      ],
      "id": "7c142d08",
      "execution_count": null,
      "outputs": [
        {
          "output_type": "stream",
          "text": [
            "['fruits', 'dairy products']\n"
          ],
          "name": "stdout"
        }
      ]
    },
    {
      "cell_type": "code",
      "metadata": {
        "id": "0a87f1ca",
        "outputId": "5b9a842f-92c0-465c-f7d8-b511022dcbb1"
      },
      "source": [
        "name = ['Alex', 'Max', 'Carol', 'Oliver', 'Clover']\n",
        "name.pop(2)\n",
        "print(name)"
      ],
      "id": "0a87f1ca",
      "execution_count": null,
      "outputs": [
        {
          "output_type": "stream",
          "text": [
            "['Alex', 'Max', 'Oliver', 'Clover']\n"
          ],
          "name": "stdout"
        }
      ]
    },
    {
      "cell_type": "code",
      "metadata": {
        "id": "307ef54e",
        "outputId": "fdfb3a9a-9074-44f9-c779-e7a3bbe076f5"
      },
      "source": [
        "list1 = [\"onion\", \"garlic\", \"ginger\"]\n",
        "list1.pop()\n",
        "print(list1)"
      ],
      "id": "307ef54e",
      "execution_count": null,
      "outputs": [
        {
          "output_type": "stream",
          "text": [
            "['onion', 'garlic']\n"
          ],
          "name": "stdout"
        }
      ]
    },
    {
      "cell_type": "code",
      "metadata": {
        "id": "dc8195d3",
        "outputId": "c038a993-7bc3-4b34-ce95-fcdb66ea60ad"
      },
      "source": [
        "cart = [\"cosmetics\", \"food\", \"clothes\"]\n",
        "del cart[0]\n",
        "print(cart)"
      ],
      "id": "dc8195d3",
      "execution_count": null,
      "outputs": [
        {
          "output_type": "stream",
          "text": [
            "['food', 'clothes']\n"
          ],
          "name": "stdout"
        }
      ]
    },
    {
      "cell_type": "code",
      "metadata": {
        "id": "6bfce4e8",
        "outputId": "63d12a8c-8d4e-4bc7-d661-914d14d782ab"
      },
      "source": [
        "cart = [\"cosmetics\", \"food\", \"clothes\"]\n",
        "del cart\n",
        "print(cart)"
      ],
      "id": "6bfce4e8",
      "execution_count": null,
      "outputs": [
        {
          "output_type": "error",
          "ename": "NameError",
          "evalue": "name 'cart' is not defined",
          "traceback": [
            "\u001b[1;31m---------------------------------------------------------------------------\u001b[0m",
            "\u001b[1;31mNameError\u001b[0m                                 Traceback (most recent call last)",
            "\u001b[1;32m<ipython-input-41-df127dbd903f>\u001b[0m in \u001b[0;36m<module>\u001b[1;34m\u001b[0m\n\u001b[0;32m      1\u001b[0m \u001b[0mcart\u001b[0m \u001b[1;33m=\u001b[0m \u001b[1;33m[\u001b[0m\u001b[1;34m\"cosmetics\"\u001b[0m\u001b[1;33m,\u001b[0m \u001b[1;34m\"food\"\u001b[0m\u001b[1;33m,\u001b[0m \u001b[1;34m\"clothes\"\u001b[0m\u001b[1;33m]\u001b[0m\u001b[1;33m\u001b[0m\u001b[1;33m\u001b[0m\u001b[0m\n\u001b[0;32m      2\u001b[0m \u001b[1;32mdel\u001b[0m \u001b[0mcart\u001b[0m\u001b[1;33m\u001b[0m\u001b[1;33m\u001b[0m\u001b[0m\n\u001b[1;32m----> 3\u001b[1;33m \u001b[0mprint\u001b[0m\u001b[1;33m(\u001b[0m\u001b[0mcart\u001b[0m\u001b[1;33m)\u001b[0m\u001b[1;33m\u001b[0m\u001b[1;33m\u001b[0m\u001b[0m\n\u001b[0m",
            "\u001b[1;31mNameError\u001b[0m: name 'cart' is not defined"
          ]
        }
      ]
    },
    {
      "cell_type": "code",
      "metadata": {
        "id": "668a52a5",
        "outputId": "e2c655ca-6a7e-46f6-f889-5897265a8c77"
      },
      "source": [
        "cart = [\"cosmetics\", \"food\", \"clothes\"]\n",
        "cart.clear()\n",
        "print(cart)"
      ],
      "id": "668a52a5",
      "execution_count": null,
      "outputs": [
        {
          "output_type": "stream",
          "text": [
            "[]\n"
          ],
          "name": "stdout"
        }
      ]
    },
    {
      "cell_type": "code",
      "metadata": {
        "id": "34f76e3b",
        "outputId": "53bdcc61-0749-4531-91c4-d0977fbac396"
      },
      "source": [
        "colours = ['black', 'blue', 'red', 'brown']\n",
        "colours.sort()\n",
        "print(colours)"
      ],
      "id": "34f76e3b",
      "execution_count": null,
      "outputs": [
        {
          "output_type": "stream",
          "text": [
            "['black', 'blue', 'brown', 'red']\n"
          ],
          "name": "stdout"
        }
      ]
    },
    {
      "cell_type": "code",
      "metadata": {
        "id": "779f021a",
        "outputId": "9296f085-01ea-4bf1-d769-737eef95c4dc"
      },
      "source": [
        "li = [70, 100, 90, 0, 20,10]\n",
        "li.sort()\n",
        "print(li)"
      ],
      "id": "779f021a",
      "execution_count": null,
      "outputs": [
        {
          "output_type": "stream",
          "text": [
            "[0, 10, 20, 70, 90, 100]\n"
          ],
          "name": "stdout"
        }
      ]
    },
    {
      "cell_type": "code",
      "metadata": {
        "id": "b3b622d7",
        "outputId": "dafdd75b-2d2c-45ed-d951-377f5c434b55"
      },
      "source": [
        "li = [70, 100, 90, 0, 20,10]\n",
        "li.sort(reverse = True)\n",
        "print(li)"
      ],
      "id": "b3b622d7",
      "execution_count": null,
      "outputs": [
        {
          "output_type": "stream",
          "text": [
            "[100, 90, 70, 20, 10, 0]\n"
          ],
          "name": "stdout"
        }
      ]
    },
    {
      "cell_type": "code",
      "metadata": {
        "id": "a4033dd4"
      },
      "source": [
        ""
      ],
      "id": "a4033dd4",
      "execution_count": null,
      "outputs": []
    }
  ]
}