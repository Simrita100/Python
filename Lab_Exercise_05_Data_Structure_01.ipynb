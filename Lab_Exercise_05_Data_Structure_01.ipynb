{
  "nbformat": 4,
  "nbformat_minor": 5,
  "metadata": {
    "kernelspec": {
      "display_name": "Python 3",
      "language": "python",
      "name": "python3"
    },
    "language_info": {
      "codemirror_mode": {
        "name": "ipython",
        "version": 3
      },
      "file_extension": ".py",
      "mimetype": "text/x-python",
      "name": "python",
      "nbconvert_exporter": "python",
      "pygments_lexer": "ipython3",
      "version": "3.8.10"
    },
    "colab": {
      "name": "Lab_Exercise_05_Data_Structure_01.ipynb",
      "provenance": [],
      "include_colab_link": true
    }
  },
  "cells": [
    {
      "cell_type": "markdown",
      "metadata": {
        "id": "view-in-github",
        "colab_type": "text"
      },
      "source": [
        "<a href=\"https://colab.research.google.com/github/Simrita100/Python/blob/main/Lab_Exercise_05_Data_Structure_01.ipynb\" target=\"_parent\"><img src=\"https://colab.research.google.com/assets/colab-badge.svg\" alt=\"Open In Colab\"/></a>"
      ]
    },
    {
      "cell_type": "markdown",
      "metadata": {
        "id": "8836829e"
      },
      "source": [
        "## Lists"
      ],
      "id": "8836829e"
    },
    {
      "cell_type": "code",
      "metadata": {
        "id": "66ce75bf",
        "outputId": "950a464f-8681-45df-e979-8eb4f4d4eb91"
      },
      "source": [
        "s = [5] * 50\n",
        "print(s)"
      ],
      "id": "66ce75bf",
      "execution_count": null,
      "outputs": [
        {
          "name": "stdout",
          "output_type": "stream",
          "text": [
            "[5, 5, 5, 5, 5, 5, 5, 5, 5, 5, 5, 5, 5, 5, 5, 5, 5, 5, 5, 5, 5, 5, 5, 5, 5, 5, 5, 5, 5, 5, 5, 5, 5, 5, 5, 5, 5, 5, 5, 5, 5, 5, 5, 5, 5, 5, 5, 5, 5, 5]\n"
          ]
        }
      ]
    },
    {
      "cell_type": "code",
      "metadata": {
        "id": "fbe6af7c",
        "outputId": "2877e6c8-8d9b-46b6-fd3f-74c9ef0736ff"
      },
      "source": [
        "x = ['Name'] * 100\n",
        "print(x)"
      ],
      "id": "fbe6af7c",
      "execution_count": null,
      "outputs": [
        {
          "name": "stdout",
          "output_type": "stream",
          "text": [
            "['Name', 'Name', 'Name', 'Name', 'Name', 'Name', 'Name', 'Name', 'Name', 'Name', 'Name', 'Name', 'Name', 'Name', 'Name', 'Name', 'Name', 'Name', 'Name', 'Name', 'Name', 'Name', 'Name', 'Name', 'Name', 'Name', 'Name', 'Name', 'Name', 'Name', 'Name', 'Name', 'Name', 'Name', 'Name', 'Name', 'Name', 'Name', 'Name', 'Name', 'Name', 'Name', 'Name', 'Name', 'Name', 'Name', 'Name', 'Name', 'Name', 'Name', 'Name', 'Name', 'Name', 'Name', 'Name', 'Name', 'Name', 'Name', 'Name', 'Name', 'Name', 'Name', 'Name', 'Name', 'Name', 'Name', 'Name', 'Name', 'Name', 'Name', 'Name', 'Name', 'Name', 'Name', 'Name', 'Name', 'Name', 'Name', 'Name', 'Name', 'Name', 'Name', 'Name', 'Name', 'Name', 'Name', 'Name', 'Name', 'Name', 'Name', 'Name', 'Name', 'Name', 'Name', 'Name', 'Name', 'Name', 'Name', 'Name', 'Name']\n"
          ]
        }
      ]
    },
    {
      "cell_type": "code",
      "metadata": {
        "id": "882dcc49",
        "outputId": "acd73214-64ea-4816-c076-ae28c52aa5b9"
      },
      "source": [
        "alpha = ['p', 'q', 'r', 's']\n",
        "num = [10] * 6\n",
        "alphanum = alpha + num\n",
        "print(alphanum)"
      ],
      "id": "882dcc49",
      "execution_count": null,
      "outputs": [
        {
          "name": "stdout",
          "output_type": "stream",
          "text": [
            "['p', 'q', 'r', 's', 10, 10, 10, 10, 10, 10]\n"
          ]
        }
      ]
    },
    {
      "cell_type": "code",
      "metadata": {
        "id": "666396a7",
        "outputId": "ae2f7d8b-b5b5-4511-b7ac-9c84a4e41f31"
      },
      "source": [
        "s = list('Horrid Henry')\n",
        "print(s)\n",
        "print(len(s))"
      ],
      "id": "666396a7",
      "execution_count": null,
      "outputs": [
        {
          "name": "stdout",
          "output_type": "stream",
          "text": [
            "['H', 'o', 'r', 'r', 'i', 'd', ' ', 'H', 'e', 'n', 'r', 'y']\n",
            "12\n"
          ]
        }
      ]
    },
    {
      "cell_type": "code",
      "metadata": {
        "id": "37d2d5ea",
        "outputId": "f7ebce59-c102-484e-efc2-90a1f6875b7f"
      },
      "source": [
        "alpha = ['p', 'q', 'r', 's']\n",
        "for alpha in enumerate(alpha):\n",
        "    print(alpha[0], alpha[1])"
      ],
      "id": "37d2d5ea",
      "execution_count": null,
      "outputs": [
        {
          "name": "stdout",
          "output_type": "stream",
          "text": [
            "0 p\n",
            "1 q\n",
            "2 r\n",
            "3 s\n"
          ]
        }
      ]
    },
    {
      "cell_type": "code",
      "metadata": {
        "id": "8bf1cd3a",
        "outputId": "3c4e9826-d90c-4477-e622-61a8d8732473"
      },
      "source": [
        "options = ['A', 'B', 'C']\n",
        "for index, options in enumerate(options):\n",
        "    print(index, options)"
      ],
      "id": "8bf1cd3a",
      "execution_count": null,
      "outputs": [
        {
          "name": "stdout",
          "output_type": "stream",
          "text": [
            "0 A\n",
            "1 B\n",
            "2 C\n"
          ]
        }
      ]
    },
    {
      "cell_type": "markdown",
      "metadata": {
        "id": "3d7456bd"
      },
      "source": [
        "## Accessing"
      ],
      "id": "3d7456bd"
    },
    {
      "cell_type": "code",
      "metadata": {
        "id": "62dcda24",
        "outputId": "f8beabc2-f5b0-43c7-fbda-38f113cc4f5a"
      },
      "source": [
        "options = ['A', 'B', 'C', 'D']\n",
        "print(options[0])"
      ],
      "id": "62dcda24",
      "execution_count": null,
      "outputs": [
        {
          "name": "stdout",
          "output_type": "stream",
          "text": [
            "A\n"
          ]
        }
      ]
    },
    {
      "cell_type": "code",
      "metadata": {
        "id": "2a525e00",
        "outputId": "05f51a77-1efd-49cd-e4e2-d0b959725f73"
      },
      "source": [
        "options = ['A', 'B', 'C', 'D']\n",
        "print(options[1])"
      ],
      "id": "2a525e00",
      "execution_count": null,
      "outputs": [
        {
          "name": "stdout",
          "output_type": "stream",
          "text": [
            "B\n"
          ]
        }
      ]
    },
    {
      "cell_type": "code",
      "metadata": {
        "id": "4a944e39",
        "outputId": "35232d33-75c9-4c69-c078-7b32083e7789"
      },
      "source": [
        "options = ['A', 'B', 'C', 'D']\n",
        "print(options[-1])"
      ],
      "id": "4a944e39",
      "execution_count": null,
      "outputs": [
        {
          "name": "stdout",
          "output_type": "stream",
          "text": [
            "D\n"
          ]
        }
      ]
    },
    {
      "cell_type": "code",
      "metadata": {
        "id": "d50d1d47",
        "outputId": "bd78a7c8-d0b1-4313-abaf-6efe621fdc46"
      },
      "source": [
        "options = ['A', 'B', 'C', 'D', 'E']\n",
        "options[0] = 1\n",
        "print(options[0:3])\n",
        "print(options[0:])\n",
        "options[::2]\n",
        "options[::-1]\n"
      ],
      "id": "d50d1d47",
      "execution_count": null,
      "outputs": [
        {
          "name": "stdout",
          "output_type": "stream",
          "text": [
            "[1, 'B', 'C']\n",
            "[1, 'B', 'C', 'D', 'E']\n"
          ]
        },
        {
          "data": {
            "text/plain": [
              "['E', 'D', 'C', 'B', 1]"
            ]
          },
          "execution_count": 16,
          "metadata": {},
          "output_type": "execute_result"
        }
      ]
    },
    {
      "cell_type": "code",
      "metadata": {
        "id": "799d3fff",
        "outputId": "88eb1b43-3d57-4032-f7b7-ccf7a760456f"
      },
      "source": [
        "x = list(range(40))\n",
        "print(x)"
      ],
      "id": "799d3fff",
      "execution_count": null,
      "outputs": [
        {
          "name": "stdout",
          "output_type": "stream",
          "text": [
            "[0, 1, 2, 3, 4, 5, 6, 7, 8, 9, 10, 11, 12, 13, 14, 15, 16, 17, 18, 19, 20, 21, 22, 23, 24, 25, 26, 27, 28, 29, 30, 31, 32, 33, 34, 35, 36, 37, 38, 39]\n"
          ]
        }
      ]
    },
    {
      "cell_type": "code",
      "metadata": {
        "id": "a14a13c8",
        "outputId": "ee47c353-bc3e-4ce1-84da-afb137dbbb2d"
      },
      "source": [
        "print(x[::-1])"
      ],
      "id": "a14a13c8",
      "execution_count": null,
      "outputs": [
        {
          "name": "stdout",
          "output_type": "stream",
          "text": [
            "[39, 38, 37, 36, 35, 34, 33, 32, 31, 30, 29, 28, 27, 26, 25, 24, 23, 22, 21, 20, 19, 18, 17, 16, 15, 14, 13, 12, 11, 10, 9, 8, 7, 6, 5, 4, 3, 2, 1, 0]\n"
          ]
        }
      ]
    },
    {
      "cell_type": "code",
      "metadata": {
        "id": "e2aa946c",
        "outputId": "4f15c4ab-e476-455b-bb25-fda05a7e252a"
      },
      "source": [
        "print(x[:1])"
      ],
      "id": "e2aa946c",
      "execution_count": null,
      "outputs": [
        {
          "name": "stdout",
          "output_type": "stream",
          "text": [
            "[0]\n"
          ]
        }
      ]
    },
    {
      "cell_type": "code",
      "metadata": {
        "id": "07725a01",
        "outputId": "d19f9521-4994-4447-baa2-d59d129f7be2"
      },
      "source": [
        "print(x[::])"
      ],
      "id": "07725a01",
      "execution_count": null,
      "outputs": [
        {
          "name": "stdout",
          "output_type": "stream",
          "text": [
            "[0, 1, 2, 3, 4, 5, 6, 7, 8, 9, 10, 11, 12, 13, 14, 15, 16, 17, 18, 19, 20, 21, 22, 23, 24, 25, 26, 27, 28, 29, 30, 31, 32, 33, 34, 35, 36, 37, 38, 39]\n"
          ]
        }
      ]
    },
    {
      "cell_type": "markdown",
      "metadata": {
        "id": "8ea3d071"
      },
      "source": [
        "## Adding / Removing"
      ],
      "id": "8ea3d071"
    },
    {
      "cell_type": "code",
      "metadata": {
        "id": "9e5bd5c9",
        "outputId": "905109ce-6e49-4c1d-f6cd-ae19b2c3995c"
      },
      "source": [
        "options = ['A', 'B', 'F', 'C', 'E', 'D', 'E', 'B']\n",
        "options.append('F')\n",
        "print(options)"
      ],
      "id": "9e5bd5c9",
      "execution_count": null,
      "outputs": [
        {
          "name": "stdout",
          "output_type": "stream",
          "text": [
            "['A', 'B', 'F', 'C', 'E', 'D', 'E', 'B', 'F']\n"
          ]
        }
      ]
    },
    {
      "cell_type": "code",
      "metadata": {
        "id": "142e68af",
        "outputId": "33b68255-46d1-4771-d0ca-5a9a4bb922b2"
      },
      "source": [
        "options = ['A', 'B', 'C', 'D', 'E']\n",
        "options.insert(1,'not found')\n",
        "print(options)"
      ],
      "id": "142e68af",
      "execution_count": null,
      "outputs": [
        {
          "name": "stdout",
          "output_type": "stream",
          "text": [
            "['A', 'not found', 'B', 'C', 'D', 'E']\n"
          ]
        }
      ]
    },
    {
      "cell_type": "code",
      "metadata": {
        "id": "24db8a5d",
        "outputId": "de414990-64c4-4830-84c9-993bae7ec702"
      },
      "source": [
        "options.pop(2)"
      ],
      "id": "24db8a5d",
      "execution_count": null,
      "outputs": [
        {
          "data": {
            "text/plain": [
              "'B'"
            ]
          },
          "execution_count": 24,
          "metadata": {},
          "output_type": "execute_result"
        }
      ]
    },
    {
      "cell_type": "code",
      "metadata": {
        "id": "4f51c770",
        "outputId": "b8b3f57d-0560-46d7-8f39-4321ac14a578"
      },
      "source": [
        "options\n"
      ],
      "id": "4f51c770",
      "execution_count": null,
      "outputs": [
        {
          "data": {
            "text/plain": [
              "['A', 'not found', 'C', 'D', 'E']"
            ]
          },
          "execution_count": 25,
          "metadata": {},
          "output_type": "execute_result"
        }
      ]
    },
    {
      "cell_type": "code",
      "metadata": {
        "id": "eb1d8956",
        "outputId": "4f99406f-d0c3-4d3b-80a9-0ba9478d4dd2"
      },
      "source": [
        "li = ['a','b','c','d']\n",
        "li.remove(\"b\")\n",
        "li"
      ],
      "id": "eb1d8956",
      "execution_count": null,
      "outputs": [
        {
          "data": {
            "text/plain": [
              "['a', 'c', 'd']"
            ]
          },
          "execution_count": 26,
          "metadata": {},
          "output_type": "execute_result"
        }
      ]
    },
    {
      "cell_type": "markdown",
      "metadata": {
        "id": "2986d9d3"
      },
      "source": [
        "## Finding Items"
      ],
      "id": "2986d9d3"
    },
    {
      "cell_type": "code",
      "metadata": {
        "id": "e1699c95",
        "outputId": "a321bb2d-21be-45bb-ec7f-56241fc2d5c4"
      },
      "source": [
        "options = ['A', 'B', 'C', 'D', 'E']\n",
        "print(options.index('B'))"
      ],
      "id": "e1699c95",
      "execution_count": null,
      "outputs": [
        {
          "name": "stdout",
          "output_type": "stream",
          "text": [
            "1\n"
          ]
        }
      ]
    },
    {
      "cell_type": "code",
      "metadata": {
        "id": "be349647",
        "outputId": "4018f59a-ee24-4c55-86f7-89bdb06327ab"
      },
      "source": [
        "print(options.index('E'))"
      ],
      "id": "be349647",
      "execution_count": null,
      "outputs": [
        {
          "name": "stdout",
          "output_type": "stream",
          "text": [
            "4\n"
          ]
        }
      ]
    },
    {
      "cell_type": "code",
      "metadata": {
        "id": "cf81e9fc",
        "outputId": "cb33d77f-3b90-4f79-bb6d-c2551755b7fd"
      },
      "source": [
        "list = ['Pen', 'Paper', 'Book', 'Ink']\n",
        "if 'Book' in list:\n",
        "    print(list.index('Book'))"
      ],
      "id": "cf81e9fc",
      "execution_count": null,
      "outputs": [
        {
          "name": "stdout",
          "output_type": "stream",
          "text": [
            "2\n"
          ]
        }
      ]
    },
    {
      "cell_type": "code",
      "metadata": {
        "id": "614d9c66",
        "outputId": "c7e6d8d9-417b-4577-8a75-7e7f5f88bc4e"
      },
      "source": [
        "options = ['A','D', 'B', 'D', 'F', 'C', 'E', 'D', 'E', 'B', 'D']\n",
        "options.count('D')"
      ],
      "id": "614d9c66",
      "execution_count": null,
      "outputs": [
        {
          "data": {
            "text/plain": [
              "4"
            ]
          },
          "execution_count": 37,
          "metadata": {},
          "output_type": "execute_result"
        }
      ]
    },
    {
      "cell_type": "markdown",
      "metadata": {
        "id": "13e46027"
      },
      "source": [
        "## Sorting"
      ],
      "id": "13e46027"
    },
    {
      "cell_type": "code",
      "metadata": {
        "id": "6ab601eb",
        "outputId": "ca490724-f804-40f4-f7d6-dd55235a3b2e"
      },
      "source": [
        "numbers = [50,98,10,100,30,5,78,45,1]\n",
        "numbers.sort()\n",
        "print(numbers)"
      ],
      "id": "6ab601eb",
      "execution_count": null,
      "outputs": [
        {
          "name": "stdout",
          "output_type": "stream",
          "text": [
            "[1, 5, 10, 30, 45, 50, 78, 98, 100]\n"
          ]
        }
      ]
    },
    {
      "cell_type": "code",
      "metadata": {
        "id": "4f746b0a",
        "outputId": "dbb5fd90-801a-4966-c86d-18557114fd31"
      },
      "source": [
        "numbers = [50,98,10,100,30,5,78,45,1]\n",
        "numbers.sort(reverse=True)\n",
        "print(numbers)"
      ],
      "id": "4f746b0a",
      "execution_count": null,
      "outputs": [
        {
          "name": "stdout",
          "output_type": "stream",
          "text": [
            "[100, 98, 78, 50, 45, 30, 10, 5, 1]\n"
          ]
        }
      ]
    },
    {
      "cell_type": "code",
      "metadata": {
        "id": "5403eb25",
        "outputId": "60bedc6b-8b1d-4800-8159-2c9ed63f4577"
      },
      "source": [
        "print(sorted(numbers))"
      ],
      "id": "5403eb25",
      "execution_count": null,
      "outputs": [
        {
          "name": "stdout",
          "output_type": "stream",
          "text": [
            "[1, 5, 10, 30, 45, 50, 78, 98, 100]\n"
          ]
        }
      ]
    },
    {
      "cell_type": "code",
      "metadata": {
        "id": "7c441359",
        "outputId": "e522f26a-5c8b-451a-e3e7-8c4fd6e7b2d8"
      },
      "source": [
        "numbers = [60, 78, 55, 1, 0, 66, 22, 70, 100, 10]\n",
        "print(sorted(numbers, reverse = True))\n",
        "print(numbers)"
      ],
      "id": "7c441359",
      "execution_count": null,
      "outputs": [
        {
          "name": "stdout",
          "output_type": "stream",
          "text": [
            "[100, 78, 70, 66, 60, 55, 22, 10, 1, 0]\n",
            "[60, 78, 55, 1, 0, 66, 22, 70, 100, 10]\n"
          ]
        }
      ]
    },
    {
      "cell_type": "code",
      "metadata": {
        "id": "447112e0",
        "outputId": "d332fa7f-75ef-4960-b07a-4cca416348f7"
      },
      "source": [
        "s = ['b', 'f', 'z', 'm', 'a','s']\n",
        "s.sort()\n",
        "print(s)"
      ],
      "id": "447112e0",
      "execution_count": null,
      "outputs": [
        {
          "name": "stdout",
          "output_type": "stream",
          "text": [
            "['a', 'b', 'f', 'm', 's', 'z']\n"
          ]
        }
      ]
    },
    {
      "cell_type": "code",
      "metadata": {
        "id": "e27da5a3",
        "outputId": "f00225cb-826c-4ec4-d064-726e5717c98b"
      },
      "source": [
        "bill = [(\"item1\", 60),\n",
        "       (\"item2\", 10),\n",
        "       (\"item3\", 43),\n",
        "       (\"item4\", 50),\n",
        "       (\"item5\", 202),\n",
        "       (\"item6\", 100)]\n",
        "bill.sort()\n",
        "print(bill)"
      ],
      "id": "e27da5a3",
      "execution_count": null,
      "outputs": [
        {
          "name": "stdout",
          "output_type": "stream",
          "text": [
            "[('item1', 60), ('item2', 10), ('item3', 43), ('item4', 50), ('item5', 202), ('item6', 100)]\n"
          ]
        }
      ]
    },
    {
      "cell_type": "code",
      "metadata": {
        "id": "1cb4a3f0",
        "outputId": "e93ae7b9-34a6-4796-99ed-1c1615c2dea8"
      },
      "source": [
        "bill = [(\"item1\", 60),\n",
        "       (\"item2\", 10),\n",
        "       (\"item3\", 43),\n",
        "       (\"item4\", 50),\n",
        "       (\"item5\", 202),\n",
        "       (\"item6\", 100)]\n",
        "def sort_items(bill):\n",
        "    return bill[1]\n",
        "bill.sort(key = sort_items)\n",
        "print(bill)"
      ],
      "id": "1cb4a3f0",
      "execution_count": null,
      "outputs": [
        {
          "name": "stdout",
          "output_type": "stream",
          "text": [
            "[('item2', 10), ('item3', 43), ('item4', 50), ('item1', 60), ('item6', 100), ('item5', 202)]\n"
          ]
        }
      ]
    },
    {
      "cell_type": "markdown",
      "metadata": {
        "id": "fe070c77"
      },
      "source": [
        "## Lambda function"
      ],
      "id": "fe070c77"
    },
    {
      "cell_type": "code",
      "metadata": {
        "id": "b1d25d4a",
        "outputId": "c749487e-4f12-4b46-cd0d-87ebdf9b329c"
      },
      "source": [
        "bill = [(\"item1\", 60),\n",
        "       (\"item2\", 10),\n",
        "       (\"item3\", 43),\n",
        "       (\"item4\", 50),\n",
        "       (\"item5\", 202),\n",
        "       (\"item6\", 100)]\n",
        "bill.sort(key = lambda x:x[1])\n",
        "print(bill)"
      ],
      "id": "b1d25d4a",
      "execution_count": null,
      "outputs": [
        {
          "name": "stdout",
          "output_type": "stream",
          "text": [
            "[('item2', 10), ('item3', 43), ('item4', 50), ('item1', 60), ('item6', 100), ('item5', 202)]\n"
          ]
        }
      ]
    },
    {
      "cell_type": "code",
      "metadata": {
        "id": "4694ef77",
        "outputId": "35f05bf6-9720-4f0b-8f42-22af3b6bd3b8"
      },
      "source": [
        "def plus(a,b):\n",
        "    return a+b\n",
        "plus(8,4)"
      ],
      "id": "4694ef77",
      "execution_count": null,
      "outputs": [
        {
          "data": {
            "text/plain": [
              "12"
            ]
          },
          "execution_count": 15,
          "metadata": {},
          "output_type": "execute_result"
        }
      ]
    },
    {
      "cell_type": "code",
      "metadata": {
        "id": "01dab45d",
        "outputId": "f1abcf66-db7e-4799-9f4a-2c2649b8a818"
      },
      "source": [
        "def minus(y,z):\n",
        "    return y-z\n",
        "minus(-6,-4)"
      ],
      "id": "01dab45d",
      "execution_count": null,
      "outputs": [
        {
          "data": {
            "text/plain": [
              "-2"
            ]
          },
          "execution_count": 6,
          "metadata": {},
          "output_type": "execute_result"
        }
      ]
    },
    {
      "cell_type": "code",
      "metadata": {
        "id": "c8f2d4e0",
        "outputId": "5251d079-a4e3-4f29-baaa-917e6dad6ead"
      },
      "source": [
        "minus = lambda a,b : a+b\n",
        "minus(20,80)"
      ],
      "id": "c8f2d4e0",
      "execution_count": null,
      "outputs": [
        {
          "data": {
            "text/plain": [
              "100"
            ]
          },
          "execution_count": 7,
          "metadata": {},
          "output_type": "execute_result"
        }
      ]
    },
    {
      "cell_type": "code",
      "metadata": {
        "id": "540d67d8",
        "outputId": "6d1045ff-3df1-492b-b059-c7735931e84a"
      },
      "source": [
        "def s_first(s):\n",
        "    return s[0]\n",
        "s = [[980,50], [87,1], [10,90], [110,12], [80, 100]]\n",
        "s.sort(key = s_first)\n",
        "print(s)"
      ],
      "id": "540d67d8",
      "execution_count": null,
      "outputs": [
        {
          "name": "stdout",
          "output_type": "stream",
          "text": [
            "[[10, 90], [80, 100], [87, 1], [110, 12], [980, 50]]\n"
          ]
        }
      ]
    },
    {
      "cell_type": "code",
      "metadata": {
        "id": "954262cd",
        "outputId": "0c359618-32b6-4225-c86e-c42e2d4c5293"
      },
      "source": [
        "s.sort(key = lambda s:s[0])\n",
        "print(s)"
      ],
      "id": "954262cd",
      "execution_count": null,
      "outputs": [
        {
          "name": "stdout",
          "output_type": "stream",
          "text": [
            "[[10, 90], [80, 100], [87, 1], [110, 12], [980, 50]]\n"
          ]
        }
      ]
    },
    {
      "cell_type": "code",
      "metadata": {
        "id": "8601e75d",
        "outputId": "daabdd86-2406-4b09-dcda-1630a2c915d9"
      },
      "source": [
        "def s_first(s):\n",
        "    return s[1]\n",
        "s = [[980,50], [87,1], [10,90], [110,12], [80, 100]]\n",
        "s.sort(key = s_first)\n",
        "print(s)"
      ],
      "id": "8601e75d",
      "execution_count": null,
      "outputs": [
        {
          "name": "stdout",
          "output_type": "stream",
          "text": [
            "[[87, 1], [110, 12], [980, 50], [10, 90], [80, 100]]\n"
          ]
        }
      ]
    },
    {
      "cell_type": "code",
      "metadata": {
        "id": "e6a52534",
        "outputId": "a33b8967-415c-45db-fdec-da6f4e9f24c9"
      },
      "source": [
        "li = [[6,78], [1,90], [67,8], [32,5889]]\n",
        "li.sort(key = lambda x:x[0])\n",
        "print(li)"
      ],
      "id": "e6a52534",
      "execution_count": null,
      "outputs": [
        {
          "name": "stdout",
          "output_type": "stream",
          "text": [
            "[[1, 90], [6, 78], [32, 5889], [67, 8]]\n"
          ]
        }
      ]
    },
    {
      "cell_type": "markdown",
      "metadata": {
        "id": "ffcc185e"
      },
      "source": [
        "## Zip Function"
      ],
      "id": "ffcc185e"
    },
    {
      "cell_type": "code",
      "metadata": {
        "id": "2ac4a1f9",
        "outputId": "224a2626-fe5a-4301-e2e5-251573773c9f"
      },
      "source": [
        "L1 = [1 , 2, 3]\n",
        "L2 =  [40, 50]\n",
        "print(list(zip(L1, L2)))"
      ],
      "id": "2ac4a1f9",
      "execution_count": null,
      "outputs": [
        {
          "name": "stdout",
          "output_type": "stream",
          "text": [
            "[(1, 40), (2, 50)]\n"
          ]
        }
      ]
    },
    {
      "cell_type": "code",
      "metadata": {
        "id": "5e9a6c2a",
        "outputId": "4a4d732e-4f3b-4d23-ad46-80a0c4e5bf7d"
      },
      "source": [
        "li100 = [1, 5, 7, 11]\n",
        "li200 = [20, 60, 100, 400, 800]\n",
        "print(list(zip('ABCD', li100, li200)))"
      ],
      "id": "5e9a6c2a",
      "execution_count": null,
      "outputs": [
        {
          "name": "stdout",
          "output_type": "stream",
          "text": [
            "[('A', 1, 20), ('B', 5, 60), ('C', 7, 100), ('D', 11, 400)]\n"
          ]
        }
      ]
    },
    {
      "cell_type": "code",
      "metadata": {
        "id": "95f610e5",
        "outputId": "900e4ce0-7aad-4b94-930b-b584676a1e88"
      },
      "source": [
        "Bill_01 = [1, 2, 3, 4]\n",
        "Bill_02 = ['Mango', 'Milk', 'Bag', 'Bucket']\n",
        "print(list(zip(\"a5b6c7d8\", Bill_01, Bill_02)))"
      ],
      "id": "95f610e5",
      "execution_count": null,
      "outputs": [
        {
          "name": "stdout",
          "output_type": "stream",
          "text": [
            "[('a', 1, 'Mango'), ('5', 2, 'Milk'), ('b', 3, 'Bag'), ('6', 4, 'Bucket')]\n"
          ]
        }
      ]
    },
    {
      "cell_type": "markdown",
      "metadata": {
        "id": "75fbb73e"
      },
      "source": [
        "## Stack"
      ],
      "id": "75fbb73e"
    },
    {
      "cell_type": "code",
      "metadata": {
        "id": "11e44af5",
        "outputId": "55bfec10-b914-4a5f-8dc3-c1faec0716b6"
      },
      "source": [
        "list = []\n",
        "list.append('Mango')\n",
        "list.append('Notebook')\n",
        "list.append('ToolKit')\n",
        "list.append('Clock')\n",
        "list.append(20)\n",
        "print(list)\n"
      ],
      "id": "11e44af5",
      "execution_count": null,
      "outputs": [
        {
          "name": "stdout",
          "output_type": "stream",
          "text": [
            "['Mango', 'Notebook', 'ToolKit', 'Clock', 20]\n"
          ]
        }
      ]
    },
    {
      "cell_type": "code",
      "metadata": {
        "id": "76f9bf35",
        "outputId": "da492418-bd34-4019-cd22-31ea90dd3347"
      },
      "source": [
        "receipt = []\n",
        "receipt.append('Box1')\n",
        "receipt.append('Box2')\n",
        "receipt.append('Box3')\n",
        "receipt.append('Box4')\n",
        "print(receipt)\n",
        "last = receipt.pop()\n",
        "print(last)\n",
        "print(receipt)"
      ],
      "id": "76f9bf35",
      "execution_count": null,
      "outputs": [
        {
          "name": "stdout",
          "output_type": "stream",
          "text": [
            "['Box1', 'Box2', 'Box3', 'Box4']\n",
            "Box4\n",
            "['Box1', 'Box2', 'Box3']\n"
          ]
        }
      ]
    },
    {
      "cell_type": "code",
      "metadata": {
        "id": "9bebb227",
        "outputId": "96b34c63-5380-4d33-f392-04bc4071204f"
      },
      "source": [
        "receipt = [1, 2, 3, 4]\n",
        "removed = receipt.pop()\n",
        "print(first)\n",
        "print(receipt)"
      ],
      "id": "9bebb227",
      "execution_count": null,
      "outputs": [
        {
          "name": "stdout",
          "output_type": "stream",
          "text": [
            "4\n",
            "[1, 2, 3]\n"
          ]
        }
      ]
    },
    {
      "cell_type": "code",
      "metadata": {
        "id": "7ac60bf1",
        "outputId": "6039d5fc-2af1-4d71-d89b-1949608901ea"
      },
      "source": [
        "num = []\n",
        "num.append(1)\n",
        "num.append(2)\n",
        "num.append(3)\n",
        "print(num)\n",
        "last = num.pop()\n",
        "print(last)\n",
        "print(num)\n"
      ],
      "id": "7ac60bf1",
      "execution_count": null,
      "outputs": [
        {
          "name": "stdout",
          "output_type": "stream",
          "text": [
            "[1, 2, 3]\n",
            "3\n",
            "[1, 2]\n"
          ]
        }
      ]
    },
    {
      "cell_type": "markdown",
      "metadata": {
        "id": "20d18f50"
      },
      "source": [
        "## Queues"
      ],
      "id": "20d18f50"
    },
    {
      "cell_type": "code",
      "metadata": {
        "id": "a8073592",
        "outputId": "b7e3fd55-a424-4566-9571-5b6a5ecf18d9"
      },
      "source": [
        "from collections import deque\n",
        "queue = deque([])\n",
        "queue.append(10)\n",
        "queue.append(20)\n",
        "queue.append(30)\n",
        "queue.append(40)\n",
        "queue.append(50)\n",
        "queue.append(60)\n",
        "             \n",
        "print(queue)\n",
        "queue.popleft()\n",
        "print(queue)"
      ],
      "id": "a8073592",
      "execution_count": null,
      "outputs": [
        {
          "name": "stdout",
          "output_type": "stream",
          "text": [
            "deque([10, 20, 30, 40, 50, 60])\n",
            "deque([20, 30, 40, 50, 60])\n"
          ]
        }
      ]
    },
    {
      "cell_type": "markdown",
      "metadata": {
        "id": "68fc7163"
      },
      "source": [
        "## Tuples"
      ],
      "id": "68fc7163"
    },
    {
      "cell_type": "code",
      "metadata": {
        "id": "32a0e153",
        "outputId": "f3339deb-cf96-47f4-c325-c7d53a0688f7"
      },
      "source": [
        "s = ('w', 'x') + ('y', 'z')\n",
        "print(s)"
      ],
      "id": "32a0e153",
      "execution_count": null,
      "outputs": [
        {
          "name": "stdout",
          "output_type": "stream",
          "text": [
            "('w', 'x', 'y', 'z')\n"
          ]
        }
      ]
    },
    {
      "cell_type": "code",
      "metadata": {
        "id": "2e45e0c4",
        "outputId": "81a7c7a2-c875-4a30-c7c5-0963f2832fef"
      },
      "source": [
        "numbers = (1,2) + (3,4)\n",
        "print(numbers)"
      ],
      "id": "2e45e0c4",
      "execution_count": null,
      "outputs": [
        {
          "name": "stdout",
          "output_type": "stream",
          "text": [
            "(1, 2, 3, 4)\n"
          ]
        }
      ]
    },
    {
      "cell_type": "code",
      "metadata": {
        "id": "d738d67c",
        "outputId": "5816dd3d-3f5f-439b-8d59-44712eb533db"
      },
      "source": [
        "alpha_num = ('x', 'y') + (10, 20)\n",
        "print(alpha_num)"
      ],
      "id": "d738d67c",
      "execution_count": null,
      "outputs": [
        {
          "name": "stdout",
          "output_type": "stream",
          "text": [
            "('x', 'y', 10, 20)\n"
          ]
        }
      ]
    },
    {
      "cell_type": "code",
      "metadata": {
        "id": "18cf44ba",
        "outputId": "7bb20850-6bf7-4b2f-8431-33a889b28d39"
      },
      "source": [
        "option_A = tuple([100, 200])\n",
        "print(option_A)"
      ],
      "id": "18cf44ba",
      "execution_count": null,
      "outputs": [
        {
          "name": "stdout",
          "output_type": "stream",
          "text": [
            "(100, 200)\n"
          ]
        }
      ]
    },
    {
      "cell_type": "code",
      "metadata": {
        "id": "c9c61d30",
        "outputId": "9aafa13e-8a23-4e6e-f784-7db9f4dfe28c"
      },
      "source": [
        "task = tuple(['Studying', 'Cleaning'])\n",
        "print(task)"
      ],
      "id": "c9c61d30",
      "execution_count": null,
      "outputs": [
        {
          "name": "stdout",
          "output_type": "stream",
          "text": [
            "('Studying', 'Cleaning')\n"
          ]
        }
      ]
    },
    {
      "cell_type": "code",
      "metadata": {
        "id": "1e2f9175",
        "outputId": "525e9f8e-b646-4ab9-ed82-5ec2eedff48c"
      },
      "source": [
        "print(type(task))"
      ],
      "id": "1e2f9175",
      "execution_count": null,
      "outputs": [
        {
          "name": "stdout",
          "output_type": "stream",
          "text": [
            "<class 'tuple'>\n"
          ]
        }
      ]
    },
    {
      "cell_type": "code",
      "metadata": {
        "id": "8e3dbf07"
      },
      "source": [
        ""
      ],
      "id": "8e3dbf07",
      "execution_count": null,
      "outputs": []
    }
  ]
}