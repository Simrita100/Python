{
  "nbformat": 4,
  "nbformat_minor": 5,
  "metadata": {
    "kernelspec": {
      "display_name": "Python 3",
      "language": "python",
      "name": "python3"
    },
    "language_info": {
      "codemirror_mode": {
        "name": "ipython",
        "version": 3
      },
      "file_extension": ".py",
      "mimetype": "text/x-python",
      "name": "python",
      "nbconvert_exporter": "python",
      "pygments_lexer": "ipython3",
      "version": "3.8.10"
    },
    "colab": {
      "name": "practice exercise-3-tuples.ipynb",
      "provenance": [],
      "include_colab_link": true
    }
  },
  "cells": [
    {
      "cell_type": "markdown",
      "metadata": {
        "id": "view-in-github",
        "colab_type": "text"
      },
      "source": [
        "<a href=\"https://colab.research.google.com/github/Simrita100/Python/blob/main/practice_exercise_3_tuples.ipynb\" target=\"_parent\"><img src=\"https://colab.research.google.com/assets/colab-badge.svg\" alt=\"Open In Colab\"/></a>"
      ]
    },
    {
      "cell_type": "code",
      "metadata": {
        "id": "4af9271f",
        "outputId": "a9febe9c-7208-41e9-c3e8-bbcb965bc872"
      },
      "source": [
        "tp = (\"hi\", \"hey\", \"howdy\")\n",
        "print(tp)"
      ],
      "id": "4af9271f",
      "execution_count": null,
      "outputs": [
        {
          "output_type": "stream",
          "text": [
            "('hi', 'hey', 'howdy')\n"
          ],
          "name": "stdout"
        }
      ]
    },
    {
      "cell_type": "code",
      "metadata": {
        "id": "548ac297",
        "outputId": "b592e1f3-2783-4ca8-8c2a-92847339cfab"
      },
      "source": [
        "tp = (\"hi\", \"hey\", \"howdy\", \"hello\")\n",
        "print(len(tp))\n"
      ],
      "id": "548ac297",
      "execution_count": null,
      "outputs": [
        {
          "output_type": "stream",
          "text": [
            "4\n"
          ],
          "name": "stdout"
        }
      ]
    },
    {
      "cell_type": "code",
      "metadata": {
        "id": "20554b03",
        "outputId": "cae4103c-241e-4afd-f43d-f0e4104756b6"
      },
      "source": [
        "x = (\"fruits\",)\n",
        "print(type(x))"
      ],
      "id": "20554b03",
      "execution_count": null,
      "outputs": [
        {
          "output_type": "stream",
          "text": [
            "<class 'tuple'>\n"
          ],
          "name": "stdout"
        }
      ]
    },
    {
      "cell_type": "code",
      "metadata": {
        "id": "66f27d72",
        "outputId": "3e3560f8-90f1-409f-f071-2999b97ee076"
      },
      "source": [
        "tpl_1 = (\"dog\", \"cat\")\n",
        "tpl_2 = (1, 2)\n",
        "tpl_3 = (False, True)\n",
        "print(tpl_1)\n",
        "print(tpl_2)\n",
        "print(tpl_3)"
      ],
      "id": "66f27d72",
      "execution_count": null,
      "outputs": [
        {
          "output_type": "stream",
          "text": [
            "('dog', 'cat')\n",
            "(1, 2)\n",
            "(False, True)\n"
          ],
          "name": "stdout"
        }
      ]
    },
    {
      "cell_type": "code",
      "metadata": {
        "id": "ddeccff2",
        "outputId": "b68eef36-1b92-49a5-bf3d-e20fc6806831"
      },
      "source": [
        "s = (\"animals\", 10, True, 'birds')\n",
        "print(s)"
      ],
      "id": "ddeccff2",
      "execution_count": null,
      "outputs": [
        {
          "output_type": "stream",
          "text": [
            "('animals', 10, True, 'birds')\n"
          ],
          "name": "stdout"
        }
      ]
    },
    {
      "cell_type": "code",
      "metadata": {
        "id": "7401e3d3",
        "outputId": "5670928f-9b15-45e7-b54a-35ebedb64f1d"
      },
      "source": [
        "z = tuple(('a', 'b', 'c', 'd'))\n",
        "print(z)"
      ],
      "id": "7401e3d3",
      "execution_count": null,
      "outputs": [
        {
          "output_type": "stream",
          "text": [
            "('a', 'b', 'c', 'd')\n"
          ],
          "name": "stdout"
        }
      ]
    },
    {
      "cell_type": "code",
      "metadata": {
        "id": "2446f744",
        "outputId": "10204c93-3e93-4408-99e8-5f8dc09fe788"
      },
      "source": [
        "print(s[1])"
      ],
      "id": "2446f744",
      "execution_count": null,
      "outputs": [
        {
          "output_type": "stream",
          "text": [
            "10\n"
          ],
          "name": "stdout"
        }
      ]
    },
    {
      "cell_type": "code",
      "metadata": {
        "id": "d7c44787",
        "outputId": "d9360ed8-aff9-4811-858a-76d1c6d43dc7"
      },
      "source": [
        "print(z[-2])"
      ],
      "id": "d7c44787",
      "execution_count": null,
      "outputs": [
        {
          "output_type": "stream",
          "text": [
            "c\n"
          ],
          "name": "stdout"
        }
      ]
    },
    {
      "cell_type": "code",
      "metadata": {
        "id": "6d69d018",
        "outputId": "6a0e3dc3-4ed8-4ca3-d1a8-a6e324d1a3b0"
      },
      "source": [
        "flowers = (\"oleander\", \"jasmine\", \"rose\", \"lily\")\n",
        "if \"jasmine\" in flowers:\n",
        "    print(\"Yes!\")"
      ],
      "id": "6d69d018",
      "execution_count": null,
      "outputs": [
        {
          "output_type": "stream",
          "text": [
            "Yes!\n"
          ],
          "name": "stdout"
        }
      ]
    },
    {
      "cell_type": "code",
      "metadata": {
        "id": "e48f221b",
        "outputId": "ef74e9fd-f39f-4110-c940-ac473be03c04"
      },
      "source": [
        "flowers = (\"oleander\", \"jasmine\", \"rose\", \"lily\")\n",
        "change = list(flowers)\n",
        "change[3] = \"tulips\"\n",
        "flowers = tuple(change)\n",
        "print(flowers)"
      ],
      "id": "e48f221b",
      "execution_count": null,
      "outputs": [
        {
          "output_type": "stream",
          "text": [
            "('oleander', 'jasmine', 'rose', 'tulips')\n"
          ],
          "name": "stdout"
        }
      ]
    },
    {
      "cell_type": "code",
      "metadata": {
        "id": "7ae5fae1",
        "outputId": "5c88d3df-b946-4589-a475-b69436d1348a"
      },
      "source": [
        "x = (\"Tina\", \"Mina\", \"Zina\", \"Dina\")\n",
        "y = list(x)\n",
        "y.append(\"Moana\")\n",
        "x = tuple(y)\n",
        "print(x)"
      ],
      "id": "7ae5fae1",
      "execution_count": null,
      "outputs": [
        {
          "output_type": "stream",
          "text": [
            "('Tina', 'Mina', 'Zina', 'Dina', 'Moana')\n"
          ],
          "name": "stdout"
        }
      ]
    },
    {
      "cell_type": "code",
      "metadata": {
        "id": "4e0fc900",
        "outputId": "2489af5c-f517-4f69-a8f8-d61c964279a5"
      },
      "source": [
        "first = ('a', 'b', 'c')\n",
        "second = ('d',)\n",
        "first += second\n",
        "print(first)"
      ],
      "id": "4e0fc900",
      "execution_count": null,
      "outputs": [
        {
          "output_type": "stream",
          "text": [
            "('a', 'b', 'c', 'd')\n"
          ],
          "name": "stdout"
        }
      ]
    },
    {
      "cell_type": "code",
      "metadata": {
        "id": "3ec9bd26",
        "outputId": "52cc62e5-0367-4b4b-df7d-8a0ba0550a4e"
      },
      "source": [
        "x = (\"Tina\", \"Mina\", \"Zina\", \"Dina\")\n",
        "y = list(x)\n",
        "y.remove(\"Mina\")\n",
        "x = tuple(y)\n",
        "print(x)\n"
      ],
      "id": "3ec9bd26",
      "execution_count": null,
      "outputs": [
        {
          "output_type": "stream",
          "text": [
            "('Tina', 'Zina', 'Dina')\n"
          ],
          "name": "stdout"
        }
      ]
    },
    {
      "cell_type": "code",
      "metadata": {
        "id": "5cc8868b",
        "outputId": "eb204447-0a5c-48db-dd34-e76274ea251d"
      },
      "source": [
        "x = (\"Tina\", \"Mina\", \"Zina\", \"Dina\")\n",
        "del x\n",
        "print(x)"
      ],
      "id": "5cc8868b",
      "execution_count": null,
      "outputs": [
        {
          "output_type": "error",
          "ename": "NameError",
          "evalue": "name 'x' is not defined",
          "traceback": [
            "\u001b[1;31m---------------------------------------------------------------------------\u001b[0m",
            "\u001b[1;31mNameError\u001b[0m                                 Traceback (most recent call last)",
            "\u001b[1;32m<ipython-input-18-2512add29ad5>\u001b[0m in \u001b[0;36m<module>\u001b[1;34m\u001b[0m\n\u001b[0;32m      1\u001b[0m \u001b[0mx\u001b[0m \u001b[1;33m=\u001b[0m \u001b[1;33m(\u001b[0m\u001b[1;34m\"Tina\"\u001b[0m\u001b[1;33m,\u001b[0m \u001b[1;34m\"Mina\"\u001b[0m\u001b[1;33m,\u001b[0m \u001b[1;34m\"Zina\"\u001b[0m\u001b[1;33m,\u001b[0m \u001b[1;34m\"Dina\"\u001b[0m\u001b[1;33m)\u001b[0m\u001b[1;33m\u001b[0m\u001b[1;33m\u001b[0m\u001b[0m\n\u001b[0;32m      2\u001b[0m \u001b[1;32mdel\u001b[0m \u001b[0mx\u001b[0m\u001b[1;33m\u001b[0m\u001b[1;33m\u001b[0m\u001b[0m\n\u001b[1;32m----> 3\u001b[1;33m \u001b[0mprint\u001b[0m\u001b[1;33m(\u001b[0m\u001b[0mx\u001b[0m\u001b[1;33m)\u001b[0m\u001b[1;33m\u001b[0m\u001b[1;33m\u001b[0m\u001b[0m\n\u001b[0m",
            "\u001b[1;31mNameError\u001b[0m: name 'x' is not defined"
          ]
        }
      ]
    },
    {
      "cell_type": "code",
      "metadata": {
        "id": "a8ec2716",
        "outputId": "bfa1565e-30bc-44d2-8685-b001fecdbba1"
      },
      "source": [
        "x = (\"Tina\", \"Mina\", \"Zina\", \"Dina\")\n",
        "(black, white, red, purple) = x\n",
        "print(black)\n",
        "print(white)\n",
        "print(black)\n",
        "print(purple)"
      ],
      "id": "a8ec2716",
      "execution_count": null,
      "outputs": [
        {
          "output_type": "stream",
          "text": [
            "Tina\n",
            "Mina\n",
            "Tina\n",
            "Dina\n"
          ],
          "name": "stdout"
        }
      ]
    },
    {
      "cell_type": "code",
      "metadata": {
        "id": "64d971ad",
        "outputId": "dab99a39-79dd-4175-f910-db27d603d827"
      },
      "source": [
        "cart = (\"milk\", \"bread\",\"crisps\", \"raspberries\", \"soaps\", \"pens\")\n",
        "(a , b, c, *d) = cart\n",
        "print(a)\n",
        "print(b)\n",
        "print(c)\n",
        "print(*d)"
      ],
      "id": "64d971ad",
      "execution_count": null,
      "outputs": [
        {
          "output_type": "stream",
          "text": [
            "milk\n",
            "bread\n",
            "crisps\n",
            "raspberries soaps pens\n"
          ],
          "name": "stdout"
        }
      ]
    },
    {
      "cell_type": "code",
      "metadata": {
        "id": "50785245",
        "outputId": "b5c3c11c-72dc-4b0a-fb62-0af6e6cecb75"
      },
      "source": [
        "food = (\"ramen\", \"ricecake\", \"pickledplum\", \"salmon\", \"sushi\", \"cod-roe\", \"Egg tofu\")\n",
        "(x, *y, z) = food\n",
        "print(x)\n",
        "print(*y)\n",
        "print(z)"
      ],
      "id": "50785245",
      "execution_count": null,
      "outputs": [
        {
          "output_type": "stream",
          "text": [
            "ramen\n",
            "ricecake pickledplum salmon sushi cod-roe\n",
            "Egg tofu\n"
          ],
          "name": "stdout"
        }
      ]
    },
    {
      "cell_type": "code",
      "metadata": {
        "id": "65b5414b",
        "outputId": "eb1695b7-66d0-4a38-ddf2-95dd71153aa3"
      },
      "source": [
        "names = (\"Tina\", \"Mina\", \"Zina\", \"Dina\")\n",
        "for x in names:\n",
        "    print(x)"
      ],
      "id": "65b5414b",
      "execution_count": null,
      "outputs": [
        {
          "output_type": "stream",
          "text": [
            "Tina\n",
            "Mina\n",
            "Zina\n",
            "Dina\n"
          ],
          "name": "stdout"
        }
      ]
    },
    {
      "cell_type": "code",
      "metadata": {
        "id": "2c60462e",
        "outputId": "7ab92679-8043-46f1-9874-96c96bd37443"
      },
      "source": [
        "x = (\"Tina\", \"Mina\", \"Zina\", \"Dina\")\n",
        "for i in range(len(x)):\n",
        "    print(x[i])"
      ],
      "id": "2c60462e",
      "execution_count": null,
      "outputs": [
        {
          "output_type": "stream",
          "text": [
            "Tina\n",
            "Mina\n",
            "Zina\n",
            "Dina\n"
          ],
          "name": "stdout"
        }
      ]
    },
    {
      "cell_type": "code",
      "metadata": {
        "id": "1a7b337f",
        "outputId": "163a976e-07c0-41cb-992c-0c18cf881cb2"
      },
      "source": [
        "x = (\"Tina\", \"Mina\", \"Zina\", \"Dina\")\n",
        "for i in range(len(x)):\n",
        "    print(x)"
      ],
      "id": "1a7b337f",
      "execution_count": null,
      "outputs": [
        {
          "output_type": "stream",
          "text": [
            "('Tina', 'Mina', 'Zina', 'Dina')\n",
            "('Tina', 'Mina', 'Zina', 'Dina')\n",
            "('Tina', 'Mina', 'Zina', 'Dina')\n",
            "('Tina', 'Mina', 'Zina', 'Dina')\n"
          ],
          "name": "stdout"
        }
      ]
    },
    {
      "cell_type": "code",
      "metadata": {
        "id": "60bc019a",
        "outputId": "6c3f61f0-be89-4a9a-9606-f364e3acb1da"
      },
      "source": [
        "x = (\"Tina\", \"Mina\", \"Zina\", \"Dina\")\n",
        "i = 0\n",
        "while i < len(x):\n",
        "    print(x[i])\n",
        "    i = i + 1"
      ],
      "id": "60bc019a",
      "execution_count": null,
      "outputs": [
        {
          "output_type": "stream",
          "text": [
            "Tina\n",
            "Mina\n",
            "Zina\n",
            "Dina\n"
          ],
          "name": "stdout"
        }
      ]
    },
    {
      "cell_type": "code",
      "metadata": {
        "id": "b3d2e6da",
        "outputId": "07439181-30ff-48d8-df50-3d156fbc2ece"
      },
      "source": [
        "first = ('a', 'b', 'c')\n",
        "tpl = first * 2\n",
        "print(tpl)"
      ],
      "id": "b3d2e6da",
      "execution_count": null,
      "outputs": [
        {
          "output_type": "stream",
          "text": [
            "('a', 'b', 'c', 'a', 'b', 'c')\n"
          ],
          "name": "stdout"
        }
      ]
    },
    {
      "cell_type": "code",
      "metadata": {
        "id": "b9999ce6",
        "outputId": "9d905a0a-0ba2-4065-c82a-bed05a428890"
      },
      "source": [
        "t1 = (1, 2, 3, 4)\n",
        "t2 = ('a', 'b', 'c', 'd')\n",
        "t3 = t1 + t2\n",
        "print(t3)"
      ],
      "id": "b9999ce6",
      "execution_count": null,
      "outputs": [
        {
          "output_type": "stream",
          "text": [
            "(1, 2, 3, 4, 'a', 'b', 'c', 'd')\n"
          ],
          "name": "stdout"
        }
      ]
    },
    {
      "cell_type": "code",
      "metadata": {
        "id": "aa37bc95",
        "outputId": "518dd282-386b-4010-9ed2-aa15c94473ee"
      },
      "source": [
        "x = food.count(4)\n",
        "print(x)"
      ],
      "id": "aa37bc95",
      "execution_count": null,
      "outputs": [
        {
          "output_type": "stream",
          "text": [
            "0\n"
          ],
          "name": "stdout"
        }
      ]
    },
    {
      "cell_type": "code",
      "metadata": {
        "id": "7b27b425",
        "outputId": "273211fe-f71c-4911-e407-1d630280708c"
      },
      "source": [
        "x = food.index('sushi')\n",
        "print(x)"
      ],
      "id": "7b27b425",
      "execution_count": null,
      "outputs": [
        {
          "output_type": "stream",
          "text": [
            "4\n"
          ],
          "name": "stdout"
        }
      ]
    },
    {
      "cell_type": "code",
      "metadata": {
        "id": "a4a1a341"
      },
      "source": [
        ""
      ],
      "id": "a4a1a341",
      "execution_count": null,
      "outputs": []
    }
  ]
}