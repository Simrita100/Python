{
  "nbformat": 4,
  "nbformat_minor": 5,
  "metadata": {
    "kernelspec": {
      "display_name": "Python 3",
      "language": "python",
      "name": "python3"
    },
    "language_info": {
      "codemirror_mode": {
        "name": "ipython",
        "version": 3
      },
      "file_extension": ".py",
      "mimetype": "text/x-python",
      "name": "python",
      "nbconvert_exporter": "python",
      "pygments_lexer": "ipython3",
      "version": "3.8.10"
    },
    "colab": {
      "name": "Assignment_02.ipynb",
      "provenance": [],
      "include_colab_link": true
    }
  },
  "cells": [
    {
      "cell_type": "markdown",
      "metadata": {
        "id": "view-in-github",
        "colab_type": "text"
      },
      "source": [
        "<a href=\"https://colab.research.google.com/github/Simrita100/Python/blob/main/Assignment_02.ipynb\" target=\"_parent\"><img src=\"https://colab.research.google.com/assets/colab-badge.svg\" alt=\"Open In Colab\"/></a>"
      ]
    },
    {
      "cell_type": "markdown",
      "metadata": {
        "id": "97c2c650"
      },
      "source": [
        "## WAP to print table of n, where n is entered by the user"
      ],
      "id": "97c2c650"
    },
    {
      "cell_type": "code",
      "metadata": {
        "id": "0723727a",
        "outputId": "6d645cc4-2e16-4267-e6e3-98fa7e90459d"
      },
      "source": [
        "n = int(input(\"Enter the required number\"))\n",
        "print(\"The table of\", n, \"is: \")\n",
        "for i in range(1,11):\n",
        "    print(n, 'x', i, '=', n*i)"
      ],
      "id": "0723727a",
      "execution_count": null,
      "outputs": [
        {
          "name": "stdout",
          "output_type": "stream",
          "text": [
            "Enter the required number10\n",
            "The table of 10 is: \n",
            "10 x 1 = 10\n",
            "10 x 2 = 20\n",
            "10 x 3 = 30\n",
            "10 x 4 = 40\n",
            "10 x 5 = 50\n",
            "10 x 6 = 60\n",
            "10 x 7 = 70\n",
            "10 x 8 = 80\n",
            "10 x 9 = 90\n",
            "10 x 10 = 100\n"
          ]
        }
      ]
    },
    {
      "cell_type": "markdown",
      "metadata": {
        "id": "0a72ea1d"
      },
      "source": [
        "## WAP to print sum of n natural numbers, where n is entered by the user"
      ],
      "id": "0a72ea1d"
    },
    {
      "cell_type": "code",
      "metadata": {
        "id": "06637fea",
        "outputId": "b33364e1-c018-4e9d-d883-94e6ab806b22"
      },
      "source": [
        "n = int(input(\"Enter a number: \"))\n",
        "if n > 0:\n",
        "    print(int(n*(n+1)/2))\n",
        "else:\n",
        "    print(\"Enter a positive number\")"
      ],
      "id": "06637fea",
      "execution_count": null,
      "outputs": [
        {
          "name": "stdout",
          "output_type": "stream",
          "text": [
            "Enter a number: 40\n",
            "820\n"
          ]
        }
      ]
    },
    {
      "cell_type": "markdown",
      "metadata": {
        "id": "5fd17baf"
      },
      "source": [
        "## WAP to print the factorial of the given number, where number is entered by the user. "
      ],
      "id": "5fd17baf"
    },
    {
      "cell_type": "code",
      "metadata": {
        "id": "c2a57ae0",
        "outputId": "8af5800f-5d93-4bf6-84ea-5d78303348fe"
      },
      "source": [
        "n = int(input(\"Enter a number\"))\n",
        "f = 1\n",
        "for i in range(1, n+1):\n",
        "    f = f*i\n",
        "print(\"The factorial of the entered number is:\", f)"
      ],
      "id": "c2a57ae0",
      "execution_count": null,
      "outputs": [
        {
          "name": "stdout",
          "output_type": "stream",
          "text": [
            "Enter a number16\n",
            "The factorial of the entered number is: 20922789888000\n"
          ]
        }
      ]
    },
    {
      "cell_type": "code",
      "metadata": {
        "id": "0d66c7dc"
      },
      "source": [
        ""
      ],
      "id": "0d66c7dc",
      "execution_count": null,
      "outputs": []
    }
  ]
}