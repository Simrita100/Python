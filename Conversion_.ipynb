{
  "nbformat": 4,
  "nbformat_minor": 5,
  "metadata": {
    "kernelspec": {
      "display_name": "Python 3",
      "language": "python",
      "name": "python3"
    },
    "language_info": {
      "codemirror_mode": {
        "name": "ipython",
        "version": 3
      },
      "file_extension": ".py",
      "mimetype": "text/x-python",
      "name": "python",
      "nbconvert_exporter": "python",
      "pygments_lexer": "ipython3",
      "version": "3.8.10"
    },
    "colab": {
      "name": "Conversion .ipynb",
      "provenance": [],
      "include_colab_link": true
    }
  },
  "cells": [
    {
      "cell_type": "markdown",
      "metadata": {
        "id": "view-in-github",
        "colab_type": "text"
      },
      "source": [
        "<a href=\"https://colab.research.google.com/github/Simrita100/Python/blob/main/Conversion_.ipynb\" target=\"_parent\"><img src=\"https://colab.research.google.com/assets/colab-badge.svg\" alt=\"Open In Colab\"/></a>"
      ]
    },
    {
      "cell_type": "code",
      "metadata": {
        "id": "bb402e35",
        "outputId": "7f011c18-410c-4dd7-a931-851e2fa7ace5"
      },
      "source": [
        "#Python Program to Convert Kilometers to Miles\n",
        "\n",
        "a = int(input(\"Enter the value in kilometers: \"))\n",
        "conversion_factor = 0.621371\n",
        "b = a * conversion_factor\n",
        "print(\"{0} kms is equal to {1} miles\".format(a,b))"
      ],
      "id": "bb402e35",
      "execution_count": null,
      "outputs": [
        {
          "output_type": "stream",
          "text": [
            "Enter the value in kilometers: 40\n",
            "40 kms is equal to 24.85484 miles\n"
          ],
          "name": "stdout"
        }
      ]
    },
    {
      "cell_type": "code",
      "metadata": {
        "id": "6abd55ac",
        "outputId": "62a25d69-228e-477b-deb5-d008b548affb"
      },
      "source": [
        "#Python Program to Convert Celsius To Fahrenheit\n",
        "Cel = float(input(\"Enter the temperature in Celsius: \"))\n",
        "Fah = (Cel*9/5)+32\n",
        "print(\"{0} Celsius is equal to {1} Fahrenheit\".format(Cel,Fah))"
      ],
      "id": "6abd55ac",
      "execution_count": null,
      "outputs": [
        {
          "output_type": "stream",
          "text": [
            "Enter the temperature in Celsius: 38\n",
            "38.0 Celsius is equal to 100.4 Fahrenheit\n"
          ],
          "name": "stdout"
        }
      ]
    },
    {
      "cell_type": "code",
      "metadata": {
        "id": "ce9573e5"
      },
      "source": [
        "\n",
        "\n"
      ],
      "id": "ce9573e5",
      "execution_count": null,
      "outputs": []
    }
  ]
}