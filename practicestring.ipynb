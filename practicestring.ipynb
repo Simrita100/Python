{
  "nbformat": 4,
  "nbformat_minor": 5,
  "metadata": {
    "kernelspec": {
      "display_name": "Python 3",
      "language": "python",
      "name": "python3"
    },
    "language_info": {
      "codemirror_mode": {
        "name": "ipython",
        "version": 3
      },
      "file_extension": ".py",
      "mimetype": "text/x-python",
      "name": "python",
      "nbconvert_exporter": "python",
      "pygments_lexer": "ipython3",
      "version": "3.8.10"
    },
    "colab": {
      "name": "practicestring.ipynb",
      "provenance": [],
      "include_colab_link": true
    }
  },
  "cells": [
    {
      "cell_type": "markdown",
      "metadata": {
        "id": "view-in-github",
        "colab_type": "text"
      },
      "source": [
        "<a href=\"https://colab.research.google.com/github/Simrita100/Simrita100/blob/main/practicestring.ipynb\" target=\"_parent\"><img src=\"https://colab.research.google.com/assets/colab-badge.svg\" alt=\"Open In Colab\"/></a>"
      ]
    },
    {
      "cell_type": "code",
      "metadata": {
        "id": "75a067e5",
        "outputId": "efc09c95-20a8-4ed3-9ea4-4305d32ed4ba"
      },
      "source": [
        "'hello'\n"
      ],
      "id": "75a067e5",
      "execution_count": null,
      "outputs": [
        {
          "output_type": "execute_result",
          "data": {
            "text/plain": [
              "'hello'"
            ]
          },
          "metadata": {
            "tags": []
          },
          "execution_count": 1
        }
      ]
    },
    {
      "cell_type": "code",
      "metadata": {
        "id": "e038201a",
        "outputId": "dba146ac-45ab-41a6-8532-e8a47fdb5120"
      },
      "source": [
        "\"Hello World\""
      ],
      "id": "e038201a",
      "execution_count": null,
      "outputs": [
        {
          "output_type": "execute_result",
          "data": {
            "text/plain": [
              "'Hello World'"
            ]
          },
          "metadata": {
            "tags": []
          },
          "execution_count": 2
        }
      ]
    },
    {
      "cell_type": "code",
      "metadata": {
        "id": "79423363",
        "outputId": "ee6e36e6-2ebf-45e0-c2fa-e0f7fe64883e"
      },
      "source": [
        "'''I am Simrita\n",
        "I am pursuing BTech\n",
        "Thank you!'''"
      ],
      "id": "79423363",
      "execution_count": null,
      "outputs": [
        {
          "output_type": "execute_result",
          "data": {
            "text/plain": [
              "'I am Simrita\\nI am pursuing BTech\\nThank you!'"
            ]
          },
          "metadata": {
            "tags": []
          },
          "execution_count": 7
        }
      ]
    },
    {
      "cell_type": "code",
      "metadata": {
        "id": "e2e5af66",
        "outputId": "e3c930c7-f144-44f2-8bf6-25bf733ac5c3"
      },
      "source": [
        "print('\\n')"
      ],
      "id": "e2e5af66",
      "execution_count": null,
      "outputs": [
        {
          "output_type": "stream",
          "text": [
            "\n",
            "\n"
          ],
          "name": "stdout"
        }
      ]
    },
    {
      "cell_type": "code",
      "metadata": {
        "id": "24961a72",
        "outputId": "ce08bddb-1c2c-476c-bd54-3416c5da69e5"
      },
      "source": [
        "len('Hello there')"
      ],
      "id": "24961a72",
      "execution_count": null,
      "outputs": [
        {
          "output_type": "execute_result",
          "data": {
            "text/plain": [
              "11"
            ]
          },
          "metadata": {
            "tags": []
          },
          "execution_count": 10
        }
      ]
    },
    {
      "cell_type": "code",
      "metadata": {
        "id": "cec0a0e1"
      },
      "source": [
        "s = 'Hey!'\n"
      ],
      "id": "cec0a0e1",
      "execution_count": null,
      "outputs": []
    },
    {
      "cell_type": "code",
      "metadata": {
        "id": "6fa44163",
        "outputId": "9ba2d9f9-f515-405b-98e9-f2bd58287542"
      },
      "source": [
        "s\n"
      ],
      "id": "6fa44163",
      "execution_count": null,
      "outputs": [
        {
          "output_type": "execute_result",
          "data": {
            "text/plain": [
              "'Hey!'"
            ]
          },
          "metadata": {
            "tags": []
          },
          "execution_count": 16
        }
      ]
    },
    {
      "cell_type": "code",
      "metadata": {
        "id": "70d4307c",
        "outputId": "c97fafa8-a0a8-4307-f0bf-8f0b0e0360a5"
      },
      "source": [
        "s[0]"
      ],
      "id": "70d4307c",
      "execution_count": null,
      "outputs": [
        {
          "output_type": "execute_result",
          "data": {
            "text/plain": [
              "'H'"
            ]
          },
          "metadata": {
            "tags": []
          },
          "execution_count": 20
        }
      ]
    },
    {
      "cell_type": "code",
      "metadata": {
        "id": "b4b48fc7",
        "outputId": "7cf13682-b0a5-4c49-dd4a-c5c7fa0fad71"
      },
      "source": [
        "s[1]"
      ],
      "id": "b4b48fc7",
      "execution_count": null,
      "outputs": [
        {
          "output_type": "execute_result",
          "data": {
            "text/plain": [
              "'e'"
            ]
          },
          "metadata": {
            "tags": []
          },
          "execution_count": 26
        }
      ]
    },
    {
      "cell_type": "code",
      "metadata": {
        "id": "0a32475a"
      },
      "source": [
        "x = \"Go there!\""
      ],
      "id": "0a32475a",
      "execution_count": null,
      "outputs": []
    },
    {
      "cell_type": "code",
      "metadata": {
        "id": "bba0ad6b",
        "outputId": "b04069d4-5062-4d0c-c9a0-0b9bf75aad82"
      },
      "source": [
        "x[0]"
      ],
      "id": "bba0ad6b",
      "execution_count": null,
      "outputs": [
        {
          "output_type": "execute_result",
          "data": {
            "text/plain": [
              "'G'"
            ]
          },
          "metadata": {
            "tags": []
          },
          "execution_count": 28
        }
      ]
    },
    {
      "cell_type": "code",
      "metadata": {
        "id": "86b197de",
        "outputId": "f5faa3ed-26d6-44f1-d350-570f438de4b0"
      },
      "source": [
        "x[1:]"
      ],
      "id": "86b197de",
      "execution_count": null,
      "outputs": [
        {
          "output_type": "execute_result",
          "data": {
            "text/plain": [
              "'o there!'"
            ]
          },
          "metadata": {
            "tags": []
          },
          "execution_count": 29
        }
      ]
    },
    {
      "cell_type": "code",
      "metadata": {
        "id": "c3ec89f7",
        "outputId": "88f4b590-2548-4f41-e466-e9a48a96cf87"
      },
      "source": [
        "s[:4]"
      ],
      "id": "c3ec89f7",
      "execution_count": null,
      "outputs": [
        {
          "output_type": "execute_result",
          "data": {
            "text/plain": [
              "'Hey'"
            ]
          },
          "metadata": {
            "tags": []
          },
          "execution_count": 30
        }
      ]
    },
    {
      "cell_type": "code",
      "metadata": {
        "id": "1ceb2b61",
        "outputId": "98c7ccc6-496a-45e5-846e-4dcf834d6bef"
      },
      "source": [
        "x[:4]"
      ],
      "id": "1ceb2b61",
      "execution_count": null,
      "outputs": [
        {
          "output_type": "execute_result",
          "data": {
            "text/plain": [
              "'Go t'"
            ]
          },
          "metadata": {
            "tags": []
          },
          "execution_count": 31
        }
      ]
    },
    {
      "cell_type": "code",
      "metadata": {
        "id": "cde2b221",
        "outputId": "9e03349f-4c45-49e8-e44a-51839f297fff"
      },
      "source": [
        "x[2:7]"
      ],
      "id": "cde2b221",
      "execution_count": null,
      "outputs": [
        {
          "output_type": "execute_result",
          "data": {
            "text/plain": [
              "' ther'"
            ]
          },
          "metadata": {
            "tags": []
          },
          "execution_count": 32
        }
      ]
    },
    {
      "cell_type": "code",
      "metadata": {
        "id": "9a47c6ab",
        "outputId": "016dd814-a034-4850-c1b1-44093e2a415f"
      },
      "source": [
        "x[-1]"
      ],
      "id": "9a47c6ab",
      "execution_count": null,
      "outputs": [
        {
          "output_type": "execute_result",
          "data": {
            "text/plain": [
              "'!'"
            ]
          },
          "metadata": {
            "tags": []
          },
          "execution_count": 33
        }
      ]
    },
    {
      "cell_type": "code",
      "metadata": {
        "id": "3d74cc97",
        "outputId": "d0c67a53-1c02-491b-ad8a-89349d8cee41"
      },
      "source": [
        "x[:]"
      ],
      "id": "3d74cc97",
      "execution_count": null,
      "outputs": [
        {
          "output_type": "execute_result",
          "data": {
            "text/plain": [
              "'Go there!'"
            ]
          },
          "metadata": {
            "tags": []
          },
          "execution_count": 34
        }
      ]
    },
    {
      "cell_type": "code",
      "metadata": {
        "id": "401fa58d",
        "outputId": "aea920e2-564b-44ef-80f2-a5471cc4eef5"
      },
      "source": [
        "x[::1]"
      ],
      "id": "401fa58d",
      "execution_count": null,
      "outputs": [
        {
          "output_type": "execute_result",
          "data": {
            "text/plain": [
              "'Go there!'"
            ]
          },
          "metadata": {
            "tags": []
          },
          "execution_count": 35
        }
      ]
    },
    {
      "cell_type": "code",
      "metadata": {
        "id": "666bebb5",
        "outputId": "df6b34c5-34f3-4e7b-99be-b23f8f66456c"
      },
      "source": [
        "x[::2]"
      ],
      "id": "666bebb5",
      "execution_count": null,
      "outputs": [
        {
          "output_type": "execute_result",
          "data": {
            "text/plain": [
              "'G hr!'"
            ]
          },
          "metadata": {
            "tags": []
          },
          "execution_count": 36
        }
      ]
    },
    {
      "cell_type": "code",
      "metadata": {
        "id": "2b82f272",
        "outputId": "29518361-817a-4e55-a08d-840de393150a"
      },
      "source": [
        "x[::3]"
      ],
      "id": "2b82f272",
      "execution_count": null,
      "outputs": [
        {
          "output_type": "execute_result",
          "data": {
            "text/plain": [
              "'Gtr'"
            ]
          },
          "metadata": {
            "tags": []
          },
          "execution_count": 37
        }
      ]
    },
    {
      "cell_type": "code",
      "metadata": {
        "id": "2f8acdee",
        "outputId": "f97729a5-c14b-4d3b-d79b-763dee40be21"
      },
      "source": [
        "x[-3]"
      ],
      "id": "2f8acdee",
      "execution_count": null,
      "outputs": [
        {
          "output_type": "execute_result",
          "data": {
            "text/plain": [
              "'r'"
            ]
          },
          "metadata": {
            "tags": []
          },
          "execution_count": 38
        }
      ]
    },
    {
      "cell_type": "code",
      "metadata": {
        "id": "635a48dc",
        "outputId": "15c6b40f-aa34-4d86-e5be-0f825cc2b879"
      },
      "source": [
        "x[-1:-6]"
      ],
      "id": "635a48dc",
      "execution_count": null,
      "outputs": [
        {
          "output_type": "execute_result",
          "data": {
            "text/plain": [
              "''"
            ]
          },
          "metadata": {
            "tags": []
          },
          "execution_count": 39
        }
      ]
    },
    {
      "cell_type": "code",
      "metadata": {
        "id": "1c82e353",
        "outputId": "224d5bb2-04a0-46ae-f765-85996eeb685b"
      },
      "source": [
        "x[-1:-3]"
      ],
      "id": "1c82e353",
      "execution_count": null,
      "outputs": [
        {
          "output_type": "execute_result",
          "data": {
            "text/plain": [
              "''"
            ]
          },
          "metadata": {
            "tags": []
          },
          "execution_count": 40
        }
      ]
    },
    {
      "cell_type": "code",
      "metadata": {
        "id": "2f68eb19",
        "outputId": "666e6fd6-43c4-4105-88d6-8ad9849f8afd"
      },
      "source": [
        "x[::-1]"
      ],
      "id": "2f68eb19",
      "execution_count": null,
      "outputs": [
        {
          "output_type": "execute_result",
          "data": {
            "text/plain": [
              "'!ereht oG'"
            ]
          },
          "metadata": {
            "tags": []
          },
          "execution_count": 41
        }
      ]
    },
    {
      "cell_type": "code",
      "metadata": {
        "id": "990ac35a",
        "outputId": "56de9182-4cc1-41dc-ed68-e94d41f24330"
      },
      "source": [
        "x[-1:]"
      ],
      "id": "990ac35a",
      "execution_count": null,
      "outputs": [
        {
          "output_type": "execute_result",
          "data": {
            "text/plain": [
              "'!'"
            ]
          },
          "metadata": {
            "tags": []
          },
          "execution_count": 42
        }
      ]
    },
    {
      "cell_type": "code",
      "metadata": {
        "id": "6b5c8133",
        "outputId": "b8016f59-3a63-483f-8449-b5f41eb3ade8"
      },
      "source": [
        "x[:-1]"
      ],
      "id": "6b5c8133",
      "execution_count": null,
      "outputs": [
        {
          "output_type": "execute_result",
          "data": {
            "text/plain": [
              "'Go there'"
            ]
          },
          "metadata": {
            "tags": []
          },
          "execution_count": 43
        }
      ]
    },
    {
      "cell_type": "code",
      "metadata": {
        "id": "a37caf27",
        "outputId": "05c89fa6-1ea8-44fb-c14b-6d315f8fcdcf"
      },
      "source": [
        "x.upper()\n"
      ],
      "id": "a37caf27",
      "execution_count": null,
      "outputs": [
        {
          "output_type": "execute_result",
          "data": {
            "text/plain": [
              "'GO THERE!'"
            ]
          },
          "metadata": {
            "tags": []
          },
          "execution_count": 44
        }
      ]
    },
    {
      "cell_type": "raw",
      "metadata": {
        "id": "85064193"
      },
      "source": [
        "x.lower()"
      ],
      "id": "85064193"
    },
    {
      "cell_type": "code",
      "metadata": {
        "id": "468dd0dc"
      },
      "source": [
        ""
      ],
      "id": "468dd0dc",
      "execution_count": null,
      "outputs": []
    },
    {
      "cell_type": "code",
      "metadata": {
        "id": "ef500406",
        "outputId": "ae509af8-d4d2-4221-95c6-fa1428010eab"
      },
      "source": [
        "x.lower()"
      ],
      "id": "ef500406",
      "execution_count": null,
      "outputs": [
        {
          "output_type": "execute_result",
          "data": {
            "text/plain": [
              "'go there!'"
            ]
          },
          "metadata": {
            "tags": []
          },
          "execution_count": 47
        }
      ]
    },
    {
      "cell_type": "code",
      "metadata": {
        "id": "ecf005e8",
        "outputId": "98c4d9de-0264-4599-9bed-4ae919e90704"
      },
      "source": [
        "x.strip()"
      ],
      "id": "ecf005e8",
      "execution_count": null,
      "outputs": [
        {
          "output_type": "execute_result",
          "data": {
            "text/plain": [
              "'Go there!'"
            ]
          },
          "metadata": {
            "tags": []
          },
          "execution_count": 48
        }
      ]
    },
    {
      "cell_type": "code",
      "metadata": {
        "id": "5ac3afea",
        "outputId": "564c4c3a-34a7-41ff-8e59-b36a5020aab9"
      },
      "source": [
        "x.split()"
      ],
      "id": "5ac3afea",
      "execution_count": null,
      "outputs": [
        {
          "output_type": "execute_result",
          "data": {
            "text/plain": [
              "['Go', 'there!']"
            ]
          },
          "metadata": {
            "tags": []
          },
          "execution_count": 50
        }
      ]
    },
    {
      "cell_type": "code",
      "metadata": {
        "id": "ea3651a7"
      },
      "source": [
        ""
      ],
      "id": "ea3651a7",
      "execution_count": null,
      "outputs": []
    }
  ]
}