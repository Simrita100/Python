{
  "nbformat": 4,
  "nbformat_minor": 5,
  "metadata": {
    "kernelspec": {
      "display_name": "Python 3",
      "language": "python",
      "name": "python3"
    },
    "language_info": {
      "codemirror_mode": {
        "name": "ipython",
        "version": 3
      },
      "file_extension": ".py",
      "mimetype": "text/x-python",
      "name": "python",
      "nbconvert_exporter": "python",
      "pygments_lexer": "ipython3",
      "version": "3.8.10"
    },
    "colab": {
      "name": "exercise-string.ipynb",
      "provenance": [],
      "include_colab_link": true
    }
  },
  "cells": [
    {
      "cell_type": "markdown",
      "metadata": {
        "id": "view-in-github",
        "colab_type": "text"
      },
      "source": [
        "<a href=\"https://colab.research.google.com/github/Simrita100/Python/blob/main/exercise_string.ipynb\" target=\"_parent\"><img src=\"https://colab.research.google.com/assets/colab-badge.svg\" alt=\"Open In Colab\"/></a>"
      ]
    },
    {
      "cell_type": "code",
      "metadata": {
        "id": "75a067e5",
        "outputId": "b2d43784-a627-4065-eb9c-55b73494f262"
      },
      "source": [
        "'hello'\n"
      ],
      "id": "75a067e5",
      "execution_count": null,
      "outputs": [
        {
          "output_type": "execute_result",
          "data": {
            "text/plain": [
              "'hello'"
            ]
          },
          "metadata": {
            "tags": []
          },
          "execution_count": 1
        }
      ]
    },
    {
      "cell_type": "code",
      "metadata": {
        "id": "e038201a",
        "outputId": "b721a9f5-b0c9-4d36-9d19-8c7e8d777732"
      },
      "source": [
        "\"Hello World\""
      ],
      "id": "e038201a",
      "execution_count": null,
      "outputs": [
        {
          "output_type": "execute_result",
          "data": {
            "text/plain": [
              "'Hello World'"
            ]
          },
          "metadata": {
            "tags": []
          },
          "execution_count": 2
        }
      ]
    },
    {
      "cell_type": "code",
      "metadata": {
        "id": "79423363",
        "outputId": "ff5e1a7b-d2b4-4b22-89e1-b00a841bff10"
      },
      "source": [
        "'''I am Simrita\n",
        "I am pursuing BTech\n",
        "Thank you!'''"
      ],
      "id": "79423363",
      "execution_count": null,
      "outputs": [
        {
          "output_type": "execute_result",
          "data": {
            "text/plain": [
              "'I am Simrita\\nI am pursuing BTech\\nThank you!'"
            ]
          },
          "metadata": {
            "tags": []
          },
          "execution_count": 7
        }
      ]
    },
    {
      "cell_type": "code",
      "metadata": {
        "id": "e2e5af66",
        "outputId": "d33519fa-0653-4e20-92bc-b787fd1f678f"
      },
      "source": [
        "print('\\n')"
      ],
      "id": "e2e5af66",
      "execution_count": null,
      "outputs": [
        {
          "output_type": "stream",
          "text": [
            "\n",
            "\n"
          ],
          "name": "stdout"
        }
      ]
    },
    {
      "cell_type": "code",
      "metadata": {
        "id": "24961a72",
        "outputId": "7f46f158-e21f-4dc2-a831-b8d75b3fba87"
      },
      "source": [
        "len('Hello there')"
      ],
      "id": "24961a72",
      "execution_count": null,
      "outputs": [
        {
          "output_type": "execute_result",
          "data": {
            "text/plain": [
              "11"
            ]
          },
          "metadata": {
            "tags": []
          },
          "execution_count": 10
        }
      ]
    },
    {
      "cell_type": "code",
      "metadata": {
        "id": "cec0a0e1"
      },
      "source": [
        "s = 'Hey!'\n"
      ],
      "id": "cec0a0e1",
      "execution_count": null,
      "outputs": []
    },
    {
      "cell_type": "code",
      "metadata": {
        "id": "6fa44163",
        "outputId": "9d0c08bf-ca26-4a47-e9c5-ac8a5d5320c9"
      },
      "source": [
        "s\n"
      ],
      "id": "6fa44163",
      "execution_count": null,
      "outputs": [
        {
          "output_type": "execute_result",
          "data": {
            "text/plain": [
              "'Hey!'"
            ]
          },
          "metadata": {
            "tags": []
          },
          "execution_count": 16
        }
      ]
    },
    {
      "cell_type": "code",
      "metadata": {
        "id": "70d4307c",
        "outputId": "14444117-6251-4d45-dce4-c6c163acea27"
      },
      "source": [
        "s[0]"
      ],
      "id": "70d4307c",
      "execution_count": null,
      "outputs": [
        {
          "output_type": "execute_result",
          "data": {
            "text/plain": [
              "'H'"
            ]
          },
          "metadata": {
            "tags": []
          },
          "execution_count": 20
        }
      ]
    },
    {
      "cell_type": "code",
      "metadata": {
        "id": "b4b48fc7",
        "outputId": "edd416ad-36a8-4b17-a4e0-f51722640506"
      },
      "source": [
        "s[1]"
      ],
      "id": "b4b48fc7",
      "execution_count": null,
      "outputs": [
        {
          "output_type": "execute_result",
          "data": {
            "text/plain": [
              "'e'"
            ]
          },
          "metadata": {
            "tags": []
          },
          "execution_count": 26
        }
      ]
    },
    {
      "cell_type": "code",
      "metadata": {
        "id": "0a32475a"
      },
      "source": [
        "x = \"Go there!\""
      ],
      "id": "0a32475a",
      "execution_count": null,
      "outputs": []
    },
    {
      "cell_type": "code",
      "metadata": {
        "id": "bba0ad6b",
        "outputId": "392bb0e0-54cb-4ae3-a989-89c4810dee1f"
      },
      "source": [
        "x[0]"
      ],
      "id": "bba0ad6b",
      "execution_count": null,
      "outputs": [
        {
          "output_type": "execute_result",
          "data": {
            "text/plain": [
              "'G'"
            ]
          },
          "metadata": {
            "tags": []
          },
          "execution_count": 28
        }
      ]
    },
    {
      "cell_type": "code",
      "metadata": {
        "id": "86b197de",
        "outputId": "8cca71c9-184f-4db8-dc1b-c0ff3d05305c"
      },
      "source": [
        "x[1:]"
      ],
      "id": "86b197de",
      "execution_count": null,
      "outputs": [
        {
          "output_type": "execute_result",
          "data": {
            "text/plain": [
              "'o there!'"
            ]
          },
          "metadata": {
            "tags": []
          },
          "execution_count": 29
        }
      ]
    },
    {
      "cell_type": "code",
      "metadata": {
        "id": "c3ec89f7",
        "outputId": "1614fafb-3463-4024-821d-80c2c82fde07"
      },
      "source": [
        "s[:4]"
      ],
      "id": "c3ec89f7",
      "execution_count": null,
      "outputs": [
        {
          "output_type": "execute_result",
          "data": {
            "text/plain": [
              "'Hey'"
            ]
          },
          "metadata": {
            "tags": []
          },
          "execution_count": 30
        }
      ]
    },
    {
      "cell_type": "code",
      "metadata": {
        "id": "1ceb2b61",
        "outputId": "6eb38e13-bbc4-4b6e-89b6-a4e98a828d06"
      },
      "source": [
        "x[:4]"
      ],
      "id": "1ceb2b61",
      "execution_count": null,
      "outputs": [
        {
          "output_type": "execute_result",
          "data": {
            "text/plain": [
              "'Go t'"
            ]
          },
          "metadata": {
            "tags": []
          },
          "execution_count": 31
        }
      ]
    },
    {
      "cell_type": "code",
      "metadata": {
        "id": "cde2b221",
        "outputId": "f88cc8f0-82f3-4bfb-f980-ac4b1cd67234"
      },
      "source": [
        "x[2:7]"
      ],
      "id": "cde2b221",
      "execution_count": null,
      "outputs": [
        {
          "output_type": "execute_result",
          "data": {
            "text/plain": [
              "' ther'"
            ]
          },
          "metadata": {
            "tags": []
          },
          "execution_count": 32
        }
      ]
    },
    {
      "cell_type": "code",
      "metadata": {
        "id": "9a47c6ab",
        "outputId": "524d4465-8f02-411e-a2bb-9df6998ef3dc"
      },
      "source": [
        "x[-1]"
      ],
      "id": "9a47c6ab",
      "execution_count": null,
      "outputs": [
        {
          "output_type": "execute_result",
          "data": {
            "text/plain": [
              "'!'"
            ]
          },
          "metadata": {
            "tags": []
          },
          "execution_count": 33
        }
      ]
    },
    {
      "cell_type": "code",
      "metadata": {
        "id": "3d74cc97",
        "outputId": "74e0d478-0025-484b-d2ab-9cc6256f71bf"
      },
      "source": [
        "x[:]"
      ],
      "id": "3d74cc97",
      "execution_count": null,
      "outputs": [
        {
          "output_type": "execute_result",
          "data": {
            "text/plain": [
              "'Go there!'"
            ]
          },
          "metadata": {
            "tags": []
          },
          "execution_count": 34
        }
      ]
    },
    {
      "cell_type": "code",
      "metadata": {
        "id": "401fa58d",
        "outputId": "d980cb9f-385c-4beb-e1b7-27f6ede429c2"
      },
      "source": [
        "x[::1]"
      ],
      "id": "401fa58d",
      "execution_count": null,
      "outputs": [
        {
          "output_type": "execute_result",
          "data": {
            "text/plain": [
              "'Go there!'"
            ]
          },
          "metadata": {
            "tags": []
          },
          "execution_count": 35
        }
      ]
    },
    {
      "cell_type": "code",
      "metadata": {
        "id": "666bebb5",
        "outputId": "31526fee-fe43-4f28-c63a-b01caa8e33fd"
      },
      "source": [
        "x[::2]"
      ],
      "id": "666bebb5",
      "execution_count": null,
      "outputs": [
        {
          "output_type": "execute_result",
          "data": {
            "text/plain": [
              "'G hr!'"
            ]
          },
          "metadata": {
            "tags": []
          },
          "execution_count": 36
        }
      ]
    },
    {
      "cell_type": "code",
      "metadata": {
        "id": "2b82f272",
        "outputId": "1cacec6d-7706-43eb-fbd7-50c155b7bcd7"
      },
      "source": [
        "x[::3]"
      ],
      "id": "2b82f272",
      "execution_count": null,
      "outputs": [
        {
          "output_type": "execute_result",
          "data": {
            "text/plain": [
              "'Gtr'"
            ]
          },
          "metadata": {
            "tags": []
          },
          "execution_count": 37
        }
      ]
    },
    {
      "cell_type": "code",
      "metadata": {
        "id": "2f8acdee",
        "outputId": "a7bef69a-f511-4699-e773-a96d319a6395"
      },
      "source": [
        "x[-3]"
      ],
      "id": "2f8acdee",
      "execution_count": null,
      "outputs": [
        {
          "output_type": "execute_result",
          "data": {
            "text/plain": [
              "'r'"
            ]
          },
          "metadata": {
            "tags": []
          },
          "execution_count": 38
        }
      ]
    },
    {
      "cell_type": "code",
      "metadata": {
        "id": "635a48dc",
        "outputId": "9a04d1f2-603f-42f4-8480-73b0f244aea5"
      },
      "source": [
        "x[-1:-6]"
      ],
      "id": "635a48dc",
      "execution_count": null,
      "outputs": [
        {
          "output_type": "execute_result",
          "data": {
            "text/plain": [
              "''"
            ]
          },
          "metadata": {
            "tags": []
          },
          "execution_count": 39
        }
      ]
    },
    {
      "cell_type": "code",
      "metadata": {
        "id": "1c82e353",
        "outputId": "39b44845-20aa-4252-f295-0b85244e0c5a"
      },
      "source": [
        "x[-1:-3]"
      ],
      "id": "1c82e353",
      "execution_count": null,
      "outputs": [
        {
          "output_type": "execute_result",
          "data": {
            "text/plain": [
              "''"
            ]
          },
          "metadata": {
            "tags": []
          },
          "execution_count": 40
        }
      ]
    },
    {
      "cell_type": "code",
      "metadata": {
        "id": "2f68eb19",
        "outputId": "a645c80b-6214-41cf-f219-95a7686f31f6"
      },
      "source": [
        "x[::-1]"
      ],
      "id": "2f68eb19",
      "execution_count": null,
      "outputs": [
        {
          "output_type": "execute_result",
          "data": {
            "text/plain": [
              "'!ereht oG'"
            ]
          },
          "metadata": {
            "tags": []
          },
          "execution_count": 41
        }
      ]
    },
    {
      "cell_type": "code",
      "metadata": {
        "id": "990ac35a",
        "outputId": "d4a75f24-6040-42de-9e7c-85c2d4431969"
      },
      "source": [
        "x[-1:]"
      ],
      "id": "990ac35a",
      "execution_count": null,
      "outputs": [
        {
          "output_type": "execute_result",
          "data": {
            "text/plain": [
              "'!'"
            ]
          },
          "metadata": {
            "tags": []
          },
          "execution_count": 42
        }
      ]
    },
    {
      "cell_type": "code",
      "metadata": {
        "id": "6b5c8133",
        "outputId": "fa2c59f5-59a6-4b3f-edf0-f4e5e591821b"
      },
      "source": [
        "x[:-1]"
      ],
      "id": "6b5c8133",
      "execution_count": null,
      "outputs": [
        {
          "output_type": "execute_result",
          "data": {
            "text/plain": [
              "'Go there'"
            ]
          },
          "metadata": {
            "tags": []
          },
          "execution_count": 43
        }
      ]
    },
    {
      "cell_type": "code",
      "metadata": {
        "id": "a37caf27",
        "outputId": "daf821ed-076a-47e4-c9d0-191e73c176fb"
      },
      "source": [
        "x.upper()\n"
      ],
      "id": "a37caf27",
      "execution_count": null,
      "outputs": [
        {
          "output_type": "execute_result",
          "data": {
            "text/plain": [
              "'GO THERE!'"
            ]
          },
          "metadata": {
            "tags": []
          },
          "execution_count": 44
        }
      ]
    },
    {
      "cell_type": "raw",
      "metadata": {
        "id": "85064193"
      },
      "source": [
        "x.lower()"
      ],
      "id": "85064193"
    },
    {
      "cell_type": "code",
      "metadata": {
        "id": "468dd0dc"
      },
      "source": [
        ""
      ],
      "id": "468dd0dc",
      "execution_count": null,
      "outputs": []
    },
    {
      "cell_type": "code",
      "metadata": {
        "id": "ef500406",
        "outputId": "070f42fa-2f47-4caf-bb6c-46823bf93bb4"
      },
      "source": [
        "x.lower()"
      ],
      "id": "ef500406",
      "execution_count": null,
      "outputs": [
        {
          "output_type": "execute_result",
          "data": {
            "text/plain": [
              "'go there!'"
            ]
          },
          "metadata": {
            "tags": []
          },
          "execution_count": 47
        }
      ]
    },
    {
      "cell_type": "code",
      "metadata": {
        "id": "ecf005e8",
        "outputId": "0a4e0c64-aa97-4eaa-e4bd-eebba8565099"
      },
      "source": [
        "x.strip()"
      ],
      "id": "ecf005e8",
      "execution_count": null,
      "outputs": [
        {
          "output_type": "execute_result",
          "data": {
            "text/plain": [
              "'Go there!'"
            ]
          },
          "metadata": {
            "tags": []
          },
          "execution_count": 48
        }
      ]
    },
    {
      "cell_type": "code",
      "metadata": {
        "id": "5ac3afea",
        "outputId": "83241798-36d2-4e8a-e533-67ad0968da20"
      },
      "source": [
        "x.split()"
      ],
      "id": "5ac3afea",
      "execution_count": null,
      "outputs": [
        {
          "output_type": "execute_result",
          "data": {
            "text/plain": [
              "['Go', 'there!']"
            ]
          },
          "metadata": {
            "tags": []
          },
          "execution_count": 50
        }
      ]
    },
    {
      "cell_type": "code",
      "metadata": {
        "id": "ea3651a7"
      },
      "source": [
        ""
      ],
      "id": "ea3651a7",
      "execution_count": null,
      "outputs": []
    }
  ]
}