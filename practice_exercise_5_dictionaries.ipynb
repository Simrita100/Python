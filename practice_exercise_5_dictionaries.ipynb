{
  "nbformat": 4,
  "nbformat_minor": 5,
  "metadata": {
    "kernelspec": {
      "display_name": "Python 3",
      "language": "python",
      "name": "python3"
    },
    "language_info": {
      "codemirror_mode": {
        "name": "ipython",
        "version": 3
      },
      "file_extension": ".py",
      "mimetype": "text/x-python",
      "name": "python",
      "nbconvert_exporter": "python",
      "pygments_lexer": "ipython3",
      "version": "3.8.10"
    },
    "colab": {
      "name": "practice-exercise-5-dictionaries.ipynb",
      "provenance": [],
      "include_colab_link": true
    }
  },
  "cells": [
    {
      "cell_type": "markdown",
      "metadata": {
        "id": "view-in-github",
        "colab_type": "text"
      },
      "source": [
        "<a href=\"https://colab.research.google.com/github/Simrita100/Python/blob/main/practice_exercise_5_dictionaries.ipynb\" target=\"_parent\"><img src=\"https://colab.research.google.com/assets/colab-badge.svg\" alt=\"Open In Colab\"/></a>"
      ]
    },
    {
      "cell_type": "code",
      "metadata": {
        "id": "8900343e",
        "outputId": "b679602d-d825-419a-ed84-d7c97a6dbf0c"
      },
      "source": [
        "thisdict = {\"fruit\": \"cherry\",\n",
        "            \"colour\": \"red\",\n",
        "            \"weight\": \"200gm\"\n",
        "           }\n",
        "print(thisdict)"
      ],
      "id": "8900343e",
      "execution_count": null,
      "outputs": [
        {
          "output_type": "stream",
          "text": [
            "{'fruit': 'cherry', 'colour': 'red', 'weight': '200gm'}\n"
          ],
          "name": "stdout"
        }
      ]
    },
    {
      "cell_type": "code",
      "metadata": {
        "id": "1574515d",
        "outputId": "42f5916a-7b3c-4e45-ec7d-d732e26e681e"
      },
      "source": [
        "thisdict = {\"item\": \"pen\",\n",
        "            \"colour\": \"red\",\n",
        "            \"cost\": 20\n",
        "           }\n",
        "print(thisdict[\"colour\"])"
      ],
      "id": "1574515d",
      "execution_count": null,
      "outputs": [
        {
          "output_type": "stream",
          "text": [
            "red\n"
          ],
          "name": "stdout"
        }
      ]
    },
    {
      "cell_type": "code",
      "metadata": {
        "id": "e6c35afb",
        "outputId": "17da445b-b199-44f2-954a-8a290c61fdcc"
      },
      "source": [
        "thisdict = {\"item\": \"pen\",\n",
        "            \"colour\": \"red\",\n",
        "            \"cost\": 20,\n",
        "            \"cost\": 40\n",
        "           }\n",
        "print(thisdict)"
      ],
      "id": "e6c35afb",
      "execution_count": null,
      "outputs": [
        {
          "output_type": "stream",
          "text": [
            "{'item': 'pen', 'colour': 'red', 'cost': 40}\n"
          ],
          "name": "stdout"
        }
      ]
    },
    {
      "cell_type": "code",
      "metadata": {
        "id": "f870bc98",
        "outputId": "4c158309-de0d-4245-d435-d8fec95c6cc0"
      },
      "source": [
        "print(len(thisdict))"
      ],
      "id": "f870bc98",
      "execution_count": null,
      "outputs": [
        {
          "output_type": "stream",
          "text": [
            "3\n"
          ],
          "name": "stdout"
        }
      ]
    },
    {
      "cell_type": "code",
      "metadata": {
        "id": "bf5c852c",
        "outputId": "b06c4b8d-e295-45b9-919b-998d068eae37"
      },
      "source": [
        "x = {\n",
        " \"brand\": \"Volkswagen\",\n",
        " \"electric\": False,\n",
        " \"year\": 1937,\n",
        " \"colours\": [\"black\", \"metallic\", \"red\", \"white\"]\n",
        "}\n",
        "print(x)"
      ],
      "id": "bf5c852c",
      "execution_count": null,
      "outputs": [
        {
          "output_type": "stream",
          "text": [
            "{'brand': 'Volkswagen', 'electric': False, 'year': 1937, 'colours': ['black', 'metallic', 'red', 'white']}\n"
          ],
          "name": "stdout"
        }
      ]
    },
    {
      "cell_type": "code",
      "metadata": {
        "id": "98289eaa",
        "outputId": "94459a86-e44d-4b4d-b114-4246839548b7"
      },
      "source": [
        "print(type(x))"
      ],
      "id": "98289eaa",
      "execution_count": null,
      "outputs": [
        {
          "output_type": "stream",
          "text": [
            "<class 'dict'>\n"
          ],
          "name": "stdout"
        }
      ]
    },
    {
      "cell_type": "code",
      "metadata": {
        "id": "cae7be17",
        "outputId": "51ed8d3b-3266-489f-ffea-df5b96e55922"
      },
      "source": [
        "s = {\n",
        " \"item\": \"Bag\",\n",
        " \"colour\": \"Black\",\n",
        " \"price\": 500\n",
        "     }\n",
        "t = s[\"colour\"]\n",
        "print(t)"
      ],
      "id": "cae7be17",
      "execution_count": null,
      "outputs": [
        {
          "output_type": "stream",
          "text": [
            "Black\n"
          ],
          "name": "stdout"
        }
      ]
    },
    {
      "cell_type": "code",
      "metadata": {
        "id": "91eddb7f",
        "outputId": "58274a58-4747-4f29-f726-851a8af01bce"
      },
      "source": [
        "y = x.get(\"year\")\n",
        "print(y)"
      ],
      "id": "91eddb7f",
      "execution_count": null,
      "outputs": [
        {
          "output_type": "stream",
          "text": [
            "1937\n"
          ],
          "name": "stdout"
        }
      ]
    },
    {
      "cell_type": "code",
      "metadata": {
        "id": "ccc3cb4f",
        "outputId": "2582566e-8d90-4f71-b939-35deccaf0777"
      },
      "source": [
        "z = s.keys()\n",
        "print(z)"
      ],
      "id": "ccc3cb4f",
      "execution_count": null,
      "outputs": [
        {
          "output_type": "stream",
          "text": [
            "dict_keys(['item', 'colour', 'price'])\n"
          ],
          "name": "stdout"
        }
      ]
    },
    {
      "cell_type": "code",
      "metadata": {
        "id": "57984128",
        "outputId": "49eb9000-fe2e-4f50-bfb5-52a4a944f523"
      },
      "source": [
        "cart = {\n",
        "\"item\": \"Shoes\",\n",
        "\"colour\": \"Black\",\n",
        "\"price\": 2500\n",
        "     }\n",
        "\n",
        "x = cart.keys()\n",
        "\n",
        "print(x)    #before the change\n",
        "\n",
        "cart[\"brand\"] = \"Nike\"\n",
        "\n",
        "print(x)    #after the change\n",
        "\n"
      ],
      "id": "57984128",
      "execution_count": null,
      "outputs": [
        {
          "output_type": "stream",
          "text": [
            "dict_keys(['item', 'colour', 'price'])\n",
            "dict_keys(['item', 'colour', 'price', 'brand'])\n"
          ],
          "name": "stdout"
        }
      ]
    },
    {
      "cell_type": "code",
      "metadata": {
        "id": "9ed18214",
        "outputId": "fa6f47cf-09eb-43ff-be0d-cc2e695986d7"
      },
      "source": [
        "x = cart.values()\n",
        "print(x)"
      ],
      "id": "9ed18214",
      "execution_count": null,
      "outputs": [
        {
          "output_type": "stream",
          "text": [
            "dict_values(['Shoes', 'Black', 2500, 'Nike'])\n"
          ],
          "name": "stdout"
        }
      ]
    },
    {
      "cell_type": "code",
      "metadata": {
        "id": "e6ffcda1",
        "outputId": "ec9f5e82-4b8c-4b6a-9301-223e44979cb2"
      },
      "source": [
        "thisdict = {\"item\": \"pen\",\n",
        "            \"colour\": \"red\",\n",
        "            \"cost\": 20\n",
        "           }\n",
        "x = thisdict.values()\n",
        "\n",
        "print(x)       #before the change\n",
        "\n",
        "thisdict[type] = \"fountain\"\n",
        "\n",
        "print(x)       #after the change"
      ],
      "id": "e6ffcda1",
      "execution_count": null,
      "outputs": [
        {
          "output_type": "stream",
          "text": [
            "dict_values(['pen', 'red', 20])\n",
            "dict_values(['pen', 'red', 20, 'fountain'])\n"
          ],
          "name": "stdout"
        }
      ]
    },
    {
      "cell_type": "code",
      "metadata": {
        "id": "ecfa03aa",
        "outputId": "5c445a6b-557f-49de-9578-c24b8a91979d"
      },
      "source": [
        "thisdict = {\"item\": \"pen\",\n",
        "            \"colour\": \"red\",\n",
        "            \"cost\": 20\n",
        "           }\n",
        "\n",
        "x = thisdict.values()\n",
        "\n",
        "print(x)     #before the change\n",
        "\n",
        "thisdict[\"colour\"] = \"black\"\n",
        "\n",
        "print(x)    #after the change"
      ],
      "id": "ecfa03aa",
      "execution_count": null,
      "outputs": [
        {
          "output_type": "stream",
          "text": [
            "dict_values(['pen', 'red', 20])\n",
            "dict_values(['pen', 'black', 20])\n"
          ],
          "name": "stdout"
        }
      ]
    },
    {
      "cell_type": "code",
      "metadata": {
        "id": "362a1d18",
        "outputId": "c25be8ab-5b72-45e9-9c85-b3f8c7a3cf06"
      },
      "source": [
        "thisdict = {\"item\": \"pen\",\n",
        "            \"colour\": \"red\",\n",
        "            \"cost\": 20\n",
        "           }\n",
        "y = thisdict.items()\n",
        "print(y)"
      ],
      "id": "362a1d18",
      "execution_count": null,
      "outputs": [
        {
          "output_type": "stream",
          "text": [
            "dict_items([('item', 'pen'), ('colour', 'red'), ('cost', 20)])\n"
          ],
          "name": "stdout"
        }
      ]
    },
    {
      "cell_type": "code",
      "metadata": {
        "id": "462144b3",
        "outputId": "e598eb22-4749-4ec3-9592-2e32675d2977"
      },
      "source": [
        "x = {\n",
        " \"brand\": \"Volkswagen\",\n",
        " \"electric\": False,\n",
        " \"year\": 1937,\n",
        "}\n",
        "\n",
        "y = x.items()\n",
        "\n",
        "print(y)\n",
        "\n",
        "x[\"colour\"] = \"metallic blue\"\n",
        "\n",
        "print(y)"
      ],
      "id": "462144b3",
      "execution_count": null,
      "outputs": [
        {
          "output_type": "stream",
          "text": [
            "dict_items([('brand', 'Volkswagen'), ('electric', False), ('year', 1937)])\n",
            "dict_items([('brand', 'Volkswagen'), ('electric', False), ('year', 1937), ('colour', 'metallic blue')])\n"
          ],
          "name": "stdout"
        }
      ]
    },
    {
      "cell_type": "code",
      "metadata": {
        "id": "5292892d",
        "outputId": "b97a0997-7798-476a-9b62-79d6fa5b1422"
      },
      "source": [
        "car = {\n",
        " \"brand\": \"Volkswagen\",\n",
        " \"colour\": \"maroon\",\n",
        " \"year\": 1937,\n",
        "}\n",
        "\n",
        "z = car.items()\n",
        "\n",
        "print(z)\n",
        "\n",
        "car[\"colour\"] = \"black\"\n",
        "\n",
        "print(z)"
      ],
      "id": "5292892d",
      "execution_count": null,
      "outputs": [
        {
          "output_type": "stream",
          "text": [
            "dict_items([('brand', 'Volkswagen'), ('colour', 'maroon'), ('year', 1937)])\n",
            "dict_items([('brand', 'Volkswagen'), ('colour', 'black'), ('year', 1937)])\n"
          ],
          "name": "stdout"
        }
      ]
    },
    {
      "cell_type": "code",
      "metadata": {
        "id": "117918eb",
        "outputId": "9bf5c74f-19a2-4d44-8ca4-88103fc4804c"
      },
      "source": [
        "shop = {\n",
        " \"item\": \"Bag\",\n",
        " \"colour\": \"Black\",\n",
        " \"price\": 500,\n",
        " \"brand\": \"Puma\"\n",
        "}\n",
        "if \"brand\" in shop:\n",
        "    print(\"Yes!\")"
      ],
      "id": "117918eb",
      "execution_count": null,
      "outputs": [
        {
          "output_type": "stream",
          "text": [
            "Yes!\n"
          ],
          "name": "stdout"
        }
      ]
    },
    {
      "cell_type": "code",
      "metadata": {
        "id": "f1158827",
        "outputId": "6755f41d-a82e-4ef2-b86d-4dcee374cc18"
      },
      "source": [
        "shop = {\n",
        " \"item\": \"Bag\",\n",
        " \"colour\": \"Black\",\n",
        " \"price\": 500,\n",
        " \"brand\": \"Puma\"\n",
        "}\n",
        "\n",
        "shop[\"brand\"] = \"Nike\"\n",
        " \n",
        "print(shop)"
      ],
      "id": "f1158827",
      "execution_count": null,
      "outputs": [
        {
          "output_type": "stream",
          "text": [
            "{'item': 'Bag', 'colour': 'Black', 'price': 500, 'brand': 'Nike'}\n"
          ],
          "name": "stdout"
        }
      ]
    },
    {
      "cell_type": "code",
      "metadata": {
        "id": "b523bb36",
        "outputId": "08227bfd-a48f-4b66-b25d-e27c24945c4f"
      },
      "source": [
        "thisdict = {\n",
        "    \"Product\": \"Soap\",\n",
        "    \"Brand\": \"Dove\",\n",
        "    \"Price\": 60\n",
        "}\n",
        "\n",
        "thisdict.update({\"Brand\": \"Vivel\"})\n",
        "\n",
        "print(thisdict)"
      ],
      "id": "b523bb36",
      "execution_count": null,
      "outputs": [
        {
          "output_type": "stream",
          "text": [
            "{'Product': 'Soap', 'Brand': 'Vivel', 'Price': 60}\n"
          ],
          "name": "stdout"
        }
      ]
    },
    {
      "cell_type": "code",
      "metadata": {
        "id": "90a51ea7",
        "outputId": "8243e31a-aa20-4ffe-ce09-2707d306b898"
      },
      "source": [
        "thisdict = {\n",
        "    \"Product\": \"Soap\",\n",
        "    \"Brand\": \"Dove\",\n",
        "    \"Price\": 60\n",
        "}\n",
        "\n",
        "thisdict.update({\"Packets\": \"2\"})\n",
        "\n",
        "print(thisdict)"
      ],
      "id": "90a51ea7",
      "execution_count": null,
      "outputs": [
        {
          "output_type": "stream",
          "text": [
            "{'Product': 'Soap', 'Brand': 'Dove', 'Price': 60, 'Packets': '2'}\n"
          ],
          "name": "stdout"
        }
      ]
    },
    {
      "cell_type": "code",
      "metadata": {
        "id": "b81c7ab8",
        "outputId": "ceb7f137-9c14-4fa4-ef0f-d4e8d43d1fd1"
      },
      "source": [
        "shop = {\n",
        " \"item\": \"Bag\",\n",
        " \"colour\": \"Black\",\n",
        " \"price\": 500,\n",
        " \"brand\": \"Puma\"\n",
        "}\n",
        "\n",
        "shop.pop(\"price\")\n",
        "print(shop)"
      ],
      "id": "b81c7ab8",
      "execution_count": null,
      "outputs": [
        {
          "output_type": "stream",
          "text": [
            "{'item': 'Bag', 'colour': 'Black', 'brand': 'Puma'}\n"
          ],
          "name": "stdout"
        }
      ]
    },
    {
      "cell_type": "code",
      "metadata": {
        "id": "a8f7d7f1",
        "outputId": "efddc31b-80bf-4c5d-a3eb-6009e7208ea5"
      },
      "source": [
        "shop = {\n",
        " \"item\": \"Bag\",\n",
        " \"colour\": \"Black\",\n",
        " \"price\": 500,\n",
        " \"brand\": \"Puma\"\n",
        "}\n",
        "\n",
        "shop.popitem()\n",
        "print(shop)"
      ],
      "id": "a8f7d7f1",
      "execution_count": null,
      "outputs": [
        {
          "output_type": "stream",
          "text": [
            "{'item': 'Bag', 'colour': 'Black', 'price': 500}\n"
          ],
          "name": "stdout"
        }
      ]
    },
    {
      "cell_type": "code",
      "metadata": {
        "id": "51f8b116",
        "outputId": "834c67b1-aca8-47da-867c-35789dda9f4a"
      },
      "source": [
        "shop = {\n",
        " \"Item\": \"Bag\",\n",
        " \"Colour\": \"Black\",\n",
        " \"Price\": 1000,\n",
        " \"Brand\": \"Puma\"\n",
        "}\n",
        "\n",
        "del shop[\"Colour\"]\n",
        "print(shop)"
      ],
      "id": "51f8b116",
      "execution_count": null,
      "outputs": [
        {
          "output_type": "stream",
          "text": [
            "{'Item': 'Bag', 'Price': 1000, 'Brand': 'Puma'}\n"
          ],
          "name": "stdout"
        }
      ]
    },
    {
      "cell_type": "code",
      "metadata": {
        "id": "0ceefe6c",
        "outputId": "c59d97ba-3e32-4131-e031-8ecd8ab3f3b8"
      },
      "source": [
        "del shop\n",
        "print(shop)"
      ],
      "id": "0ceefe6c",
      "execution_count": null,
      "outputs": [
        {
          "output_type": "error",
          "ename": "NameError",
          "evalue": "name 'shop' is not defined",
          "traceback": [
            "\u001b[1;31m---------------------------------------------------------------------------\u001b[0m",
            "\u001b[1;31mNameError\u001b[0m                                 Traceback (most recent call last)",
            "\u001b[1;32m<ipython-input-44-645567901a6d>\u001b[0m in \u001b[0;36m<module>\u001b[1;34m\u001b[0m\n\u001b[0;32m      1\u001b[0m \u001b[1;32mdel\u001b[0m \u001b[0mshop\u001b[0m\u001b[1;33m\u001b[0m\u001b[1;33m\u001b[0m\u001b[0m\n\u001b[1;32m----> 2\u001b[1;33m \u001b[0mprint\u001b[0m\u001b[1;33m(\u001b[0m\u001b[0mshop\u001b[0m\u001b[1;33m)\u001b[0m\u001b[1;33m\u001b[0m\u001b[1;33m\u001b[0m\u001b[0m\n\u001b[0m",
            "\u001b[1;31mNameError\u001b[0m: name 'shop' is not defined"
          ]
        }
      ]
    },
    {
      "cell_type": "code",
      "metadata": {
        "id": "7c1c3c50",
        "outputId": "49d64239-eaa5-4089-cad5-686db27984c0"
      },
      "source": [
        "thisdict = {\"item\": \"pen\",\n",
        "            \"colour\": \"red\",\n",
        "            \"cost\": 20\n",
        "           }\n",
        "thisdict.clear()\n",
        "print(thisdict)"
      ],
      "id": "7c1c3c50",
      "execution_count": null,
      "outputs": [
        {
          "output_type": "stream",
          "text": [
            "{}\n"
          ],
          "name": "stdout"
        }
      ]
    },
    {
      "cell_type": "code",
      "metadata": {
        "id": "32e9c5f3",
        "outputId": "7b873f06-ea27-49fb-f736-86d34ebc48eb"
      },
      "source": [
        "thisdict = {\"item\": \"pen\",\n",
        "            \"colour\": \"red\",\n",
        "            \"cost\": 20\n",
        "           }\n",
        "for x in thisdict:\n",
        "    print(x)"
      ],
      "id": "32e9c5f3",
      "execution_count": null,
      "outputs": [
        {
          "output_type": "stream",
          "text": [
            "item\n",
            "colour\n",
            "cost\n"
          ],
          "name": "stdout"
        }
      ]
    },
    {
      "cell_type": "code",
      "metadata": {
        "id": "3e677211",
        "outputId": "92944108-070a-40f5-f22f-45cf39a33e8d"
      },
      "source": [
        "for x in thisdict:\n",
        "    print(thisdict[x])"
      ],
      "id": "3e677211",
      "execution_count": null,
      "outputs": [
        {
          "output_type": "stream",
          "text": [
            "pen\n",
            "red\n",
            "20\n"
          ],
          "name": "stdout"
        }
      ]
    },
    {
      "cell_type": "code",
      "metadata": {
        "id": "46fc122f",
        "outputId": "bdcffeb8-17e7-4b99-8322-a560822e4f8c"
      },
      "source": [
        "thisdict = {\n",
        "    \"Product\": \"Soap\",\n",
        "    \"Brand\": \"Dove\",\n",
        "    \"Price\": 60\n",
        "}\n",
        "for x in thisdict.keys():\n",
        "        print(x)"
      ],
      "id": "46fc122f",
      "execution_count": null,
      "outputs": [
        {
          "output_type": "stream",
          "text": [
            "Product\n",
            "Brand\n",
            "Price\n"
          ],
          "name": "stdout"
        }
      ]
    },
    {
      "cell_type": "code",
      "metadata": {
        "id": "72ea622a"
      },
      "source": [
        "thisdict1 = {\n",
        "    \"Product\": \"Soap\",\n",
        "    \"Brand\": \"Dove\",\n",
        "    \"Price\": 60\n",
        "}\n",
        "\n",
        "thisdict2 = thisdict1.copy()\n",
        "print(thisdict2)"
      ],
      "id": "72ea622a",
      "execution_count": null,
      "outputs": []
    },
    {
      "cell_type": "code",
      "metadata": {
        "id": "7db6066e",
        "outputId": "498b0aec-e4bf-406b-ab1b-b7fc1c7dbfe9"
      },
      "source": [
        "for x,y in thisdict.items():\n",
        "    print(x,y)"
      ],
      "id": "7db6066e",
      "execution_count": null,
      "outputs": [
        {
          "output_type": "stream",
          "text": [
            "Product Soap\n",
            "Brand Dove\n",
            "Price 60\n"
          ],
          "name": "stdout"
        }
      ]
    },
    {
      "cell_type": "code",
      "metadata": {
        "id": "11729dbf",
        "outputId": "5a0c955d-e728-48f3-f7ae-482a55bf620e"
      },
      "source": [
        "car = {\n",
        " \"brand\": \"Volkswagen\",\n",
        " \"colour\": \"maroon\",\n",
        " \"year\": 1937,\n",
        "}\n",
        "\n",
        "new_car = dict(car)\n",
        "\n",
        "print(new_car)"
      ],
      "id": "11729dbf",
      "execution_count": null,
      "outputs": [
        {
          "output_type": "stream",
          "text": [
            "{'brand': 'Volkswagen', 'colour': 'maroon', 'year': 1937}\n"
          ],
          "name": "stdout"
        }
      ]
    },
    {
      "cell_type": "raw",
      "metadata": {
        "id": "17ea1644"
      },
      "source": [
        "Student1 = {\n",
        "    \"name\": \"Dina\",\n",
        "    \"year\": 2000\n",
        "}\n",
        "\n",
        "Student2 = {\n",
        "    \"name\": \"Dexter\",\n",
        "    \"year\": 1998\n",
        "}\n",
        "\n",
        "Students = {\n",
        "    \"Student1\": Student1,\n",
        "    \"Student2\": Student2\n",
        "}\n",
        "\n",
        "print(Students)"
      ],
      "id": "17ea1644"
    },
    {
      "cell_type": "code",
      "metadata": {
        "id": "321043eb",
        "outputId": "cf6443ed-6e4e-4193-a3a9-ce558d468a4f"
      },
      "source": [
        "cars = {\n",
        "    \"car1\": {\n",
        "        \"name\": \"Ford\",\n",
        "        \"colour\": \"black\"\n",
        "    },\n",
        "    \"car2\": {\n",
        "        \"name\": \"Volkswagen\",\n",
        "        \"colour\": \"green\"\n",
        "    },\n",
        "    \"car3\": {\n",
        "        \"name\": \"Chevrolet\",\n",
        "        \"colour\": \"maroon\"\n",
        "    }\n",
        "}\n",
        "print(cars)"
      ],
      "id": "321043eb",
      "execution_count": null,
      "outputs": [
        {
          "output_type": "stream",
          "text": [
            "{'car1': {'name': 'Ford', 'colour': 'black'}, 'car2': {'name': 'Volkswagen', 'colour': 'green'}, 'car3': {'name': 'Chevrolet', 'colour': 'maroon'}}\n"
          ],
          "name": "stdout"
        }
      ]
    },
    {
      "cell_type": "code",
      "metadata": {
        "id": "90d62358",
        "outputId": "a26e7a3f-67b6-42e6-9722-564394e31a7a"
      },
      "source": [
        "x = ('name', 'age', 'grade')\n",
        "y = ('Chloe', 12, 6)\n",
        "\n",
        "thisdict = dict.fromkeys(x,y)\n",
        "print(thisdict)"
      ],
      "id": "90d62358",
      "execution_count": null,
      "outputs": [
        {
          "output_type": "stream",
          "text": [
            "{'name': ('Chloe', 12, 6), 'age': ('Chloe', 12, 6), 'grade': ('Chloe', 12, 6)}\n"
          ],
          "name": "stdout"
        }
      ]
    },
    {
      "cell_type": "code",
      "metadata": {
        "id": "23b29457",
        "outputId": "5c6e5a8a-22a2-4de0-ffe1-9d4c3729dd53"
      },
      "source": [
        "x = ('name', 'age', 'grade')\n",
        "\n",
        "thisdict = dict.fromkeys(x)\n",
        "print(thisdict)"
      ],
      "id": "23b29457",
      "execution_count": null,
      "outputs": [
        {
          "output_type": "stream",
          "text": [
            "{'name': None, 'age': None, 'grade': None}\n"
          ],
          "name": "stdout"
        }
      ]
    },
    {
      "cell_type": "code",
      "metadata": {
        "id": "9380a943",
        "outputId": "ab64c370-ff64-4e0f-8ed2-74741bd9cc57"
      },
      "source": [
        "thisdict = {\n",
        "    \"Product\": \"Soap\",\n",
        "    \"Brand\": \"Dove\",\n",
        "    \"Price\": 60\n",
        "}\n",
        "\n",
        "x = thisdict.setdefault(\"Brand\", \"Vivel\")\n",
        "print(thisdict)"
      ],
      "id": "9380a943",
      "execution_count": null,
      "outputs": [
        {
          "output_type": "stream",
          "text": [
            "{'Product': 'Soap', 'Brand': 'Dove', 'Price': 60}\n"
          ],
          "name": "stdout"
        }
      ]
    },
    {
      "cell_type": "code",
      "metadata": {
        "id": "bc9a1c91"
      },
      "source": [
        ""
      ],
      "id": "bc9a1c91",
      "execution_count": null,
      "outputs": []
    }
  ]
}