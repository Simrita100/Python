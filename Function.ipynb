{
  "nbformat": 4,
  "nbformat_minor": 5,
  "metadata": {
    "kernelspec": {
      "display_name": "Python 3",
      "language": "python",
      "name": "python3"
    },
    "language_info": {
      "codemirror_mode": {
        "name": "ipython",
        "version": 3
      },
      "file_extension": ".py",
      "mimetype": "text/x-python",
      "name": "python",
      "nbconvert_exporter": "python",
      "pygments_lexer": "ipython3",
      "version": "3.8.10"
    },
    "colab": {
      "name": "Function.ipynb",
      "provenance": [],
      "include_colab_link": true
    }
  },
  "cells": [
    {
      "cell_type": "markdown",
      "metadata": {
        "id": "view-in-github",
        "colab_type": "text"
      },
      "source": [
        "<a href=\"https://colab.research.google.com/github/Simrita100/Python/blob/main/Function.ipynb\" target=\"_parent\"><img src=\"https://colab.research.google.com/assets/colab-badge.svg\" alt=\"Open In Colab\"/></a>"
      ]
    },
    {
      "cell_type": "code",
      "metadata": {
        "id": "e44ada6e",
        "outputId": "f1b6a08a-0d33-4326-e6a3-64fb9b4562b5"
      },
      "source": [
        "def my_function():\n",
        "    print(\"Today is Friday\")\n",
        "my_function()"
      ],
      "id": "e44ada6e",
      "execution_count": null,
      "outputs": [
        {
          "name": "stdout",
          "output_type": "stream",
          "text": [
            "Today is Friday\n"
          ]
        }
      ]
    },
    {
      "cell_type": "code",
      "metadata": {
        "id": "94bd9ddf",
        "outputId": "73223d14-7f05-4e27-a63e-abddea189007"
      },
      "source": [
        "def func(name):\n",
        "    print(name)\n",
        "func(\"Sharon\")\n",
        "func(\"Anne\")"
      ],
      "id": "94bd9ddf",
      "execution_count": null,
      "outputs": [
        {
          "name": "stdout",
          "output_type": "stream",
          "text": [
            "Sharon\n",
            "Anne\n"
          ]
        }
      ]
    },
    {
      "cell_type": "code",
      "metadata": {
        "id": "505f5901",
        "outputId": "e6b6865f-f4f0-4289-b89d-6673c30bb652"
      },
      "source": [
        "def shop(product):\n",
        "    print(product + \" \"+ \"Bought\")\n",
        "shop(\"Bread\")\n",
        "shop(\"Soap\")\n",
        "shop(\"Brush\")\n",
        "shop(\"Bags\")"
      ],
      "id": "505f5901",
      "execution_count": null,
      "outputs": [
        {
          "name": "stdout",
          "output_type": "stream",
          "text": [
            "Bread Bought\n",
            "Soap Bought\n",
            "Brush Bought\n",
            "Bags Bought\n"
          ]
        }
      ]
    },
    {
      "cell_type": "code",
      "metadata": {
        "id": "d6196af0",
        "outputId": "97671ad8-9a47-4165-c9cd-76dc8ff63ff9"
      },
      "source": [
        "def things(first, second):\n",
        "    print(first + \" \" + second)\n",
        "things(\"Pencil\", \"Eraser\")\n",
        "things(\"Bucket\", \"Mug\")"
      ],
      "id": "d6196af0",
      "execution_count": null,
      "outputs": [
        {
          "name": "stdout",
          "output_type": "stream",
          "text": [
            "Pencil Eraser\n",
            "Bucket Mug\n"
          ]
        }
      ]
    },
    {
      "cell_type": "code",
      "metadata": {
        "id": "c4254eae",
        "outputId": "d617ccf3-2a30-4a80-8cf6-021b1e7da95b"
      },
      "source": [
        "def x(*Books):\n",
        "    print(\"The book in the last row is: \" + Books[4])\n",
        "x(\"Pride and Prejudice\", \"David Copperfield\",\"Heidi\", \"A Christmas Carol\", \"Oliver Twist\",\"Robin Hood\" \"Little Woman\")"
      ],
      "id": "c4254eae",
      "execution_count": null,
      "outputs": [
        {
          "name": "stdout",
          "output_type": "stream",
          "text": [
            "The book in the last row is: Oliver Twist\n"
          ]
        }
      ]
    },
    {
      "cell_type": "code",
      "metadata": {
        "id": "2d9433a6",
        "outputId": "5f577273-8e2d-43ab-a9e9-a14f05684a9a"
      },
      "source": [
        "def func(*name):\n",
        "    print(\"The hard-working student is: \" + name[2] )\n",
        "func(\"Steven\", \"Ryan\", \"Sarah\", \"Anita\")"
      ],
      "id": "2d9433a6",
      "execution_count": null,
      "outputs": [
        {
          "name": "stdout",
          "output_type": "stream",
          "text": [
            "The hard-working student is: Sarah\n"
          ]
        }
      ]
    },
    {
      "cell_type": "code",
      "metadata": {
        "id": "6936ab23",
        "outputId": "6fe9b078-3bf6-40c6-886c-02d59596d73b"
      },
      "source": [
        "def func(stud2, stud4, stud3, stud1):\n",
        "    print(\"The last students to get enrolled are:\" + stud3 + \", \" + stud4)\n",
        "func(stud1 = \"Emily\", stud2 = \"Shanti\", stud3 = \"Cheryl\", stud4 = \"Anisha\")"
      ],
      "id": "6936ab23",
      "execution_count": null,
      "outputs": [
        {
          "name": "stdout",
          "output_type": "stream",
          "text": [
            "The last students to get enrolled are:Cheryl, Anisha\n"
          ]
        }
      ]
    },
    {
      "cell_type": "code",
      "metadata": {
        "id": "fa76ad5d",
        "outputId": "c0f45c73-9058-47a8-e0d0-db361cbda86e"
      },
      "source": [
        "def my_func(**student):\n",
        "    print(\"Name of the student is: \" + student[\"Name\"])\n",
        "my_func(Name = 'Kaylin', Team = \"A\", Club = \"Quiz\")"
      ],
      "id": "fa76ad5d",
      "execution_count": null,
      "outputs": [
        {
          "name": "stdout",
          "output_type": "stream",
          "text": [
            "Name of the student is: Kaylin\n"
          ]
        }
      ]
    },
    {
      "cell_type": "code",
      "metadata": {
        "id": "de018b87",
        "outputId": "12754f17-afe9-48e0-f5ae-106cd019e746"
      },
      "source": [
        "def my_func(**student):\n",
        "    print(\"Student details : \" + student[\"Name\"] + \", \" + student[\"Club\"])\n",
        "my_func(Name = 'Kaylin', Team = \"A\", Club = \"Quiz\")"
      ],
      "id": "de018b87",
      "execution_count": null,
      "outputs": [
        {
          "name": "stdout",
          "output_type": "stream",
          "text": [
            "Student details : Kaylin, Quiz\n"
          ]
        }
      ]
    },
    {
      "cell_type": "code",
      "metadata": {
        "id": "a089b086",
        "outputId": "78fdb995-543f-493a-8e26-9a594d6db50a"
      },
      "source": [
        "def shopping_list(item = \"Cookies\"):\n",
        "    print(\"The items bought today are: \" + item)\n",
        "    \n",
        "shopping_list(\"Bags\")\n",
        "shopping_list(\"Books\")\n",
        "shopping_list()\n",
        "shopping_list(\"Crisps\")\n",
        "shopping_list(\"Coke\")\n",
        "shopping_list(\"Bottles\")\n",
        "\n",
        "\n"
      ],
      "id": "a089b086",
      "execution_count": null,
      "outputs": [
        {
          "name": "stdout",
          "output_type": "stream",
          "text": [
            "The items bought today are: Bags\n",
            "The items bought today are: Books\n",
            "The items bought today are: Cookies\n",
            "The items bought today are: Crisps\n",
            "The items bought today are: Coke\n",
            "The items bought today are: Bottles\n"
          ]
        }
      ]
    },
    {
      "cell_type": "code",
      "metadata": {
        "id": "add1919c",
        "outputId": "42221ff3-a230-4a98-9baa-ee8916c11848"
      },
      "source": [
        "def func(items):\n",
        "    for x in items:\n",
        "        print(x)\n",
        "    \n",
        "fruits = [\"mango\", \"blueberry\", \"orange\", \"coconut\"]\n",
        "\n",
        "func(fruits)"
      ],
      "id": "add1919c",
      "execution_count": null,
      "outputs": [
        {
          "name": "stdout",
          "output_type": "stream",
          "text": [
            "mango\n",
            "blueberry\n",
            "orange\n",
            "coconut\n"
          ]
        }
      ]
    },
    {
      "cell_type": "code",
      "metadata": {
        "id": "9d6055d7",
        "outputId": "cb6f715b-f05f-495a-ace9-373da8c9d408"
      },
      "source": [
        "def listed_items(s):\n",
        "    for x in s:\n",
        "        print(x)\n",
        "        \n",
        "my_list = [\"Hello\", 1,(10,20), \"How you doin\\'?\", 100, \"Bye\"]\n",
        "\n",
        "listed_items(my_list)"
      ],
      "id": "9d6055d7",
      "execution_count": null,
      "outputs": [
        {
          "name": "stdout",
          "output_type": "stream",
          "text": [
            "Hello\n",
            "1\n",
            "(10, 20)\n",
            "How you doin'?\n",
            "100\n",
            "Bye\n"
          ]
        }
      ]
    },
    {
      "cell_type": "code",
      "metadata": {
        "id": "ee54404b",
        "outputId": "797f50c9-bf2b-4ae9-881d-6769d0969ac6"
      },
      "source": [
        "def number(x):\n",
        "    return 100 // x\n",
        "\n",
        "print(number(2))\n",
        "print(number(4))\n",
        "print(number(8))\n",
        "print(number(10))"
      ],
      "id": "ee54404b",
      "execution_count": null,
      "outputs": [
        {
          "name": "stdout",
          "output_type": "stream",
          "text": [
            "50\n",
            "25\n",
            "12\n",
            "10\n"
          ]
        }
      ]
    },
    {
      "cell_type": "code",
      "metadata": {
        "id": "d9730542",
        "outputId": "ff895bfb-db68-4696-90f6-4833e4251b6e"
      },
      "source": [
        "def number(x):\n",
        "    return 6 * x\n",
        "\n",
        "print(number(2))\n",
        "print(number(4))\n",
        "print(number(8))\n",
        "print(number(10))"
      ],
      "id": "d9730542",
      "execution_count": null,
      "outputs": [
        {
          "name": "stdout",
          "output_type": "stream",
          "text": [
            "12\n",
            "24\n",
            "48\n",
            "60\n"
          ]
        }
      ]
    },
    {
      "cell_type": "code",
      "metadata": {
        "id": "e7c34d58"
      },
      "source": [
        ""
      ],
      "id": "e7c34d58",
      "execution_count": null,
      "outputs": []
    }
  ]
}