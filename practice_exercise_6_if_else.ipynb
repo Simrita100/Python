{
  "nbformat": 4,
  "nbformat_minor": 5,
  "metadata": {
    "kernelspec": {
      "display_name": "Python 3",
      "language": "python",
      "name": "python3"
    },
    "language_info": {
      "codemirror_mode": {
        "name": "ipython",
        "version": 3
      },
      "file_extension": ".py",
      "mimetype": "text/x-python",
      "name": "python",
      "nbconvert_exporter": "python",
      "pygments_lexer": "ipython3",
      "version": "3.8.10"
    },
    "colab": {
      "name": "practice-exercise-6-if-else.ipynb",
      "provenance": [],
      "include_colab_link": true
    }
  },
  "cells": [
    {
      "cell_type": "markdown",
      "metadata": {
        "id": "view-in-github",
        "colab_type": "text"
      },
      "source": [
        "<a href=\"https://colab.research.google.com/github/Simrita100/Python/blob/main/practice_exercise_6_if_else.ipynb\" target=\"_parent\"><img src=\"https://colab.research.google.com/assets/colab-badge.svg\" alt=\"Open In Colab\"/></a>"
      ]
    },
    {
      "cell_type": "code",
      "metadata": {
        "id": "c750a265",
        "outputId": "e09c7f48-c127-4850-e3f1-498c1ddc3280"
      },
      "source": [
        "a = 30\n",
        "b = 100\n",
        "if b > a:\n",
        "    print(\"b is greater than a\")"
      ],
      "id": "c750a265",
      "execution_count": null,
      "outputs": [
        {
          "output_type": "stream",
          "text": [
            "b is greater than a\n"
          ],
          "name": "stdout"
        }
      ]
    },
    {
      "cell_type": "code",
      "metadata": {
        "id": "de55492a",
        "outputId": "2a20e9e6-dd4d-44be-dcf5-6c3e0f81a1ce"
      },
      "source": [
        "a = 40\n",
        "b = 40\n",
        "\n",
        "if b > a :\n",
        "    print(\"b is greater than a\")\n",
        "elif a == b:\n",
        "    print(\"a and b are equal\")"
      ],
      "id": "de55492a",
      "execution_count": null,
      "outputs": [
        {
          "output_type": "stream",
          "text": [
            "a and b are equal\n"
          ],
          "name": "stdout"
        }
      ]
    },
    {
      "cell_type": "code",
      "metadata": {
        "id": "ee063a01",
        "outputId": "689d5025-2ad9-4c85-a6ba-94d720a8e5e9"
      },
      "source": [
        "a = 200\n",
        "b = 60\n",
        "if b > a:\n",
        "    print(\"b is greater\")\n",
        "elif a == b:\n",
        "    print(\"a and are equal\")\n",
        "else:\n",
        "    print(\"a is greater\")"
      ],
      "id": "ee063a01",
      "execution_count": null,
      "outputs": [
        {
          "output_type": "stream",
          "text": [
            "a is greater\n"
          ],
          "name": "stdout"
        }
      ]
    },
    {
      "cell_type": "code",
      "metadata": {
        "id": "4adddd3f",
        "outputId": "5c1d8d2f-b1ef-4a9f-a427-dbd8b46b8a20"
      },
      "source": [
        "a = 40\n",
        "b = 12\n",
        "if b > a:\n",
        "    print(\"b is greater than a\")\n",
        "else:\n",
        "    print(\"a is greater than b\")"
      ],
      "id": "4adddd3f",
      "execution_count": null,
      "outputs": [
        {
          "output_type": "stream",
          "text": [
            "a is greater than b\n"
          ],
          "name": "stdout"
        }
      ]
    },
    {
      "cell_type": "code",
      "metadata": {
        "id": "5e5f7922",
        "outputId": "ad437f5c-8bca-4947-ad35-b095238c6892"
      },
      "source": [
        "if a > b: print(\"a is greater than b\")"
      ],
      "id": "5e5f7922",
      "execution_count": null,
      "outputs": [
        {
          "output_type": "stream",
          "text": [
            "a is greater than b\n"
          ],
          "name": "stdout"
        }
      ]
    },
    {
      "cell_type": "code",
      "metadata": {
        "id": "e0277b2d",
        "outputId": "46e03842-49d7-4f05-ea04-79b0f3ed6f18"
      },
      "source": [
        "a = 2\n",
        "b = 15\n",
        "print(True) if a < b else print(False)"
      ],
      "id": "e0277b2d",
      "execution_count": null,
      "outputs": [
        {
          "output_type": "stream",
          "text": [
            "True\n"
          ],
          "name": "stdout"
        }
      ]
    },
    {
      "cell_type": "code",
      "metadata": {
        "id": "a3ee85e7",
        "outputId": "6334d7ec-a693-46fd-9b81-41fad86770a1"
      },
      "source": [
        "a = 300\n",
        "b = 300\n",
        "print(\"a\") if a > b else print (\"=\") if a == b else print(\"b\")"
      ],
      "id": "a3ee85e7",
      "execution_count": null,
      "outputs": [
        {
          "output_type": "stream",
          "text": [
            "=\n"
          ],
          "name": "stdout"
        }
      ]
    },
    {
      "cell_type": "code",
      "metadata": {
        "id": "6ab351f0",
        "outputId": "07f1eb89-35fa-46c2-9040-bb803fa61c2b"
      },
      "source": [
        "x = 500 \n",
        "y = 200\n",
        "z = 800\n",
        "if x > y and z > a:\n",
        "    print(\"Both the conditions are True\")"
      ],
      "id": "6ab351f0",
      "execution_count": null,
      "outputs": [
        {
          "output_type": "stream",
          "text": [
            "Both the conditions are True\n"
          ],
          "name": "stdout"
        }
      ]
    },
    {
      "cell_type": "code",
      "metadata": {
        "id": "13b99eff",
        "outputId": "e68d62ec-5204-4c45-ae5a-6275956333c1"
      },
      "source": [
        "x = 500 \n",
        "y = 200\n",
        "z = 800\n",
        "if x > y or y > z:\n",
        "    print(\"At least one condition is true\")"
      ],
      "id": "13b99eff",
      "execution_count": null,
      "outputs": [
        {
          "output_type": "stream",
          "text": [
            "At least one condition is true\n"
          ],
          "name": "stdout"
        }
      ]
    },
    {
      "cell_type": "code",
      "metadata": {
        "id": "f526634e",
        "outputId": "680b920b-d0d6-4f88-9d67-3ea5d6f9d40c"
      },
      "source": [
        "x = 80 \n",
        "if x > 10:\n",
        "    print(\"Greater than ten\")\n",
        "if x > 20:\n",
        "    print('Also greater than twenty')\n",
        "else:\n",
        "    print(\"Not greater than twenty\")"
      ],
      "id": "f526634e",
      "execution_count": null,
      "outputs": [
        {
          "output_type": "stream",
          "text": [
            "Greater than ten\n",
            "Also greater than twenty\n"
          ],
          "name": "stdout"
        }
      ]
    },
    {
      "cell_type": "code",
      "metadata": {
        "id": "c0dec81b",
        "outputId": "ad0780da-b282-4e01-b188-b8364a86a8d0"
      },
      "source": [
        "x = 15\n",
        "if x > 10:\n",
        "    print(\"Greater than ten\")\n",
        "if x > 20:\n",
        "    print('Also greater than twenty')\n",
        "else:\n",
        "    print(\"Not greater than twenty\")"
      ],
      "id": "c0dec81b",
      "execution_count": null,
      "outputs": [
        {
          "output_type": "stream",
          "text": [
            "Greater than ten\n",
            "Not greater than twenty\n"
          ],
          "name": "stdout"
        }
      ]
    },
    {
      "cell_type": "code",
      "metadata": {
        "id": "4b5c247a"
      },
      "source": [
        "a = 60\n",
        "b = 400\n",
        "if b > a:\n",
        "    pass"
      ],
      "id": "4b5c247a",
      "execution_count": null,
      "outputs": []
    }
  ]
}