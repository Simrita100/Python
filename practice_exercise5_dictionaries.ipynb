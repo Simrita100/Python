{
  "nbformat": 4,
  "nbformat_minor": 5,
  "metadata": {
    "kernelspec": {
      "display_name": "Python 3",
      "language": "python",
      "name": "python3"
    },
    "language_info": {
      "codemirror_mode": {
        "name": "ipython",
        "version": 3
      },
      "file_extension": ".py",
      "mimetype": "text/x-python",
      "name": "python",
      "nbconvert_exporter": "python",
      "pygments_lexer": "ipython3",
      "version": "3.8.10"
    },
    "colab": {
      "name": "practice-exercise5-dictionaries.ipynb",
      "provenance": [],
      "include_colab_link": true
    }
  },
  "cells": [
    {
      "cell_type": "markdown",
      "metadata": {
        "id": "view-in-github",
        "colab_type": "text"
      },
      "source": [
        "<a href=\"https://colab.research.google.com/github/Simrita100/Python/blob/main/practice_exercise5_dictionaries.ipynb\" target=\"_parent\"><img src=\"https://colab.research.google.com/assets/colab-badge.svg\" alt=\"Open In Colab\"/></a>"
      ]
    },
    {
      "cell_type": "code",
      "metadata": {
        "id": "8900343e",
        "outputId": "d6611909-04b5-4ff9-a58f-073d59a28a3c"
      },
      "source": [
        "thisdict = {\"fruit\": \"cherry\",\n",
        "            \"colour\": \"red\",\n",
        "            \"weight\": \"200gm\"\n",
        "           }\n",
        "print(thisdict)"
      ],
      "id": "8900343e",
      "execution_count": null,
      "outputs": [
        {
          "output_type": "stream",
          "text": [
            "{'fruit': 'cherry', 'colour': 'red', 'weight': '200gm'}\n"
          ],
          "name": "stdout"
        }
      ]
    },
    {
      "cell_type": "code",
      "metadata": {
        "id": "1574515d",
        "outputId": "024f7aa0-b295-47c5-fb3e-3ddafa136f6a"
      },
      "source": [
        "thisdict = {\"item\": \"pen\",\n",
        "            \"colour\": \"red\",\n",
        "            \"cost\": 20\n",
        "           }\n",
        "print(thisdict[\"colour\"])"
      ],
      "id": "1574515d",
      "execution_count": null,
      "outputs": [
        {
          "output_type": "stream",
          "text": [
            "red\n"
          ],
          "name": "stdout"
        }
      ]
    },
    {
      "cell_type": "code",
      "metadata": {
        "id": "e6c35afb",
        "outputId": "daf301f4-a019-4387-8fcd-ec57c3c9dce2"
      },
      "source": [
        "thisdict = {\"item\": \"pen\",\n",
        "            \"colour\": \"red\",\n",
        "            \"cost\": 20,\n",
        "            \"cost\": 40\n",
        "           }\n",
        "print(thisdict)"
      ],
      "id": "e6c35afb",
      "execution_count": null,
      "outputs": [
        {
          "output_type": "stream",
          "text": [
            "{'item': 'pen', 'colour': 'red', 'cost': 40}\n"
          ],
          "name": "stdout"
        }
      ]
    },
    {
      "cell_type": "code",
      "metadata": {
        "id": "f870bc98",
        "outputId": "34402a08-dce3-44bb-a3e4-b2c5ff1a67a1"
      },
      "source": [
        "print(len(thisdict))"
      ],
      "id": "f870bc98",
      "execution_count": null,
      "outputs": [
        {
          "output_type": "stream",
          "text": [
            "3\n"
          ],
          "name": "stdout"
        }
      ]
    },
    {
      "cell_type": "code",
      "metadata": {
        "id": "bf5c852c",
        "outputId": "ea0233aa-19fe-4552-ebf0-6dd6048ecb64"
      },
      "source": [
        "x = {\n",
        " \"brand\": \"Volkswagen\",\n",
        " \"electric\": False,\n",
        " \"year\": 1937,\n",
        " \"colours\": [\"black\", \"metallic\", \"red\", \"white\"]\n",
        "}\n",
        "print(x)"
      ],
      "id": "bf5c852c",
      "execution_count": null,
      "outputs": [
        {
          "output_type": "stream",
          "text": [
            "{'brand': 'Volkswagen', 'electric': False, 'year': 1937, 'colours': ['black', 'metallic', 'red', 'white']}\n"
          ],
          "name": "stdout"
        }
      ]
    },
    {
      "cell_type": "code",
      "metadata": {
        "id": "98289eaa",
        "outputId": "281c8173-37ce-46a3-d1f5-a244720cefdf"
      },
      "source": [
        "print(type(x))"
      ],
      "id": "98289eaa",
      "execution_count": null,
      "outputs": [
        {
          "output_type": "stream",
          "text": [
            "<class 'dict'>\n"
          ],
          "name": "stdout"
        }
      ]
    },
    {
      "cell_type": "code",
      "metadata": {
        "id": "cae7be17",
        "outputId": "200b563f-3471-490e-f93f-06277b7114b9"
      },
      "source": [
        "s = {\n",
        " \"item\": \"Bag\",\n",
        " \"colour\": \"Black\",\n",
        " \"price\": 500\n",
        "     }\n",
        "t = s[\"colour\"]\n",
        "print(t)"
      ],
      "id": "cae7be17",
      "execution_count": null,
      "outputs": [
        {
          "output_type": "stream",
          "text": [
            "Black\n"
          ],
          "name": "stdout"
        }
      ]
    },
    {
      "cell_type": "code",
      "metadata": {
        "id": "91eddb7f",
        "outputId": "88fed71d-3980-41ee-f7d4-aa93c79fad3d"
      },
      "source": [
        "y = x.get(\"year\")\n",
        "print(y)"
      ],
      "id": "91eddb7f",
      "execution_count": null,
      "outputs": [
        {
          "output_type": "stream",
          "text": [
            "1937\n"
          ],
          "name": "stdout"
        }
      ]
    },
    {
      "cell_type": "code",
      "metadata": {
        "id": "ccc3cb4f",
        "outputId": "3a94e80e-eb67-4434-98b5-4242ccd08f27"
      },
      "source": [
        "z = s.keys()\n",
        "print(z)"
      ],
      "id": "ccc3cb4f",
      "execution_count": null,
      "outputs": [
        {
          "output_type": "stream",
          "text": [
            "dict_keys(['item', 'colour', 'price'])\n"
          ],
          "name": "stdout"
        }
      ]
    },
    {
      "cell_type": "code",
      "metadata": {
        "id": "57984128",
        "outputId": "ca0ddb1b-cfda-4496-d1a7-f026cf5a9f66"
      },
      "source": [
        "cart = {\n",
        "\"item\": \"Shoes\",\n",
        "\"colour\": \"Black\",\n",
        "\"price\": 2500\n",
        "     }\n",
        "\n",
        "x = cart.keys()\n",
        "\n",
        "print(x)    #before the change\n",
        "\n",
        "cart[\"brand\"] = \"Nike\"\n",
        "\n",
        "print(x)    #after the change\n",
        "\n"
      ],
      "id": "57984128",
      "execution_count": null,
      "outputs": [
        {
          "output_type": "stream",
          "text": [
            "dict_keys(['item', 'colour', 'price'])\n",
            "dict_keys(['item', 'colour', 'price', 'brand'])\n"
          ],
          "name": "stdout"
        }
      ]
    },
    {
      "cell_type": "code",
      "metadata": {
        "id": "9ed18214",
        "outputId": "e3e2cb7a-e3ac-45be-c7c7-d223ec77eac6"
      },
      "source": [
        "x = cart.values()\n",
        "print(x)"
      ],
      "id": "9ed18214",
      "execution_count": null,
      "outputs": [
        {
          "output_type": "stream",
          "text": [
            "dict_values(['Shoes', 'Black', 2500, 'Nike'])\n"
          ],
          "name": "stdout"
        }
      ]
    },
    {
      "cell_type": "code",
      "metadata": {
        "id": "e6ffcda1",
        "outputId": "ed1823b0-5c28-42a7-93cf-75b4c22d5d63"
      },
      "source": [
        "thisdict = {\"item\": \"pen\",\n",
        "            \"colour\": \"red\",\n",
        "            \"cost\": 20\n",
        "           }\n",
        "x = thisdict.values()\n",
        "\n",
        "print(x)       #before the change\n",
        "\n",
        "thisdict[type] = \"fountain\"\n",
        "\n",
        "print(x)       #after the change"
      ],
      "id": "e6ffcda1",
      "execution_count": null,
      "outputs": [
        {
          "output_type": "stream",
          "text": [
            "dict_values(['pen', 'red', 20])\n",
            "dict_values(['pen', 'red', 20, 'fountain'])\n"
          ],
          "name": "stdout"
        }
      ]
    },
    {
      "cell_type": "code",
      "metadata": {
        "id": "ecfa03aa",
        "outputId": "77c1f129-741e-4689-c532-e4d6249f4fdb"
      },
      "source": [
        "thisdict = {\"item\": \"pen\",\n",
        "            \"colour\": \"red\",\n",
        "            \"cost\": 20\n",
        "           }\n",
        "\n",
        "x = thisdict.values()\n",
        "\n",
        "print(x)     #before the change\n",
        "\n",
        "thisdict[\"colour\"] = \"black\"\n",
        "\n",
        "print(x)    #after the change"
      ],
      "id": "ecfa03aa",
      "execution_count": null,
      "outputs": [
        {
          "output_type": "stream",
          "text": [
            "dict_values(['pen', 'red', 20])\n",
            "dict_values(['pen', 'black', 20])\n"
          ],
          "name": "stdout"
        }
      ]
    },
    {
      "cell_type": "code",
      "metadata": {
        "id": "362a1d18",
        "outputId": "584db02d-3c2c-4d7d-cd8c-4ed253fa3713"
      },
      "source": [
        "thisdict = {\"item\": \"pen\",\n",
        "            \"colour\": \"red\",\n",
        "            \"cost\": 20\n",
        "           }\n",
        "y = thisdict.items()\n",
        "print(y)"
      ],
      "id": "362a1d18",
      "execution_count": null,
      "outputs": [
        {
          "output_type": "stream",
          "text": [
            "dict_items([('item', 'pen'), ('colour', 'red'), ('cost', 20)])\n"
          ],
          "name": "stdout"
        }
      ]
    },
    {
      "cell_type": "code",
      "metadata": {
        "id": "462144b3",
        "outputId": "4974431e-dae4-41f4-81b0-fdf92c2430fa"
      },
      "source": [
        "x = {\n",
        " \"brand\": \"Volkswagen\",\n",
        " \"electric\": False,\n",
        " \"year\": 1937,\n",
        "}\n",
        "\n",
        "y = x.items()\n",
        "\n",
        "print(y)\n",
        "\n",
        "x[\"colour\"] = \"metallic blue\"\n",
        "\n",
        "print(y)"
      ],
      "id": "462144b3",
      "execution_count": null,
      "outputs": [
        {
          "output_type": "stream",
          "text": [
            "dict_items([('brand', 'Volkswagen'), ('electric', False), ('year', 1937)])\n",
            "dict_items([('brand', 'Volkswagen'), ('electric', False), ('year', 1937), ('colour', 'metallic blue')])\n"
          ],
          "name": "stdout"
        }
      ]
    },
    {
      "cell_type": "code",
      "metadata": {
        "id": "5292892d",
        "outputId": "402785ac-9f5a-42c9-db08-fb155ce3316a"
      },
      "source": [
        "car = {\n",
        " \"brand\": \"Volkswagen\",\n",
        " \"colour\": \"maroon\",\n",
        " \"year\": 1937,\n",
        "}\n",
        "\n",
        "z = car.items()\n",
        "\n",
        "print(z)\n",
        "\n",
        "car[\"colour\"] = \"black\"\n",
        "\n",
        "print(z)"
      ],
      "id": "5292892d",
      "execution_count": null,
      "outputs": [
        {
          "output_type": "stream",
          "text": [
            "dict_items([('brand', 'Volkswagen'), ('colour', 'maroon'), ('year', 1937)])\n",
            "dict_items([('brand', 'Volkswagen'), ('colour', 'black'), ('year', 1937)])\n"
          ],
          "name": "stdout"
        }
      ]
    },
    {
      "cell_type": "code",
      "metadata": {
        "id": "117918eb",
        "outputId": "797a92cf-984a-497b-939b-920632502393"
      },
      "source": [
        "shop = {\n",
        " \"item\": \"Bag\",\n",
        " \"colour\": \"Black\",\n",
        " \"price\": 500,\n",
        " \"brand\": \"Puma\"\n",
        "}\n",
        "if \"brand\" in shop:\n",
        "    print(\"Yes!\")"
      ],
      "id": "117918eb",
      "execution_count": null,
      "outputs": [
        {
          "output_type": "stream",
          "text": [
            "Yes!\n"
          ],
          "name": "stdout"
        }
      ]
    },
    {
      "cell_type": "code",
      "metadata": {
        "id": "f1158827",
        "outputId": "09c2b891-1d00-4973-cf7b-f3ff56ae9b1d"
      },
      "source": [
        "shop = {\n",
        " \"item\": \"Bag\",\n",
        " \"colour\": \"Black\",\n",
        " \"price\": 500,\n",
        " \"brand\": \"Puma\"\n",
        "}\n",
        "\n",
        "shop[\"brand\"] = \"Nike\"\n",
        " \n",
        "print(shop)"
      ],
      "id": "f1158827",
      "execution_count": null,
      "outputs": [
        {
          "output_type": "stream",
          "text": [
            "{'item': 'Bag', 'colour': 'Black', 'price': 500, 'brand': 'Nike'}\n"
          ],
          "name": "stdout"
        }
      ]
    },
    {
      "cell_type": "code",
      "metadata": {
        "id": "b523bb36",
        "outputId": "d4cf18eb-1c5b-428b-8055-ec6f64170c08"
      },
      "source": [
        "thisdict = {\n",
        "    \"Product\": \"Soap\",\n",
        "    \"Brand\": \"Dove\",\n",
        "    \"Price\": 60\n",
        "}\n",
        "\n",
        "thisdict.update({\"Brand\": \"Vivel\"})\n",
        "\n",
        "print(thisdict)"
      ],
      "id": "b523bb36",
      "execution_count": null,
      "outputs": [
        {
          "output_type": "stream",
          "text": [
            "{'Product': 'Soap', 'Brand': 'Vivel', 'Price': 60}\n"
          ],
          "name": "stdout"
        }
      ]
    },
    {
      "cell_type": "code",
      "metadata": {
        "id": "90a51ea7",
        "outputId": "7d161c46-2a91-44ff-b787-39a9f8a5a5d6"
      },
      "source": [
        "thisdict = {\n",
        "    \"Product\": \"Soap\",\n",
        "    \"Brand\": \"Dove\",\n",
        "    \"Price\": 60\n",
        "}\n",
        "\n",
        "thisdict.update({\"Packets\": \"2\"})\n",
        "\n",
        "print(thisdict)"
      ],
      "id": "90a51ea7",
      "execution_count": null,
      "outputs": [
        {
          "output_type": "stream",
          "text": [
            "{'Product': 'Soap', 'Brand': 'Dove', 'Price': 60, 'Packets': '2'}\n"
          ],
          "name": "stdout"
        }
      ]
    },
    {
      "cell_type": "code",
      "metadata": {
        "id": "b81c7ab8",
        "outputId": "d279faea-f8c2-4949-92fb-dbc92b0f8876"
      },
      "source": [
        "shop = {\n",
        " \"item\": \"Bag\",\n",
        " \"colour\": \"Black\",\n",
        " \"price\": 500,\n",
        " \"brand\": \"Puma\"\n",
        "}\n",
        "\n",
        "shop.pop(\"price\")\n",
        "print(shop)"
      ],
      "id": "b81c7ab8",
      "execution_count": null,
      "outputs": [
        {
          "output_type": "stream",
          "text": [
            "{'item': 'Bag', 'colour': 'Black', 'brand': 'Puma'}\n"
          ],
          "name": "stdout"
        }
      ]
    },
    {
      "cell_type": "code",
      "metadata": {
        "id": "a8f7d7f1",
        "outputId": "b1f76f29-fb32-45cf-f79e-d75e63fa88b3"
      },
      "source": [
        "shop = {\n",
        " \"item\": \"Bag\",\n",
        " \"colour\": \"Black\",\n",
        " \"price\": 500,\n",
        " \"brand\": \"Puma\"\n",
        "}\n",
        "\n",
        "shop.popitem()\n",
        "print(shop)"
      ],
      "id": "a8f7d7f1",
      "execution_count": null,
      "outputs": [
        {
          "output_type": "stream",
          "text": [
            "{'item': 'Bag', 'colour': 'Black', 'price': 500}\n"
          ],
          "name": "stdout"
        }
      ]
    },
    {
      "cell_type": "code",
      "metadata": {
        "id": "51f8b116",
        "outputId": "ed158d72-aa19-409f-d332-8a8640d8c18c"
      },
      "source": [
        "shop = {\n",
        " \"Item\": \"Bag\",\n",
        " \"Colour\": \"Black\",\n",
        " \"Price\": 1000,\n",
        " \"Brand\": \"Puma\"\n",
        "}\n",
        "\n",
        "del shop[\"Colour\"]\n",
        "print(shop)"
      ],
      "id": "51f8b116",
      "execution_count": null,
      "outputs": [
        {
          "output_type": "stream",
          "text": [
            "{'Item': 'Bag', 'Price': 1000, 'Brand': 'Puma'}\n"
          ],
          "name": "stdout"
        }
      ]
    },
    {
      "cell_type": "code",
      "metadata": {
        "id": "0ceefe6c",
        "outputId": "fcb7d6c5-7bc7-4962-8567-763be283c7d0"
      },
      "source": [
        "del shop\n",
        "print(shop)"
      ],
      "id": "0ceefe6c",
      "execution_count": null,
      "outputs": [
        {
          "output_type": "error",
          "ename": "NameError",
          "evalue": "name 'shop' is not defined",
          "traceback": [
            "\u001b[1;31m---------------------------------------------------------------------------\u001b[0m",
            "\u001b[1;31mNameError\u001b[0m                                 Traceback (most recent call last)",
            "\u001b[1;32m<ipython-input-44-645567901a6d>\u001b[0m in \u001b[0;36m<module>\u001b[1;34m\u001b[0m\n\u001b[0;32m      1\u001b[0m \u001b[1;32mdel\u001b[0m \u001b[0mshop\u001b[0m\u001b[1;33m\u001b[0m\u001b[1;33m\u001b[0m\u001b[0m\n\u001b[1;32m----> 2\u001b[1;33m \u001b[0mprint\u001b[0m\u001b[1;33m(\u001b[0m\u001b[0mshop\u001b[0m\u001b[1;33m)\u001b[0m\u001b[1;33m\u001b[0m\u001b[1;33m\u001b[0m\u001b[0m\n\u001b[0m",
            "\u001b[1;31mNameError\u001b[0m: name 'shop' is not defined"
          ]
        }
      ]
    },
    {
      "cell_type": "code",
      "metadata": {
        "id": "7c1c3c50",
        "outputId": "677b399f-5908-4f69-e505-818021840548"
      },
      "source": [
        "thisdict = {\"item\": \"pen\",\n",
        "            \"colour\": \"red\",\n",
        "            \"cost\": 20\n",
        "           }\n",
        "thisdict.clear()\n",
        "print(thisdict)"
      ],
      "id": "7c1c3c50",
      "execution_count": null,
      "outputs": [
        {
          "output_type": "stream",
          "text": [
            "{}\n"
          ],
          "name": "stdout"
        }
      ]
    },
    {
      "cell_type": "code",
      "metadata": {
        "id": "32e9c5f3",
        "outputId": "d36687df-0d87-4421-a214-14e246467504"
      },
      "source": [
        "thisdict = {\"item\": \"pen\",\n",
        "            \"colour\": \"red\",\n",
        "            \"cost\": 20\n",
        "           }\n",
        "for x in thisdict:\n",
        "    print(x)"
      ],
      "id": "32e9c5f3",
      "execution_count": null,
      "outputs": [
        {
          "output_type": "stream",
          "text": [
            "item\n",
            "colour\n",
            "cost\n"
          ],
          "name": "stdout"
        }
      ]
    },
    {
      "cell_type": "code",
      "metadata": {
        "id": "3e677211",
        "outputId": "09c8d296-d4f6-430f-d26f-3f3112fdc572"
      },
      "source": [
        "for x in thisdict:\n",
        "    print(thisdict[x])"
      ],
      "id": "3e677211",
      "execution_count": null,
      "outputs": [
        {
          "output_type": "stream",
          "text": [
            "pen\n",
            "red\n",
            "20\n"
          ],
          "name": "stdout"
        }
      ]
    },
    {
      "cell_type": "code",
      "metadata": {
        "id": "46fc122f",
        "outputId": "e2d164e0-17df-4960-e82d-456e20bfec04"
      },
      "source": [
        "thisdict = {\n",
        "    \"Product\": \"Soap\",\n",
        "    \"Brand\": \"Dove\",\n",
        "    \"Price\": 60\n",
        "}\n",
        "for x in thisdict.keys():\n",
        "        print(x)"
      ],
      "id": "46fc122f",
      "execution_count": null,
      "outputs": [
        {
          "output_type": "stream",
          "text": [
            "Product\n",
            "Brand\n",
            "Price\n"
          ],
          "name": "stdout"
        }
      ]
    },
    {
      "cell_type": "code",
      "metadata": {
        "id": "72ea622a"
      },
      "source": [
        "thisdict1 = {\n",
        "    \"Product\": \"Soap\",\n",
        "    \"Brand\": \"Dove\",\n",
        "    \"Price\": 60\n",
        "}\n",
        "\n",
        "thisdict2 = thisdict1.copy()\n",
        "print(thisdict2)"
      ],
      "id": "72ea622a",
      "execution_count": null,
      "outputs": []
    },
    {
      "cell_type": "code",
      "metadata": {
        "id": "7db6066e",
        "outputId": "d59c38a2-1df1-4388-bb9a-b747e0134b12"
      },
      "source": [
        "for x,y in thisdict.items():\n",
        "    print(x,y)"
      ],
      "id": "7db6066e",
      "execution_count": null,
      "outputs": [
        {
          "output_type": "stream",
          "text": [
            "Product Soap\n",
            "Brand Dove\n",
            "Price 60\n"
          ],
          "name": "stdout"
        }
      ]
    },
    {
      "cell_type": "code",
      "metadata": {
        "id": "11729dbf",
        "outputId": "09d98910-9480-47e7-9233-dcfb938f8e88"
      },
      "source": [
        "car = {\n",
        " \"brand\": \"Volkswagen\",\n",
        " \"colour\": \"maroon\",\n",
        " \"year\": 1937,\n",
        "}\n",
        "\n",
        "new_car = dict(car)\n",
        "\n",
        "print(new_car)"
      ],
      "id": "11729dbf",
      "execution_count": null,
      "outputs": [
        {
          "output_type": "stream",
          "text": [
            "{'brand': 'Volkswagen', 'colour': 'maroon', 'year': 1937}\n"
          ],
          "name": "stdout"
        }
      ]
    },
    {
      "cell_type": "raw",
      "metadata": {
        "id": "17ea1644"
      },
      "source": [
        "Student1 = {\n",
        "    \"name\": \"Dina\",\n",
        "    \"year\": 2000\n",
        "}\n",
        "\n",
        "Student2 = {\n",
        "    \"name\": \"Dexter\",\n",
        "    \"year\": 1998\n",
        "}\n",
        "\n",
        "Students = {\n",
        "    \"Student1\": Student1,\n",
        "    \"Student2\": Student2\n",
        "}\n",
        "\n",
        "print(Students)"
      ],
      "id": "17ea1644"
    },
    {
      "cell_type": "code",
      "metadata": {
        "id": "321043eb",
        "outputId": "55f797c9-a173-4393-e30e-8192b8ad7726"
      },
      "source": [
        "cars = {\n",
        "    \"car1\": {\n",
        "        \"name\": \"Ford\",\n",
        "        \"colour\": \"black\"\n",
        "    },\n",
        "    \"car2\": {\n",
        "        \"name\": \"Volkswagen\",\n",
        "        \"colour\": \"green\"\n",
        "    },\n",
        "    \"car3\": {\n",
        "        \"name\": \"Chevrolet\",\n",
        "        \"colour\": \"maroon\"\n",
        "    }\n",
        "}\n",
        "print(cars)"
      ],
      "id": "321043eb",
      "execution_count": null,
      "outputs": [
        {
          "output_type": "stream",
          "text": [
            "{'car1': {'name': 'Ford', 'colour': 'black'}, 'car2': {'name': 'Volkswagen', 'colour': 'green'}, 'car3': {'name': 'Chevrolet', 'colour': 'maroon'}}\n"
          ],
          "name": "stdout"
        }
      ]
    },
    {
      "cell_type": "code",
      "metadata": {
        "id": "90d62358",
        "outputId": "653e64f3-fcf2-4e4a-aa30-baf5ead926e8"
      },
      "source": [
        "x = ('name', 'age', 'grade')\n",
        "y = ('Chloe', 12, 6)\n",
        "\n",
        "thisdict = dict.fromkeys(x,y)\n",
        "print(thisdict)"
      ],
      "id": "90d62358",
      "execution_count": null,
      "outputs": [
        {
          "output_type": "stream",
          "text": [
            "{'name': ('Chloe', 12, 6), 'age': ('Chloe', 12, 6), 'grade': ('Chloe', 12, 6)}\n"
          ],
          "name": "stdout"
        }
      ]
    },
    {
      "cell_type": "code",
      "metadata": {
        "id": "23b29457",
        "outputId": "1fd83f37-3be2-456e-cf7d-4399866f0620"
      },
      "source": [
        "x = ('name', 'age', 'grade')\n",
        "\n",
        "thisdict = dict.fromkeys(x)\n",
        "print(thisdict)"
      ],
      "id": "23b29457",
      "execution_count": null,
      "outputs": [
        {
          "output_type": "stream",
          "text": [
            "{'name': None, 'age': None, 'grade': None}\n"
          ],
          "name": "stdout"
        }
      ]
    },
    {
      "cell_type": "code",
      "metadata": {
        "id": "9380a943",
        "outputId": "87fa541d-99b8-4f59-f642-5fd671611978"
      },
      "source": [
        "thisdict = {\n",
        "    \"Product\": \"Soap\",\n",
        "    \"Brand\": \"Dove\",\n",
        "    \"Price\": 60\n",
        "}\n",
        "\n",
        "x = thisdict.setdefault(\"Brand\", \"Vivel\")\n",
        "print(thisdict)"
      ],
      "id": "9380a943",
      "execution_count": null,
      "outputs": [
        {
          "output_type": "stream",
          "text": [
            "{'Product': 'Soap', 'Brand': 'Dove', 'Price': 60}\n"
          ],
          "name": "stdout"
        }
      ]
    },
    {
      "cell_type": "code",
      "metadata": {
        "id": "bc9a1c91"
      },
      "source": [
        ""
      ],
      "id": "bc9a1c91",
      "execution_count": null,
      "outputs": []
    }
  ]
}