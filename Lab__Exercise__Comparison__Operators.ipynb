{
  "nbformat": 4,
  "nbformat_minor": 5,
  "metadata": {
    "kernelspec": {
      "display_name": "Python 3",
      "language": "python",
      "name": "python3"
    },
    "language_info": {
      "codemirror_mode": {
        "name": "ipython",
        "version": 3
      },
      "file_extension": ".py",
      "mimetype": "text/x-python",
      "name": "python",
      "nbconvert_exporter": "python",
      "pygments_lexer": "ipython3",
      "version": "3.8.10"
    },
    "colab": {
      "name": "Lab_ Exercise_ Comparison _Operators.ipynb",
      "provenance": [],
      "include_colab_link": true
    }
  },
  "cells": [
    {
      "cell_type": "markdown",
      "metadata": {
        "id": "view-in-github",
        "colab_type": "text"
      },
      "source": [
        "<a href=\"https://colab.research.google.com/github/Simrita100/Python/blob/main/Lab__Exercise__Comparison__Operators.ipynb\" target=\"_parent\"><img src=\"https://colab.research.google.com/assets/colab-badge.svg\" alt=\"Open In Colab\"/></a>"
      ]
    },
    {
      "cell_type": "code",
      "metadata": {
        "id": "ce9f3d01",
        "outputId": "bf514785-6e86-4da9-d8fc-79ee0fff59d4"
      },
      "source": [
        "100 == 100\n"
      ],
      "id": "ce9f3d01",
      "execution_count": null,
      "outputs": [
        {
          "data": {
            "text/plain": [
              "True"
            ]
          },
          "execution_count": 1,
          "metadata": {},
          "output_type": "execute_result"
        }
      ]
    },
    {
      "cell_type": "code",
      "metadata": {
        "id": "08181f18",
        "outputId": "b6e7fef6-1436-4336-caed-2cb6afb05ddc"
      },
      "source": [
        "100 == '100'"
      ],
      "id": "08181f18",
      "execution_count": null,
      "outputs": [
        {
          "data": {
            "text/plain": [
              "False"
            ]
          },
          "execution_count": 2,
          "metadata": {},
          "output_type": "execute_result"
        }
      ]
    },
    {
      "cell_type": "code",
      "metadata": {
        "id": "ba5b08eb",
        "outputId": "d3293712-dcb6-4b1e-f67b-67dab370425c"
      },
      "source": [
        "56 != '56'"
      ],
      "id": "ba5b08eb",
      "execution_count": null,
      "outputs": [
        {
          "data": {
            "text/plain": [
              "True"
            ]
          },
          "execution_count": 3,
          "metadata": {},
          "output_type": "execute_result"
        }
      ]
    },
    {
      "cell_type": "code",
      "metadata": {
        "id": "ad7644c5",
        "outputId": "2bb2fc74-dda7-4269-b11d-52a816dbbb50"
      },
      "source": [
        "'shoes' > 'zebra'"
      ],
      "id": "ad7644c5",
      "execution_count": null,
      "outputs": [
        {
          "data": {
            "text/plain": [
              "False"
            ]
          },
          "execution_count": 41,
          "metadata": {},
          "output_type": "execute_result"
        }
      ]
    },
    {
      "cell_type": "code",
      "metadata": {
        "id": "03d33169",
        "outputId": "5fbd2c64-c357-4824-f7bb-9c840848d610"
      },
      "source": [
        "'pen' == 'Pen'"
      ],
      "id": "03d33169",
      "execution_count": null,
      "outputs": [
        {
          "data": {
            "text/plain": [
              "False"
            ]
          },
          "execution_count": 5,
          "metadata": {},
          "output_type": "execute_result"
        }
      ]
    },
    {
      "cell_type": "code",
      "metadata": {
        "id": "90234131",
        "outputId": "03a76b3d-186e-43a0-9cbf-5f2ab3de6cf1"
      },
      "source": [
        "'cars' == 'cars'"
      ],
      "id": "90234131",
      "execution_count": null,
      "outputs": [
        {
          "data": {
            "text/plain": [
              "True"
            ]
          },
          "execution_count": 6,
          "metadata": {},
          "output_type": "execute_result"
        }
      ]
    },
    {
      "cell_type": "code",
      "metadata": {
        "id": "a2019af3",
        "outputId": "1d78462d-149d-4fd3-bdf4-94bb06d1e31c"
      },
      "source": [
        "a = 60\n",
        "b = 10\n",
        "print(a >= b)"
      ],
      "id": "a2019af3",
      "execution_count": null,
      "outputs": [
        {
          "name": "stdout",
          "output_type": "stream",
          "text": [
            "True\n"
          ]
        }
      ]
    },
    {
      "cell_type": "code",
      "metadata": {
        "id": "e65346d6",
        "outputId": "0482a2d3-0cef-40a3-e8fc-ee4c3e31b70c"
      },
      "source": [
        "x = 20\n",
        "y = 30\n",
        "print(x >= y)"
      ],
      "id": "e65346d6",
      "execution_count": null,
      "outputs": [
        {
          "name": "stdout",
          "output_type": "stream",
          "text": [
            "False\n"
          ]
        }
      ]
    },
    {
      "cell_type": "code",
      "metadata": {
        "id": "a01e28be",
        "outputId": "d307a77d-55bd-4a6c-a109-3b02fd452243"
      },
      "source": [
        "print(x != y)"
      ],
      "id": "a01e28be",
      "execution_count": null,
      "outputs": [
        {
          "name": "stdout",
          "output_type": "stream",
          "text": [
            "True\n"
          ]
        }
      ]
    },
    {
      "cell_type": "code",
      "metadata": {
        "id": "2704770c",
        "outputId": "b557bef3-cc6e-4c17-fe0d-f0f9d828ea11"
      },
      "source": [
        "'Reema' < 'reema'   #ASCII Values are compared"
      ],
      "id": "2704770c",
      "execution_count": null,
      "outputs": [
        {
          "data": {
            "text/plain": [
              "True"
            ]
          },
          "execution_count": 12,
          "metadata": {},
          "output_type": "execute_result"
        }
      ]
    },
    {
      "cell_type": "code",
      "metadata": {
        "id": "905d5c36",
        "outputId": "7a4a2ce1-a120-4c4a-8792-e75d89eb1fa9"
      },
      "source": [
        "6.0 < 6"
      ],
      "id": "905d5c36",
      "execution_count": null,
      "outputs": [
        {
          "data": {
            "text/plain": [
              "False"
            ]
          },
          "execution_count": 13,
          "metadata": {},
          "output_type": "execute_result"
        }
      ]
    },
    {
      "cell_type": "code",
      "metadata": {
        "id": "1ac68753",
        "outputId": "e376be64-5978-48fc-949a-8e4bf6242565"
      },
      "source": [
        "2.0 == 2"
      ],
      "id": "1ac68753",
      "execution_count": null,
      "outputs": [
        {
          "data": {
            "text/plain": [
              "True"
            ]
          },
          "execution_count": 14,
          "metadata": {},
          "output_type": "execute_result"
        }
      ]
    },
    {
      "cell_type": "code",
      "metadata": {
        "id": "4759a947",
        "outputId": "479ef52f-8a6a-44e9-d931-b8bd92549ec9"
      },
      "source": [
        "(1,2,3,4) > (1,2,3)"
      ],
      "id": "4759a947",
      "execution_count": null,
      "outputs": [
        {
          "data": {
            "text/plain": [
              "True"
            ]
          },
          "execution_count": 16,
          "metadata": {},
          "output_type": "execute_result"
        }
      ]
    },
    {
      "cell_type": "code",
      "metadata": {
        "id": "a5334b36",
        "outputId": "c7765ff2-4414-4cbc-c2b9-3c06f4aff3df"
      },
      "source": [
        "(1,3,2) < (1,2,3)"
      ],
      "id": "a5334b36",
      "execution_count": null,
      "outputs": [
        {
          "data": {
            "text/plain": [
              "False"
            ]
          },
          "execution_count": 17,
          "metadata": {},
          "output_type": "execute_result"
        }
      ]
    },
    {
      "cell_type": "code",
      "metadata": {
        "id": "4b24582a",
        "outputId": "832ea415-193d-4bb8-962c-d56a4d7d9510"
      },
      "source": [
        "(1,2,3) < (1,3,2)"
      ],
      "id": "4b24582a",
      "execution_count": null,
      "outputs": [
        {
          "data": {
            "text/plain": [
              "True"
            ]
          },
          "execution_count": 18,
          "metadata": {},
          "output_type": "execute_result"
        }
      ]
    },
    {
      "cell_type": "code",
      "metadata": {
        "id": "74364bed",
        "outputId": "97e965cd-50d9-42ce-be77-df6b7ca6332a"
      },
      "source": [
        "() < (0,)"
      ],
      "id": "74364bed",
      "execution_count": null,
      "outputs": [
        {
          "data": {
            "text/plain": [
              "True"
            ]
          },
          "execution_count": 19,
          "metadata": {},
          "output_type": "execute_result"
        }
      ]
    },
    {
      "cell_type": "code",
      "metadata": {
        "id": "f6d4d2ae",
        "outputId": "d8802c3a-dab7-44ad-80de-c77fef04e8e8"
      },
      "source": [
        "(5, 'four') < (8, 'three')"
      ],
      "id": "f6d4d2ae",
      "execution_count": null,
      "outputs": [
        {
          "data": {
            "text/plain": [
              "True"
            ]
          },
          "execution_count": 20,
          "metadata": {},
          "output_type": "execute_result"
        }
      ]
    },
    {
      "cell_type": "code",
      "metadata": {
        "id": "678ac5ec",
        "outputId": "9e4c4636-c29e-4b74-9c82-b16f2627d077"
      },
      "source": [
        "(6, 'ten') > (7, 'ten')"
      ],
      "id": "678ac5ec",
      "execution_count": null,
      "outputs": [
        {
          "data": {
            "text/plain": [
              "False"
            ]
          },
          "execution_count": 22,
          "metadata": {},
          "output_type": "execute_result"
        }
      ]
    },
    {
      "cell_type": "code",
      "metadata": {
        "id": "8bf8747d",
        "outputId": "3cb4c3c1-9a66-4ed6-fb04-822340a3443d"
      },
      "source": [
        "(8, 'five') > (8, 'four')"
      ],
      "id": "8bf8747d",
      "execution_count": null,
      "outputs": [
        {
          "data": {
            "text/plain": [
              "False"
            ]
          },
          "execution_count": 24,
          "metadata": {},
          "output_type": "execute_result"
        }
      ]
    },
    {
      "cell_type": "code",
      "metadata": {
        "id": "46129c76",
        "outputId": "d744d39b-d500-4537-dcf1-2614235776a7"
      },
      "source": [
        "(8, 'five') == (8, 'four')"
      ],
      "id": "46129c76",
      "execution_count": null,
      "outputs": [
        {
          "data": {
            "text/plain": [
              "False"
            ]
          },
          "execution_count": 25,
          "metadata": {},
          "output_type": "execute_result"
        }
      ]
    },
    {
      "cell_type": "code",
      "metadata": {
        "id": "17aed41e",
        "outputId": "8bbaa058-435b-4e77-f907-987ce563382f"
      },
      "source": [
        "(8, 'five') < (8, 'four')"
      ],
      "id": "17aed41e",
      "execution_count": null,
      "outputs": [
        {
          "data": {
            "text/plain": [
              "True"
            ]
          },
          "execution_count": 27,
          "metadata": {},
          "output_type": "execute_result"
        }
      ]
    },
    {
      "cell_type": "code",
      "metadata": {
        "id": "eca909a0",
        "outputId": "c840ff5b-8e33-419c-a3fd-754ee31943e6"
      },
      "source": [
        "{4,6,8} < {4,8,6}"
      ],
      "id": "eca909a0",
      "execution_count": null,
      "outputs": [
        {
          "data": {
            "text/plain": [
              "False"
            ]
          },
          "execution_count": 28,
          "metadata": {},
          "output_type": "execute_result"
        }
      ]
    },
    {
      "cell_type": "code",
      "metadata": {
        "id": "713359c0",
        "outputId": "aa724523-3475-4afd-941d-96ee332bbdab"
      },
      "source": [
        "{4,6,8} == {4,8,6}"
      ],
      "id": "713359c0",
      "execution_count": null,
      "outputs": [
        {
          "data": {
            "text/plain": [
              "True"
            ]
          },
          "execution_count": 29,
          "metadata": {},
          "output_type": "execute_result"
        }
      ]
    },
    {
      "cell_type": "code",
      "metadata": {
        "id": "1efaeddc",
        "outputId": "404d5b9a-74aa-4005-e607-4a285eb6ffff"
      },
      "source": [
        "6,7,8.0 > 6,7,8"
      ],
      "id": "1efaeddc",
      "execution_count": null,
      "outputs": [
        {
          "data": {
            "text/plain": [
              "(6, 7, True, 7, 8)"
            ]
          },
          "execution_count": 30,
          "metadata": {},
          "output_type": "execute_result"
        }
      ]
    },
    {
      "cell_type": "code",
      "metadata": {
        "id": "62ac82a1",
        "outputId": "e742f3ae-f10b-4a4c-b5b7-1020ab801b29"
      },
      "source": [
        "(6,7,8.0) > (6,7,8)"
      ],
      "id": "62ac82a1",
      "execution_count": null,
      "outputs": [
        {
          "data": {
            "text/plain": [
              "False"
            ]
          },
          "execution_count": 31,
          "metadata": {},
          "output_type": "execute_result"
        }
      ]
    },
    {
      "cell_type": "code",
      "metadata": {
        "id": "b47bbc71",
        "outputId": "493b9642-96ba-4e1a-ed76-0070d6c271e1"
      },
      "source": [
        "'chanel' == 'Chanel'"
      ],
      "id": "b47bbc71",
      "execution_count": null,
      "outputs": [
        {
          "data": {
            "text/plain": [
              "False"
            ]
          },
          "execution_count": 32,
          "metadata": {},
          "output_type": "execute_result"
        }
      ]
    },
    {
      "cell_type": "code",
      "metadata": {
        "id": "3d7bce8c",
        "outputId": "66cf29ca-196f-439b-b701-56ae97de8a35"
      },
      "source": [
        "ord('C')"
      ],
      "id": "3d7bce8c",
      "execution_count": null,
      "outputs": [
        {
          "data": {
            "text/plain": [
              "67"
            ]
          },
          "execution_count": 33,
          "metadata": {},
          "output_type": "execute_result"
        }
      ]
    },
    {
      "cell_type": "code",
      "metadata": {
        "id": "e22fe625",
        "outputId": "80559178-fdd6-4c79-e72f-c03fbbc39788"
      },
      "source": [
        "ord('c')"
      ],
      "id": "e22fe625",
      "execution_count": null,
      "outputs": [
        {
          "data": {
            "text/plain": [
              "99"
            ]
          },
          "execution_count": 34,
          "metadata": {},
          "output_type": "execute_result"
        }
      ]
    },
    {
      "cell_type": "code",
      "metadata": {
        "id": "5d1f436a",
        "outputId": "1639c42b-9f9b-4276-f4f5-892797cda1c3"
      },
      "source": [
        "'Name' == 'name'"
      ],
      "id": "5d1f436a",
      "execution_count": null,
      "outputs": [
        {
          "data": {
            "text/plain": [
              "False"
            ]
          },
          "execution_count": 35,
          "metadata": {},
          "output_type": "execute_result"
        }
      ]
    },
    {
      "cell_type": "code",
      "metadata": {
        "id": "b719524f",
        "outputId": "a3f8f800-dfcf-4a0a-a1d0-cca7967e8c8a"
      },
      "source": [
        "'Name' != 'name'"
      ],
      "id": "b719524f",
      "execution_count": null,
      "outputs": [
        {
          "data": {
            "text/plain": [
              "True"
            ]
          },
          "execution_count": 36,
          "metadata": {},
          "output_type": "execute_result"
        }
      ]
    },
    {
      "cell_type": "code",
      "metadata": {
        "id": "867931b5",
        "outputId": "2d8456b7-c3dc-4f15-fb3d-d9e213500b5a"
      },
      "source": [
        "'name' < 'Name'"
      ],
      "id": "867931b5",
      "execution_count": null,
      "outputs": [
        {
          "data": {
            "text/plain": [
              "False"
            ]
          },
          "execution_count": 37,
          "metadata": {},
          "output_type": "execute_result"
        }
      ]
    },
    {
      "cell_type": "code",
      "metadata": {
        "id": "22d10c93",
        "outputId": "ff92148c-3f7a-4eb6-fdd8-03981d775248"
      },
      "source": [
        "'name' > 'Name'"
      ],
      "id": "22d10c93",
      "execution_count": null,
      "outputs": [
        {
          "data": {
            "text/plain": [
              "True"
            ]
          },
          "execution_count": 38,
          "metadata": {},
          "output_type": "execute_result"
        }
      ]
    },
    {
      "cell_type": "code",
      "metadata": {
        "id": "d0173fcc",
        "outputId": "28c542a6-7818-4b77-a264-0924abd91023"
      },
      "source": [
        "ord('N')"
      ],
      "id": "d0173fcc",
      "execution_count": null,
      "outputs": [
        {
          "data": {
            "text/plain": [
              "78"
            ]
          },
          "execution_count": 39,
          "metadata": {},
          "output_type": "execute_result"
        }
      ]
    },
    {
      "cell_type": "code",
      "metadata": {
        "id": "ac8b6000",
        "outputId": "83a632e5-a537-4776-a8b5-cb11b67c27d3"
      },
      "source": [
        "ord('n')"
      ],
      "id": "ac8b6000",
      "execution_count": null,
      "outputs": [
        {
          "data": {
            "text/plain": [
              "110"
            ]
          },
          "execution_count": 40,
          "metadata": {},
          "output_type": "execute_result"
        }
      ]
    },
    {
      "cell_type": "code",
      "metadata": {
        "id": "2c31644c"
      },
      "source": [
        ""
      ],
      "id": "2c31644c",
      "execution_count": null,
      "outputs": []
    }
  ]
}