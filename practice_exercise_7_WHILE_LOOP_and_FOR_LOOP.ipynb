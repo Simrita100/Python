{
  "nbformat": 4,
  "nbformat_minor": 5,
  "metadata": {
    "kernelspec": {
      "display_name": "Python 3",
      "language": "python",
      "name": "python3"
    },
    "language_info": {
      "codemirror_mode": {
        "name": "ipython",
        "version": 3
      },
      "file_extension": ".py",
      "mimetype": "text/x-python",
      "name": "python",
      "nbconvert_exporter": "python",
      "pygments_lexer": "ipython3",
      "version": "3.8.10"
    },
    "colab": {
      "name": "practice-exercise-7-WHILE LOOP and FOR LOOP.ipynb",
      "provenance": [],
      "include_colab_link": true
    }
  },
  "cells": [
    {
      "cell_type": "markdown",
      "metadata": {
        "id": "view-in-github",
        "colab_type": "text"
      },
      "source": [
        "<a href=\"https://colab.research.google.com/github/Simrita100/Python/blob/main/practice_exercise_7_WHILE_LOOP_and_FOR_LOOP.ipynb\" target=\"_parent\"><img src=\"https://colab.research.google.com/assets/colab-badge.svg\" alt=\"Open In Colab\"/></a>"
      ]
    },
    {
      "cell_type": "code",
      "metadata": {
        "id": "7960a6c6",
        "outputId": "91190c62-fcc8-41d4-ec3b-0b22e3dd1661"
      },
      "source": [
        "# WHILE LOOP\n",
        "# print i as long as i is less than 10\n",
        "i = 1\n",
        "while i < 10:\n",
        "    print(i)\n",
        "    i += 1"
      ],
      "id": "7960a6c6",
      "execution_count": null,
      "outputs": [
        {
          "output_type": "stream",
          "text": [
            "1\n",
            "2\n",
            "3\n",
            "4\n",
            "5\n",
            "6\n",
            "7\n",
            "8\n",
            "9\n"
          ],
          "name": "stdout"
        }
      ]
    },
    {
      "cell_type": "code",
      "metadata": {
        "id": "eabcfa88",
        "outputId": "15951847-69a3-4a5d-ab6b-f6c135eb979a"
      },
      "source": [
        "i = 1\n",
        "while i < 7:\n",
        "    print(i)\n",
        "    if i == 4:\n",
        "        break\n",
        "    i = i + 1"
      ],
      "id": "eabcfa88",
      "execution_count": null,
      "outputs": [
        {
          "output_type": "stream",
          "text": [
            "1\n",
            "2\n",
            "3\n",
            "4\n"
          ],
          "name": "stdout"
        }
      ]
    },
    {
      "cell_type": "code",
      "metadata": {
        "id": "f8348723",
        "outputId": "8e89ceb4-e60f-4e0a-a612-f3431f2c1b86"
      },
      "source": [
        "i = 0\n",
        "while i < 6:\n",
        "    i = i + 1\n",
        "    if i == 3:\n",
        "        continue\n",
        "    print(i)\n"
      ],
      "id": "f8348723",
      "execution_count": null,
      "outputs": [
        {
          "output_type": "stream",
          "text": [
            "1\n",
            "2\n",
            "4\n",
            "5\n",
            "6\n"
          ],
          "name": "stdout"
        }
      ]
    },
    {
      "cell_type": "code",
      "metadata": {
        "id": "32b32220",
        "outputId": "1d838c56-e101-44b9-fbf2-44eb53270491"
      },
      "source": [
        "i = 0\n",
        "while i < 8:\n",
        "    print(i)\n",
        "    i += 1\n",
        "else:\n",
        "    print(\"i is no longer less than 8\")\n",
        "    "
      ],
      "id": "32b32220",
      "execution_count": null,
      "outputs": [
        {
          "output_type": "stream",
          "text": [
            "0\n",
            "1\n",
            "2\n",
            "3\n",
            "4\n",
            "5\n",
            "6\n",
            "7\n",
            "i is no longer less than 8\n"
          ],
          "name": "stdout"
        }
      ]
    },
    {
      "cell_type": "code",
      "metadata": {
        "id": "55590290",
        "outputId": "9f2b082f-0b0f-4a40-c323-cbded83d9b62"
      },
      "source": [
        "#FOR LOOP\n",
        "\n",
        "fruits = [\"mango\", \"pear\"]\n",
        "for x in fruits:\n",
        "    print(x)"
      ],
      "id": "55590290",
      "execution_count": null,
      "outputs": [
        {
          "output_type": "stream",
          "text": [
            "mango\n",
            "pear\n"
          ],
          "name": "stdout"
        }
      ]
    },
    {
      "cell_type": "code",
      "metadata": {
        "id": "8a0daa5a",
        "outputId": "9527c106-b76e-4a69-b38b-5f0a94fc7818"
      },
      "source": [
        "for x in \"pencil\":\n",
        "    print(x)"
      ],
      "id": "8a0daa5a",
      "execution_count": null,
      "outputs": [
        {
          "output_type": "stream",
          "text": [
            "p\n",
            "e\n",
            "n\n",
            "c\n",
            "i\n",
            "l\n"
          ],
          "name": "stdout"
        }
      ]
    },
    {
      "cell_type": "code",
      "metadata": {
        "id": "744464ad",
        "outputId": "e1b83c27-2290-4f4e-c9cb-132a1d5852e5"
      },
      "source": [
        "#Exit loop\n",
        "\n",
        "cart = [\"books\", \"pens\", \"soaps\", \"gloves\"]\n",
        "for x in cart:\n",
        "    print(x)\n",
        "    if x == \"pens\":\n",
        "        break\n",
        "        "
      ],
      "id": "744464ad",
      "execution_count": null,
      "outputs": [
        {
          "output_type": "stream",
          "text": [
            "books\n",
            "pens\n"
          ],
          "name": "stdout"
        }
      ]
    },
    {
      "cell_type": "code",
      "metadata": {
        "id": "1355d94b",
        "outputId": "a397814e-7f32-43c6-e40c-fc8412695374"
      },
      "source": [
        "cart = [\"books\", \"pens\", \"soaps\", \"gloves\"]\n",
        "for x in cart:\n",
        "    if x == \"soaps\":\n",
        "        continue\n",
        "    print(x)"
      ],
      "id": "1355d94b",
      "execution_count": null,
      "outputs": [
        {
          "output_type": "stream",
          "text": [
            "books\n",
            "pens\n",
            "gloves\n"
          ],
          "name": "stdout"
        }
      ]
    },
    {
      "cell_type": "code",
      "metadata": {
        "id": "b0935ba6",
        "outputId": "712b2ee5-6e0c-439e-a277-8318d5d68eb5"
      },
      "source": [
        "for x in range(10):\n",
        "    print(x)"
      ],
      "id": "b0935ba6",
      "execution_count": null,
      "outputs": [
        {
          "output_type": "stream",
          "text": [
            "0\n",
            "1\n",
            "2\n",
            "3\n",
            "4\n",
            "5\n",
            "6\n",
            "7\n",
            "8\n",
            "9\n"
          ],
          "name": "stdout"
        }
      ]
    },
    {
      "cell_type": "code",
      "metadata": {
        "id": "8975a831",
        "outputId": "b5fe13c0-acb2-474b-f65a-937f28c77f8f"
      },
      "source": [
        "for x in range(2,7):\n",
        "    print(x)"
      ],
      "id": "8975a831",
      "execution_count": null,
      "outputs": [
        {
          "output_type": "stream",
          "text": [
            "2\n",
            "3\n",
            "4\n",
            "5\n",
            "6\n"
          ],
          "name": "stdout"
        }
      ]
    },
    {
      "cell_type": "code",
      "metadata": {
        "id": "78101326",
        "outputId": "5bab3f5b-27b8-402d-d194-294174f5b8c5"
      },
      "source": [
        "for x in range(2, 30, 4):\n",
        "    print(x)"
      ],
      "id": "78101326",
      "execution_count": null,
      "outputs": [
        {
          "output_type": "stream",
          "text": [
            "2\n",
            "6\n",
            "10\n",
            "14\n",
            "18\n",
            "22\n",
            "26\n"
          ],
          "name": "stdout"
        }
      ]
    },
    {
      "cell_type": "code",
      "metadata": {
        "id": "944c57cd",
        "outputId": "bdfaa301-a12d-46b9-f699-fbda846af185"
      },
      "source": [
        "for x in range(8):\n",
        "    print(x)\n",
        "else:\n",
        "    print(\"Completed\")"
      ],
      "id": "944c57cd",
      "execution_count": null,
      "outputs": [
        {
          "output_type": "stream",
          "text": [
            "0\n",
            "1\n",
            "2\n",
            "3\n",
            "4\n",
            "5\n",
            "6\n",
            "7\n",
            "Completed\n"
          ],
          "name": "stdout"
        }
      ]
    },
    {
      "cell_type": "code",
      "metadata": {
        "id": "9690161c",
        "outputId": "2c147eba-888a-48e1-896a-5b4f8e4dbb4c"
      },
      "source": [
        "for x in range(1,7):\n",
        "    if x == 5: break\n",
        "    print(x)\n",
        "else:\n",
        "    print(\"Completed\")"
      ],
      "id": "9690161c",
      "execution_count": null,
      "outputs": [
        {
          "output_type": "stream",
          "text": [
            "1\n",
            "2\n",
            "3\n",
            "4\n"
          ],
          "name": "stdout"
        }
      ]
    },
    {
      "cell_type": "code",
      "metadata": {
        "id": "ba46f0c1",
        "outputId": "f82f2cf2-ffc3-4c9f-8e3d-dc2b6c0bb915"
      },
      "source": [
        "colors = [\"red\", \"yellow\", \"green\", \"blue\"]\n",
        "fruits = [\"cherry\", \"banana\", \"guava\", \"blueberry\"]\n",
        "\n",
        "for x in colors:\n",
        "    for y in fruits:\n",
        "        print(x,y)"
      ],
      "id": "ba46f0c1",
      "execution_count": null,
      "outputs": [
        {
          "output_type": "stream",
          "text": [
            "red cherry\n",
            "red banana\n",
            "red guava\n",
            "red blueberry\n",
            "yellow cherry\n",
            "yellow banana\n",
            "yellow guava\n",
            "yellow blueberry\n",
            "green cherry\n",
            "green banana\n",
            "green guava\n",
            "green blueberry\n",
            "blue cherry\n",
            "blue banana\n",
            "blue guava\n",
            "blue blueberry\n"
          ],
          "name": "stdout"
        }
      ]
    },
    {
      "cell_type": "code",
      "metadata": {
        "id": "2bcedb8f"
      },
      "source": [
        "for x in [10, 20, True]:\n",
        "    pass"
      ],
      "id": "2bcedb8f",
      "execution_count": null,
      "outputs": []
    },
    {
      "cell_type": "code",
      "metadata": {
        "id": "3c04b4f3"
      },
      "source": [
        ""
      ],
      "id": "3c04b4f3",
      "execution_count": null,
      "outputs": []
    }
  ]
}